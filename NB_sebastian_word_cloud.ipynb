{
 "cells": [
  {
   "cell_type": "code",
   "execution_count": 1,
   "id": "c9ddd4ed",
   "metadata": {},
   "outputs": [
    {
     "name": "stdout",
     "output_type": "stream",
     "text": [
      "Defaulting to user installation because normal site-packages is not writeable\n",
      "Requirement already satisfied: nltk in /home/jupyter-svanhemert00/.local/lib/python3.9/site-packages (3.8.1)\n",
      "Requirement already satisfied: click in /home/jupyter-svanhemert00/.local/lib/python3.9/site-packages (from nltk) (7.1.2)\n",
      "Requirement already satisfied: joblib in /home/jupyter-svanhemert00/.local/lib/python3.9/site-packages (from nltk) (1.3.2)\n",
      "Requirement already satisfied: tqdm in /opt/tljh/user/lib/python3.9/site-packages (from nltk) (4.62.3)\n",
      "Requirement already satisfied: regex>=2021.8.3 in /home/jupyter-svanhemert00/.local/lib/python3.9/site-packages (from nltk) (2022.10.31)\n"
     ]
    }
   ],
   "source": [
    "!pip install nltk"
   ]
  },
  {
   "cell_type": "code",
   "execution_count": 2,
   "id": "9c684f74",
   "metadata": {},
   "outputs": [
    {
     "name": "stdout",
     "output_type": "stream",
     "text": [
      "Defaulting to user installation because normal site-packages is not writeable\n",
      "Requirement already satisfied: tqdm in /opt/tljh/user/lib/python3.9/site-packages (4.62.3)\n"
     ]
    }
   ],
   "source": [
    "!pip install tqdm"
   ]
  },
  {
   "cell_type": "code",
   "execution_count": 3,
   "id": "21c6c46d",
   "metadata": {},
   "outputs": [
    {
     "name": "stdout",
     "output_type": "stream",
     "text": [
      "Defaulting to user installation because normal site-packages is not writeable\n",
      "Requirement already satisfied: wordcloud in /home/jupyter-svanhemert00/.local/lib/python3.9/site-packages (1.8.2.2)\n",
      "Requirement already satisfied: matplotlib in /home/jupyter-svanhemert00/.local/lib/python3.9/site-packages (from wordcloud) (3.5.1)\n",
      "Requirement already satisfied: numpy>=1.6.1 in /home/jupyter-svanhemert00/.local/lib/python3.9/site-packages (from wordcloud) (1.22.1)\n",
      "Requirement already satisfied: pillow in /home/jupyter-svanhemert00/.local/lib/python3.9/site-packages (from wordcloud) (9.0.1)\n",
      "Requirement already satisfied: python-dateutil>=2.7 in /opt/tljh/user/lib/python3.9/site-packages (from matplotlib->wordcloud) (2.8.2)\n",
      "Requirement already satisfied: packaging>=20.0 in /home/jupyter-svanhemert00/.local/lib/python3.9/site-packages (from matplotlib->wordcloud) (24.1)\n",
      "Requirement already satisfied: kiwisolver>=1.0.1 in /home/jupyter-svanhemert00/.local/lib/python3.9/site-packages (from matplotlib->wordcloud) (1.3.2)\n",
      "Requirement already satisfied: fonttools>=4.22.0 in /home/jupyter-svanhemert00/.local/lib/python3.9/site-packages (from matplotlib->wordcloud) (4.29.1)\n",
      "Requirement already satisfied: pyparsing>=2.2.1 in /opt/tljh/user/lib/python3.9/site-packages (from matplotlib->wordcloud) (3.0.6)\n",
      "Requirement already satisfied: cycler>=0.10 in /home/jupyter-svanhemert00/.local/lib/python3.9/site-packages (from matplotlib->wordcloud) (0.11.0)\n",
      "Requirement already satisfied: six>=1.5 in /opt/tljh/user/lib/python3.9/site-packages (from python-dateutil>=2.7->matplotlib->wordcloud) (1.16.0)\n"
     ]
    }
   ],
   "source": [
    "!pip install wordcloud"
   ]
  },
  {
   "cell_type": "code",
   "execution_count": null,
   "id": "409767e9",
   "metadata": {},
   "outputs": [
    {
     "data": {
      "application/javascript": [
       "Jupyter.notebook.kernel.restart({ 'timeout': 18000 })"
      ],
      "text/plain": [
       "<IPython.core.display.Javascript object>"
      ]
     },
     "execution_count": 4,
     "metadata": {},
     "output_type": "execute_result"
    }
   ],
   "source": [
    "from IPython.display import Javascript\n",
    "Javascript(\"Jupyter.notebook.kernel.restart({ 'timeout': 18000 })\")"
   ]
  },
  {
   "cell_type": "code",
   "execution_count": 1,
   "id": "7a388647",
   "metadata": {},
   "outputs": [],
   "source": [
    "import pandas as pd\n",
    "from wordcloud import WordCloud\n",
    "from nltk.corpus import stopwords\n",
    "from nltk.tokenize import word_tokenize\n",
    "from nltk.stem import PorterStemmer\n",
    "import matplotlib.pyplot as plt\n",
    "from tqdm import tqdm"
   ]
  },
  {
   "cell_type": "code",
   "execution_count": 2,
   "id": "38c617f8",
   "metadata": {},
   "outputs": [],
   "source": [
    "df = pd.read_csv('test_set.csv')"
   ]
  },
  {
   "cell_type": "code",
   "execution_count": 3,
   "id": "8a96e8b6",
   "metadata": {},
   "outputs": [
    {
     "data": {
      "text/html": [
       "<div>\n",
       "<style scoped>\n",
       "    .dataframe tbody tr th:only-of-type {\n",
       "        vertical-align: middle;\n",
       "    }\n",
       "\n",
       "    .dataframe tbody tr th {\n",
       "        vertical-align: top;\n",
       "    }\n",
       "\n",
       "    .dataframe thead th {\n",
       "        text-align: right;\n",
       "    }\n",
       "</style>\n",
       "<table border=\"1\" class=\"dataframe\">\n",
       "  <thead>\n",
       "    <tr style=\"text-align: right;\">\n",
       "      <th></th>\n",
       "      <th>reviewId</th>\n",
       "      <th>asin</th>\n",
       "      <th>date_cleaned</th>\n",
       "      <th>username</th>\n",
       "      <th>title</th>\n",
       "      <th>keyword</th>\n",
       "      <th>verified</th>\n",
       "      <th>rating_cleaned</th>\n",
       "      <th>text</th>\n",
       "      <th>train_test</th>\n",
       "      <th>data_source</th>\n",
       "    </tr>\n",
       "  </thead>\n",
       "  <tbody>\n",
       "    <tr>\n",
       "      <th>0</th>\n",
       "      <td>R18NC04B57B1WM</td>\n",
       "      <td>B09LRY9C88</td>\n",
       "      <td>2022-04-08</td>\n",
       "      <td>Tina Adcox</td>\n",
       "      <td>awesome!</td>\n",
       "      <td>Movie</td>\n",
       "      <td>True</td>\n",
       "      <td>5.0</td>\n",
       "      <td>great movie</td>\n",
       "      <td>test</td>\n",
       "      <td>old data</td>\n",
       "    </tr>\n",
       "    <tr>\n",
       "      <th>1</th>\n",
       "      <td>R1MPI8QQ1R4QZY</td>\n",
       "      <td>B09LRY9C88</td>\n",
       "      <td>2022-04-08</td>\n",
       "      <td>Amazon Customer</td>\n",
       "      <td>boring and ridiculous!</td>\n",
       "      <td>Movie</td>\n",
       "      <td>True</td>\n",
       "      <td>1.0</td>\n",
       "      <td>The plot. Gave up after 20 minutes. Does anyon...</td>\n",
       "      <td>test</td>\n",
       "      <td>old data</td>\n",
       "    </tr>\n",
       "    <tr>\n",
       "      <th>2</th>\n",
       "      <td>R31HH2207Z6W8A</td>\n",
       "      <td>B09LRY9C88</td>\n",
       "      <td>2022-04-08</td>\n",
       "      <td>Hydman</td>\n",
       "      <td>Cool</td>\n",
       "      <td>Movie</td>\n",
       "      <td>True</td>\n",
       "      <td>5.0</td>\n",
       "      <td>Greatovie but over hyped</td>\n",
       "      <td>test</td>\n",
       "      <td>old data</td>\n",
       "    </tr>\n",
       "    <tr>\n",
       "      <th>3</th>\n",
       "      <td>R36RICDJG8MPW1</td>\n",
       "      <td>B09LRY9C88</td>\n",
       "      <td>2022-04-08</td>\n",
       "      <td>M. Fields</td>\n",
       "      <td>Great movie</td>\n",
       "      <td>Movie</td>\n",
       "      <td>True</td>\n",
       "      <td>5.0</td>\n",
       "      <td>Do buy this film. It really is great but don't...</td>\n",
       "      <td>test</td>\n",
       "      <td>old data</td>\n",
       "    </tr>\n",
       "    <tr>\n",
       "      <th>4</th>\n",
       "      <td>R3BBWMNCFP15OM</td>\n",
       "      <td>B09LRY9C88</td>\n",
       "      <td>2022-04-08</td>\n",
       "      <td>Bama Road Rage</td>\n",
       "      <td>I was never a fan of the spider-man franchise</td>\n",
       "      <td>Movie</td>\n",
       "      <td>True</td>\n",
       "      <td>2.0</td>\n",
       "      <td>...and I'm still not a fan after watching this...</td>\n",
       "      <td>test</td>\n",
       "      <td>old data</td>\n",
       "    </tr>\n",
       "  </tbody>\n",
       "</table>\n",
       "</div>"
      ],
      "text/plain": [
       "         reviewId        asin date_cleaned         username  \\\n",
       "0  R18NC04B57B1WM  B09LRY9C88   2022-04-08       Tina Adcox   \n",
       "1  R1MPI8QQ1R4QZY  B09LRY9C88   2022-04-08  Amazon Customer   \n",
       "2  R31HH2207Z6W8A  B09LRY9C88   2022-04-08           Hydman   \n",
       "3  R36RICDJG8MPW1  B09LRY9C88   2022-04-08        M. Fields   \n",
       "4  R3BBWMNCFP15OM  B09LRY9C88   2022-04-08   Bama Road Rage   \n",
       "\n",
       "                                           title keyword  verified  \\\n",
       "0                                       awesome!   Movie      True   \n",
       "1                         boring and ridiculous!   Movie      True   \n",
       "2                                           Cool   Movie      True   \n",
       "3                                    Great movie   Movie      True   \n",
       "4  I was never a fan of the spider-man franchise   Movie      True   \n",
       "\n",
       "   rating_cleaned                                               text  \\\n",
       "0             5.0                                        great movie   \n",
       "1             1.0  The plot. Gave up after 20 minutes. Does anyon...   \n",
       "2             5.0                           Greatovie but over hyped   \n",
       "3             5.0  Do buy this film. It really is great but don't...   \n",
       "4             2.0  ...and I'm still not a fan after watching this...   \n",
       "\n",
       "  train_test data_source  \n",
       "0       test    old data  \n",
       "1       test    old data  \n",
       "2       test    old data  \n",
       "3       test    old data  \n",
       "4       test    old data  "
      ]
     },
     "execution_count": 3,
     "metadata": {},
     "output_type": "execute_result"
    }
   ],
   "source": [
    "df.head()"
   ]
  },
  {
   "cell_type": "code",
   "execution_count": 4,
   "id": "bedfeede",
   "metadata": {},
   "outputs": [
    {
     "name": "stdout",
     "output_type": "stream",
     "text": [
      "0                                                great movie\n",
      "1          the plot. gave up after 20 minutes. does anyon...\n",
      "2                                   greatovie but over hyped\n",
      "3          do buy this film. it really is great but don't...\n",
      "4          ...and i'm still not a fan after watching this...\n",
      "                                 ...                        \n",
      "1118320    used for st. patty day party. worked like they...\n",
      "1118321    worked great for age verified bands for our on...\n",
      "1118322    i use over 21 bracelets every year for an even...\n",
      "1118323    they are good for the entrance but not for alc...\n",
      "1118324    band tears when removing the tab for the adhes...\n",
      "Name: text, Length: 1118325, dtype: object\n"
     ]
    }
   ],
   "source": [
    "# Convert 'text' column to lowercase\n",
    "df['text'] = df['text'].str.lower()\n",
    "\n",
    "# Print the processed DataFrame to verify results\n",
    "print(df.text)"
   ]
  },
  {
   "cell_type": "code",
   "execution_count": 5,
   "id": "62e11f29",
   "metadata": {},
   "outputs": [
    {
     "name": "stderr",
     "output_type": "stream",
     "text": [
      "Tokenizing: 100%|██████████| 1118325/1118325 [07:23<00:00, 2519.97it/s]\n"
     ]
    },
    {
     "name": "stdout",
     "output_type": "stream",
     "text": [
      "0                                             [great, movie]\n",
      "1          [the, plot, ., gave, up, after, 20, minutes, ....\n",
      "2                              [greatovie, but, over, hyped]\n",
      "3          [do, buy, this, film, ., it, really, is, great...\n",
      "4          [..., and, i, 'm, still, not, a, fan, after, w...\n",
      "                                 ...                        \n",
      "1118320    [used, for, st., patty, day, party, ., worked,...\n",
      "1118321    [worked, great, for, age, verified, bands, for...\n",
      "1118322    [i, use, over, 21, bracelets, every, year, for...\n",
      "1118323    [they, are, good, for, the, entrance, but, not...\n",
      "1118324    [band, tears, when, removing, the, tab, for, t...\n",
      "Name: text, Length: 1118325, dtype: object\n"
     ]
    }
   ],
   "source": [
    "# Define a function to tokenize with progress tracking\n",
    "def tokenize_with_progress(text):\n",
    "    return word_tokenize(str(text))\n",
    "\n",
    "# Apply tokenization with tqdm progress bar\n",
    "tqdm.pandas(desc=\"Tokenizing\")\n",
    "df['text'] = df['text'].progress_apply(tokenize_with_progress)\n",
    "\n",
    "# Print the processed DataFrame to verify results\n",
    "print(df.text)"
   ]
  },
  {
   "cell_type": "code",
   "execution_count": 6,
   "id": "79d740de",
   "metadata": {},
   "outputs": [
    {
     "name": "stderr",
     "output_type": "stream",
     "text": [
      "Removing stopwords: 100%|██████████| 1118325/1118325 [02:31<00:00, 7378.57it/s]\n"
     ]
    },
    {
     "name": "stdout",
     "output_type": "stream",
     "text": [
      "0                                             [great, movie]\n",
      "1          [plot, ., gave, 20, minutes, ., anyone, want, ...\n",
      "2                                         [greatovie, hyped]\n",
      "3          [buy, film, ., really, great, n't, waste, mone...\n",
      "4                  [..., 'm, still, fan, watching, movie, .]\n",
      "                                 ...                        \n",
      "1118320    [used, st., patty, day, party, ., worked, like...\n",
      "1118321    [worked, great, age, verified, bands, one, day...\n",
      "1118322    [use, 21, bracelets, every, year, event, help,...\n",
      "1118323    [good, entrance, alcohol, ., pretty, easy, tak...\n",
      "1118324    [band, tears, removing, tab, adhesive, strip, ...\n",
      "Name: text, Length: 1118325, dtype: object\n"
     ]
    }
   ],
   "source": [
    "# Define stopwords removal function\n",
    "def remove_stopwords(words_list):\n",
    "    stop_words = set(stopwords.words('english'))\n",
    "    return [word for word in words_list if word not in stop_words]\n",
    "\n",
    "# Apply stopwords removal with tqdm progress bar\n",
    "tqdm.pandas(desc=\"Removing stopwords\")\n",
    "df['text'] = df['text'].progress_apply(remove_stopwords)\n",
    "\n",
    "# Print the processed DataFrame to verify results\n",
    "print(df['text'])"
   ]
  },
  {
   "cell_type": "code",
   "execution_count": null,
   "id": "afc1dd74",
   "metadata": {},
   "outputs": [
    {
     "name": "stderr",
     "output_type": "stream",
     "text": [
      "Stemming:  95%|█████████▌| 1063489/1118325 [06:45<00:20, 2680.71it/s]"
     ]
    }
   ],
   "source": [
    "# Initialize PorterStemmer outside the function for efficiency\n",
    "stemmer = PorterStemmer()\n",
    "\n",
    "# Define stemming function\n",
    "def stem_words(words_list):\n",
    "    return [stemmer.stem(word) for word in words_list]\n",
    "\n",
    "# Apply stemming with tqdm progress bar\n",
    "tqdm.pandas(desc=\"Stemming\")\n",
    "df['text'] = df['text'].progress_apply(stem_words)\n",
    "\n",
    "# Print the processed DataFrame to verify results\n",
    "print(df['text'])"
   ]
  },
  {
   "cell_type": "code",
   "execution_count": null,
   "id": "64698f3b",
   "metadata": {},
   "outputs": [],
   "source": [
    "# Define function to combine words into single string\n",
    "def combine_words(words_list):\n",
    "    return ' '.join(words_list)\n",
    "\n",
    "# Apply combining with tqdm progress bar\n",
    "tqdm.pandas(desc=\"Combining words\")\n",
    "df['text'] = df['text'].progress_apply(combine_words)\n",
    "\n",
    "# Combine all reviews into a single string\n",
    "all_text = ' '.join(df['text'].tolist())"
   ]
  },
  {
   "cell_type": "code",
   "execution_count": null,
   "id": "f7b5623e",
   "metadata": {},
   "outputs": [],
   "source": [
    "# Create a WordCloud object with white background and red word colors\n",
    "wordcloud = WordCloud(width=600, height=300, background_color='white', colormap='Reds', scale=3, max_words=1000).generate(all_text)\n",
    "\n",
    "# Display the WordCloud\n",
    "plt.figure(figsize=(10, 6))\n",
    "plt.imshow(wordcloud, interpolation='bilinear')\n",
    "plt.axis('off')\n",
    "plt.tight_layout()\n",
    "\n",
    "# Show plot\n",
    "plt.show()"
   ]
  },
  {
   "cell_type": "code",
   "execution_count": null,
   "id": "5c1e6d4c",
   "metadata": {},
   "outputs": [],
   "source": [
    "# Save the WordCloud as an image file (e.g., PNG or JPEG)\n",
    "wordcloud.to_file('wordcloud_red.png')"
   ]
  }
 ],
 "metadata": {
  "kernelspec": {
   "display_name": "Python 3 (ipykernel)",
   "language": "python",
   "name": "python3"
  },
  "language_info": {
   "codemirror_mode": {
    "name": "ipython",
    "version": 3
   },
   "file_extension": ".py",
   "mimetype": "text/x-python",
   "name": "python",
   "nbconvert_exporter": "python",
   "pygments_lexer": "ipython3",
   "version": "3.9.7"
  }
 },
 "nbformat": 4,
 "nbformat_minor": 5
}
