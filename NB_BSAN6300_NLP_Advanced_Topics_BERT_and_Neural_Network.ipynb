{
 "cells": [
  {
   "cell_type": "markdown",
   "metadata": {
    "id": "WC70_imPoaqw"
   },
   "source": [
    "BSAN 6300 Marketing Analytics\n",
    "NLP Advanced Topics: BERT and Neural Network\n",
    "By Zhen (Richard) Tang, Zhen.Tang@lmu.edu\n",
    "\n",
    "\n"
   ]
  },
  {
   "cell_type": "markdown",
   "metadata": {
    "id": "XaaIPaKg6Ori"
   },
   "source": [
    "This tutorial is developed for the 2021 Winter AMA pre-conference workshop on NLP in marketing research and for LMU's MSBA program.\n",
    "\n",
    "The workshop is sponsered by the Interorganizational SIG.\n",
    "\n",
    "In this tutorial, we will:\n",
    "  * Familarize with BERT's contextualized enconding, with which we can transform raw texts into meaningful numerical respresentations. (**the texts to numbers step**)\n",
    "  * Utilize BERT's embeddings to measure constructs of interests. (**the numbers to measures step**)  \n",
    "\n",
    "The slides of this tutoria and a self-guided learning package of NLP are here [link text](https://drive.google.com/drive/folders/1hj0_t9v2vGYT2DkCUyx7CtKCo6Ar7uxe?usp=sharing)\n",
    "  "
   ]
  },
  {
   "cell_type": "markdown",
   "metadata": {
    "id": "rcdTKtxOCcpA"
   },
   "source": [
    "In developing this tutorial, I cited codes from Chris McCormich and Nick Ryan ([link text](https://mccormickml.com/tutorials/)) and from Abhishek Kumar Mishra ([link text](https://colab.research.google.com/github/abhimishra91/transformers-tutorials/blob/master/transformers_multi_label_classification.ipynb)).\n",
    "\n",
    "For more tutorials on transfomer-based models, here is a wonderful Huggingface collecton ([link text](https://huggingface.co/transformers/v4.1.1/notebooks.html))\n",
    "\n",
    "If you are interested in text mining without using neural networks, here ([link text](https://github.com/adashofdata/nlp-in-python-tutorial)) are some great tutorials."
   ]
  },
  {
   "cell_type": "markdown",
   "metadata": {
    "id": "Rmg4dtPk9Gab"
   },
   "source": [
    "## Load BERT\n",
    "\n",
    "\n",
    "\n",
    "\n",
    "\n",
    "\n"
   ]
  },
  {
   "cell_type": "markdown",
   "metadata": {
    "id": "sA57Oso9r--v"
   },
   "source": [
    "Install transformers, the interface for using BERT and other pre-trained models from Huggingface:https://huggingface.co/"
   ]
  },
  {
   "cell_type": "code",
   "execution_count": null,
   "metadata": {
    "colab": {
     "base_uri": "https://localhost:8080/"
    },
    "id": "rHBofkROaBzs",
    "outputId": "e293b230-e3d1-482a-c0ce-82cd4e4ee44d"
   },
   "outputs": [
    {
     "name": "stdout",
     "output_type": "stream",
     "text": [
      "Requirement already satisfied: transformers in /usr/local/lib/python3.10/dist-packages (4.38.2)\n",
      "Requirement already satisfied: filelock in /usr/local/lib/python3.10/dist-packages (from transformers) (3.13.4)\n",
      "Requirement already satisfied: huggingface-hub<1.0,>=0.19.3 in /usr/local/lib/python3.10/dist-packages (from transformers) (0.20.3)\n",
      "Requirement already satisfied: numpy>=1.17 in /usr/local/lib/python3.10/dist-packages (from transformers) (1.25.2)\n",
      "Requirement already satisfied: packaging>=20.0 in /usr/local/lib/python3.10/dist-packages (from transformers) (24.0)\n",
      "Requirement already satisfied: pyyaml>=5.1 in /usr/local/lib/python3.10/dist-packages (from transformers) (6.0.1)\n",
      "Requirement already satisfied: regex!=2019.12.17 in /usr/local/lib/python3.10/dist-packages (from transformers) (2023.12.25)\n",
      "Requirement already satisfied: requests in /usr/local/lib/python3.10/dist-packages (from transformers) (2.31.0)\n",
      "Requirement already satisfied: tokenizers<0.19,>=0.14 in /usr/local/lib/python3.10/dist-packages (from transformers) (0.15.2)\n",
      "Requirement already satisfied: safetensors>=0.4.1 in /usr/local/lib/python3.10/dist-packages (from transformers) (0.4.2)\n",
      "Requirement already satisfied: tqdm>=4.27 in /usr/local/lib/python3.10/dist-packages (from transformers) (4.66.2)\n",
      "Requirement already satisfied: fsspec>=2023.5.0 in /usr/local/lib/python3.10/dist-packages (from huggingface-hub<1.0,>=0.19.3->transformers) (2023.6.0)\n",
      "Requirement already satisfied: typing-extensions>=3.7.4.3 in /usr/local/lib/python3.10/dist-packages (from huggingface-hub<1.0,>=0.19.3->transformers) (4.11.0)\n",
      "Requirement already satisfied: charset-normalizer<4,>=2 in /usr/local/lib/python3.10/dist-packages (from requests->transformers) (3.3.2)\n",
      "Requirement already satisfied: idna<4,>=2.5 in /usr/local/lib/python3.10/dist-packages (from requests->transformers) (3.6)\n",
      "Requirement already satisfied: urllib3<3,>=1.21.1 in /usr/local/lib/python3.10/dist-packages (from requests->transformers) (2.0.7)\n",
      "Requirement already satisfied: certifi>=2017.4.17 in /usr/local/lib/python3.10/dist-packages (from requests->transformers) (2024.2.2)\n"
     ]
    }
   ],
   "source": [
    "!pip install transformers\n",
    "# per the setting of transformers, to use any of its NLP model\n",
    "# we need to have three things: that is BertTokenizer, BertModel, BertConfig\n",
    "import transformers\n",
    "from transformers import BertTokenizer, BertModel, BertConfig"
   ]
  },
  {
   "cell_type": "markdown",
   "metadata": {
    "id": "txlCPsextYCB"
   },
   "source": [
    "Import other utilities"
   ]
  },
  {
   "cell_type": "code",
   "execution_count": null,
   "metadata": {
    "colab": {
     "base_uri": "https://localhost:8080/"
    },
    "id": "-3o9S5Fpa6o7",
    "outputId": "ec00c5c8-d417-4469-bb6e-9665c08a28f1"
   },
   "outputs": [
    {
     "name": "stderr",
     "output_type": "stream",
     "text": [
      "<ipython-input-2-69b216d5c386>:6: DeprecationWarning: Please use `pearsonr` from the `scipy.stats` namespace, the `scipy.stats.stats` namespace is deprecated.\n",
      "  from scipy.stats.stats import pearsonr\n"
     ]
    }
   ],
   "source": [
    "import torch\n",
    "import numpy as np\n",
    "import random\n",
    "import pandas as pd\n",
    "from scipy.spatial.distance import cosine\n",
    "from scipy.stats.stats import pearsonr\n",
    "from torch.utils.data import Dataset, DataLoader, RandomSampler, SequentialSampler\n",
    "from sklearn.model_selection import train_test_split\n",
    "import torch.nn as nn\n",
    "import torch.optim as optim\n"
   ]
  },
  {
   "cell_type": "code",
   "execution_count": null,
   "metadata": {
    "id": "KhA_KJINnt7J"
   },
   "outputs": [],
   "source": [
    "# set the random set the same, making the results reproducible\n",
    "seed_val = 42\n",
    "random.seed(seed_val)\n",
    "np.random.seed(seed_val)\n",
    "torch.manual_seed(seed_val)\n",
    "torch.cuda.manual_seed_all(seed_val)"
   ]
  },
  {
   "cell_type": "markdown",
   "metadata": {
    "id": "vPL-pUmasIes"
   },
   "source": [
    "GPU availability"
   ]
  },
  {
   "cell_type": "code",
   "execution_count": null,
   "metadata": {
    "colab": {
     "base_uri": "https://localhost:8080/"
    },
    "id": "pFlTSI0_imqh",
    "outputId": "88597056-9b7a-4136-95fd-4aa2f3f33020"
   },
   "outputs": [
    {
     "name": "stdout",
     "output_type": "stream",
     "text": [
      "cuda\n"
     ]
    }
   ],
   "source": [
    "# let's see if we have access to GPU\n",
    "# GPU is really good at parallel computation\n",
    "from torch import cuda\n",
    "if torch.cuda.is_available():\n",
    "  device = torch.device('cuda')\n",
    "  print(device)\n"
   ]
  },
  {
   "cell_type": "markdown",
   "metadata": {
    "id": "LuGThJJmscPu"
   },
   "source": [
    "Google Drive"
   ]
  },
  {
   "cell_type": "code",
   "execution_count": null,
   "metadata": {
    "id": "Axo2Eo_JYNOn"
   },
   "outputs": [],
   "source": [
    "# uncomment the codes below, if you want to collect Your Google Drive to Colab\n",
    "# from google.colab import drive\n",
    "# drive.mount('/content/drive')"
   ]
  },
  {
   "cell_type": "code",
   "execution_count": null,
   "metadata": {
    "id": "66uEKdP1ionZ"
   },
   "outputs": [],
   "source": [
    "# if you want to switch back to cpu, uncomment the next line of code\n",
    "# device = torch.device('cpu')"
   ]
  },
  {
   "cell_type": "markdown",
   "metadata": {
    "id": "__j68ToisZnU"
   },
   "source": [
    "Create an instance of BERT model, and name it \"**text_to_number**\" becasue this model helps us tranform raw texts into numberical representations.\n",
    "We will use this model later"
   ]
  },
  {
   "cell_type": "code",
   "execution_count": null,
   "metadata": {
    "colab": {
     "base_uri": "https://localhost:8080/",
     "height": 185,
     "referenced_widgets": [
      "23d1632c4bec4ba29982cf6da062fc58",
      "306064775451438a836ea3fd69c4ce55",
      "bc0a8f2adc1d49aa95cc4a1c4d8d20a0",
      "9cdcee4850c84f9ba65f95f47556c8dd",
      "5d63f76d8edb409fb36c901802b11994",
      "aa7c1790932b4e3893473f18e3520067",
      "0fb84cbb81e24a6d8da146e0f41163ad",
      "c9ddba24edec4a7d950240448ce0b374",
      "bd2a98a7e572438e83234db1b3575df7",
      "e5773d83030c48d9ae083573ea6e18dc",
      "e096b2d8ef2b42549814d28554ac2111",
      "127d5459b9f74432a7514ec852245702",
      "9e282c5f830942b58f92bcd1ade9cd99",
      "591a33f60c7741189df1637bd65da89d",
      "a6a99f8c26fd4d4781154a35bd798e4e",
      "74472d815c714577b25d8f42ae4915f7",
      "b19629507983491faa1c2d7933d77b79",
      "ef02b30198b547f7a20d29a6ed2b9520",
      "4869c8f9e9174ae7b4d4a2cd53ba339e",
      "0414768a323f431899427e16aeb15d42",
      "dee7c55ee58842ebb926b954af95b675",
      "3e57cfd7947049c997d15f68632556d3"
     ]
    },
    "id": "tPvWQ9Hy2jQk",
    "outputId": "5b3a0e68-8e17-4b70-e409-0afdc6ac2525"
   },
   "outputs": [
    {
     "name": "stderr",
     "output_type": "stream",
     "text": [
      "/usr/local/lib/python3.10/dist-packages/huggingface_hub/utils/_token.py:88: UserWarning: \n",
      "The secret `HF_TOKEN` does not exist in your Colab secrets.\n",
      "To authenticate with the Hugging Face Hub, create a token in your settings tab (https://huggingface.co/settings/tokens), set it as secret in your Google Colab and restart your session.\n",
      "You will be able to reuse this secret in all of your notebooks.\n",
      "Please note that authentication is recommended but still optional to access public models or datasets.\n",
      "  warnings.warn(\n"
     ]
    },
    {
     "data": {
      "application/vnd.jupyter.widget-view+json": {
       "model_id": "23d1632c4bec4ba29982cf6da062fc58",
       "version_major": 2,
       "version_minor": 0
      },
      "text/plain": [
       "config.json:   0%|          | 0.00/570 [00:00<?, ?B/s]"
      ]
     },
     "metadata": {},
     "output_type": "display_data"
    },
    {
     "data": {
      "application/vnd.jupyter.widget-view+json": {
       "model_id": "127d5459b9f74432a7514ec852245702",
       "version_major": 2,
       "version_minor": 0
      },
      "text/plain": [
       "model.safetensors:   0%|          | 0.00/440M [00:00<?, ?B/s]"
      ]
     },
     "metadata": {},
     "output_type": "display_data"
    }
   ],
   "source": [
    "# note that it takes some time to download the BERT model (~ 440M)\n",
    "# BERT model is big due to it huge amount of paramters.\n",
    "text_to_number = BertModel.from_pretrained('bert-base-uncased')"
   ]
  },
  {
   "cell_type": "markdown",
   "metadata": {
    "id": "ahGQItZqsuwK"
   },
   "source": [
    "Creat an instance of BERT tokenizer, and name it \"**tokenizer**\"\n",
    "We will use tokenizer to transform raw texts into right format to feed into **text_to_number**\n",
    "\n",
    "\n"
   ]
  },
  {
   "cell_type": "code",
   "execution_count": null,
   "metadata": {
    "colab": {
     "base_uri": "https://localhost:8080/",
     "height": 113,
     "referenced_widgets": [
      "520d9fbb59b242e5ae8bfb71bf8e5425",
      "5572f69b5d474f3c861e40947af6f26a",
      "9af4f8dcc44e40d1bce9245615fd3f7b",
      "5912048eb6d44194ae67091030afef5e",
      "35e8de3b1e214dfba0d7996484aef3a7",
      "c680a9c63eb84d1fb60f9791db0f416b",
      "34de154906374fb49c07a95890892b89",
      "1f3443b69b41481f8808d67b25adc488",
      "a678d1f569e042aaa6cd9278a67ef877",
      "fd6cdf68bcfe4dc3af47382ac374d6bc",
      "8df77818016049bba0475dfbf606e8e5",
      "6080094d83e5438aa14a2c99d5f1ddec",
      "5b01d5036c544f4284dacb69a78608f3",
      "faa72165fd424b2faf74f0593b9187e7",
      "2c6a688aa25e42f89a490700d4ef4195",
      "6dd9949a4fe34f81933d594a4dbfacf7",
      "8d3733abeca84262bba63a4c1c788349",
      "94c5f8c3d045442a98f0dcb3e6d1a3af",
      "92b70d2531bc4fafaf0dcf4a8c5446ce",
      "ac6d0953d1ac4fc0b6c350eac993a6ce",
      "e8184d5538bc47d2ae06f7a79b359027",
      "3c219b7c4c4743bba43a10bd911d5d98",
      "2a218e97a75f49db991ba72ffed33d03",
      "eabf57e803784a9383f79ad52ec17d66",
      "5323a1043eee4431921dabf47c796606",
      "34cfba96917c4d8f8cc7832f081ff26b",
      "c709b64902ca42d492e2cfa6af5e87a9",
      "6c4592d87ee34e8aa1bab6db7ffc9e05",
      "193fa9e5182e4ea496b5d41b99776eee",
      "bb6689b62ce44b9b896f1e6c23ac776b",
      "eaaecb438edf48d3843a9e9a48945890",
      "853601f3bc594e789ae89836e5063ed4",
      "1d6e59b43a8d443d9dd4a63074cd016b"
     ]
    },
    "id": "mX9tv9L5bPsE",
    "outputId": "170d79d1-52c1-4091-e4e2-b2d8e620431d"
   },
   "outputs": [
    {
     "data": {
      "application/vnd.jupyter.widget-view+json": {
       "model_id": "520d9fbb59b242e5ae8bfb71bf8e5425",
       "version_major": 2,
       "version_minor": 0
      },
      "text/plain": [
       "tokenizer_config.json:   0%|          | 0.00/48.0 [00:00<?, ?B/s]"
      ]
     },
     "metadata": {},
     "output_type": "display_data"
    },
    {
     "data": {
      "application/vnd.jupyter.widget-view+json": {
       "model_id": "6080094d83e5438aa14a2c99d5f1ddec",
       "version_major": 2,
       "version_minor": 0
      },
      "text/plain": [
       "vocab.txt:   0%|          | 0.00/232k [00:00<?, ?B/s]"
      ]
     },
     "metadata": {},
     "output_type": "display_data"
    },
    {
     "data": {
      "application/vnd.jupyter.widget-view+json": {
       "model_id": "2a218e97a75f49db991ba72ffed33d03",
       "version_major": 2,
       "version_minor": 0
      },
      "text/plain": [
       "tokenizer.json:   0%|          | 0.00/466k [00:00<?, ?B/s]"
      ]
     },
     "metadata": {},
     "output_type": "display_data"
    }
   ],
   "source": [
    "# as you can tell, the tokenizer is pretty small, only 232k in size\n",
    "tokenizer = BertTokenizer.from_pretrained('bert-base-uncased')"
   ]
  },
  {
   "cell_type": "markdown",
   "metadata": {
    "id": "Bpqv34xexKIf"
   },
   "source": [
    "## BERT Basics\n",
    "Learning outcomes:\n",
    "1. Use a BertTokenizer (i.e., our **tokenizer**) to transform raw texts into token ids and see how the tokenizer handles out of vocabulary(OOV) words.\n",
    "2. Use the tokenizer.encode_plus() function to transform raw texts into proper formats (e.g., **input_ids** and **attention_mask**) to feed into a BERT model (i.e., **text_to_number**).\n",
    "3. Use **text_to_number** to transform the examplary text into numerical reprentations and check the contextual encoding property."
   ]
  },
  {
   "cell_type": "markdown",
   "metadata": {
    "id": "L61noWIbac0H"
   },
   "source": [
    "### 1. Tokenizer\n",
    "Use a BertTokenizer (i.e., our **tokenizer**) to transform raw texts into token ids and see how the tokenizer handles out of vocabulary(OOV) words.\n",
    "\n",
    "\n",
    "\n"
   ]
  },
  {
   "cell_type": "markdown",
   "metadata": {
    "id": "AymG1YKSuQaE"
   },
   "source": [
    "Create an examplary sentence"
   ]
  },
  {
   "cell_type": "code",
   "execution_count": null,
   "metadata": {
    "id": "4G_lAnslbZFu"
   },
   "outputs": [],
   "source": [
    "# note that the meanings of two \"banks\" are different\n",
    "example = \"After stealing money from the bank vault and learning NLP, the bank robber was seen fishing on the Mississippi river bank.\"\n"
   ]
  },
  {
   "cell_type": "markdown",
   "metadata": {
    "id": "qtSF4-7wvthC"
   },
   "source": [
    "See how BERT handle out-of-vocbulary (OVV) words\n",
    "  * OVV words are split into word pieces that are in the base dictionary of BERT;\n",
    "therefore, BERT can handle any OVV words in a flexible and meaningful way\n",
    "  * Questions: how do handle emoji? You know, to computer, emoji pictures are just embeddings/numerical vectors\n",
    "    * Paper on training embedding system with emoji as tokens:http://ceur-ws.org/Vol-2491/short125.pdf"
   ]
  },
  {
   "cell_type": "code",
   "execution_count": null,
   "metadata": {
    "colab": {
     "base_uri": "https://localhost:8080/"
    },
    "id": "4MKAK3DJb0cU",
    "outputId": "a8a84a66-2c29-463c-ce5a-89f6392fbe2c"
   },
   "outputs": [
    {
     "name": "stdout",
     "output_type": "stream",
     "text": [
      "['after', 'stealing', 'money', 'from', 'the', 'bank', 'vault', 'and', 'learning', 'nl', '##p', ',', 'the', 'bank', 'robber', 'was', 'seen', 'fishing', 'on', 'the', 'mississippi', 'river', 'bank', '.']\n"
     ]
    }
   ],
   "source": [
    "# use tokenizer to convert raw input into token\n",
    "tokenized_text = tokenizer.tokenize(example)\n",
    "print(tokenized_text)"
   ]
  },
  {
   "cell_type": "markdown",
   "metadata": {
    "id": "84M2yXpjwtEC"
   },
   "source": [
    "Note that NLP is splited into two tokens, \"nl\" and \"##p\", each of them will have a meaningful embedding, to which we can apply subsequent analysis like neural network classification."
   ]
  },
  {
   "cell_type": "code",
   "execution_count": null,
   "metadata": {
    "colab": {
     "base_uri": "https://localhost:8080/"
    },
    "id": "QLH-dTecxIfP",
    "outputId": "84418005-e0c1-4088-fa66-732b35f68f3a"
   },
   "outputs": [
    {
     "name": "stdout",
     "output_type": "stream",
     "text": [
      "['z', '##hen']\n"
     ]
    }
   ],
   "source": [
    "# some popular terms/brands/concepts are in BERT's basic vacabulary/token set\n",
    "# thus, they will not be split.\n",
    "test1 = 'zhen'\n",
    "tokenized_text1 = tokenizer.tokenize(test1)\n",
    "print(tokenized_text1)"
   ]
  },
  {
   "cell_type": "markdown",
   "metadata": {
    "id": "DHKHn7-7wGl5"
   },
   "source": [
    "See how each token is correponding to an ID (**input_ids**) in BERT"
   ]
  },
  {
   "cell_type": "code",
   "execution_count": null,
   "metadata": {
    "colab": {
     "base_uri": "https://localhost:8080/"
    },
    "id": "V3xrSzdVcEgC",
    "outputId": "59d06eb8-760b-41db-d269-531857f40af0"
   },
   "outputs": [
    {
     "name": "stdout",
     "output_type": "stream",
     "text": [
      "['after', 'stealing', 'money', 'from', 'the', 'bank', 'vault', 'and', 'learning', 'nl', '##p', ',', 'the', 'bank', 'robber', 'was', 'seen', 'fishing', 'on', 'the', 'mississippi', 'river', 'bank', '.']\n",
      "[2044, 11065, 2769, 2013, 1996, 2924, 11632, 1998, 4083, 17953, 2361, 1010, 1996, 2924, 27307, 2001, 2464, 5645, 2006, 1996, 5900, 2314, 2924, 1012]\n"
     ]
    }
   ],
   "source": [
    "# convert token into input_id, which is the inputs that are fed into the BERT model\n",
    "indexed_tokens = tokenizer.convert_tokens_to_ids(tokenized_text)\n",
    "print(tokenized_text)\n",
    "print(indexed_tokens)"
   ]
  },
  {
   "cell_type": "markdown",
   "metadata": {
    "id": "SwW7ITzEmewb"
   },
   "source": [
    "If you want to have a glimpse of BERT's base vacabulary/tokens"
   ]
  },
  {
   "cell_type": "code",
   "execution_count": null,
   "metadata": {
    "id": "lO0afwaompXm"
   },
   "outputs": [],
   "source": [
    "# total size the base token pool\n",
    "print(len(list(tokenizer.vocab.items())))\n",
    "# get a snippet of pool\n",
    "list(tokenizer.vocab.items())[1000:1050]"
   ]
  },
  {
   "cell_type": "markdown",
   "metadata": {
    "id": "YW0uY4N5w6Hx"
   },
   "source": [
    "### 2. Tokneizer.encode_plus\n",
    "Use the tokenizer.encode_plus() function to transform raw texts into proper formats (e.g., **input_ids** and **attention_mask**) to feed into a BERT model (i.e., **text_to_number**)."
   ]
  },
  {
   "cell_type": "markdown",
   "metadata": {
    "id": "ptrZrKGEze4z"
   },
   "source": [
    "learn the syntax of encode_plus\n",
    "* it is critically important for us to understand the formats of the inputs and outputs of the function we use.\n",
    "* for encode_plus fucntion\n",
    "  * inputs include\n",
    "    * raw texts\n",
    "    * arguments like the maximum length (of the raw text to be processed); longer ones will be trancated, shorter ones will be padded.  \n",
    "  * outputs include:\n",
    "    * input_ids (IDs of tokens in the raw texts)\n",
    "    * attention_mask (dummies for if the token is from raw texts or padded)\n",
    "    * token_type_ids (IDs of sentences, not commonly used)\n",
    "    * special tokens like [CLS], [SEP] are automatically added\n",
    "      * [CLS] contains the summary information of the raw texts, and can be use in subsequant analysis.\n",
    "      "
   ]
  },
  {
   "cell_type": "code",
   "execution_count": null,
   "metadata": {
    "id": "pNcUBfDMgdFn"
   },
   "outputs": [],
   "source": [
    "# see the syntax of encode_plus\n",
    "tokenizer.encode_plus?"
   ]
  },
  {
   "cell_type": "code",
   "execution_count": null,
   "metadata": {
    "colab": {
     "base_uri": "https://localhost:8080/"
    },
    "id": "1xsGvm8OejJl",
    "outputId": "8c123bb7-c6e5-4dbd-fd08-81b1ab0b0edc"
   },
   "outputs": [
    {
     "name": "stdout",
     "output_type": "stream",
     "text": [
      "{'input_ids': [101, 2044, 11065, 2769, 2013, 1996, 2924, 102], 'token_type_ids': [0, 0, 0, 0, 0, 0, 0, 0], 'attention_mask': [1, 1, 1, 1, 1, 1, 1, 1]}\n",
      "['[CLS]', 'after', 'stealing', 'money', 'from', 'the', 'bank', '[SEP]']\n"
     ]
    }
   ],
   "source": [
    "# trancate to max_length\n",
    "# tranction argument tell the encode_plus from where to trancate the sentence beyond the specified max length, which is 20 in our case; maximum is 512\n",
    "encoded_text = tokenizer.encode_plus(example, max_length = 8, truncation = 'longest_first', padding = 'max_length')\n",
    "print(encoded_text)\n",
    "# print the trancated tokens\n",
    "print(tokenizer.convert_ids_to_tokens(encoded_text['input_ids']))"
   ]
  },
  {
   "cell_type": "code",
   "execution_count": null,
   "metadata": {
    "colab": {
     "base_uri": "https://localhost:8080/"
    },
    "id": "a1TWsS5UcTxQ",
    "outputId": "25b0059f-5c9f-4ead-c67b-e8c152cf82ec"
   },
   "outputs": [
    {
     "name": "stdout",
     "output_type": "stream",
     "text": [
      "{'input_ids': [101, 2044, 11065, 2769, 2013, 1996, 2924, 11632, 1998, 4083, 17953, 2361, 1010, 1996, 2924, 27307, 2001, 2464, 5645, 2006, 1996, 5900, 2314, 2924, 1012, 102, 0, 0, 0, 0, 0, 0, 0, 0, 0, 0, 0, 0, 0, 0, 0, 0, 0, 0, 0, 0, 0, 0], 'token_type_ids': [0, 0, 0, 0, 0, 0, 0, 0, 0, 0, 0, 0, 0, 0, 0, 0, 0, 0, 0, 0, 0, 0, 0, 0, 0, 0, 0, 0, 0, 0, 0, 0, 0, 0, 0, 0, 0, 0, 0, 0, 0, 0, 0, 0, 0, 0, 0, 0], 'attention_mask': [1, 1, 1, 1, 1, 1, 1, 1, 1, 1, 1, 1, 1, 1, 1, 1, 1, 1, 1, 1, 1, 1, 1, 1, 1, 1, 0, 0, 0, 0, 0, 0, 0, 0, 0, 0, 0, 0, 0, 0, 0, 0, 0, 0, 0, 0, 0, 0]}\n",
      "['[CLS]', 'after', 'stealing', 'money', 'from', 'the', 'bank', 'vault', 'and', 'learning', 'nl', '##p', ',', 'the', 'bank', 'robber', 'was', 'seen', 'fishing', 'on', 'the', 'mississippi', 'river', 'bank', '.', '[SEP]', '[PAD]', '[PAD]', '[PAD]', '[PAD]', '[PAD]', '[PAD]', '[PAD]', '[PAD]', '[PAD]', '[PAD]', '[PAD]', '[PAD]', '[PAD]', '[PAD]', '[PAD]', '[PAD]', '[PAD]', '[PAD]', '[PAD]', '[PAD]', '[PAD]', '[PAD]']\n"
     ]
    }
   ],
   "source": [
    "# padding to another max_lenght, here let's use 48 so that we can see the padded tokens\n",
    "encoded_text = tokenizer.encode_plus(example, max_length = 48, truncation = 'longest_first',padding = 'max_length')\n",
    "print(encoded_text)\n",
    "print(tokenizer.convert_ids_to_tokens(encoded_text['input_ids']))\n"
   ]
  },
  {
   "cell_type": "markdown",
   "metadata": {
    "id": "IoYPiEV17uX6"
   },
   "source": [
    "**Recap:**\n",
    "\n",
    "Tokenizer is a tool to pre-process the raw texts into **input_ids** and **attention_mask** that a BERT and other transformer-based NLP models take as inputs.  "
   ]
  },
  {
   "cell_type": "markdown",
   "metadata": {
    "id": "Kpfu7B3EhjgF"
   },
   "source": [
    "### 3. BERT's Inputs and Outputs\n",
    "\n",
    "Use our BERT model, **text_to_number** ,to transform the examplary text into numberical reprentations and check the contextual encoding property.\n",
    "\n",
    "\n"
   ]
  },
  {
   "cell_type": "markdown",
   "metadata": {
    "id": "Jr7ddBXA401f"
   },
   "source": [
    "\n",
    "Set text_to_number into evaluation mode (e.g., do not do training) to save memory.\n",
    "\n",
    "And please make sense of the structure of the model\n",
    "  * In the firtt layer, the dimension of the raw word emeddings is (30522, 768), meaning that there is 30522 basic tokens in base BERT and each embeding has 768 features, i.e., 768-digit in the embedding vector\n",
    "  * In subsequent layers, see the manefest of the self-attention mechanism, i.e., structure of query, key, and value"
   ]
  },
  {
   "cell_type": "code",
   "execution_count": null,
   "metadata": {
    "id": "dGyq9GRRpwKw"
   },
   "outputs": [],
   "source": [
    "# set the model into evaluation model to do feed-forward operation only, no training\n",
    "text_to_number.eval()\n",
    "# note that the first layer in BERT model is word_embedding layer\n",
    "# with 30522 basic tokens in BERT's vocabulary and each token has an embedding with length of 768"
   ]
  },
  {
   "cell_type": "markdown",
   "metadata": {
    "id": "0Aq7aitO60iR"
   },
   "source": [
    "2. Use the text_to_number model to transform the raw text. For the syntax of BERT Model, see: https://huggingface.co/transformers/model_doc/bert.html\n",
    "\n",
    "In the codes below:\n",
    "  * We set torch.no_grad(), so gradient will not be calcualted (calculating gradients only for training purpose) to save memory and imporve speed\n",
    "  * Recall that encoded_text, which is derived from: encoded_text = tokenizer.encode_plus(example, max_length = 48, padding = 'max_length'), contains all the information we need to feed into text_to_number\n",
    "    * Note that we need to convert the output of encoded_text into a pytorch tensor using **torch.tensor()** function so that pytorch could process it\n",
    "    * Also note that input of BERT model need to have a batch dimension (i.e., we need to tell BERT how many sentences we feed into it); thus, we need to add one more dimension (representing the batch size) to the output of encoded_text function. Thus, we need to feed **[encoded_text['input_ids']]** instead of **encoded_text['input_ids']** in it\n",
    "\n"
   ]
  },
  {
   "cell_type": "code",
   "execution_count": null,
   "metadata": {
    "colab": {
     "base_uri": "https://localhost:8080/"
    },
    "id": "u5vWGP3V0njR",
    "outputId": "6e6ebf32-984e-40a2-ee73-e3904d99b37b"
   },
   "outputs": [
    {
     "name": "stdout",
     "output_type": "stream",
     "text": [
      "tensor([[  101,  2044, 11065,  2769,  2013,  1996,  2924, 11632,  1998,  4083,\n",
      "         17953,  2361,  1010,  1996,  2924, 27307,  2001,  2464,  5645,  2006,\n",
      "          1996,  5900,  2314,  2924,  1012,   102,     0,     0,     0,     0,\n",
      "             0,     0,     0,     0,     0,     0,     0,     0,     0,     0,\n",
      "             0,     0,     0,     0,     0,     0,     0,     0]])\n"
     ]
    },
    {
     "data": {
      "text/plain": [
       "torch.Size([1, 48])"
      ]
     },
     "execution_count": 38,
     "metadata": {},
     "output_type": "execute_result"
    }
   ],
   "source": [
    "print(torch.tensor([encoded_text['input_ids']]))\n",
    "torch.tensor([encoded_text['input_ids']]).shape"
   ]
  },
  {
   "cell_type": "code",
   "execution_count": null,
   "metadata": {
    "colab": {
     "base_uri": "https://localhost:8080/"
    },
    "id": "uQV_t8w2-cPV",
    "outputId": "a1adb340-6367-4eb6-e9bd-e5d61f64e104"
   },
   "outputs": [
    {
     "name": "stdout",
     "output_type": "stream",
     "text": [
      "tensor([[  101,  2044, 11065,  2769,  2013,  1996,  2924, 11632,  1998,  4083,\n",
      "         17953,  2361,  1010,  1996,  2924, 27307,  2001,  2464,  5645,  2006,\n",
      "          1996,  5900,  2314,  2924,  1012,   102,     0,     0,     0,     0,\n",
      "             0,     0,     0,     0,     0,     0,     0,     0,     0,     0,\n",
      "             0,     0,     0,     0,     0,     0,     0,     0]])\n"
     ]
    },
    {
     "data": {
      "text/plain": [
       "torch.Size([1, 48])"
      ]
     },
     "execution_count": 36,
     "metadata": {},
     "output_type": "execute_result"
    }
   ],
   "source": [
    "# if you want to check the input format and shape\n",
    "print(torch.tensor([encoded_text['input_ids']]))\n",
    "torch.tensor([encoded_text['input_ids']]).shape"
   ]
  },
  {
   "cell_type": "code",
   "execution_count": null,
   "metadata": {
    "id": "w-RfCugdro7P"
   },
   "outputs": [],
   "source": [
    "# this is the code for BERT model to generate word embeddings for us\n",
    "with torch.no_grad():\n",
    "  outputs  = text_to_number(input_ids = torch.tensor([encoded_text['input_ids']]),\n",
    "                   attention_mask = torch.tensor([encoded_text['attention_mask']]), output_hidden_states = True)\n",
    "last = outputs.last_hidden_state\n",
    "pooler = outputs.pooler_output\n",
    "all = outputs.hidden_states"
   ]
  },
  {
   "cell_type": "markdown",
   "metadata": {
    "id": "pmmBRhFs-zSv"
   },
   "source": [
    "Check the output format and shape (in our case, batch size = 1, # of tokens in the raw text = 48, specified by the max_len, hidden_sate_size = 768, given by base BERT model)\n",
    "The first two outputs are given by default:\n",
    "  * I call it \"last\": all embeddings in the last layer in the shape of (batch_size, max_length, hidden_state_size),\n",
    "  * I call it \"pooler\": the pooler embedding ([CLS] token went through a linear layer and Tanh activation function) in the shape of (batch_size, hidden_state_size))\n",
    "  * and with the output_hidden_states = True, we get the third input; I call it \"all\": the embeddings of all tokens from all self-attention layer in the shape of (# of layers, batch_size, max_length, hidden_state_size)"
   ]
  },
  {
   "cell_type": "markdown",
   "metadata": {
    "id": "qXuUPxyr_5aY"
   },
   "source": [
    "![output of BERT.png](data:image/png;base64,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)"
   ]
  },
  {
   "cell_type": "code",
   "execution_count": null,
   "metadata": {
    "colab": {
     "base_uri": "https://localhost:8080/"
    },
    "id": "yiye4L40vZPh",
    "outputId": "a7dc783e-5ff9-4d81-de27-5e55b2c16923"
   },
   "outputs": [
    {
     "name": "stdout",
     "output_type": "stream",
     "text": [
      "the last layer output: <class 'torch.Tensor'> torch.Size([1, 48, 768]) \n",
      " the pooler output: <class 'torch.Tensor'> torch.Size([1, 768]) \n",
      " the number of total layers: <class 'tuple'> 13 \n",
      " the output from the first layer: <class 'torch.Tensor'> torch.Size([1, 48, 768])\n"
     ]
    }
   ],
   "source": [
    "# check the type and shape of the three outputs\n",
    "print(\"the last layer output:\", type(last), last.shape, \"\\n\",\n",
    "      \"the pooler output:\", type(pooler), pooler.shape, \"\\n\",\n",
    "      \"the number of total layers:\", type(all), len(all), \"\\n\",\n",
    "      \"the output from the first layer:\", type(all[0]), all[0].shape)"
   ]
  },
  {
   "cell_type": "code",
   "execution_count": null,
   "metadata": {
    "colab": {
     "base_uri": "https://localhost:8080/"
    },
    "id": "9cE84kQz6lRT",
    "outputId": "bd8d1d20-2eba-4864-ffba-d27a632ac4dd"
   },
   "outputs": [
    {
     "data": {
      "text/plain": [
       "tensor([[[True, True, True,  ..., True, True, True],\n",
       "         [True, True, True,  ..., True, True, True],\n",
       "         [True, True, True,  ..., True, True, True],\n",
       "         ...,\n",
       "         [True, True, True,  ..., True, True, True],\n",
       "         [True, True, True,  ..., True, True, True],\n",
       "         [True, True, True,  ..., True, True, True]]])"
      ]
     },
     "execution_count": 43,
     "metadata": {},
     "output_type": "execute_result"
    }
   ],
   "source": [
    "# check if the output of BERT model consistent with setting\n",
    "# the last layer of the \"all\" output should equal to the \"last\" output\n",
    "last == all[12]"
   ]
  },
  {
   "cell_type": "markdown",
   "metadata": {
    "id": "Nx1DjX-hBH0p"
   },
   "source": [
    "Understanding the structure of BERT output, we can then easily index and fetch the resultant word embeddings.\n",
    "\n",
    "For instance, if we want to extract word embeddings from the last transformer layer.\n",
    "  * Recall that the shape of \"last\" is (batch size, max_len, hidden size), in our case here is (1, 48, 768)"
   ]
  },
  {
   "cell_type": "code",
   "execution_count": null,
   "metadata": {
    "colab": {
     "base_uri": "https://localhost:8080/"
    },
    "id": "46QzrO_-7NQW",
    "outputId": "ebfcd636-65c6-41ff-8e1a-297d44876644"
   },
   "outputs": [
    {
     "name": "stdout",
     "output_type": "stream",
     "text": [
      "embedding of all non-padded token from the last layer: \n",
      " tensor([[[-0.7054, -0.2647, -0.5992,  ..., -0.0765,  0.3991,  0.3729],\n",
      "         [-0.2369, -0.1814, -0.3718,  ..., -0.4018,  0.0893, -0.1481],\n",
      "         [-0.3640, -0.3769,  0.1327,  ..., -0.1980, -0.0027, -0.1216],\n",
      "         ...,\n",
      "         [ 0.2506, -0.3052, -0.0736,  ..., -0.5509, -0.5678,  0.2074],\n",
      "         [ 0.4868, -0.0969, -0.2821,  ...,  0.0487, -0.6154, -0.2020],\n",
      "         [-0.7266, -0.6352, -0.3421,  ...,  0.3469, -0.0791, -0.6001]]])\n",
      "all tokens including padded ones: torch.Size([1, 48, 768])\n",
      "only tokens of raw input: torch.Size([1, 26, 768])\n"
     ]
    }
   ],
   "source": [
    "# extract the word embeddings for non-padded input from last layer\n",
    "\n",
    "# sum of attention_mask gives us the total number of non-padded token\n",
    "print(\"embedding of all non-padded token from the last layer:\", \"\\n\",\n",
    "      last[ :, 0 : sum(encoded_text['attention_mask']), :])\n",
    "\n",
    "# check the shape/dimensions of all tokens\n",
    "print(\"all tokens including padded ones:\", last.shape)\n",
    "# without the padded tokens\n",
    "print(\"only tokens of raw input:\", last[ :, 0 : sum(encoded_text['attention_mask']), :].shape)\n",
    "\n"
   ]
  },
  {
   "cell_type": "markdown",
   "metadata": {
    "id": "G1zrLib5Dc2O"
   },
   "source": [
    "Can I use the mean of tokens' embeddigngs as the embedding of the sentence?\n",
    "  * Yes. You have different ways to extract the sentence embeddings: http://jalammar.github.io/illustrated-bert/\n",
    "  "
   ]
  },
  {
   "cell_type": "code",
   "execution_count": null,
   "metadata": {
    "colab": {
     "base_uri": "https://localhost:8080/"
    },
    "id": "N1Mq767wOS2k",
    "outputId": "1bb10be1-fbac-4f99-e9ee-8cb986324772"
   },
   "outputs": [
    {
     "data": {
      "text/plain": [
       "torch.Size([1, 768])"
      ]
     },
     "execution_count": 46,
     "metadata": {},
     "output_type": "execute_result"
    }
   ],
   "source": [
    "# torch.mean https://pytorch.org/docs/stable/torch.html#torch.mean\n",
    "# note that you could use keep dim = True to keep the original dimension with batch size as the first axis\n",
    "last[ :, 0 : sum(encoded_text['attention_mask']), :].mean(dim = 1)\n",
    "# check its shape\n",
    "last[ :, 0 : sum(encoded_text['attention_mask']), :].mean(dim = 1).shape"
   ]
  },
  {
   "cell_type": "code",
   "execution_count": null,
   "metadata": {
    "colab": {
     "base_uri": "https://localhost:8080/"
    },
    "id": "DnV3L-lD83pJ",
    "outputId": "35919286-d528-46d7-8e0e-b745cd268ad0"
   },
   "outputs": [
    {
     "data": {
      "text/plain": [
       "tensor([[[-0.3416, -0.7685, -0.6851,  ..., -0.0671,  0.2427,  0.1223],\n",
       "         [-0.2170, -0.2830, -0.5524,  ..., -0.6654, -0.0178, -0.1580],\n",
       "         [-0.4943, -0.3955, -0.0968,  ..., -0.5568,  0.5050, -0.1994],\n",
       "         ...,\n",
       "         [ 0.5809, -0.0072, -0.2383,  ..., -0.5579, -0.2557,  0.2601],\n",
       "         [-0.4215,  0.1235, -0.4502,  ..., -0.4727, -0.1443,  0.0363],\n",
       "         [-0.0588, -0.0424,  0.0272,  ..., -0.0593,  0.0085, -0.0539]]])"
      ]
     },
     "execution_count": 47,
     "metadata": {},
     "output_type": "execute_result"
    }
   ],
   "source": [
    "# you can also extract the word embeddings from any other layer; let's call it layer \"n\" ; n is in (0, 12)\n",
    "n = 9\n",
    "all[n][ :, 0 : sum(encoded_text['attention_mask']), :]"
   ]
  },
  {
   "cell_type": "markdown",
   "metadata": {
    "id": "rSc-N8GZCnqr"
   },
   "source": [
    "Or, fetch the embeddings from the **pooler** output"
   ]
  },
  {
   "cell_type": "code",
   "execution_count": null,
   "metadata": {
    "id": "N5f4REI_B84c"
   },
   "outputs": [],
   "source": [
    "# poller has the [CLS] token that can be used for further classification\n",
    "print(pooler)\n",
    "print(pooler.shape)"
   ]
  },
  {
   "cell_type": "markdown",
   "metadata": {
    "id": "YNrSh1-G7KbH"
   },
   "source": [
    "Recap:\n",
    "\n",
    "*   Inputs of BERT Model\n",
    "> 1. input_ids: the ids of tokens in the raw texts.\n",
    "> 2. attention_mask: the dummies mark if the token is from the raw texts or padded.\n",
    "> 3. Apply the **encoder_plus** function to raw input gives you both vectors. Note that you need to extract them and transfor them into tensor before feeding into BERT model (as BERT model from transformer package only accept pytorch or tensorflow tensor)\n",
    "\n",
    "*   Outputs of BERT Model\n",
    "> 1. last layer embedding\n",
    "> 2. pooler layer\n",
    "> 3. output of all hidden self-attention layers with output_hidden_states = True\n",
    "\n",
    "It is critical to understand the inputs and outputs of BERT model and their dimensionalities for us to use BERT's embddings in subsequent analysis.\n",
    "\n"
   ]
  },
  {
   "cell_type": "markdown",
   "metadata": {
    "id": "leR6SZ6VCJie"
   },
   "source": [
    "### 4. BERT's contextual Embedding\n",
    "\n",
    "We have learned the shape of inputs and outputs of BERT model. Then, let's extract the tokens of some specific words, see if their embeddings are more or less similar.\n",
    "\n",
    "If so, we can confirm that BERT takes context into its encoding process.\n",
    "\n",
    "For instance, in our example sentence, After stealing money from the **bank vault** and learning NLP, the **bank robber** was seen fishing on the Mississippi **river bank**, the embedding of \"bank\" in \" bank vualt\" should be more similar to that in \"bank robber\" then that in \"river bank\"."
   ]
  },
  {
   "cell_type": "code",
   "execution_count": null,
   "metadata": {
    "colab": {
     "base_uri": "https://localhost:8080/"
    },
    "id": "gBOOknB492Es",
    "outputId": "4de37e4d-58f4-4ce3-ab5c-5cd48f98f4ef"
   },
   "outputs": [
    {
     "name": "stdout",
     "output_type": "stream",
     "text": [
      "0 [CLS]\n",
      "1 after\n",
      "2 stealing\n",
      "3 money\n",
      "4 from\n",
      "5 the\n",
      "6 bank\n",
      "7 vault\n",
      "8 and\n",
      "9 learning\n",
      "10 nl\n",
      "11 ##p\n",
      "12 ,\n",
      "13 the\n",
      "14 bank\n",
      "15 robber\n",
      "16 was\n",
      "17 seen\n",
      "18 fishing\n",
      "19 on\n",
      "20 the\n",
      "21 mississippi\n",
      "22 river\n",
      "23 bank\n",
      "24 .\n",
      "25 [SEP]\n",
      "26 [PAD]\n",
      "27 [PAD]\n",
      "28 [PAD]\n",
      "29 [PAD]\n",
      "30 [PAD]\n",
      "31 [PAD]\n",
      "32 [PAD]\n",
      "33 [PAD]\n",
      "34 [PAD]\n",
      "35 [PAD]\n",
      "36 [PAD]\n",
      "37 [PAD]\n",
      "38 [PAD]\n",
      "39 [PAD]\n",
      "40 [PAD]\n",
      "41 [PAD]\n",
      "42 [PAD]\n",
      "43 [PAD]\n",
      "44 [PAD]\n",
      "45 [PAD]\n",
      "46 [PAD]\n",
      "47 [PAD]\n",
      "bank's position 6\n",
      "bank's position 14\n",
      "bank's position 23\n"
     ]
    }
   ],
   "source": [
    "# extract embedding of specific tokens: bank\n",
    "# first get the index of the token\n",
    "# encoded_text is the output of encode_plus, the \"input_ids\" is IDs of all raw word input\n",
    "# tokenizer.convert_ids_to_tokens transfer the IDs into real words/tokens, which with we can find the words of our interests\n",
    "# enumerate() create an iterable of the words with index\n",
    "for i, token in enumerate(tokenizer.convert_ids_to_tokens(encoded_text[\"input_ids\"])):\n",
    "  print(i, token)\n",
    "\n",
    "for i, token in enumerate(tokenizer.convert_ids_to_tokens(encoded_text[\"input_ids\"])):\n",
    "  if token == \"bank\":\n",
    "    print(\"bank's position\", i)"
   ]
  },
  {
   "cell_type": "code",
   "execution_count": null,
   "metadata": {
    "id": "pQj2TfeaBp_m"
   },
   "outputs": [],
   "source": [
    "# extract the embeddings for \"bank\" from the last layer\n",
    "# accroding to the index about: the positions 6, 14, 23 is what we need\n",
    "bank_vault = last[ :, 6, :]\n",
    "bank_robber = last[ :, 14, :]\n",
    "river_bank = last[:, 23, :]"
   ]
  },
  {
   "cell_type": "code",
   "execution_count": null,
   "metadata": {
    "id": "TS6rcS5I7w0O"
   },
   "outputs": [],
   "source": [
    "# check if the word \"bank\" in different contexts has different embeddings\n",
    "river_bank == bank_robber"
   ]
  },
  {
   "cell_type": "code",
   "execution_count": null,
   "metadata": {
    "colab": {
     "base_uri": "https://localhost:8080/"
    },
    "id": "oVxfoCHyC0dC",
    "outputId": "926b45de-601c-4b37-dd85-64d0a9a22732"
   },
   "outputs": [
    {
     "name": "stdout",
     "output_type": "stream",
     "text": [
      "torch.Size([1, 768]) torch.Size([1, 768]) torch.Size([1, 768])\n"
     ]
    }
   ],
   "source": [
    "# check if the three embeddings are in the same shape\n",
    "print(bank_vault.shape, bank_robber.shape, river_bank.shape)"
   ]
  },
  {
   "cell_type": "markdown",
   "metadata": {
    "id": "kJCTt945HT4s"
   },
   "source": [
    "To analyze the similarity of the embeddings, we could do cosine similarity:\n",
    "  * https://stackoverflow.com/questions/58381092/difference-between-cosine-similarity-and-cosine-distance\n",
    "\n",
    "  * Cosine in scipy is calculating cosine distance, which is 1 - cosine similarity to get cosine similarity between A and B, we thus do 1 - cosine(A, B).\n",
    "    * See reference: https://docs.scipy.org/doc/scipy/reference/generated/scipy.spatial.distance.cosine.html"
   ]
  },
  {
   "cell_type": "code",
   "execution_count": null,
   "metadata": {
    "colab": {
     "base_uri": "https://localhost:8080/"
    },
    "id": "k9Q-XYfEmuQm",
    "outputId": "3e508545-03af-4d64-9595-aa41e1241e8f"
   },
   "outputs": [
    {
     "name": "stdout",
     "output_type": "stream",
     "text": [
      "similarity between 'bank' in 'bank_vault' and 'bank_robber' \n",
      " 0.9272804856300354\n",
      "similarity between 'bank' in 'bank_vault' and 'river_bank' \n",
      " 0.7044309377670288\n",
      "similarity between 'bank' in 'bank_robber' and 'river_bank' \n",
      " 0.7044309377670288\n"
     ]
    }
   ],
   "source": [
    "from scipy.spatial.distance import cosine\n",
    "print(\"similarity between 'bank' in 'bank_vault' and 'bank_robber'\", \"\\n\", 1 - cosine(bank_vault.squeeze(), bank_robber.squeeze()))\n",
    "print(\"similarity between 'bank' in 'bank_vault' and 'river_bank'\", \"\\n\", 1 - cosine(bank_vault.squeeze(), river_bank.squeeze()))\n",
    "print(\"similarity between 'bank' in 'bank_robber' and 'river_bank'\", \"\\n\", 1 - cosine(bank_vault.squeeze(), river_bank.squeeze()))"
   ]
  },
  {
   "cell_type": "code",
   "execution_count": null,
   "metadata": {
    "colab": {
     "base_uri": "https://localhost:8080/"
    },
    "id": "5yvhV1kq8TIg",
    "outputId": "149bdf5c-fbc9-4a06-e35b-aae530648084"
   },
   "outputs": [
    {
     "name": "stdout",
     "output_type": "stream",
     "text": [
      "similarity between 'bank' in 'bank_vault' and 'bank_robber' \n",
      " (0.9272427073781702, 0.0)\n",
      "similarity between 'bank' in 'bank_vault' and 'river_bank' \n",
      " (0.7042959468795537, 4.279889729411575e-116)\n",
      "similarity between 'bank' in 'bank_robber' and 'river_bank' \n",
      " (0.7042959468795537, 4.279889729411575e-116)\n"
     ]
    }
   ],
   "source": [
    "# alternatively, we can actully using pearson correlation to show the similarity between the embeddings\n",
    "from scipy.stats.stats import pearsonr\n",
    "print(\"similarity between 'bank' in 'bank_vault' and 'bank_robber'\", \"\\n\", pearsonr(bank_vault[0,:], bank_robber[0,:]))\n",
    "print(\"similarity between 'bank' in 'bank_vault' and 'river_bank'\", \"\\n\", pearsonr(bank_vault[0,:], river_bank[0,:]))\n",
    "print(\"similarity between 'bank' in 'bank_robber' and 'river_bank'\", \"\\n\", pearsonr(bank_vault[0,:], river_bank[0,:]))"
   ]
  },
  {
   "cell_type": "markdown",
   "metadata": {
    "id": "5t164X_xFEDa"
   },
   "source": [
    "Here is another fast way to show the capability of Transformer-based model in handling contextual information."
   ]
  },
  {
   "cell_type": "code",
   "execution_count": null,
   "metadata": {
    "colab": {
     "base_uri": "https://localhost:8080/",
     "height": 182,
     "referenced_widgets": [
      "d6ae4b5b82ae4f44b3457410cbcafdf8",
      "b838af3a5fb943a89af2fd5a19e5b18f",
      "8465d3a752b14c2e9469c04f613c6b36",
      "497051a90786462a90bb3704a33f5092",
      "09d3acdfc75e40e1bd3a80aeee574f92",
      "ab0f7ba8358e41d3acd2bc2b2262f626",
      "f14b2a6849e04e8487c8e9949a35bdf1",
      "ed0c346a207f48cbb3ac7e9e4786b8a0",
      "0b21c43ceb8d4ed78787fa3be415ec68",
      "6013248fb473410890382dd40366130f",
      "78ffefdf7aff4409ae0b80db9cc86267",
      "cfceb36a55e0448ea41bf489fce0bf63",
      "2f53d1ed15cf46ccaec78a9b9e23b9ab",
      "7061bc8bf2694042a5d8ffd3edf91328",
      "30769737677f4365bcc581bd62100763",
      "40367b800337420a820129ead7ab2a62",
      "d8cbd0e0efae4928813fbf0c25c7a169",
      "7d16cd3273254e0382a672f544f6a019",
      "dc8a4be1a7c24f16b37aac704a34f7e9",
      "ecd96dcf02cb43d78f976b861f6c7752",
      "00d23a59a2b24fdd9025b0b972401446",
      "3274b1e386a445b6aa54821bc7921130",
      "6f30768ece9f4ecba9bfbcb75e752798",
      "1f0b50108a4b4a09bdbf5b30a4ab9785",
      "f01661d6ed60405687c3ec8bfdd5c876",
      "31fb58f9f91d4e3382dfc3e165206b2d",
      "d61340bdf64741f7bbed6d6c1a102149",
      "f87d94bb7e1440d3b273a25a0383b9bd",
      "ed1296b16c9b47e6b5df513bb8a2bc37",
      "37eb3d0132e846c9b1660d33f615b43f",
      "906170021d3a46d2aad9fa063b0672d4",
      "cfe3b528f8f94c2dbadeab72c226b201",
      "cdc5e0b5a1b74b28811cf426083a6300",
      "6e8274344c0a413bb2f19bce297ffb53",
      "9d1bea34ae1c43db80dbd253050f253d",
      "2a3c04886e454fd4bb59b05614a59b99",
      "b30c800024644794aa7b42b3b9a7cbe4",
      "02237c14cc324c108333c5bef3633f09",
      "c55747e3f6ac46fcac808eb7f8d27f91",
      "9e43bbacb5194a2bb94318b7a97f24b6",
      "384fb3d22621418ea8b7e93a744d91c4",
      "12e00041ad424bc0835b59107d9212f3",
      "814a7f829f8046e687c3a325d6711172",
      "9ec5d894b84f48fea0f95a26dd2c1e5c"
     ]
    },
    "id": "an2kO5lAE8tG",
    "outputId": "5da86ec7-9d2c-46b3-c062-5782f7de5e1f"
   },
   "outputs": [
    {
     "name": "stderr",
     "output_type": "stream",
     "text": [
      "No model was supplied, defaulted to distilbert-base-uncased-finetuned-sst-2-english (https://huggingface.co/distilbert-base-uncased-finetuned-sst-2-english)\n"
     ]
    },
    {
     "data": {
      "application/vnd.jupyter.widget-view+json": {
       "model_id": "d6ae4b5b82ae4f44b3457410cbcafdf8",
       "version_major": 2,
       "version_minor": 0
      },
      "text/plain": [
       "Downloading:   0%|          | 0.00/629 [00:00<?, ?B/s]"
      ]
     },
     "metadata": {},
     "output_type": "display_data"
    },
    {
     "data": {
      "application/vnd.jupyter.widget-view+json": {
       "model_id": "cfceb36a55e0448ea41bf489fce0bf63",
       "version_major": 2,
       "version_minor": 0
      },
      "text/plain": [
       "Downloading:   0%|          | 0.00/255M [00:00<?, ?B/s]"
      ]
     },
     "metadata": {},
     "output_type": "display_data"
    },
    {
     "data": {
      "application/vnd.jupyter.widget-view+json": {
       "model_id": "6f30768ece9f4ecba9bfbcb75e752798",
       "version_major": 2,
       "version_minor": 0
      },
      "text/plain": [
       "Downloading:   0%|          | 0.00/48.0 [00:00<?, ?B/s]"
      ]
     },
     "metadata": {},
     "output_type": "display_data"
    },
    {
     "data": {
      "application/vnd.jupyter.widget-view+json": {
       "model_id": "6e8274344c0a413bb2f19bce297ffb53",
       "version_major": 2,
       "version_minor": 0
      },
      "text/plain": [
       "Downloading:   0%|          | 0.00/226k [00:00<?, ?B/s]"
      ]
     },
     "metadata": {},
     "output_type": "display_data"
    }
   ],
   "source": [
    "# sentiment is a great interface that Huggingface developed based on BERT to analyze sentiment in the raw texts.\n",
    "from transformers import pipeline\n",
    "sentiment = pipeline('sentiment-analysis')\n"
   ]
  },
  {
   "cell_type": "code",
   "execution_count": null,
   "metadata": {
    "colab": {
     "base_uri": "https://localhost:8080/"
    },
    "id": "Qj4f5DEmE8tK",
    "outputId": "5b9742d3-6924-44ea-8ed7-7cb3857efaf1"
   },
   "outputs": [
    {
     "name": "stdout",
     "output_type": "stream",
     "text": [
      "raw: The capstone project plan was executed [{'label': 'POSITIVE', 'score': 0.9773626923561096}] \n",
      " with terribly: The capstone project plan was terribly executed [{'label': 'NEGATIVE', 'score': 0.9992853999137878}]\n",
      "raw: The capstone project plan was good [{'label': 'POSITIVE', 'score': 0.9996840953826904}] \n",
      " with terribly: The capstone project plan was terribly good [{'label': 'POSITIVE', 'score': 0.9992244243621826}]\n"
     ]
    }
   ],
   "source": [
    "# sentence 1: executed vs. terribly executed\n",
    "result1a = sentiment('The capstone project plan was executed')\n",
    "result1b = sentiment('The capstone project plan was terribly executed')\n",
    "# sentence 2: good vs. with terribly good\n",
    "result2a = sentiment('The capstone project plan was good')\n",
    "result2b = sentiment('The capstone project plan was terribly good')\n",
    "\n",
    "print(\"raw: The capstone project plan was executed\", result1a, \"\\n\", \"with terribly: The capstone project plan was terribly executed\", result1b)\n",
    "print(\"raw: The capstone project plan was good\", result2a, \"\\n\", \"with terribly: The capstone project plan was terribly good\", result2b)\n",
    "# note the different effects of \"terribly\" in the two pairs of sentences\n",
    "# it changed the sentiment in the first one but not the second one,\n",
    "# just as human being would do"
   ]
  },
  {
   "cell_type": "markdown",
   "metadata": {
    "id": "BmtNjE_-_RZ_"
   },
   "source": [
    "**Recap:**\n",
    "*   BERT is a encoding machine that generates numerical representation of raw texts.\n",
    "*   BERT's embeddings are superior to thoes of previous encoding machines because BERT produces contextualized embeddings.\n",
    "\n",
    "\n"
   ]
  },
  {
   "cell_type": "markdown",
   "metadata": {
    "id": "7pVoqHneCjBn"
   },
   "source": [
    "## Load the Raw Dataset\n",
    "now, we've learned the input and output of BERT model. Let's explore how to incoporate BERT model into a traditional neural network and train the model to do the tasks we need.\n",
    "\n",
    "but before that, let's first get the datasets we will work on.\n",
    "\n"
   ]
  },
  {
   "cell_type": "code",
   "execution_count": null,
   "metadata": {
    "id": "XSqzXphJY9k7"
   },
   "outputs": [],
   "source": [
    "url = 'https://raw.githubusercontent.com/tztzwws/sample-data/master/yelp_review_example.csv'\n",
    "raw_review = pd.read_csv(url)"
   ]
  },
  {
   "cell_type": "code",
   "execution_count": null,
   "metadata": {
    "colab": {
     "base_uri": "https://localhost:8080/"
    },
    "id": "vn5a8ImwZCcc",
    "outputId": "26f8eee9-83a6-4d1b-d0c1-a0cbff6e8728"
   },
   "outputs": [
    {
     "name": "stdout",
     "output_type": "stream",
     "text": [
      "(26073, 5)\n",
      "(19062, 5)\n",
      "(16421, 5)\n"
     ]
    },
    {
     "name": "stderr",
     "output_type": "stream",
     "text": [
      "<ipython-input-9-ec979ca2ed0f>:20: SettingWithCopyWarning: \n",
      "A value is trying to be set on a copy of a slice from a DataFrame.\n",
      "Try using .loc[row_indexer,col_indexer] = value instead\n",
      "\n",
      "See the caveats in the documentation: https://pandas.pydata.org/pandas-docs/stable/user_guide/indexing.html#returning-a-view-versus-a-copy\n",
      "  label_review['label'] = label_review.apply(label, axis = 1)\n"
     ]
    }
   ],
   "source": [
    "# drop duplicated rows\n",
    "print(raw_review.shape)\n",
    "raw_review.drop_duplicates(subset = \"text\", inplace = True)\n",
    "print(raw_review.shape)\n",
    "\n",
    "# let's use only 1,2 or 4, 5 stars only\n",
    "label_review = raw_review.loc[raw_review['rate']!=3, :]\n",
    "print(label_review.shape)\n",
    "label_review.rate.unique()\n",
    "\n",
    "# define a function called label, with which we can assign label according to the value of rate\n",
    "def label(row):\n",
    "  if row['rate'] <= 2:\n",
    "    value = 0\n",
    "  else:\n",
    "    value = 1\n",
    "  return value\n",
    "\n",
    "# use apply function to get the label function applied to each row of the label_review dataset\n",
    "label_review['label'] = label_review.apply(label, axis = 1)\n",
    "\n",
    "# create a balanced sample\n",
    "good_review = label_review.loc[label_review['label'] == 1,:].sample(n = 2000)\n",
    "bad_review = label_review.loc[label_review['label'] == 0, :].sample(n = 2000)\n",
    "raw_text = pd.concat([good_review, bad_review])\n"
   ]
  },
  {
   "cell_type": "code",
   "execution_count": null,
   "metadata": {
    "id": "JNNMEcgUGFz6"
   },
   "outputs": [],
   "source": [
    "# first of all, let's input the data\n",
    "# text is the raw textual input we need process, label is the target of our classification task\n",
    "\n",
    "# academic paper abstract data: abstracts of papers on JM and JMR\n",
    "# url = 'https://raw.githubusercontent.com/tztzwws/JM_JMR_Abstract/main/Journal_Abstract.csv'\n",
    "\n",
    "# Yelp Balanced Review Data: 2000 reviews, 4 or 5 star: positive; 1 or 2 star: negative\n",
    "# url = 'https://raw.githubusercontent.com/tztzwws/sample-data/master/yelp_review_balanced.csv'\n",
    "\n",
    "# alternatively, you can also use the CoLA dataset: https://nyu-mll.github.io/CoLA/, The Corpus of Linguistic Acceptability (CoLA)\n",
    "url = 'https://raw.githubusercontent.com/tztzwws/CoLA/main/CoLA.csv'\n",
    "\n",
    "# read Amazon data: need some data cleaning : rating --> rate\n",
    "# url = 'https://raw.githubusercontent.com/tztzwws/amazon_review/master/amazon_review.csv'\n",
    "\n",
    "raw_text = pd.read_csv(url, sep=\",\", encoding ='mac_roman')\n"
   ]
  },
  {
   "cell_type": "code",
   "execution_count": null,
   "metadata": {
    "colab": {
     "base_uri": "https://localhost:8080/"
    },
    "id": "xArmtH8_3a95",
    "outputId": "ac5a68ba-e9f1-46f5-91e0-964807c9878f"
   },
   "outputs": [
    {
     "name": "stdout",
     "output_type": "stream",
     "text": [
      "(4000, 6)\n",
      "(4000, 6)\n"
     ]
    }
   ],
   "source": [
    "# drop duplicated rows\n",
    "print(raw_text.shape)\n",
    "raw_text.drop_duplicates(subset = \"text\", inplace = True)\n",
    "print(raw_text.shape)"
   ]
  },
  {
   "cell_type": "code",
   "execution_count": null,
   "metadata": {
    "id": "Ek4dKcjcK_XY"
   },
   "outputs": [],
   "source": [
    "# create a balanced sample\n",
    "label_review = raw_text\n",
    "good_review = label_review.loc[label_review['label'] == 1,:].sample(n = 2000)\n",
    "bad_review = label_review.loc[label_review['label'] == 0, :].sample(n = 2000)\n",
    "raw_text = pd.concat([good_review, bad_review])"
   ]
  },
  {
   "cell_type": "code",
   "execution_count": null,
   "metadata": {
    "colab": {
     "base_uri": "https://localhost:8080/",
     "height": 300
    },
    "id": "j7SE1zcjXC4y",
    "outputId": "bd7008ea-e4f5-4df1-b284-346da6ea73ff"
   },
   "outputs": [
    {
     "data": {
      "application/vnd.google.colaboratory.intrinsic+json": {
       "summary": "{\n  \"name\": \"raw_text\",\n  \"rows\": 8,\n  \"fields\": [\n    {\n      \"column\": \"rate\",\n      \"properties\": {\n        \"dtype\": \"number\",\n        \"std\": 1413.220796270023,\n        \"min\": 1.0,\n        \"max\": 4000.0,\n        \"num_unique_values\": 6,\n        \"samples\": [\n          4000.0,\n          3.023,\n          5.0\n        ],\n        \"semantic_type\": \"\",\n        \"description\": \"\"\n      }\n    },\n    {\n      \"column\": \"funny\",\n      \"properties\": {\n        \"dtype\": \"number\",\n        \"std\": 1409.0774395069598,\n        \"min\": 0.0,\n        \"max\": 4000.0,\n        \"num_unique_values\": 6,\n        \"samples\": [\n          4000.0,\n          1.3145,\n          103.0\n        ],\n        \"semantic_type\": \"\",\n        \"description\": \"\"\n      }\n    },\n    {\n      \"column\": \"useful\",\n      \"properties\": {\n        \"dtype\": \"number\",\n        \"std\": 1406.2032727799433,\n        \"min\": 0.0,\n        \"max\": 4000.0,\n        \"num_unique_values\": 7,\n        \"samples\": [\n          4000.0,\n          2.54475,\n          2.0\n        ],\n        \"semantic_type\": \"\",\n        \"description\": \"\"\n      }\n    },\n    {\n      \"column\": \"cool\",\n      \"properties\": {\n        \"dtype\": \"number\",\n        \"std\": 1407.363803508118,\n        \"min\": 0.0,\n        \"max\": 4000.0,\n        \"num_unique_values\": 6,\n        \"samples\": [\n          4000.0,\n          1.71075,\n          143.0\n        ],\n        \"semantic_type\": \"\",\n        \"description\": \"\"\n      }\n    },\n    {\n      \"column\": \"label\",\n      \"properties\": {\n        \"dtype\": \"number\",\n        \"std\": 1414.0368330344206,\n        \"min\": 0.0,\n        \"max\": 4000.0,\n        \"num_unique_values\": 5,\n        \"samples\": [\n          0.5,\n          1.0,\n          0.500062511721192\n        ],\n        \"semantic_type\": \"\",\n        \"description\": \"\"\n      }\n    }\n  ]\n}",
       "type": "dataframe"
      },
      "text/html": [
       "\n",
       "  <div id=\"df-9e0b0442-6de0-49ae-9377-6aaf44fd8d28\" class=\"colab-df-container\">\n",
       "    <div>\n",
       "<style scoped>\n",
       "    .dataframe tbody tr th:only-of-type {\n",
       "        vertical-align: middle;\n",
       "    }\n",
       "\n",
       "    .dataframe tbody tr th {\n",
       "        vertical-align: top;\n",
       "    }\n",
       "\n",
       "    .dataframe thead th {\n",
       "        text-align: right;\n",
       "    }\n",
       "</style>\n",
       "<table border=\"1\" class=\"dataframe\">\n",
       "  <thead>\n",
       "    <tr style=\"text-align: right;\">\n",
       "      <th></th>\n",
       "      <th>rate</th>\n",
       "      <th>funny</th>\n",
       "      <th>useful</th>\n",
       "      <th>cool</th>\n",
       "      <th>label</th>\n",
       "    </tr>\n",
       "  </thead>\n",
       "  <tbody>\n",
       "    <tr>\n",
       "      <th>count</th>\n",
       "      <td>4000.000000</td>\n",
       "      <td>4000.000000</td>\n",
       "      <td>4000.000000</td>\n",
       "      <td>4000.000000</td>\n",
       "      <td>4000.000000</td>\n",
       "    </tr>\n",
       "    <tr>\n",
       "      <th>mean</th>\n",
       "      <td>3.023000</td>\n",
       "      <td>1.314500</td>\n",
       "      <td>2.544750</td>\n",
       "      <td>1.710750</td>\n",
       "      <td>0.500000</td>\n",
       "    </tr>\n",
       "    <tr>\n",
       "      <th>std</th>\n",
       "      <td>1.650349</td>\n",
       "      <td>5.301237</td>\n",
       "      <td>8.070798</td>\n",
       "      <td>7.162081</td>\n",
       "      <td>0.500063</td>\n",
       "    </tr>\n",
       "    <tr>\n",
       "      <th>min</th>\n",
       "      <td>1.000000</td>\n",
       "      <td>0.000000</td>\n",
       "      <td>0.000000</td>\n",
       "      <td>0.000000</td>\n",
       "      <td>0.000000</td>\n",
       "    </tr>\n",
       "    <tr>\n",
       "      <th>25%</th>\n",
       "      <td>1.000000</td>\n",
       "      <td>0.000000</td>\n",
       "      <td>0.000000</td>\n",
       "      <td>0.000000</td>\n",
       "      <td>0.000000</td>\n",
       "    </tr>\n",
       "    <tr>\n",
       "      <th>50%</th>\n",
       "      <td>3.000000</td>\n",
       "      <td>0.000000</td>\n",
       "      <td>1.000000</td>\n",
       "      <td>0.000000</td>\n",
       "      <td>0.500000</td>\n",
       "    </tr>\n",
       "    <tr>\n",
       "      <th>75%</th>\n",
       "      <td>5.000000</td>\n",
       "      <td>1.000000</td>\n",
       "      <td>2.000000</td>\n",
       "      <td>1.000000</td>\n",
       "      <td>1.000000</td>\n",
       "    </tr>\n",
       "    <tr>\n",
       "      <th>max</th>\n",
       "      <td>5.000000</td>\n",
       "      <td>103.000000</td>\n",
       "      <td>169.000000</td>\n",
       "      <td>143.000000</td>\n",
       "      <td>1.000000</td>\n",
       "    </tr>\n",
       "  </tbody>\n",
       "</table>\n",
       "</div>\n",
       "    <div class=\"colab-df-buttons\">\n",
       "\n",
       "  <div class=\"colab-df-container\">\n",
       "    <button class=\"colab-df-convert\" onclick=\"convertToInteractive('df-9e0b0442-6de0-49ae-9377-6aaf44fd8d28')\"\n",
       "            title=\"Convert this dataframe to an interactive table.\"\n",
       "            style=\"display:none;\">\n",
       "\n",
       "  <svg xmlns=\"http://www.w3.org/2000/svg\" height=\"24px\" viewBox=\"0 -960 960 960\">\n",
       "    <path d=\"M120-120v-720h720v720H120Zm60-500h600v-160H180v160Zm220 220h160v-160H400v160Zm0 220h160v-160H400v160ZM180-400h160v-160H180v160Zm440 0h160v-160H620v160ZM180-180h160v-160H180v160Zm440 0h160v-160H620v160Z\"/>\n",
       "  </svg>\n",
       "    </button>\n",
       "\n",
       "  <style>\n",
       "    .colab-df-container {\n",
       "      display:flex;\n",
       "      gap: 12px;\n",
       "    }\n",
       "\n",
       "    .colab-df-convert {\n",
       "      background-color: #E8F0FE;\n",
       "      border: none;\n",
       "      border-radius: 50%;\n",
       "      cursor: pointer;\n",
       "      display: none;\n",
       "      fill: #1967D2;\n",
       "      height: 32px;\n",
       "      padding: 0 0 0 0;\n",
       "      width: 32px;\n",
       "    }\n",
       "\n",
       "    .colab-df-convert:hover {\n",
       "      background-color: #E2EBFA;\n",
       "      box-shadow: 0px 1px 2px rgba(60, 64, 67, 0.3), 0px 1px 3px 1px rgba(60, 64, 67, 0.15);\n",
       "      fill: #174EA6;\n",
       "    }\n",
       "\n",
       "    .colab-df-buttons div {\n",
       "      margin-bottom: 4px;\n",
       "    }\n",
       "\n",
       "    [theme=dark] .colab-df-convert {\n",
       "      background-color: #3B4455;\n",
       "      fill: #D2E3FC;\n",
       "    }\n",
       "\n",
       "    [theme=dark] .colab-df-convert:hover {\n",
       "      background-color: #434B5C;\n",
       "      box-shadow: 0px 1px 3px 1px rgba(0, 0, 0, 0.15);\n",
       "      filter: drop-shadow(0px 1px 2px rgba(0, 0, 0, 0.3));\n",
       "      fill: #FFFFFF;\n",
       "    }\n",
       "  </style>\n",
       "\n",
       "    <script>\n",
       "      const buttonEl =\n",
       "        document.querySelector('#df-9e0b0442-6de0-49ae-9377-6aaf44fd8d28 button.colab-df-convert');\n",
       "      buttonEl.style.display =\n",
       "        google.colab.kernel.accessAllowed ? 'block' : 'none';\n",
       "\n",
       "      async function convertToInteractive(key) {\n",
       "        const element = document.querySelector('#df-9e0b0442-6de0-49ae-9377-6aaf44fd8d28');\n",
       "        const dataTable =\n",
       "          await google.colab.kernel.invokeFunction('convertToInteractive',\n",
       "                                                    [key], {});\n",
       "        if (!dataTable) return;\n",
       "\n",
       "        const docLinkHtml = 'Like what you see? Visit the ' +\n",
       "          '<a target=\"_blank\" href=https://colab.research.google.com/notebooks/data_table.ipynb>data table notebook</a>'\n",
       "          + ' to learn more about interactive tables.';\n",
       "        element.innerHTML = '';\n",
       "        dataTable['output_type'] = 'display_data';\n",
       "        await google.colab.output.renderOutput(dataTable, element);\n",
       "        const docLink = document.createElement('div');\n",
       "        docLink.innerHTML = docLinkHtml;\n",
       "        element.appendChild(docLink);\n",
       "      }\n",
       "    </script>\n",
       "  </div>\n",
       "\n",
       "\n",
       "<div id=\"df-7dc0c8fa-90ec-41d2-aff2-4f2b307a2498\">\n",
       "  <button class=\"colab-df-quickchart\" onclick=\"quickchart('df-7dc0c8fa-90ec-41d2-aff2-4f2b307a2498')\"\n",
       "            title=\"Suggest charts\"\n",
       "            style=\"display:none;\">\n",
       "\n",
       "<svg xmlns=\"http://www.w3.org/2000/svg\" height=\"24px\"viewBox=\"0 0 24 24\"\n",
       "     width=\"24px\">\n",
       "    <g>\n",
       "        <path d=\"M19 3H5c-1.1 0-2 .9-2 2v14c0 1.1.9 2 2 2h14c1.1 0 2-.9 2-2V5c0-1.1-.9-2-2-2zM9 17H7v-7h2v7zm4 0h-2V7h2v10zm4 0h-2v-4h2v4z\"/>\n",
       "    </g>\n",
       "</svg>\n",
       "  </button>\n",
       "\n",
       "<style>\n",
       "  .colab-df-quickchart {\n",
       "      --bg-color: #E8F0FE;\n",
       "      --fill-color: #1967D2;\n",
       "      --hover-bg-color: #E2EBFA;\n",
       "      --hover-fill-color: #174EA6;\n",
       "      --disabled-fill-color: #AAA;\n",
       "      --disabled-bg-color: #DDD;\n",
       "  }\n",
       "\n",
       "  [theme=dark] .colab-df-quickchart {\n",
       "      --bg-color: #3B4455;\n",
       "      --fill-color: #D2E3FC;\n",
       "      --hover-bg-color: #434B5C;\n",
       "      --hover-fill-color: #FFFFFF;\n",
       "      --disabled-bg-color: #3B4455;\n",
       "      --disabled-fill-color: #666;\n",
       "  }\n",
       "\n",
       "  .colab-df-quickchart {\n",
       "    background-color: var(--bg-color);\n",
       "    border: none;\n",
       "    border-radius: 50%;\n",
       "    cursor: pointer;\n",
       "    display: none;\n",
       "    fill: var(--fill-color);\n",
       "    height: 32px;\n",
       "    padding: 0;\n",
       "    width: 32px;\n",
       "  }\n",
       "\n",
       "  .colab-df-quickchart:hover {\n",
       "    background-color: var(--hover-bg-color);\n",
       "    box-shadow: 0 1px 2px rgba(60, 64, 67, 0.3), 0 1px 3px 1px rgba(60, 64, 67, 0.15);\n",
       "    fill: var(--button-hover-fill-color);\n",
       "  }\n",
       "\n",
       "  .colab-df-quickchart-complete:disabled,\n",
       "  .colab-df-quickchart-complete:disabled:hover {\n",
       "    background-color: var(--disabled-bg-color);\n",
       "    fill: var(--disabled-fill-color);\n",
       "    box-shadow: none;\n",
       "  }\n",
       "\n",
       "  .colab-df-spinner {\n",
       "    border: 2px solid var(--fill-color);\n",
       "    border-color: transparent;\n",
       "    border-bottom-color: var(--fill-color);\n",
       "    animation:\n",
       "      spin 1s steps(1) infinite;\n",
       "  }\n",
       "\n",
       "  @keyframes spin {\n",
       "    0% {\n",
       "      border-color: transparent;\n",
       "      border-bottom-color: var(--fill-color);\n",
       "      border-left-color: var(--fill-color);\n",
       "    }\n",
       "    20% {\n",
       "      border-color: transparent;\n",
       "      border-left-color: var(--fill-color);\n",
       "      border-top-color: var(--fill-color);\n",
       "    }\n",
       "    30% {\n",
       "      border-color: transparent;\n",
       "      border-left-color: var(--fill-color);\n",
       "      border-top-color: var(--fill-color);\n",
       "      border-right-color: var(--fill-color);\n",
       "    }\n",
       "    40% {\n",
       "      border-color: transparent;\n",
       "      border-right-color: var(--fill-color);\n",
       "      border-top-color: var(--fill-color);\n",
       "    }\n",
       "    60% {\n",
       "      border-color: transparent;\n",
       "      border-right-color: var(--fill-color);\n",
       "    }\n",
       "    80% {\n",
       "      border-color: transparent;\n",
       "      border-right-color: var(--fill-color);\n",
       "      border-bottom-color: var(--fill-color);\n",
       "    }\n",
       "    90% {\n",
       "      border-color: transparent;\n",
       "      border-bottom-color: var(--fill-color);\n",
       "    }\n",
       "  }\n",
       "</style>\n",
       "\n",
       "  <script>\n",
       "    async function quickchart(key) {\n",
       "      const quickchartButtonEl =\n",
       "        document.querySelector('#' + key + ' button');\n",
       "      quickchartButtonEl.disabled = true;  // To prevent multiple clicks.\n",
       "      quickchartButtonEl.classList.add('colab-df-spinner');\n",
       "      try {\n",
       "        const charts = await google.colab.kernel.invokeFunction(\n",
       "            'suggestCharts', [key], {});\n",
       "      } catch (error) {\n",
       "        console.error('Error during call to suggestCharts:', error);\n",
       "      }\n",
       "      quickchartButtonEl.classList.remove('colab-df-spinner');\n",
       "      quickchartButtonEl.classList.add('colab-df-quickchart-complete');\n",
       "    }\n",
       "    (() => {\n",
       "      let quickchartButtonEl =\n",
       "        document.querySelector('#df-7dc0c8fa-90ec-41d2-aff2-4f2b307a2498 button');\n",
       "      quickchartButtonEl.style.display =\n",
       "        google.colab.kernel.accessAllowed ? 'block' : 'none';\n",
       "    })();\n",
       "  </script>\n",
       "</div>\n",
       "\n",
       "    </div>\n",
       "  </div>\n"
      ],
      "text/plain": [
       "              rate        funny       useful         cool        label\n",
       "count  4000.000000  4000.000000  4000.000000  4000.000000  4000.000000\n",
       "mean      3.023000     1.314500     2.544750     1.710750     0.500000\n",
       "std       1.650349     5.301237     8.070798     7.162081     0.500063\n",
       "min       1.000000     0.000000     0.000000     0.000000     0.000000\n",
       "25%       1.000000     0.000000     0.000000     0.000000     0.000000\n",
       "50%       3.000000     0.000000     1.000000     0.000000     0.500000\n",
       "75%       5.000000     1.000000     2.000000     1.000000     1.000000\n",
       "max       5.000000   103.000000   169.000000   143.000000     1.000000"
      ]
     },
     "execution_count": 12,
     "metadata": {},
     "output_type": "execute_result"
    }
   ],
   "source": [
    "raw_text.describe()"
   ]
  },
  {
   "cell_type": "code",
   "execution_count": null,
   "metadata": {
    "colab": {
     "base_uri": "https://localhost:8080/",
     "height": 332
    },
    "id": "h94SPgYC2QGn",
    "outputId": "c1c6fc19-e7a8-4e19-e873-24c0afb182e5"
   },
   "outputs": [
    {
     "data": {
      "application/vnd.google.colaboratory.intrinsic+json": {
       "summary": "{\n  \"name\": \"raw_text\",\n  \"rows\": 9,\n  \"fields\": [\n    {\n      \"column\": \"text\",\n      \"properties\": {\n        \"dtype\": \"string\",\n        \"num_unique_values\": 9,\n        \"samples\": [\n          \"My husband and I came for happy hour on a Friday night and we were very impressed by the food but underwhelmed with the service. We got a server in training who is been shadowed by someone with more experience and we had to ask for refills on our drinks and we had to ask for an order to be taken. I understand this is not the norm, but I did think it was strange that our food and refills were brought to us by someone from the kitchen and not our server. I asked if I could tip him and he said they share tips which makes me feel better.\\n\\nWe had the fries, taquitos, cheese curds, and the bacon mac & cheese. The fries were on the plane side but they were thick and a very potatoey. The cheese curds were delicious... Can't go wrong with cheese curds. The bacon mac & cheese was very unique and came out in a mini cast-iron skillet. It looked like it had been blackened and made crispy on the skillet and had a charred but not burnt flavor.\\n\\nMy husband went rogue and ordered off the regular menu instead of happy hour and got the Pittsburgh cheesesteak sandwich. He ate every last bite and really enjoyed it.\\n\\nWe will definitely be back for the food, I just hope we get to server that knows what they're doing.\\ndoing\",\n          \"Holly Molly! I had been meaning to dine here since forever and I'm so glad I got to try it out last night.\\n\\nAmbience: Lovely and lively. The music was peppy and the place was bustling.\\n\\nDrinks: We had the pina colada, mango mojito, mango harbanera, dark and stormy, coconut mule and plantation punch. The colada and mojito were absolutely phenomenal. The other drinks were good too I just enjoyed these two the most.\\n\\nAppetizers: We had the coconut shrimp, spinach and corn fritters and the curried crab bread. The shrimp and fritters were delectable, the crab bread although yum had a very strong crab flavor.\\n\\nMains: JERK CHICKEN all the way!! The most flavorful, tender and juicy pieces of chicken I've had. Followed by the curry goat which was surprisingly very close to an indian curry.\\n\\nWasn't expecting this but the beans and rice are like a warm blanket on a cold night. The fat in the oil tied it so well together that I could eat it for days.\\n\\nAlso, the portions are huge! \\n\\nP.S. I found a piece of plastic in my food. On informing my server, she was quick to apologize and also took it off the bill for us. In other cases, this would be an absolute deal breaker for me. But honestly, the food was one of the best I've had.\\n\\nWill be back many many more times!\",\n          \"Love this beautiful space and lovely people. Always had a great meal, and that's most important obviously, but the good doesn't stop there. \\nEveryone, bartender, hostess, server, cooks in the back, everyone, brings that happy vibe and great attitude whenever we get a chance to stop in. I haven't been to the Polk street location yet, this spot is just too good to stray away from. \\n\\nVery proud of how far they have come since their opening. So come on through and enjoy years of loving care and delicious food.\"\n        ],\n        \"semantic_type\": \"\",\n        \"description\": \"\"\n      }\n    },\n    {\n      \"column\": \"rate\",\n      \"properties\": {\n        \"dtype\": \"number\",\n        \"std\": 0,\n        \"min\": 4,\n        \"max\": 5,\n        \"num_unique_values\": 2,\n        \"samples\": [\n          4,\n          5\n        ],\n        \"semantic_type\": \"\",\n        \"description\": \"\"\n      }\n    },\n    {\n      \"column\": \"funny\",\n      \"properties\": {\n        \"dtype\": \"number\",\n        \"std\": 1,\n        \"min\": 0,\n        \"max\": 3,\n        \"num_unique_values\": 3,\n        \"samples\": [\n          0,\n          1\n        ],\n        \"semantic_type\": \"\",\n        \"description\": \"\"\n      }\n    },\n    {\n      \"column\": \"useful\",\n      \"properties\": {\n        \"dtype\": \"number\",\n        \"std\": 1,\n        \"min\": 0,\n        \"max\": 4,\n        \"num_unique_values\": 3,\n        \"samples\": [\n          0,\n          1\n        ],\n        \"semantic_type\": \"\",\n        \"description\": \"\"\n      }\n    },\n    {\n      \"column\": \"cool\",\n      \"properties\": {\n        \"dtype\": \"number\",\n        \"std\": 1,\n        \"min\": 0,\n        \"max\": 4,\n        \"num_unique_values\": 4,\n        \"samples\": [\n          2,\n          4\n        ],\n        \"semantic_type\": \"\",\n        \"description\": \"\"\n      }\n    },\n    {\n      \"column\": \"label\",\n      \"properties\": {\n        \"dtype\": \"number\",\n        \"std\": 0,\n        \"min\": 1,\n        \"max\": 1,\n        \"num_unique_values\": 1,\n        \"samples\": [\n          1\n        ],\n        \"semantic_type\": \"\",\n        \"description\": \"\"\n      }\n    }\n  ]\n}",
       "type": "dataframe"
      },
      "text/html": [
       "\n",
       "  <div id=\"df-f6eab8f3-1c24-4bfe-ac83-c19e8065fb28\" class=\"colab-df-container\">\n",
       "    <div>\n",
       "<style scoped>\n",
       "    .dataframe tbody tr th:only-of-type {\n",
       "        vertical-align: middle;\n",
       "    }\n",
       "\n",
       "    .dataframe tbody tr th {\n",
       "        vertical-align: top;\n",
       "    }\n",
       "\n",
       "    .dataframe thead th {\n",
       "        text-align: right;\n",
       "    }\n",
       "</style>\n",
       "<table border=\"1\" class=\"dataframe\">\n",
       "  <thead>\n",
       "    <tr style=\"text-align: right;\">\n",
       "      <th></th>\n",
       "      <th>text</th>\n",
       "      <th>rate</th>\n",
       "      <th>funny</th>\n",
       "      <th>useful</th>\n",
       "      <th>cool</th>\n",
       "      <th>label</th>\n",
       "    </tr>\n",
       "  </thead>\n",
       "  <tbody>\n",
       "    <tr>\n",
       "      <th>14537</th>\n",
       "      <td>It's about time the Gyro Gods brought some ser...</td>\n",
       "      <td>5</td>\n",
       "      <td>0</td>\n",
       "      <td>0</td>\n",
       "      <td>0</td>\n",
       "      <td>1</td>\n",
       "    </tr>\n",
       "    <tr>\n",
       "      <th>6318</th>\n",
       "      <td>Holly Molly! I had been meaning to dine here s...</td>\n",
       "      <td>5</td>\n",
       "      <td>0</td>\n",
       "      <td>0</td>\n",
       "      <td>2</td>\n",
       "      <td>1</td>\n",
       "    </tr>\n",
       "    <tr>\n",
       "      <th>20321</th>\n",
       "      <td>Love this place. Excellent burgers and fries. ...</td>\n",
       "      <td>4</td>\n",
       "      <td>1</td>\n",
       "      <td>1</td>\n",
       "      <td>1</td>\n",
       "      <td>1</td>\n",
       "    </tr>\n",
       "    <tr>\n",
       "      <th>7</th>\n",
       "      <td>This place was so awesome! We had US wagyu, no...</td>\n",
       "      <td>5</td>\n",
       "      <td>0</td>\n",
       "      <td>1</td>\n",
       "      <td>1</td>\n",
       "      <td>1</td>\n",
       "    </tr>\n",
       "    <tr>\n",
       "      <th>13397</th>\n",
       "      <td>I had the best burger in awhile here. The patt...</td>\n",
       "      <td>5</td>\n",
       "      <td>0</td>\n",
       "      <td>0</td>\n",
       "      <td>0</td>\n",
       "      <td>1</td>\n",
       "    </tr>\n",
       "    <tr>\n",
       "      <th>21649</th>\n",
       "      <td>Love this beautiful space and lovely people. A...</td>\n",
       "      <td>5</td>\n",
       "      <td>0</td>\n",
       "      <td>0</td>\n",
       "      <td>0</td>\n",
       "      <td>1</td>\n",
       "    </tr>\n",
       "    <tr>\n",
       "      <th>6638</th>\n",
       "      <td>We came here on Cinco de Mayo after being told...</td>\n",
       "      <td>4</td>\n",
       "      <td>0</td>\n",
       "      <td>1</td>\n",
       "      <td>1</td>\n",
       "      <td>1</td>\n",
       "    </tr>\n",
       "    <tr>\n",
       "      <th>18569</th>\n",
       "      <td>My husband and I came for happy hour on a Frid...</td>\n",
       "      <td>4</td>\n",
       "      <td>3</td>\n",
       "      <td>4</td>\n",
       "      <td>4</td>\n",
       "      <td>1</td>\n",
       "    </tr>\n",
       "    <tr>\n",
       "      <th>20824</th>\n",
       "      <td>Updated review: Pablo the manager reached out ...</td>\n",
       "      <td>5</td>\n",
       "      <td>0</td>\n",
       "      <td>0</td>\n",
       "      <td>0</td>\n",
       "      <td>1</td>\n",
       "    </tr>\n",
       "  </tbody>\n",
       "</table>\n",
       "</div>\n",
       "    <div class=\"colab-df-buttons\">\n",
       "\n",
       "  <div class=\"colab-df-container\">\n",
       "    <button class=\"colab-df-convert\" onclick=\"convertToInteractive('df-f6eab8f3-1c24-4bfe-ac83-c19e8065fb28')\"\n",
       "            title=\"Convert this dataframe to an interactive table.\"\n",
       "            style=\"display:none;\">\n",
       "\n",
       "  <svg xmlns=\"http://www.w3.org/2000/svg\" height=\"24px\" viewBox=\"0 -960 960 960\">\n",
       "    <path d=\"M120-120v-720h720v720H120Zm60-500h600v-160H180v160Zm220 220h160v-160H400v160Zm0 220h160v-160H400v160ZM180-400h160v-160H180v160Zm440 0h160v-160H620v160ZM180-180h160v-160H180v160Zm440 0h160v-160H620v160Z\"/>\n",
       "  </svg>\n",
       "    </button>\n",
       "\n",
       "  <style>\n",
       "    .colab-df-container {\n",
       "      display:flex;\n",
       "      gap: 12px;\n",
       "    }\n",
       "\n",
       "    .colab-df-convert {\n",
       "      background-color: #E8F0FE;\n",
       "      border: none;\n",
       "      border-radius: 50%;\n",
       "      cursor: pointer;\n",
       "      display: none;\n",
       "      fill: #1967D2;\n",
       "      height: 32px;\n",
       "      padding: 0 0 0 0;\n",
       "      width: 32px;\n",
       "    }\n",
       "\n",
       "    .colab-df-convert:hover {\n",
       "      background-color: #E2EBFA;\n",
       "      box-shadow: 0px 1px 2px rgba(60, 64, 67, 0.3), 0px 1px 3px 1px rgba(60, 64, 67, 0.15);\n",
       "      fill: #174EA6;\n",
       "    }\n",
       "\n",
       "    .colab-df-buttons div {\n",
       "      margin-bottom: 4px;\n",
       "    }\n",
       "\n",
       "    [theme=dark] .colab-df-convert {\n",
       "      background-color: #3B4455;\n",
       "      fill: #D2E3FC;\n",
       "    }\n",
       "\n",
       "    [theme=dark] .colab-df-convert:hover {\n",
       "      background-color: #434B5C;\n",
       "      box-shadow: 0px 1px 3px 1px rgba(0, 0, 0, 0.15);\n",
       "      filter: drop-shadow(0px 1px 2px rgba(0, 0, 0, 0.3));\n",
       "      fill: #FFFFFF;\n",
       "    }\n",
       "  </style>\n",
       "\n",
       "    <script>\n",
       "      const buttonEl =\n",
       "        document.querySelector('#df-f6eab8f3-1c24-4bfe-ac83-c19e8065fb28 button.colab-df-convert');\n",
       "      buttonEl.style.display =\n",
       "        google.colab.kernel.accessAllowed ? 'block' : 'none';\n",
       "\n",
       "      async function convertToInteractive(key) {\n",
       "        const element = document.querySelector('#df-f6eab8f3-1c24-4bfe-ac83-c19e8065fb28');\n",
       "        const dataTable =\n",
       "          await google.colab.kernel.invokeFunction('convertToInteractive',\n",
       "                                                    [key], {});\n",
       "        if (!dataTable) return;\n",
       "\n",
       "        const docLinkHtml = 'Like what you see? Visit the ' +\n",
       "          '<a target=\"_blank\" href=https://colab.research.google.com/notebooks/data_table.ipynb>data table notebook</a>'\n",
       "          + ' to learn more about interactive tables.';\n",
       "        element.innerHTML = '';\n",
       "        dataTable['output_type'] = 'display_data';\n",
       "        await google.colab.output.renderOutput(dataTable, element);\n",
       "        const docLink = document.createElement('div');\n",
       "        docLink.innerHTML = docLinkHtml;\n",
       "        element.appendChild(docLink);\n",
       "      }\n",
       "    </script>\n",
       "  </div>\n",
       "\n",
       "\n",
       "<div id=\"df-7cea951e-c8fc-49b1-b47d-0b1ab8be475e\">\n",
       "  <button class=\"colab-df-quickchart\" onclick=\"quickchart('df-7cea951e-c8fc-49b1-b47d-0b1ab8be475e')\"\n",
       "            title=\"Suggest charts\"\n",
       "            style=\"display:none;\">\n",
       "\n",
       "<svg xmlns=\"http://www.w3.org/2000/svg\" height=\"24px\"viewBox=\"0 0 24 24\"\n",
       "     width=\"24px\">\n",
       "    <g>\n",
       "        <path d=\"M19 3H5c-1.1 0-2 .9-2 2v14c0 1.1.9 2 2 2h14c1.1 0 2-.9 2-2V5c0-1.1-.9-2-2-2zM9 17H7v-7h2v7zm4 0h-2V7h2v10zm4 0h-2v-4h2v4z\"/>\n",
       "    </g>\n",
       "</svg>\n",
       "  </button>\n",
       "\n",
       "<style>\n",
       "  .colab-df-quickchart {\n",
       "      --bg-color: #E8F0FE;\n",
       "      --fill-color: #1967D2;\n",
       "      --hover-bg-color: #E2EBFA;\n",
       "      --hover-fill-color: #174EA6;\n",
       "      --disabled-fill-color: #AAA;\n",
       "      --disabled-bg-color: #DDD;\n",
       "  }\n",
       "\n",
       "  [theme=dark] .colab-df-quickchart {\n",
       "      --bg-color: #3B4455;\n",
       "      --fill-color: #D2E3FC;\n",
       "      --hover-bg-color: #434B5C;\n",
       "      --hover-fill-color: #FFFFFF;\n",
       "      --disabled-bg-color: #3B4455;\n",
       "      --disabled-fill-color: #666;\n",
       "  }\n",
       "\n",
       "  .colab-df-quickchart {\n",
       "    background-color: var(--bg-color);\n",
       "    border: none;\n",
       "    border-radius: 50%;\n",
       "    cursor: pointer;\n",
       "    display: none;\n",
       "    fill: var(--fill-color);\n",
       "    height: 32px;\n",
       "    padding: 0;\n",
       "    width: 32px;\n",
       "  }\n",
       "\n",
       "  .colab-df-quickchart:hover {\n",
       "    background-color: var(--hover-bg-color);\n",
       "    box-shadow: 0 1px 2px rgba(60, 64, 67, 0.3), 0 1px 3px 1px rgba(60, 64, 67, 0.15);\n",
       "    fill: var(--button-hover-fill-color);\n",
       "  }\n",
       "\n",
       "  .colab-df-quickchart-complete:disabled,\n",
       "  .colab-df-quickchart-complete:disabled:hover {\n",
       "    background-color: var(--disabled-bg-color);\n",
       "    fill: var(--disabled-fill-color);\n",
       "    box-shadow: none;\n",
       "  }\n",
       "\n",
       "  .colab-df-spinner {\n",
       "    border: 2px solid var(--fill-color);\n",
       "    border-color: transparent;\n",
       "    border-bottom-color: var(--fill-color);\n",
       "    animation:\n",
       "      spin 1s steps(1) infinite;\n",
       "  }\n",
       "\n",
       "  @keyframes spin {\n",
       "    0% {\n",
       "      border-color: transparent;\n",
       "      border-bottom-color: var(--fill-color);\n",
       "      border-left-color: var(--fill-color);\n",
       "    }\n",
       "    20% {\n",
       "      border-color: transparent;\n",
       "      border-left-color: var(--fill-color);\n",
       "      border-top-color: var(--fill-color);\n",
       "    }\n",
       "    30% {\n",
       "      border-color: transparent;\n",
       "      border-left-color: var(--fill-color);\n",
       "      border-top-color: var(--fill-color);\n",
       "      border-right-color: var(--fill-color);\n",
       "    }\n",
       "    40% {\n",
       "      border-color: transparent;\n",
       "      border-right-color: var(--fill-color);\n",
       "      border-top-color: var(--fill-color);\n",
       "    }\n",
       "    60% {\n",
       "      border-color: transparent;\n",
       "      border-right-color: var(--fill-color);\n",
       "    }\n",
       "    80% {\n",
       "      border-color: transparent;\n",
       "      border-right-color: var(--fill-color);\n",
       "      border-bottom-color: var(--fill-color);\n",
       "    }\n",
       "    90% {\n",
       "      border-color: transparent;\n",
       "      border-bottom-color: var(--fill-color);\n",
       "    }\n",
       "  }\n",
       "</style>\n",
       "\n",
       "  <script>\n",
       "    async function quickchart(key) {\n",
       "      const quickchartButtonEl =\n",
       "        document.querySelector('#' + key + ' button');\n",
       "      quickchartButtonEl.disabled = true;  // To prevent multiple clicks.\n",
       "      quickchartButtonEl.classList.add('colab-df-spinner');\n",
       "      try {\n",
       "        const charts = await google.colab.kernel.invokeFunction(\n",
       "            'suggestCharts', [key], {});\n",
       "      } catch (error) {\n",
       "        console.error('Error during call to suggestCharts:', error);\n",
       "      }\n",
       "      quickchartButtonEl.classList.remove('colab-df-spinner');\n",
       "      quickchartButtonEl.classList.add('colab-df-quickchart-complete');\n",
       "    }\n",
       "    (() => {\n",
       "      let quickchartButtonEl =\n",
       "        document.querySelector('#df-7cea951e-c8fc-49b1-b47d-0b1ab8be475e button');\n",
       "      quickchartButtonEl.style.display =\n",
       "        google.colab.kernel.accessAllowed ? 'block' : 'none';\n",
       "    })();\n",
       "  </script>\n",
       "</div>\n",
       "\n",
       "    </div>\n",
       "  </div>\n"
      ],
      "text/plain": [
       "                                                    text  rate  funny  useful  \\\n",
       "14537  It's about time the Gyro Gods brought some ser...     5      0       0   \n",
       "6318   Holly Molly! I had been meaning to dine here s...     5      0       0   \n",
       "20321  Love this place. Excellent burgers and fries. ...     4      1       1   \n",
       "7      This place was so awesome! We had US wagyu, no...     5      0       1   \n",
       "13397  I had the best burger in awhile here. The patt...     5      0       0   \n",
       "21649  Love this beautiful space and lovely people. A...     5      0       0   \n",
       "6638   We came here on Cinco de Mayo after being told...     4      0       1   \n",
       "18569  My husband and I came for happy hour on a Frid...     4      3       4   \n",
       "20824  Updated review: Pablo the manager reached out ...     5      0       0   \n",
       "\n",
       "       cool  label  \n",
       "14537     0      1  \n",
       "6318      2      1  \n",
       "20321     1      1  \n",
       "7         1      1  \n",
       "13397     0      1  \n",
       "21649     0      1  \n",
       "6638      1      1  \n",
       "18569     4      1  \n",
       "20824     0      1  "
      ]
     },
     "execution_count": 13,
     "metadata": {},
     "output_type": "execute_result"
    }
   ],
   "source": [
    "raw_text.iloc[11:20,:]"
   ]
  },
  {
   "cell_type": "markdown",
   "metadata": {
    "id": "GHSbKo3q6247"
   },
   "source": [
    "**Recap:**\n",
    "Now, we got the dataset ready, we then could start to train a BERT + Neural Network Classification model, here are some main steps:\n",
    "1.   Create an instance of Dataset and Dataloader to pre-process the data before feed it into a neural network\n",
    "2.   Create a neural network\n",
    "3.   Set up the loop for training and validating the model\n",
    "\n",
    "\n"
   ]
  },
  {
   "cell_type": "markdown",
   "metadata": {
    "id": "513Gaudcu56u"
   },
   "source": [
    "## Customized Dataset Class and Dataloader\n",
    "Next Steps:\n",
    "* Get Raw Dataset\n",
    "* Feed the Raw Dataset into a Neural Network (NN) for Classification\n",
    "  * Layer 1 of the NN: text_to_number to transfer raw texts into numerical vector\n",
    "\n"
   ]
  },
  {
   "cell_type": "markdown",
   "metadata": {
    "id": "2-Y4ZsxSb6AW"
   },
   "source": [
    "### 1. Create a customized dataset\n",
    "  * To save GPU RAM, we could not dump all raw data into GUP; we can only feed in samll batches. Thus, we need to utilize two functions **Dataset** and **Dataloader** to pre-process the raw data and schedule them into batches."
   ]
  },
  {
   "cell_type": "code",
   "execution_count": null,
   "metadata": {
    "id": "APMXoM-b81B4"
   },
   "outputs": [],
   "source": [
    "# import the libraries we need\n",
    "import numpy as np\n",
    "from torch.utils.data import Dataset, DataLoader, RandomSampler, SequentialSampler"
   ]
  },
  {
   "cell_type": "markdown",
   "metadata": {
    "id": "5qolFGc1WVoa"
   },
   "source": [
    "Here we want to  create a customized Dataset--TextDataset--which could take a raw texts as inputs and encode them in BERT's way with a tokenizer.\n",
    "\n",
    "The embeded inputs will be then fed into a BERT Model in the NN, which we will create later\n",
    "\n",
    "To learn more about Dataset and Dataloader: https://pytorch.org/tutorials/beginner/data_loading_tutorial.html"
   ]
  },
  {
   "cell_type": "code",
   "execution_count": null,
   "metadata": {
    "id": "5zOBRz6rvwfh"
   },
   "outputs": [],
   "source": [
    "class TextDataset(Dataset):\n",
    "\n",
    "  # __init__ is a built-in function that defines some necessary attributes for any instance created\n",
    "  # such as: the dataset with raw text reviews, what tokenizer we want to use for encoding,\n",
    "  # the max length of sentence we need to pad or trancate\n",
    "  def __init__(self, dataset, tokenizer, max_len):\n",
    "    self.tokenizer = tokenizer\n",
    "    self.data = dataset\n",
    "    self.text = dataset.text\n",
    "    self.label = dataset.label\n",
    "    self.max_len = max_len\n",
    "\n",
    "  def __len__(self):\n",
    "    return len(self.text)\n",
    "\n",
    "\n",
    "  def __getitem__(self, index):\n",
    "    # __getitem__ is another built-in fucntion take 'index' (e.g., row id) as input,\n",
    "    # in general/without customizatin, it returns the sample of a specific index in the dataset\n",
    "    # further we could customize its functionality,\n",
    "    # making it apply some operations on sample of the specific index\n",
    "    # here we use index to locate a specific raw text we want to pre-process\n",
    "    text = self.text.iloc[index]\n",
    "\n",
    "    # then, we put the text into a BERT's encode_plus function\n",
    "    # important debug tips:\n",
    "    # for encode_plus, to keep all the raw inputs in the same length\n",
    "    # we need to specify BOTH padding and trancation in addition to max_length\n",
    "    # the former for short sentences and the latter for long ones\n",
    "    # failing to do either one will result in uneven lengths of encoded inputs,\n",
    "    # which will create troubles for your Dataloader in the NN training sessions\n",
    "    outputs = self.tokenizer.encode_plus(\n",
    "        text,\n",
    "        max_length = self.max_len,\n",
    "        padding = \"max_length\",\n",
    "        truncation = \"longest_first\",\n",
    "        # note that in some versions of transformer in you local machine, the code should be\n",
    "        # pad_to_max_length = True,\n",
    "        # truncation_strategy = 'longest_first',\n",
    "        # we might need to change the argument name a little to fit different version of transformers\n",
    "        add_special_tokens = True,\n",
    "        return_tensors = 'pt'\n",
    "    )\n",
    "\n",
    "\n",
    "    # recall the BERT Tokenizer session, it takes raw text as input\n",
    "    # and return input_ids, attention_mask as inputs for BERT model\n",
    "    input_ids = outputs['input_ids']\n",
    "    attention_mask = outputs['attention_mask']\n",
    "    # we then store those values and put them together with the label info (the truth we want to predict) in the sample\n",
    "    # as the return of the __getitem__ method\n",
    "    # note that we use torch.tensor() function to make the vectors above into tensors\n",
    "    return {\n",
    "        'input_ids': torch.tensor(input_ids, dtype = torch.long),\n",
    "        'attention_mask': torch.tensor(attention_mask, dtype = torch.long),\n",
    "        'label': torch.tensor(self.label.iloc[index], dtype = torch.float)\n",
    "    }\n",
    "\n"
   ]
  },
  {
   "cell_type": "markdown",
   "metadata": {
    "id": "XoLNeiOIXzds"
   },
   "source": [
    "\n",
    "After create a customized Dataset class **TextDataset** to pre-process the raw data for neural network training. We need then:\n",
    "  * Split raw data into the train and validate dataset\n",
    "  * Feed the raw train and validation datasets into TextDataset to get pre-processed train and validation datasets\n",
    "  * Feed the pre-processed train and validation datasets into a Dataloader to create the schedule to feed them into the neural network whoes first layer is a BERT model (i.e., text_to_number).\n",
    "\n",
    "\n"
   ]
  },
  {
   "cell_type": "markdown",
   "metadata": {
    "id": "OOZ3aAM3bHyF"
   },
   "source": [
    "### 2. Split the raw dataset\n",
    "Split raw data into the train and validate dataset"
   ]
  },
  {
   "cell_type": "code",
   "execution_count": null,
   "metadata": {
    "id": "tZLP1R7vBuKL"
   },
   "outputs": [],
   "source": [
    "# test_size argument in the function specify the percentage dividion between train and test datasets.\n",
    "from sklearn.model_selection import train_test_split\n",
    "train_raw, valid_raw = train_test_split(raw_text, test_size = 0.1)"
   ]
  },
  {
   "cell_type": "markdown",
   "metadata": {
    "id": "Hni98ULgbgSr"
   },
   "source": [
    "### 3. Feed Data into TextDataset\n",
    "Feed the raw train and validation datasets into TextDataset to get pre-processed train and validation datasets"
   ]
  },
  {
   "cell_type": "code",
   "execution_count": null,
   "metadata": {
    "id": "98ckPu4WQZMu"
   },
   "outputs": [],
   "source": [
    "# first let's define some key parameters we will use later\n",
    "# maximum length of raw text to be processed\n",
    "max_length = 64\n",
    "# bath size (# of raw inputs) for training and validation\n",
    "train_batch = 64\n",
    "valid_batch = 32\n",
    "\n",
    "# tpis: set the values of key parameters at the very begining and define them only once"
   ]
  },
  {
   "cell_type": "code",
   "execution_count": null,
   "metadata": {
    "id": "eRqVwGM5v2_d"
   },
   "outputs": [],
   "source": [
    "# create instances of the TextDataset for raw trianing and validate datasets\n",
    "# recall that tokenizer has be defined by: tokenizer = BertTokenizer.from_pretrained('bert-base-uncased') in the BERT tokenizer session\n",
    "train_processed = TextDataset(train_raw, tokenizer, max_length)\n",
    "valid_processed = TextDataset(valid_raw, tokenizer, max_length)"
   ]
  },
  {
   "cell_type": "code",
   "execution_count": null,
   "metadata": {
    "colab": {
     "base_uri": "https://localhost:8080/"
    },
    "id": "s7HaY0bQCTXw",
    "outputId": "281c2f34-df79-4876-cbe8-8bd2f69512e8"
   },
   "outputs": [
    {
     "name": "stdout",
     "output_type": "stream",
     "text": [
      "text      I'm in love the El Jefe Taco al Pastor. Loaded...\n",
      "rate                                                      5\n",
      "funny                                                     0\n",
      "useful                                                    0\n",
      "cool                                                      0\n",
      "label                                                     1\n",
      "Name: 14864, dtype: object\n",
      "{'input_ids': tensor([[  101,  1045,  1005,  1049,  1999,  2293,  1996,  3449, 15333,  7959,\n",
      "         11937,  3597,  2632,  9220,  1012,  8209,  2007,  6240,  1010, 13020,\n",
      "         18178,  2229,  2100, 12476,  2791,  1012,  2307, 16310,  1997, 26509,\n",
      "          2007,  6197,  1997, 14894,  1037,  3819, 25025,  1997, 25482,  2504,\n",
      "          1012,  4067,  2017, 11937, 13186,  3449,  4012,  4502,  2053, 27263,\n",
      "          2015,  2001,  2205,  7501,  2000,  3524,  2005,  1996,  3819,  2915,\n",
      "          1012,   102,     0,     0]]), 'attention_mask': tensor([[1, 1, 1, 1, 1, 1, 1, 1, 1, 1, 1, 1, 1, 1, 1, 1, 1, 1, 1, 1, 1, 1, 1, 1,\n",
      "         1, 1, 1, 1, 1, 1, 1, 1, 1, 1, 1, 1, 1, 1, 1, 1, 1, 1, 1, 1, 1, 1, 1, 1,\n",
      "         1, 1, 1, 1, 1, 1, 1, 1, 1, 1, 1, 1, 1, 1, 0, 0]]), 'label': tensor(1.)}\n"
     ]
    },
    {
     "name": "stderr",
     "output_type": "stream",
     "text": [
      "<ipython-input-16-0a9305b5c0ef>:54: UserWarning: To copy construct from a tensor, it is recommended to use sourceTensor.clone().detach() or sourceTensor.clone().detach().requires_grad_(True), rather than torch.tensor(sourceTensor).\n",
      "  'input_ids': torch.tensor(input_ids, dtype = torch.long),\n",
      "<ipython-input-16-0a9305b5c0ef>:55: UserWarning: To copy construct from a tensor, it is recommended to use sourceTensor.clone().detach() or sourceTensor.clone().detach().requires_grad_(True), rather than torch.tensor(sourceTensor).\n",
      "  'attention_mask': torch.tensor(attention_mask, dtype = torch.long),\n"
     ]
    }
   ],
   "source": [
    "# compare the raw and pre-processed data\n",
    "# in this case, we fetch the observation with index = 10\n",
    "# see the raw text\n",
    "print(valid_processed.data.iloc[10, ])\n",
    "# see the pre-processed text, i.e., the raw text input is tokenized)\n",
    "print(valid_processed.__getitem__(10))"
   ]
  },
  {
   "cell_type": "markdown",
   "metadata": {
    "id": "YaCZ-5wTcQXB"
   },
   "source": [
    "### 4. Feed data into dataloader\n",
    "Feed the pre-processed train and validation datasets into a Dataloader to create the schedule to feed them into the neural network whoes first layer is a BERT model (i.e., text_to_number).\n"
   ]
  },
  {
   "cell_type": "code",
   "execution_count": null,
   "metadata": {
    "id": "k4T7kvxJEpZX"
   },
   "outputs": [],
   "source": [
    "# lastly, set up the dataloader that serves as a pipeline feeding pre-processed data into the neural network\n",
    "# the process needs to specify a sampler first\n",
    "train_sampler = RandomSampler(train_processed)\n",
    "train_loader = DataLoader(train_processed, sampler = train_sampler, batch_size = train_batch, num_workers = 0)\n",
    "valid_sampler = SequentialSampler(valid_processed)\n",
    "valid_loader = DataLoader(valid_processed, sampler = valid_sampler, batch_size = valid_batch, num_workers = 0)"
   ]
  },
  {
   "cell_type": "code",
   "execution_count": null,
   "metadata": {
    "colab": {
     "base_uri": "https://localhost:8080/"
    },
    "id": "Gl3urqqxHeH9",
    "outputId": "43421ebc-4f40-4a73-944f-f728e91657b0"
   },
   "outputs": [
    {
     "name": "stdout",
     "output_type": "stream",
     "text": [
      "57\n",
      "13\n"
     ]
    }
   ],
   "source": [
    "# exploer the attributes of dataloder\n",
    "# length of dataloader = len(dataset)/batch size\n",
    "print(len(train_loader))\n",
    "print(len(valid_loader))\n"
   ]
  },
  {
   "cell_type": "markdown",
   "metadata": {
    "id": "JAL0zZ5zdVoz"
   },
   "source": [
    "\n",
    "**Recap:**\n",
    "  * Up to now, we have defined a customized Dataset instance to pre-process the raw input, encoding them into input_ids and attention_mask that BERT model needs.\n",
    "\n",
    "  * We also set up the Dataloader that feed the pre-processed data into the neural network we are about create now."
   ]
  },
  {
   "cell_type": "markdown",
   "metadata": {
    "id": "B4yLzjne6Tm6"
   },
   "source": [
    "## Define a Neural Network\n",
    "Define a customized neural network with the first hidden layer being a BERT encoding layer to transform raw text into numerical representations.\n",
    "\n",
    "The visualization below helps you understand the structure of the program.\n"
   ]
  },
  {
   "cell_type": "markdown",
   "metadata": {
    "id": "g5qDayuHTmRp"
   },
   "source": [
    "![BERT + NN.png](data:image/png;base64,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)"
   ]
  },
  {
   "cell_type": "code",
   "execution_count": null,
   "metadata": {
    "id": "oGetmmKNafv5"
   },
   "outputs": [],
   "source": [
    "# import the functions we need use in the neural netwrok Model\n",
    "import torch.nn.functional as F"
   ]
  },
  {
   "cell_type": "code",
   "execution_count": null,
   "metadata": {
    "id": "Ld8Oqz5Jv43c"
   },
   "outputs": [],
   "source": [
    "# the neural network we create is a class called  TextBERT, which inherits\n",
    "# the attributes and structures of the torch.nn.Module\n",
    "\n",
    "# the __init__ functino defines the necessary hidden layers of the NN\n",
    "# and the forward function set up the computation graph: the real calculation procedures of the NN\n",
    "\n",
    "\n",
    "class TextBERT(torch.nn.Module):\n",
    "  def __init__(self):\n",
    "    super(TextBERT, self).__init__()\n",
    "    # the first layer is the BERT Model layer\n",
    "    # recall that, we have defined model as: text_to_number = BertModel.from_pretrained('bert-base-uncased')\n",
    "    # see BERT Model's input and output: https://huggingface.co/transformers/model_doc/bert.html#bertmodel\n",
    "    self.l1 = text_to_number\n",
    "\n",
    "    # optional: dropout\n",
    "    # with this layer a percentage of all neurons will be randomly turned-off to prevent overfitting\n",
    "    # since our training dataset might be small, we really cannot afford a large neural network\n",
    "    # the output of the BERT layer is a vector of 768 elements, if fully connected to next linear layer\n",
    "    # then the current layer would have 768 pairs of weight and bias, too much!\n",
    "    # using dropout mechanism, we can randomly turn off a percentage of the neuraon in the training process\n",
    "    # literally reduced the number of neuron in the layer\n",
    "    # self.drop = torch.nn.Dropout(0.5)\n",
    "\n",
    "    # optional: MaxPool\n",
    "    # if you want to have a pooling layer to shrink the size of the model\n",
    "    # https://pytorch.org/docs/master/generated/torch.nn.MaxPool1d.html\n",
    "    # self.pool1 = torch.nn.MaxPool1d(32)\n",
    "    # note that the nuber you put in the pooling layer determines the output size\n",
    "    # so be careful to keep the dimensions consistent\n",
    "    # the BERT output is 768, if you put 32, then the output is 768/32 = 24\n",
    "    # then the next layer should be\n",
    "    # self.l2 = torch.nn.Linear(24, 1)\n",
    "\n",
    "\n",
    "    # the fully connected last layer\n",
    "    self.l2 = torch.nn.Linear(768, 1)\n",
    "\n",
    "\n",
    "\n",
    "  def forward(self, input_ids, attention_mask):\n",
    "    # first layer\n",
    "    # the first layer utilize the BERT model (call \"text_to_number\" in __init__) to transfer the input_ids into\n",
    "    # contextualized word embeddings --numerical vectors\n",
    "    # we have different ways to use outputs of this layer,\n",
    "    # such as using the [CLS] token or the mean of all input tokens\n",
    "    # recall the BERT's inputs and outputs section for indexing and fetching various BERT model's outputs\n",
    "\n",
    "    # if you want to use the BERT output of the last self-attention layer, do this:\n",
    "    last = self.l1(input_ids = input_ids, attention_mask = attention_mask).last_hidden_state\n",
    "    output = last[:, 0, :]\n",
    "\n",
    "    # output from BERT model now be fed into a relu activation funcation to add more non-linearity\n",
    "    # squeeze() function to remove unnecessary dimension of the output, before delivering it to a linear layer\n",
    "    output = F.relu(output.squeeze())\n",
    "\n",
    "\n",
    "\n",
    "    # third layer\n",
    "    output = self.l2(output)\n",
    "\n",
    "    # last sigmoid layer to furhter transfer the single scalar in l3 into a probability\n",
    "    return torch.sigmoid(output)"
   ]
  },
  {
   "cell_type": "markdown",
   "metadata": {
    "id": "1eQJ6bqNrXL9"
   },
   "source": [
    "### Check the Neural Network\n",
    "  * Test each layer in the NN is very important\n",
    "  * Compare the output dimension to your expectation\n",
    "    * https://huggingface.co/transformers/model_doc/bert.html#bertmodel\n",
    "  * We should pay close attention the the dimensions of the inputs and outputs of each layer\n",
    "  * Use .squeeze() to remove uncessary axis whose length is 1 to make the dimensions consistent."
   ]
  },
  {
   "cell_type": "code",
   "execution_count": null,
   "metadata": {
    "colab": {
     "base_uri": "https://localhost:8080/"
    },
    "id": "m8yf6W_iSdCJ",
    "outputId": "6ef5837f-cc28-40cf-caef-c0768f84cd14"
   },
   "outputs": [
    {
     "name": "stderr",
     "output_type": "stream",
     "text": [
      "<ipython-input-16-0a9305b5c0ef>:54: UserWarning: To copy construct from a tensor, it is recommended to use sourceTensor.clone().detach() or sourceTensor.clone().detach().requires_grad_(True), rather than torch.tensor(sourceTensor).\n",
      "  'input_ids': torch.tensor(input_ids, dtype = torch.long),\n",
      "<ipython-input-16-0a9305b5c0ef>:55: UserWarning: To copy construct from a tensor, it is recommended to use sourceTensor.clone().detach() or sourceTensor.clone().detach().requires_grad_(True), rather than torch.tensor(sourceTensor).\n",
      "  'attention_mask': torch.tensor(attention_mask, dtype = torch.long),\n"
     ]
    },
    {
     "name": "stdout",
     "output_type": "stream",
     "text": [
      "torch.Size([1, 64, 768])\n",
      "torch.Size([64, 768])\n"
     ]
    }
   ],
   "source": [
    "# mimic the first layer of the NN\n",
    "l1 = text_to_number\n",
    "l1.to(device)\n",
    "input_ids = train_processed.__getitem__(10)['input_ids'].to(device)\n",
    "attention_mask = train_processed.__getitem__(10)['attention_mask'].to(device)\n",
    "last= l1(input_ids = input_ids, attention_mask = attention_mask).last_hidden_state\n",
    "print(last.shape)\n",
    "print(last.squeeze().shape)"
   ]
  },
  {
   "cell_type": "code",
   "execution_count": null,
   "metadata": {
    "colab": {
     "base_uri": "https://localhost:8080/"
    },
    "id": "zuR1CGxHpNDt",
    "outputId": "3b890900-ab8e-4354-a3bf-9e37fa5e8839"
   },
   "outputs": [
    {
     "data": {
      "text/plain": [
       "tensor([0.4284], device='cuda:0', grad_fn=<SigmoidBackward0>)"
      ]
     },
     "execution_count": 29,
     "metadata": {},
     "output_type": "execute_result"
    }
   ],
   "source": [
    "# similarly, test the following layers\n",
    "# pay attention to the dimensions of input and output\n",
    "# output of first layer\n",
    "output = last[:,0, :]\n",
    "# Relu for non-linearity\n",
    "output = F.relu(output.squeeze())\n",
    "# layer 2 function\n",
    "l2 = torch.nn.Linear(768, 1).to(device)\n",
    "output = l2(output)\n",
    "torch.sigmoid(output)\n"
   ]
  },
  {
   "cell_type": "markdown",
   "metadata": {
    "id": "S3g0vSuW3-P0"
   },
   "source": [
    "**Recap:**\n",
    "We just defined a Neural Network class, which is customized for our purpose.\n",
    "the __init__() function defines all the neural network layers available for the NN.\n",
    "the forward() function specifies how those layers are connected.\n",
    "  * first layer: BERT model, in which input_ids and attention mask becomes word imbedding (768-digit vector)\n",
    "  * second layer: fully connected linear layer, in which 768 neurons connect to 1 final neurons\n",
    "  * the final neuron go throughes the sigmoid function and becomes a predicted probability of label = 1.\n",
    "  * next, in the training stage, we will calculate the loss based this prediction and its true label; then, the model will be optimized by minimizing the loss.   "
   ]
  },
  {
   "cell_type": "markdown",
   "metadata": {
    "id": "-5A-LG1ANMCp"
   },
   "source": [
    "Before we train the model, let's get a help function with which we can have the model stop from learning when it starts to overfit.\n"
   ]
  },
  {
   "cell_type": "code",
   "execution_count": null,
   "metadata": {
    "id": "QKkrntWpNLEz"
   },
   "outputs": [],
   "source": [
    "# install the EarlyStopping Module\n",
    "# https://github.com/Bjarten/early-stopping-pytorch/blob/master/MNIST_Early_Stopping_example.ipynb\n",
    "class EarlyStopping:\n",
    "    \"\"\"Early stops the training if validation loss doesn't improve after a given patience.\"\"\"\n",
    "    def __init__(self, patience=7, verbose=False, delta=0, path='checkpoint.pt', trace_func=print):\n",
    "        \"\"\"\n",
    "        Args:\n",
    "            patience (int): How long to wait after last time validation loss improved.\n",
    "                            Default: 7\n",
    "            verbose (bool): If True, prints a message for each validation loss improvement.\n",
    "                            Default: False\n",
    "            delta (float): Minimum change in the monitored quantity to qualify as an improvement.\n",
    "                            Default: 0\n",
    "            path (str): Path for the checkpoint to be saved to.\n",
    "                            Default: 'checkpoint.pt'\n",
    "            trace_func (function): trace print function.\n",
    "                            Default: print\n",
    "        \"\"\"\n",
    "        self.patience = patience\n",
    "        self.verbose = verbose\n",
    "        self.counter = 0\n",
    "        self.best_score = None\n",
    "        self.early_stop = False\n",
    "        self.val_loss_min = np.Inf\n",
    "        self.delta = delta\n",
    "        self.path = path\n",
    "        self.trace_func = trace_func\n",
    "    def __call__(self, val_loss, model):\n",
    "\n",
    "        score = -val_loss\n",
    "\n",
    "        if self.best_score is None:\n",
    "            self.best_score = score\n",
    "            self.save_checkpoint(val_loss, model)\n",
    "        elif score < self.best_score + self.delta:\n",
    "            self.counter += 1\n",
    "            self.trace_func(f'EarlyStopping counter: {self.counter} out of {self.patience}')\n",
    "            if self.counter >= self.patience:\n",
    "                self.early_stop = True\n",
    "        else:\n",
    "            self.best_score = score\n",
    "            self.save_checkpoint(val_loss, model)\n",
    "            self.counter = 0\n",
    "\n",
    "    def save_checkpoint(self, val_loss, model):\n",
    "        '''Saves model when validation loss decrease.'''\n",
    "        if self.verbose:\n",
    "            self.trace_func(f'Validation loss decreased ({self.val_loss_min:.6f} --> {val_loss:.6f}).  Saving model ...')\n",
    "        torch.save(model.state_dict(), self.path)\n",
    "        self.val_loss_min = val_loss"
   ]
  },
  {
   "cell_type": "markdown",
   "metadata": {
    "id": "NaSSY_mynUVw"
   },
   "source": [
    "## Train the Neural Network\n",
    "\n",
    "Up to now, we have the Dataset (pre-process/encode the **raw text inputs**, making them into **input_ids** and **attention_mask** that BERT model takes as input), the Dataloader (feed the processed data into the neural network in batchs), the neural network (with the first layer as a BERT model to transfer the input_ids and attentino mask into **word embeddings**, and later layers just work on those embeddings/numerical vectors as a normal neural network does).\n",
    "\n",
    "And finally, we could set up our training loops\n",
    "\n",
    "  * Create a instance of the neural network **TextBERT** we just defined\n",
    "  * Prepare for the training\n",
    "    * loss function\n",
    "    * learning rate, epoch, optimizer, etc.\n",
    "  * Develop the training loop  \n"
   ]
  },
  {
   "cell_type": "markdown",
   "metadata": {
    "id": "GK7sQXF3i7lG"
   },
   "source": [
    "### 1. Create the neural network"
   ]
  },
  {
   "cell_type": "markdown",
   "metadata": {
    "id": "UMKhk26wAot4"
   },
   "source": [
    "**VERY IMPORTANT**: please re-create a new instance of your neural network by run the code below (to clean all previous training outcomes) when you need to retrain a model; otherwise, you model will be easily overfitting."
   ]
  },
  {
   "cell_type": "code",
   "execution_count": null,
   "metadata": {
    "colab": {
     "base_uri": "https://localhost:8080/"
    },
    "id": "aFDDnyD6wlD4",
    "outputId": "b7ec772f-30be-460f-c283-fbee6bfae8d4"
   },
   "outputs": [
    {
     "data": {
      "text/plain": [
       "TextBERT(\n",
       "  (l1): BertModel(\n",
       "    (embeddings): BertEmbeddings(\n",
       "      (word_embeddings): Embedding(30522, 768, padding_idx=0)\n",
       "      (position_embeddings): Embedding(512, 768)\n",
       "      (token_type_embeddings): Embedding(2, 768)\n",
       "      (LayerNorm): LayerNorm((768,), eps=1e-12, elementwise_affine=True)\n",
       "      (dropout): Dropout(p=0.1, inplace=False)\n",
       "    )\n",
       "    (encoder): BertEncoder(\n",
       "      (layer): ModuleList(\n",
       "        (0-11): 12 x BertLayer(\n",
       "          (attention): BertAttention(\n",
       "            (self): BertSelfAttention(\n",
       "              (query): Linear(in_features=768, out_features=768, bias=True)\n",
       "              (key): Linear(in_features=768, out_features=768, bias=True)\n",
       "              (value): Linear(in_features=768, out_features=768, bias=True)\n",
       "              (dropout): Dropout(p=0.1, inplace=False)\n",
       "            )\n",
       "            (output): BertSelfOutput(\n",
       "              (dense): Linear(in_features=768, out_features=768, bias=True)\n",
       "              (LayerNorm): LayerNorm((768,), eps=1e-12, elementwise_affine=True)\n",
       "              (dropout): Dropout(p=0.1, inplace=False)\n",
       "            )\n",
       "          )\n",
       "          (intermediate): BertIntermediate(\n",
       "            (dense): Linear(in_features=768, out_features=3072, bias=True)\n",
       "            (intermediate_act_fn): GELUActivation()\n",
       "          )\n",
       "          (output): BertOutput(\n",
       "            (dense): Linear(in_features=3072, out_features=768, bias=True)\n",
       "            (LayerNorm): LayerNorm((768,), eps=1e-12, elementwise_affine=True)\n",
       "            (dropout): Dropout(p=0.1, inplace=False)\n",
       "          )\n",
       "        )\n",
       "      )\n",
       "    )\n",
       "    (pooler): BertPooler(\n",
       "      (dense): Linear(in_features=768, out_features=768, bias=True)\n",
       "      (activation): Tanh()\n",
       "    )\n",
       "  )\n",
       "  (l2): Linear(in_features=768, out_features=1, bias=True)\n",
       ")"
      ]
     },
     "execution_count": 31,
     "metadata": {},
     "output_type": "execute_result"
    }
   ],
   "source": [
    "# create an instance of the TextBERT model\n",
    "# and put the model into GPU memory\n",
    "cls_model = TextBERT()\n",
    "cls_model.to(device)"
   ]
  },
  {
   "cell_type": "markdown",
   "metadata": {
    "id": "iZpo8C-zc-B3"
   },
   "source": [
    "First we start with: the loss function (e.g., crossentropy loss or mean squared error loss) and the optimize schedule (something about learning rate, adaptive learning rate, see class 7)"
   ]
  },
  {
   "cell_type": "markdown",
   "metadata": {
    "id": "MgEpP0R6j6yN"
   },
   "source": [
    "### 2. Prepare for training"
   ]
  },
  {
   "cell_type": "markdown",
   "metadata": {
    "id": "oxPnh9tckDTx"
   },
   "source": [
    "Define loss fucntion\n",
    "\n",
    "  * Here we use Binary CrossEntropy Loss, you can try others see the performance difference: https://pytorch.org/docs/master/generated/torch.nn.BCELoss.html\n",
    "\n",
    "  * Note that loss function in pytorch framework usually take the pair of (prediction, ground_truth) as input and give the loss value as output"
   ]
  },
  {
   "cell_type": "code",
   "execution_count": null,
   "metadata": {
    "id": "Q4QtC037dzxO"
   },
   "outputs": [],
   "source": [
    "import torch.nn as nn\n",
    "import torch.optim as optim\n",
    "# criterion is the name of the loss function we use, cross-entrophy\n",
    "criterion = nn.BCELoss()\n"
   ]
  },
  {
   "cell_type": "markdown",
   "metadata": {
    "id": "KEccN7-Nkneu"
   },
   "source": [
    "Set the Optimizer\n",
    "  * Optimizer is our optimize strategy\n",
    "  * Stachastic gradient descending is a common approch to update our model parameters.\n",
    "    * optimizer = optim.SGD(text_to_number.parameters(), lr = learning_rate, momentum = 0.9)\n",
    "    * But let's use Adam here to fine-tune the learning rate as the training lasts, AdamW is a optimizer developed by Huggingface using Adam's mechanism\n",
    "      * http://deeplearning.stanford.edu/tutorial/supervised/OptimizationStochasticGradientDescent/\n",
    "    * You can try out other optimization method and see performance difference\n",
    "    * We need to specify learning rate (how aggressive we update parameters at each training step) and epoch (how many round we put our training dataset into the training loop)."
   ]
  },
  {
   "cell_type": "code",
   "execution_count": null,
   "metadata": {
    "id": "d0MvxRbleYiO"
   },
   "outputs": [],
   "source": [
    "# tips: learning rate suggested by BERT's authors include: 3e-4, 1e-4, 5e-5, 3e-5\n",
    "# see here: https://github.com/google-research/bert\n",
    "learning_rate = 1e-05"
   ]
  },
  {
   "cell_type": "code",
   "execution_count": null,
   "metadata": {
    "id": "njBahjNyjByc"
   },
   "outputs": [],
   "source": [
    "# set the epoch\n",
    "# epochs means how many rounds each training sample will be fed into the NN.\n",
    "epochs = 50\n",
    "\n",
    "# define the patience parameter for the early_stopping help function\n",
    "patience = 5"
   ]
  },
  {
   "cell_type": "code",
   "execution_count": null,
   "metadata": {
    "colab": {
     "base_uri": "https://localhost:8080/"
    },
    "id": "FEUQBFhMhsHt",
    "outputId": "5dca0ef2-400a-4f2b-fea7-54ac8b0a2ab7"
   },
   "outputs": [
    {
     "name": "stderr",
     "output_type": "stream",
     "text": [
      "/usr/local/lib/python3.10/dist-packages/transformers/optimization.py:429: FutureWarning: This implementation of AdamW is deprecated and will be removed in a future version. Use the PyTorch implementation torch.optim.AdamW instead, or set `no_deprecation_warning=True` to disable this warning\n",
      "  warnings.warn(\n"
     ]
    }
   ],
   "source": [
    "# set up the optimizer\n",
    "from transformers import AdamW\n",
    "from transformers import get_linear_schedule_with_warmup\n",
    "optimizer = AdamW(cls_model.parameters(),lr = learning_rate,eps = 1e-8)\n",
    "\n",
    "total_steps = len(train_loader) * epochs\n",
    "\n",
    "# Create the learning rate scheduler that update the learning rate gradully, this scheduler is with AdamW\n",
    "scheduler = get_linear_schedule_with_warmup(optimizer, num_warmup_steps = 0, num_training_steps = total_steps)"
   ]
  },
  {
   "cell_type": "markdown",
   "metadata": {
    "id": "U2WFSgu6_1VL"
   },
   "source": [
    "### Train the BERT + NN Model"
   ]
  },
  {
   "cell_type": "markdown",
   "metadata": {
    "id": "_SCqZW_Dn6x5"
   },
   "source": [
    "OK, finally, we strat to train the model"
   ]
  },
  {
   "cell_type": "markdown",
   "metadata": {
    "id": "opgJUFwvmjPc"
   },
   "source": [
    "Import tips:\n",
    "  * Creating the NN model first and then create its optimizer so that the two can be tied together\n",
    "    * see reference: https://pytorch.org/docs/stable/optim.html \"If you need to move a model to GPU via .cuda(), please do so before constructing optimizers for it. Parameters of a model after .cuda() will be different objects with those before the call.\"\n",
    "  * Very Important: Each Time When You Train a Neural Network Again, Plase Terminate the Connection to Colab Host to Clear Up GPU Ram; otherwise, Different Versions of the Network Will be Mixed.\n",
    "\n",
    "  * Further, please start from the section \"split the raw dataset\" to train a new model. You need to create a new instance of the neural network model, consider to adjust the hyper-parameters such as learning rate, batch size of trianing and validation dataset, max length of text being processed, etc.\n",
    "\n"
   ]
  },
  {
   "cell_type": "code",
   "execution_count": null,
   "metadata": {
    "colab": {
     "base_uri": "https://localhost:8080/",
     "height": 1000
    },
    "id": "H0gMiqrmix5g",
    "outputId": "35abd68b-f021-46f9-8897-bab4b7f9db37"
   },
   "outputs": [
    {
     "name": "stdout",
     "output_type": "stream",
     "text": [
      "======== Epoch 1 / 50 ==========\n",
      "training\n"
     ]
    },
    {
     "name": "stderr",
     "output_type": "stream",
     "text": [
      "<ipython-input-16-0a9305b5c0ef>:54: UserWarning: To copy construct from a tensor, it is recommended to use sourceTensor.clone().detach() or sourceTensor.clone().detach().requires_grad_(True), rather than torch.tensor(sourceTensor).\n",
      "  'input_ids': torch.tensor(input_ids, dtype = torch.long),\n",
      "<ipython-input-16-0a9305b5c0ef>:55: UserWarning: To copy construct from a tensor, it is recommended to use sourceTensor.clone().detach() or sourceTensor.clone().detach().requires_grad_(True), rather than torch.tensor(sourceTensor).\n",
      "  'attention_mask': torch.tensor(attention_mask, dtype = torch.long),\n"
     ]
    },
    {
     "name": "stdout",
     "output_type": "stream",
     "text": [
      "Epoch:1, Total_Loss:3.544716238975525, Average_Loss:0.3544716238975525\n",
      "Epoch:1, Total_Loss:6.367720499634743, Average_Loss:0.3183860249817371\n",
      "Epoch:1, Total_Loss:8.936583578586578, Average_Loss:0.2978861192862193\n",
      "Epoch:1, Total_Loss:11.5309769064188, Average_Loss:0.28827442266047\n",
      "Epoch:1, Total_Loss:14.22729668021202, Average_Loss:0.2845459336042404\n",
      "validating\n",
      "Epoch:1, Total_Loss:2.7207339629530907, Average_Loss:0.2720733962953091\n",
      "Validation loss decreased (inf --> 0.248283).  Saving model ...\n",
      "======== Epoch 2 / 50 ==========\n",
      "training\n",
      "Epoch:2, Total_Loss:2.0191514641046524, Average_Loss:0.20191514641046523\n",
      "Epoch:2, Total_Loss:4.296104773879051, Average_Loss:0.21480523869395257\n",
      "Epoch:2, Total_Loss:6.290005758404732, Average_Loss:0.20966685861349105\n",
      "Epoch:2, Total_Loss:8.125474907457829, Average_Loss:0.2031368726864457\n",
      "Epoch:2, Total_Loss:10.250726096332073, Average_Loss:0.20501452192664146\n",
      "validating\n",
      "Epoch:2, Total_Loss:2.7379461899399757, Average_Loss:0.2737946189939976\n",
      "EarlyStopping counter: 1 out of 5\n",
      "======== Epoch 3 / 50 ==========\n",
      "training\n",
      "Epoch:3, Total_Loss:1.680991344153881, Average_Loss:0.1680991344153881\n",
      "Epoch:3, Total_Loss:3.3187185898423195, Average_Loss:0.16593592949211597\n",
      "Epoch:3, Total_Loss:4.590823993086815, Average_Loss:0.15302746643622717\n",
      "Epoch:3, Total_Loss:5.860172808170319, Average_Loss:0.14650432020425797\n",
      "Epoch:3, Total_Loss:7.180047310888767, Average_Loss:0.14360094621777533\n",
      "validating\n",
      "Epoch:3, Total_Loss:3.0040016919374466, Average_Loss:0.3004001691937447\n",
      "EarlyStopping counter: 2 out of 5\n",
      "======== Epoch 4 / 50 ==========\n",
      "training\n",
      "Epoch:4, Total_Loss:1.1179526261985302, Average_Loss:0.11179526261985302\n",
      "Epoch:4, Total_Loss:1.9584390632808208, Average_Loss:0.09792195316404104\n",
      "Epoch:4, Total_Loss:3.0415771156549454, Average_Loss:0.10138590385516484\n",
      "Epoch:4, Total_Loss:4.008579026907682, Average_Loss:0.10021447567269207\n",
      "Epoch:4, Total_Loss:4.877955541014671, Average_Loss:0.09755911082029342\n",
      "validating\n",
      "Epoch:4, Total_Loss:3.405777972191572, Average_Loss:0.3405777972191572\n",
      "EarlyStopping counter: 3 out of 5\n",
      "======== Epoch 5 / 50 ==========\n",
      "training\n",
      "Epoch:5, Total_Loss:0.9652602877467871, Average_Loss:0.09652602877467871\n",
      "Epoch:5, Total_Loss:1.9230585005134344, Average_Loss:0.09615292502567171\n",
      "Epoch:5, Total_Loss:2.4694081116467714, Average_Loss:0.08231360372155905\n",
      "Epoch:5, Total_Loss:2.9768581315875053, Average_Loss:0.07442145328968763\n",
      "Epoch:5, Total_Loss:3.7498221695423126, Average_Loss:0.07499644339084625\n",
      "validating\n",
      "Epoch:5, Total_Loss:3.8477319814264774, Average_Loss:0.38477319814264777\n",
      "EarlyStopping counter: 4 out of 5\n",
      "======== Epoch 6 / 50 ==========\n",
      "training\n",
      "Epoch:6, Total_Loss:0.42789886333048344, Average_Loss:0.042789886333048345\n",
      "Epoch:6, Total_Loss:1.0400052946060896, Average_Loss:0.05200026473030448\n",
      "Epoch:6, Total_Loss:1.5267336778342724, Average_Loss:0.05089112259447574\n",
      "Epoch:6, Total_Loss:2.192378554493189, Average_Loss:0.054809463862329724\n",
      "Epoch:6, Total_Loss:2.5537400702014565, Average_Loss:0.05107480140402913\n",
      "validating\n",
      "Epoch:6, Total_Loss:4.259369347244501, Average_Loss:0.4259369347244501\n",
      "EarlyStopping counter: 5 out of 5\n",
      "Early stopping\n"
     ]
    },
    {
     "ename": "NameError",
     "evalue": "name 'model' is not defined",
     "output_type": "error",
     "traceback": [
      "\u001b[0;31m---------------------------------------------------------------------------\u001b[0m",
      "\u001b[0;31mNameError\u001b[0m                                 Traceback (most recent call last)",
      "\u001b[0;32m<ipython-input-40-e58eb26a4179>\u001b[0m in \u001b[0;36m<cell line: 127>\u001b[0;34m()\u001b[0m\n\u001b[1;32m    125\u001b[0m \u001b[0;34m\u001b[0m\u001b[0m\n\u001b[1;32m    126\u001b[0m \u001b[0;31m# load the last checkpoint with the best model\u001b[0m\u001b[0;34m\u001b[0m\u001b[0;34m\u001b[0m\u001b[0m\n\u001b[0;32m--> 127\u001b[0;31m \u001b[0mmodel\u001b[0m\u001b[0;34m.\u001b[0m\u001b[0mload_state_dict\u001b[0m\u001b[0;34m(\u001b[0m\u001b[0mtorch\u001b[0m\u001b[0;34m.\u001b[0m\u001b[0mload\u001b[0m\u001b[0;34m(\u001b[0m\u001b[0;34m'checkpoint.pt'\u001b[0m\u001b[0;34m)\u001b[0m\u001b[0;34m)\u001b[0m\u001b[0;34m\u001b[0m\u001b[0;34m\u001b[0m\u001b[0m\n\u001b[0m\u001b[1;32m    128\u001b[0m \u001b[0;34m\u001b[0m\u001b[0m\n\u001b[1;32m    129\u001b[0m \u001b[0;34m\u001b[0m\u001b[0m\n",
      "\u001b[0;31mNameError\u001b[0m: name 'model' is not defined"
     ]
    }
   ],
   "source": [
    "\n",
    "# train the model\n",
    "# store the total loss and accuracy values of each epoch\n",
    "training_stats = []\n",
    "\n",
    "# initialize the early_stopping object\n",
    "early_stopping = EarlyStopping(patience= patience, verbose=True)\n",
    "\n",
    "# the epoch loop, number of rounds specified by epochs\n",
    "for epoch_i in range(0, epochs):\n",
    "  print('======== Epoch {:} / {:} =========='.format(epoch_i + 1, epochs))\n",
    "  # zero the values of total loss and accuracy of the epoch\n",
    "  total_loss = 0\n",
    "\n",
    "  # in the training stage, set the model into train mode\n",
    "  cls_model.train()\n",
    "\n",
    "  ###################\n",
    "  # the training step loop\n",
    "  ###################\n",
    "\n",
    "  # recall that train_loader feed data into the NN in batchs to save memory and improve efficiency\n",
    "  # then the # of total steps is about (# of samples/batch size)\n",
    "  print(\"training\")\n",
    "  for step, batch in enumerate(train_loader, 0):\n",
    "    # feed the data into GPU using .to(device) function\n",
    "    # note that the input_ids for one raw input is in the shape of (1, max_length)\n",
    "    # after be processed input batch, the input_ids become (batch_size, 1, max_length)\n",
    "    # however, BERT only takes input_ids in the shape of (batch_size, max_length),\n",
    "    # (see here: https://huggingface.co/transformers/model_doc/bert.html#bertmodel)\n",
    "    # so we need to do \"batch['input_ids'].squeeze()\" inestead of \"batch['input_ids']\"\n",
    "    # to remove the unnecessy axis of \"1\".\n",
    "    # same operation for attention_mask\n",
    "    input_ids = batch['input_ids'].squeeze().to(device, dtype = torch.long)\n",
    "    attention_mask = batch['attention_mask'].squeeze().to(device, dtype = torch.long)\n",
    "    label = batch['label'].to(device, dtype = torch.float)\n",
    "\n",
    "    # at each step, before the NN does the feed forward, let's set the gradient to 0\n",
    "    # as pytorch nn.Module automatically cumulates gradient from previous rounds\n",
    "    # this is good for RNN training, but not necessy for us here. Thus, we turn it off.\n",
    "    cls_model.zero_grad()\n",
    "\n",
    "    # note that since we feed the inputs/raw samples in batch,\n",
    "    # the prediciton should be in the shape of (batch_size, # of classes)\n",
    "    prediction = cls_model(input_ids, attention_mask)\n",
    "    prediction = prediction.squeeze()\n",
    "\n",
    "    # calculate the loss\n",
    "    loss = criterion(prediction, label)\n",
    "\n",
    "    # with the loss, we can do back propagation to calculate the gradient\n",
    "    # very easy, just with one line of code all gradients in previous calculations are derived\n",
    "    loss.backward()\n",
    "\n",
    "    # Clip the norm of the gradients to 1.0.\n",
    "    # This is to help prevent the \"exploding gradients\" problem.\n",
    "    torch.nn.utils.clip_grad_norm_(text_to_number.parameters(), 1.0)\n",
    "\n",
    "    # with the gradient, we can update the model paramters.\n",
    "    # recall how we define the optimizer in the previous sections\n",
    "    optimizer.step()\n",
    "\n",
    "    # update the learning rate\n",
    "    scheduler.step()\n",
    "\n",
    "    # to keep tracking on the model performance, we accumulate the total loss in every epoch\n",
    "    total_loss += loss.item()\n",
    "\n",
    "    # for every 10 steps, we print out the epoce # and loss\n",
    "    if step%10 == 0 and step != 0:\n",
    "      print(f'Epoch:{epoch_i + 1}, Total_Loss:{total_loss}, Average_Loss:{total_loss/step}')\n",
    "\n",
    "  # calcualte and store the average training loss of each batch in the current epoch\n",
    "  avg_train_loss = total_loss / len(train_loader)\n",
    "\n",
    "\n",
    "  # now let's set up the validation loop, meaning the trained model above will be used to evaluate the sample in validation dataset\n",
    "  # note that this validation loop is in the same \"indent\" level as the training loop, and they both under the epoches loop\n",
    "  print(\"validating\")\n",
    "\n",
    "  # set the model now in the evaluation mode\n",
    "  cls_model.eval()\n",
    "\n",
    "  # zero the values of total loss\n",
    "  total_loss = 0\n",
    "\n",
    "  ###################\n",
    "  # the validation step loop\n",
    "  ###################\n",
    "\n",
    "  for step, batch in enumerate(valid_loader, 0):\n",
    "    input_ids = batch['input_ids'].squeeze().to(device, dtype = torch.long)\n",
    "    attention_mask = batch['attention_mask'].squeeze().to(device, dtype = torch.long)\n",
    "    label = batch['label'].to(device, dtype = torch.float)\n",
    "\n",
    "    with torch.no_grad():\n",
    "        prediction = cls_model(input_ids, attention_mask)\n",
    "        prediction = prediction.squeeze()\n",
    "        loss = criterion(prediction, label)\n",
    "\n",
    "    total_loss += loss.item()\n",
    "\n",
    "    if step%10 == 0 and step != 0:\n",
    "      print(f'Epoch:{epoch_i + 1}, Total_Loss:{total_loss}, Average_Loss:{total_loss/step}')\n",
    "\n",
    "  # calcualte and store the average training loss of each batch in the current epoch\n",
    "  avg_valid_loss = total_loss / len(valid_loader)\n",
    "\n",
    "  training_stats.append(\n",
    "        {\n",
    "            'epoch': epoch_i + 1,\n",
    "            'Training Loss': avg_train_loss,\n",
    "            'Valid. Loss': avg_valid_loss\n",
    "        }\n",
    "    )\n",
    "\n",
    "  # early_stopping needs the validation loss to check if it has decresed,\n",
    "  # and if it has, it will make a checkpoint of the current model\n",
    "\n",
    "  early_stopping(avg_valid_loss, cls_model)\n",
    "\n",
    "  if early_stopping.early_stop:\n",
    "    print(\"Early stopping\")\n",
    "    break\n",
    "\n",
    "\n",
    "# load the last checkpoint with the best model\n",
    "cls_model.load_state_dict(torch.load('checkpoint.pt'))\n",
    "\n",
    "\n",
    "  # lastly, at the end of each epoch, you can save the model for later use\n",
    "  # you need to define dir first, e.g., \"./content/drive/My Drive\"\n",
    "  # torch.save(cls_model.state_dict(), os.path.join(dir, 'exper-epoch-{}.pt'.format(epoch_i)))\n",
    "\n",
    "print(\"training complete!\")\n",
    "\n"
   ]
  },
  {
   "cell_type": "code",
   "execution_count": null,
   "metadata": {
    "colab": {
     "base_uri": "https://localhost:8080/",
     "height": 609
    },
    "id": "B5soA_VPd2Ry",
    "outputId": "8c194e14-233d-4bf3-c945-b0a1e23f3fc3"
   },
   "outputs": [
    {
     "data": {
      "text/plain": [
       "<matplotlib.legend.Legend at 0x7870a33b9ae0>"
      ]
     },
     "execution_count": 42,
     "metadata": {},
     "output_type": "execute_result"
    },
    {
     "data": {
      "image/png": "[encoded data removed]",
      "text/plain": [
       "<Figure size 1200x600 with 1 Axes>"
      ]
     },
     "metadata": {},
     "output_type": "display_data"
    }
   ],
   "source": [
    "# plot the train statistics stored in training_stats\n",
    "import matplotlib.pyplot as plt\n",
    "%matplotlib inline\n",
    "\n",
    "import seaborn as sns\n",
    "sns.set(style = \"darkgrid\")\n",
    "\n",
    "sns.set(font_scale = 1.5)\n",
    "plt.rcParams['figure.figsize'] = [12, 6]\n",
    "\n",
    "df_stats = pd.DataFrame(data = training_stats)\n",
    "\n",
    "# Use the 'epoch' as the row index.\n",
    "df_stats = df_stats.set_index('epoch')\n",
    "\n",
    "plt.plot(df_stats['Training Loss'], 'b-o', label=\"Training\")\n",
    "plt.plot(df_stats['Valid. Loss'], 'g-o', label=\"Validation\")\n",
    "\n",
    "plt.title(\"Training loss\")\n",
    "plt.xlabel(\"Epoch\")\n",
    "plt.ylabel(\"Loss\")\n",
    "plt.legend()"
   ]
  },
  {
   "cell_type": "markdown",
   "metadata": {
    "id": "VY-glviLa44s"
   },
   "source": [
    "Further learning: we can use callback function in pytorch to fetch the parameter values before the model is overfitted. https://dzlab.github.io/dl/2019/03/16/pytorch-training-loop/\n"
   ]
  },
  {
   "cell_type": "markdown",
   "metadata": {
    "id": "WinIsU6zMpWt"
   },
   "source": [
    "## Evaluate the Model Performance\n",
    "\n",
    "  * Evaluate the model performance using the validation dataset\n",
    "  * Ealculating the confusion matrix, AUC, F-1 Score, MCC, etc."
   ]
  },
  {
   "cell_type": "markdown",
   "metadata": {
    "id": "OTiUW-cVy83A"
   },
   "source": [
    "Evaluate the model performance\n",
    "  * calculate predictions and campare them to the true labels"
   ]
  },
  {
   "cell_type": "code",
   "execution_count": null,
   "metadata": {
    "colab": {
     "base_uri": "https://localhost:8080/"
    },
    "id": "p9MQQ6yU9kLo",
    "outputId": "f9b213f7-954f-44b1-fd3b-fa06106c252f"
   },
   "outputs": [
    {
     "name": "stderr",
     "output_type": "stream",
     "text": [
      "<ipython-input-16-0a9305b5c0ef>:54: UserWarning: To copy construct from a tensor, it is recommended to use sourceTensor.clone().detach() or sourceTensor.clone().detach().requires_grad_(True), rather than torch.tensor(sourceTensor).\n",
      "  'input_ids': torch.tensor(input_ids, dtype = torch.long),\n",
      "<ipython-input-16-0a9305b5c0ef>:55: UserWarning: To copy construct from a tensor, it is recommended to use sourceTensor.clone().detach() or sourceTensor.clone().detach().requires_grad_(True), rather than torch.tensor(sourceTensor).\n",
      "  'attention_mask': torch.tensor(attention_mask, dtype = torch.long),\n"
     ]
    }
   ],
   "source": [
    "# apply the trained model to the validation dataset\n",
    "# get the model predictions and compare the comparisons to the true labels\n",
    "cls_model.eval()\n",
    "predictions, labels = [], []\n",
    "for step, batch in enumerate(valid_loader):\n",
    "  input_ids = batch['input_ids'].squeeze().to(device, dtype = torch.long)\n",
    "  attention_mask = batch['attention_mask'].squeeze().to(device, dtype = torch.long)\n",
    "  label = batch['label'].to('cpu').numpy()\n",
    "\n",
    "  with torch.no_grad():\n",
    "    prediction = cls_model(input_ids, attention_mask)\n",
    "\n",
    "  prediction = prediction.detach().cpu().numpy()\n",
    "  predictions.append(prediction)\n",
    "  labels.append(label)"
   ]
  },
  {
   "cell_type": "code",
   "execution_count": null,
   "metadata": {
    "colab": {
     "base_uri": "https://localhost:8080/",
     "height": 424
    },
    "id": "3ownUI8Ew6H_",
    "outputId": "2a6683f1-156b-4eea-87c3-6f3388a3db05"
   },
   "outputs": [
    {
     "data": {
      "application/vnd.google.colaboratory.intrinsic+json": {
       "summary": "{\n  \"name\": \"df\",\n  \"rows\": 400,\n  \"fields\": [\n    {\n      \"column\": \"preds\",\n      \"properties\": {\n        \"dtype\": \"float32\",\n        \"num_unique_values\": 400,\n        \"samples\": [\n          0.038182731717824936,\n          0.04737785458564758,\n          0.10762377083301544\n        ],\n        \"semantic_type\": \"\",\n        \"description\": \"\"\n      }\n    },\n    {\n      \"column\": \"labels\",\n      \"properties\": {\n        \"dtype\": \"float32\",\n        \"num_unique_values\": 2,\n        \"samples\": [\n          1.0,\n          0.0\n        ],\n        \"semantic_type\": \"\",\n        \"description\": \"\"\n      }\n    }\n  ]\n}",
       "type": "dataframe",
       "variable_name": "df"
      },
      "text/html": [
       "\n",
       "  <div id=\"df-23262f9c-4352-435e-b733-741eaeec95f6\" class=\"colab-df-container\">\n",
       "    <div>\n",
       "<style scoped>\n",
       "    .dataframe tbody tr th:only-of-type {\n",
       "        vertical-align: middle;\n",
       "    }\n",
       "\n",
       "    .dataframe tbody tr th {\n",
       "        vertical-align: top;\n",
       "    }\n",
       "\n",
       "    .dataframe thead th {\n",
       "        text-align: right;\n",
       "    }\n",
       "</style>\n",
       "<table border=\"1\" class=\"dataframe\">\n",
       "  <thead>\n",
       "    <tr style=\"text-align: right;\">\n",
       "      <th></th>\n",
       "      <th>preds</th>\n",
       "      <th>labels</th>\n",
       "    </tr>\n",
       "  </thead>\n",
       "  <tbody>\n",
       "    <tr>\n",
       "      <th>0</th>\n",
       "      <td>0.035428</td>\n",
       "      <td>0.0</td>\n",
       "    </tr>\n",
       "    <tr>\n",
       "      <th>1</th>\n",
       "      <td>0.967342</td>\n",
       "      <td>1.0</td>\n",
       "    </tr>\n",
       "    <tr>\n",
       "      <th>2</th>\n",
       "      <td>0.041578</td>\n",
       "      <td>0.0</td>\n",
       "    </tr>\n",
       "    <tr>\n",
       "      <th>3</th>\n",
       "      <td>0.144585</td>\n",
       "      <td>0.0</td>\n",
       "    </tr>\n",
       "    <tr>\n",
       "      <th>4</th>\n",
       "      <td>0.925471</td>\n",
       "      <td>1.0</td>\n",
       "    </tr>\n",
       "    <tr>\n",
       "      <th>...</th>\n",
       "      <td>...</td>\n",
       "      <td>...</td>\n",
       "    </tr>\n",
       "    <tr>\n",
       "      <th>395</th>\n",
       "      <td>0.888319</td>\n",
       "      <td>1.0</td>\n",
       "    </tr>\n",
       "    <tr>\n",
       "      <th>396</th>\n",
       "      <td>0.920841</td>\n",
       "      <td>1.0</td>\n",
       "    </tr>\n",
       "    <tr>\n",
       "      <th>397</th>\n",
       "      <td>0.061444</td>\n",
       "      <td>0.0</td>\n",
       "    </tr>\n",
       "    <tr>\n",
       "      <th>398</th>\n",
       "      <td>0.047150</td>\n",
       "      <td>0.0</td>\n",
       "    </tr>\n",
       "    <tr>\n",
       "      <th>399</th>\n",
       "      <td>0.626235</td>\n",
       "      <td>1.0</td>\n",
       "    </tr>\n",
       "  </tbody>\n",
       "</table>\n",
       "<p>400 rows × 2 columns</p>\n",
       "</div>\n",
       "    <div class=\"colab-df-buttons\">\n",
       "\n",
       "  <div class=\"colab-df-container\">\n",
       "    <button class=\"colab-df-convert\" onclick=\"convertToInteractive('df-23262f9c-4352-435e-b733-741eaeec95f6')\"\n",
       "            title=\"Convert this dataframe to an interactive table.\"\n",
       "            style=\"display:none;\">\n",
       "\n",
       "  <svg xmlns=\"http://www.w3.org/2000/svg\" height=\"24px\" viewBox=\"0 -960 960 960\">\n",
       "    <path d=\"M120-120v-720h720v720H120Zm60-500h600v-160H180v160Zm220 220h160v-160H400v160Zm0 220h160v-160H400v160ZM180-400h160v-160H180v160Zm440 0h160v-160H620v160ZM180-180h160v-160H180v160Zm440 0h160v-160H620v160Z\"/>\n",
       "  </svg>\n",
       "    </button>\n",
       "\n",
       "  <style>\n",
       "    .colab-df-container {\n",
       "      display:flex;\n",
       "      gap: 12px;\n",
       "    }\n",
       "\n",
       "    .colab-df-convert {\n",
       "      background-color: #E8F0FE;\n",
       "      border: none;\n",
       "      border-radius: 50%;\n",
       "      cursor: pointer;\n",
       "      display: none;\n",
       "      fill: #1967D2;\n",
       "      height: 32px;\n",
       "      padding: 0 0 0 0;\n",
       "      width: 32px;\n",
       "    }\n",
       "\n",
       "    .colab-df-convert:hover {\n",
       "      background-color: #E2EBFA;\n",
       "      box-shadow: 0px 1px 2px rgba(60, 64, 67, 0.3), 0px 1px 3px 1px rgba(60, 64, 67, 0.15);\n",
       "      fill: #174EA6;\n",
       "    }\n",
       "\n",
       "    .colab-df-buttons div {\n",
       "      margin-bottom: 4px;\n",
       "    }\n",
       "\n",
       "    [theme=dark] .colab-df-convert {\n",
       "      background-color: #3B4455;\n",
       "      fill: #D2E3FC;\n",
       "    }\n",
       "\n",
       "    [theme=dark] .colab-df-convert:hover {\n",
       "      background-color: #434B5C;\n",
       "      box-shadow: 0px 1px 3px 1px rgba(0, 0, 0, 0.15);\n",
       "      filter: drop-shadow(0px 1px 2px rgba(0, 0, 0, 0.3));\n",
       "      fill: #FFFFFF;\n",
       "    }\n",
       "  </style>\n",
       "\n",
       "    <script>\n",
       "      const buttonEl =\n",
       "        document.querySelector('#df-23262f9c-4352-435e-b733-741eaeec95f6 button.colab-df-convert');\n",
       "      buttonEl.style.display =\n",
       "        google.colab.kernel.accessAllowed ? 'block' : 'none';\n",
       "\n",
       "      async function convertToInteractive(key) {\n",
       "        const element = document.querySelector('#df-23262f9c-4352-435e-b733-741eaeec95f6');\n",
       "        const dataTable =\n",
       "          await google.colab.kernel.invokeFunction('convertToInteractive',\n",
       "                                                    [key], {});\n",
       "        if (!dataTable) return;\n",
       "\n",
       "        const docLinkHtml = 'Like what you see? Visit the ' +\n",
       "          '<a target=\"_blank\" href=https://colab.research.google.com/notebooks/data_table.ipynb>data table notebook</a>'\n",
       "          + ' to learn more about interactive tables.';\n",
       "        element.innerHTML = '';\n",
       "        dataTable['output_type'] = 'display_data';\n",
       "        await google.colab.output.renderOutput(dataTable, element);\n",
       "        const docLink = document.createElement('div');\n",
       "        docLink.innerHTML = docLinkHtml;\n",
       "        element.appendChild(docLink);\n",
       "      }\n",
       "    </script>\n",
       "  </div>\n",
       "\n",
       "\n",
       "<div id=\"df-04cb1734-6f29-42dd-92dc-625dc6eb4341\">\n",
       "  <button class=\"colab-df-quickchart\" onclick=\"quickchart('df-04cb1734-6f29-42dd-92dc-625dc6eb4341')\"\n",
       "            title=\"Suggest charts\"\n",
       "            style=\"display:none;\">\n",
       "\n",
       "<svg xmlns=\"http://www.w3.org/2000/svg\" height=\"24px\"viewBox=\"0 0 24 24\"\n",
       "     width=\"24px\">\n",
       "    <g>\n",
       "        <path d=\"M19 3H5c-1.1 0-2 .9-2 2v14c0 1.1.9 2 2 2h14c1.1 0 2-.9 2-2V5c0-1.1-.9-2-2-2zM9 17H7v-7h2v7zm4 0h-2V7h2v10zm4 0h-2v-4h2v4z\"/>\n",
       "    </g>\n",
       "</svg>\n",
       "  </button>\n",
       "\n",
       "<style>\n",
       "  .colab-df-quickchart {\n",
       "      --bg-color: #E8F0FE;\n",
       "      --fill-color: #1967D2;\n",
       "      --hover-bg-color: #E2EBFA;\n",
       "      --hover-fill-color: #174EA6;\n",
       "      --disabled-fill-color: #AAA;\n",
       "      --disabled-bg-color: #DDD;\n",
       "  }\n",
       "\n",
       "  [theme=dark] .colab-df-quickchart {\n",
       "      --bg-color: #3B4455;\n",
       "      --fill-color: #D2E3FC;\n",
       "      --hover-bg-color: #434B5C;\n",
       "      --hover-fill-color: #FFFFFF;\n",
       "      --disabled-bg-color: #3B4455;\n",
       "      --disabled-fill-color: #666;\n",
       "  }\n",
       "\n",
       "  .colab-df-quickchart {\n",
       "    background-color: var(--bg-color);\n",
       "    border: none;\n",
       "    border-radius: 50%;\n",
       "    cursor: pointer;\n",
       "    display: none;\n",
       "    fill: var(--fill-color);\n",
       "    height: 32px;\n",
       "    padding: 0;\n",
       "    width: 32px;\n",
       "  }\n",
       "\n",
       "  .colab-df-quickchart:hover {\n",
       "    background-color: var(--hover-bg-color);\n",
       "    box-shadow: 0 1px 2px rgba(60, 64, 67, 0.3), 0 1px 3px 1px rgba(60, 64, 67, 0.15);\n",
       "    fill: var(--button-hover-fill-color);\n",
       "  }\n",
       "\n",
       "  .colab-df-quickchart-complete:disabled,\n",
       "  .colab-df-quickchart-complete:disabled:hover {\n",
       "    background-color: var(--disabled-bg-color);\n",
       "    fill: var(--disabled-fill-color);\n",
       "    box-shadow: none;\n",
       "  }\n",
       "\n",
       "  .colab-df-spinner {\n",
       "    border: 2px solid var(--fill-color);\n",
       "    border-color: transparent;\n",
       "    border-bottom-color: var(--fill-color);\n",
       "    animation:\n",
       "      spin 1s steps(1) infinite;\n",
       "  }\n",
       "\n",
       "  @keyframes spin {\n",
       "    0% {\n",
       "      border-color: transparent;\n",
       "      border-bottom-color: var(--fill-color);\n",
       "      border-left-color: var(--fill-color);\n",
       "    }\n",
       "    20% {\n",
       "      border-color: transparent;\n",
       "      border-left-color: var(--fill-color);\n",
       "      border-top-color: var(--fill-color);\n",
       "    }\n",
       "    30% {\n",
       "      border-color: transparent;\n",
       "      border-left-color: var(--fill-color);\n",
       "      border-top-color: var(--fill-color);\n",
       "      border-right-color: var(--fill-color);\n",
       "    }\n",
       "    40% {\n",
       "      border-color: transparent;\n",
       "      border-right-color: var(--fill-color);\n",
       "      border-top-color: var(--fill-color);\n",
       "    }\n",
       "    60% {\n",
       "      border-color: transparent;\n",
       "      border-right-color: var(--fill-color);\n",
       "    }\n",
       "    80% {\n",
       "      border-color: transparent;\n",
       "      border-right-color: var(--fill-color);\n",
       "      border-bottom-color: var(--fill-color);\n",
       "    }\n",
       "    90% {\n",
       "      border-color: transparent;\n",
       "      border-bottom-color: var(--fill-color);\n",
       "    }\n",
       "  }\n",
       "</style>\n",
       "\n",
       "  <script>\n",
       "    async function quickchart(key) {\n",
       "      const quickchartButtonEl =\n",
       "        document.querySelector('#' + key + ' button');\n",
       "      quickchartButtonEl.disabled = true;  // To prevent multiple clicks.\n",
       "      quickchartButtonEl.classList.add('colab-df-spinner');\n",
       "      try {\n",
       "        const charts = await google.colab.kernel.invokeFunction(\n",
       "            'suggestCharts', [key], {});\n",
       "      } catch (error) {\n",
       "        console.error('Error during call to suggestCharts:', error);\n",
       "      }\n",
       "      quickchartButtonEl.classList.remove('colab-df-spinner');\n",
       "      quickchartButtonEl.classList.add('colab-df-quickchart-complete');\n",
       "    }\n",
       "    (() => {\n",
       "      let quickchartButtonEl =\n",
       "        document.querySelector('#df-04cb1734-6f29-42dd-92dc-625dc6eb4341 button');\n",
       "      quickchartButtonEl.style.display =\n",
       "        google.colab.kernel.accessAllowed ? 'block' : 'none';\n",
       "    })();\n",
       "  </script>\n",
       "</div>\n",
       "\n",
       "  <div id=\"id_3dad4254-0508-4e18-9906-e6727d77deaf\">\n",
       "    <style>\n",
       "      .colab-df-generate {\n",
       "        background-color: #E8F0FE;\n",
       "        border: none;\n",
       "        border-radius: 50%;\n",
       "        cursor: pointer;\n",
       "        display: none;\n",
       "        fill: #1967D2;\n",
       "        height: 32px;\n",
       "        padding: 0 0 0 0;\n",
       "        width: 32px;\n",
       "      }\n",
       "\n",
       "      .colab-df-generate:hover {\n",
       "        background-color: #E2EBFA;\n",
       "        box-shadow: 0px 1px 2px rgba(60, 64, 67, 0.3), 0px 1px 3px 1px rgba(60, 64, 67, 0.15);\n",
       "        fill: #174EA6;\n",
       "      }\n",
       "\n",
       "      [theme=dark] .colab-df-generate {\n",
       "        background-color: #3B4455;\n",
       "        fill: #D2E3FC;\n",
       "      }\n",
       "\n",
       "      [theme=dark] .colab-df-generate:hover {\n",
       "        background-color: #434B5C;\n",
       "        box-shadow: 0px 1px 3px 1px rgba(0, 0, 0, 0.15);\n",
       "        filter: drop-shadow(0px 1px 2px rgba(0, 0, 0, 0.3));\n",
       "        fill: #FFFFFF;\n",
       "      }\n",
       "    </style>\n",
       "    <button class=\"colab-df-generate\" onclick=\"generateWithVariable('df')\"\n",
       "            title=\"Generate code using this dataframe.\"\n",
       "            style=\"display:none;\">\n",
       "\n",
       "  <svg xmlns=\"http://www.w3.org/2000/svg\" height=\"24px\"viewBox=\"0 0 24 24\"\n",
       "       width=\"24px\">\n",
       "    <path d=\"M7,19H8.4L18.45,9,17,7.55,7,17.6ZM5,21V16.75L18.45,3.32a2,2,0,0,1,2.83,0l1.4,1.43a1.91,1.91,0,0,1,.58,1.4,1.91,1.91,0,0,1-.58,1.4L9.25,21ZM18.45,9,17,7.55Zm-12,3A5.31,5.31,0,0,0,4.9,8.1,5.31,5.31,0,0,0,1,6.5,5.31,5.31,0,0,0,4.9,4.9,5.31,5.31,0,0,0,6.5,1,5.31,5.31,0,0,0,8.1,4.9,5.31,5.31,0,0,0,12,6.5,5.46,5.46,0,0,0,6.5,12Z\"/>\n",
       "  </svg>\n",
       "    </button>\n",
       "    <script>\n",
       "      (() => {\n",
       "      const buttonEl =\n",
       "        document.querySelector('#id_3dad4254-0508-4e18-9906-e6727d77deaf button.colab-df-generate');\n",
       "      buttonEl.style.display =\n",
       "        google.colab.kernel.accessAllowed ? 'block' : 'none';\n",
       "\n",
       "      buttonEl.onclick = () => {\n",
       "        google.colab.notebook.generateWithVariable('df');\n",
       "      }\n",
       "      })();\n",
       "    </script>\n",
       "  </div>\n",
       "\n",
       "    </div>\n",
       "  </div>\n"
      ],
      "text/plain": [
       "        preds  labels\n",
       "0    0.035428     0.0\n",
       "1    0.967342     1.0\n",
       "2    0.041578     0.0\n",
       "3    0.144585     0.0\n",
       "4    0.925471     1.0\n",
       "..        ...     ...\n",
       "395  0.888319     1.0\n",
       "396  0.920841     1.0\n",
       "397  0.061444     0.0\n",
       "398  0.047150     0.0\n",
       "399  0.626235     1.0\n",
       "\n",
       "[400 rows x 2 columns]"
      ]
     },
     "execution_count": 45,
     "metadata": {},
     "output_type": "execute_result"
    }
   ],
   "source": [
    "# transfer the outcomes into np format\n",
    "# Concatenate the tensors along the batch dimension\n",
    "predictions_concatenated = np.concatenate(predictions)\n",
    "# Flatten the concatenated array to one dimension\n",
    "predictions_flat = predictions_concatenated.flatten()\n",
    "\n",
    "labels_concatenated = np.concatenate(labels)\n",
    "# Flatten the concatenated array to one dimension\n",
    "labels_flat = labels_concatenated.flatten()\n",
    "\n",
    "\n",
    "# put the predictions and labels into the same dataset\n",
    "# df is &nbsp;the data set with which we evaluate the performance\n",
    "df = np.array([predictions_flat, labels_flat]).T\n",
    "df = pd.DataFrame(data=df, columns=[\"preds\", \"labels\"])\n",
    "\n",
    "\n",
    "df"
   ]
  },
  {
   "cell_type": "code",
   "execution_count": null,
   "metadata": {
    "colab": {
     "base_uri": "https://localhost:8080/",
     "height": 592
    },
    "id": "sPba7cEvpFAh",
    "outputId": "e75c75b4-5535-4daa-9c39-0870ba1a1b69"
   },
   "outputs": [
    {
     "data": {
      "image/png": "[encoded data removed]",
      "text/plain": [
       "<Figure size 1200x600 with 1 Axes>"
      ]
     },
     "metadata": {},
     "output_type": "display_data"
    }
   ],
   "source": [
    "import sklearn.metrics as metrics\n",
    "fpr, tpr, threshold = metrics.roc_curve(df['labels'], df['preds'])\n",
    "roc_auc = metrics.auc(fpr, tpr)\n",
    "\n",
    "# method I: plt\n",
    "import matplotlib.pyplot as plt\n",
    "plt.title('Receiver Operating Characteristic')\n",
    "plt.plot(fpr, tpr, 'b', label = 'AUC = %0.2f' % roc_auc)\n",
    "plt.legend(loc = 'lower right')\n",
    "plt.plot([0, 1], [0, 1],'r--')\n",
    "plt.xlim([0, 1])\n",
    "plt.ylim([0, 1])\n",
    "plt.ylabel('True Positive Rate')\n",
    "plt.xlabel('False Positive Rate')\n",
    "plt.show()"
   ]
  },
  {
   "cell_type": "code",
   "execution_count": null,
   "metadata": {
    "colab": {
     "base_uri": "https://localhost:8080/"
    },
    "id": "pTfIfvLHsmin",
    "outputId": "99120161-44e7-42a6-9231-edc7317b8845"
   },
   "outputs": [
    {
     "data": {
      "text/plain": [
       "array([[176,  23],\n",
       "       [ 17, 184]])"
      ]
     },
     "execution_count": 47,
     "metadata": {},
     "output_type": "execute_result"
    }
   ],
   "source": [
    "# confusion matrix\n",
    "from sklearn.metrics import confusion_matrix, matthews_corrcoef\n",
    "confusion_matrix(df['labels'], df['preds'].round(0))"
   ]
  },
  {
   "cell_type": "code",
   "execution_count": null,
   "metadata": {
    "colab": {
     "base_uri": "https://localhost:8080/"
    },
    "id": "QEecuN56ti1b",
    "outputId": "6c2b6c54-5257-4b0d-ca1a-1354b175e4b4"
   },
   "outputs": [
    {
     "name": "stdout",
     "output_type": "stream",
     "text": [
      " true negative: 176 false positive 23 \n",
      " false negative: 17 true positve: 184\n",
      "accuracy: 0.8866995073891626\n"
     ]
    }
   ],
   "source": [
    "# true negative, false positive, false negative, true positive\n",
    "tn, fp, fn, tp = confusion_matrix(df['labels'], df['preds'].round(0)).ravel()\n",
    "print(\" true negative:\", tn, \"false positive\", fp, \"\\n\",\n",
    "      \"false negative:\", fn, \"true positve:\", tp)\n",
    "print(\"accuracy:\", (tn + tp)/(tn + fp + fp + tp))"
   ]
  },
  {
   "cell_type": "code",
   "execution_count": null,
   "metadata": {
    "colab": {
     "base_uri": "https://localhost:8080/"
    },
    "id": "XStkhkT-8kAN",
    "outputId": "05928d8a-a085-4335-c7d8-0f4c0f63600f"
   },
   "outputs": [
    {
     "data": {
      "text/plain": [
       "0.9019607843137254"
      ]
     },
     "execution_count": 49,
     "metadata": {},
     "output_type": "execute_result"
    }
   ],
   "source": [
    "# f1 score\n",
    "metrics.f1_score(df['labels'], df['preds'].round(0))"
   ]
  },
  {
   "cell_type": "code",
   "execution_count": null,
   "metadata": {
    "colab": {
     "base_uri": "https://localhost:8080/"
    },
    "id": "R6Zpg6kQ0Ul4",
    "outputId": "f1bfb5b9-0c8f-4bec-e2be-a09c8220bda5"
   },
   "outputs": [
    {
     "data": {
      "text/plain": [
       "0.6666666666666666"
      ]
     },
     "execution_count": 50,
     "metadata": {},
     "output_type": "execute_result"
    }
   ],
   "source": [
    "# naive f1 socre: predicting every case as positive\n",
    "raw_text['label'].mean()*2/(1 + raw_text['label'].mean())"
   ]
  },
  {
   "cell_type": "code",
   "execution_count": null,
   "metadata": {
    "colab": {
     "base_uri": "https://localhost:8080/"
    },
    "id": "NBm1m9W3Z4HM",
    "outputId": "43e7d26c-7403-463b-f09a-2597122b0367"
   },
   "outputs": [
    {
     "data": {
      "text/plain": [
       "0.8003253474908502"
      ]
     },
     "execution_count": 51,
     "metadata": {},
     "output_type": "execute_result"
    }
   ],
   "source": [
    "# matthew's correlation coefficient\n",
    "# why matthew's correlation coefficient is better than F1\n",
    "# https://lettier.github.io/posts/2016-08-05-matthews-correlation-coefficient.html\n",
    "matthews_corrcoef(df['labels'], df['preds'].round(0))"
   ]
  },
  {
   "cell_type": "code",
   "execution_count": null,
   "metadata": {
    "colab": {
     "base_uri": "https://localhost:8080/"
    },
    "id": "0uBQvEqF7UKf",
    "outputId": "30f79896-29c2-421b-eed7-0de8d32bc989"
   },
   "outputs": [
    {
     "name": "stdout",
     "output_type": "stream",
     "text": [
      "please enter your text:I like the food badly\n",
      "the predicted probability is: 0.42571574449539185 \n",
      " the 'predicted label, when threshold is 0.5, is: 0.0\n"
     ]
    }
   ],
   "source": [
    "# test a specific example\n",
    "text = input(\"please enter your text:\")\n",
    "encoded_text = tokenizer.encode_plus(text, max_length = 128, truncation = 'longest_first')\n",
    "input_ids = torch.tensor([encoded_text['input_ids']]).to(device, dtype = torch.long)\n",
    "attention_mask = torch.tensor([encoded_text['attention_mask']]).to(device, dtype = torch.long)\n",
    "with torch.no_grad():\n",
    "    prediction = cls_model(input_ids, attention_mask)\n",
    "print(\"the predicted probability is:\",prediction.item(),\"\\n\",\n",
    "      \"the 'predicted label, when threshold is 0.5, is:\", prediction.round().item())"
   ]
  },
  {
   "cell_type": "code",
   "execution_count": null,
   "metadata": {
    "colab": {
     "base_uri": "https://localhost:8080/",
     "height": 424
    },
    "id": "J9PDrrPNhsIN",
    "outputId": "dde2b952-bffd-4316-ddd8-6516a79f96c3"
   },
   "outputs": [
    {
     "data": {
      "application/vnd.google.colaboratory.intrinsic+json": {
       "summary": "{\n  \"name\": \"df\",\n  \"rows\": 201,\n  \"fields\": [\n    {\n      \"column\": \"preds\",\n      \"properties\": {\n        \"dtype\": \"float32\",\n        \"num_unique_values\": 201,\n        \"samples\": [\n          0.9381552338600159,\n          0.4124031662940979,\n          0.6569856405258179\n        ],\n        \"semantic_type\": \"\",\n        \"description\": \"\"\n      }\n    },\n    {\n      \"column\": \"labels\",\n      \"properties\": {\n        \"dtype\": \"float32\",\n        \"num_unique_values\": 1,\n        \"samples\": [\n          1.0\n        ],\n        \"semantic_type\": \"\",\n        \"description\": \"\"\n      }\n    }\n  ]\n}",
       "type": "dataframe"
      },
      "text/html": [
       "\n",
       "  <div id=\"df-82915202-b7af-49f7-afde-46158d7eedd9\" class=\"colab-df-container\">\n",
       "    <div>\n",
       "<style scoped>\n",
       "    .dataframe tbody tr th:only-of-type {\n",
       "        vertical-align: middle;\n",
       "    }\n",
       "\n",
       "    .dataframe tbody tr th {\n",
       "        vertical-align: top;\n",
       "    }\n",
       "\n",
       "    .dataframe thead th {\n",
       "        text-align: right;\n",
       "    }\n",
       "</style>\n",
       "<table border=\"1\" class=\"dataframe\">\n",
       "  <thead>\n",
       "    <tr style=\"text-align: right;\">\n",
       "      <th></th>\n",
       "      <th>preds</th>\n",
       "      <th>labels</th>\n",
       "    </tr>\n",
       "  </thead>\n",
       "  <tbody>\n",
       "    <tr>\n",
       "      <th>113</th>\n",
       "      <td>0.068376</td>\n",
       "      <td>1.0</td>\n",
       "    </tr>\n",
       "    <tr>\n",
       "      <th>171</th>\n",
       "      <td>0.125256</td>\n",
       "      <td>1.0</td>\n",
       "    </tr>\n",
       "    <tr>\n",
       "      <th>6</th>\n",
       "      <td>0.125452</td>\n",
       "      <td>1.0</td>\n",
       "    </tr>\n",
       "    <tr>\n",
       "      <th>335</th>\n",
       "      <td>0.152326</td>\n",
       "      <td>1.0</td>\n",
       "    </tr>\n",
       "    <tr>\n",
       "      <th>127</th>\n",
       "      <td>0.155310</td>\n",
       "      <td>1.0</td>\n",
       "    </tr>\n",
       "    <tr>\n",
       "      <th>...</th>\n",
       "      <td>...</td>\n",
       "      <td>...</td>\n",
       "    </tr>\n",
       "    <tr>\n",
       "      <th>275</th>\n",
       "      <td>0.973239</td>\n",
       "      <td>1.0</td>\n",
       "    </tr>\n",
       "    <tr>\n",
       "      <th>370</th>\n",
       "      <td>0.973273</td>\n",
       "      <td>1.0</td>\n",
       "    </tr>\n",
       "    <tr>\n",
       "      <th>294</th>\n",
       "      <td>0.974114</td>\n",
       "      <td>1.0</td>\n",
       "    </tr>\n",
       "    <tr>\n",
       "      <th>168</th>\n",
       "      <td>0.974139</td>\n",
       "      <td>1.0</td>\n",
       "    </tr>\n",
       "    <tr>\n",
       "      <th>284</th>\n",
       "      <td>0.974918</td>\n",
       "      <td>1.0</td>\n",
       "    </tr>\n",
       "  </tbody>\n",
       "</table>\n",
       "<p>201 rows × 2 columns</p>\n",
       "</div>\n",
       "    <div class=\"colab-df-buttons\">\n",
       "\n",
       "  <div class=\"colab-df-container\">\n",
       "    <button class=\"colab-df-convert\" onclick=\"convertToInteractive('df-82915202-b7af-49f7-afde-46158d7eedd9')\"\n",
       "            title=\"Convert this dataframe to an interactive table.\"\n",
       "            style=\"display:none;\">\n",
       "\n",
       "  <svg xmlns=\"http://www.w3.org/2000/svg\" height=\"24px\" viewBox=\"0 -960 960 960\">\n",
       "    <path d=\"M120-120v-720h720v720H120Zm60-500h600v-160H180v160Zm220 220h160v-160H400v160Zm0 220h160v-160H400v160ZM180-400h160v-160H180v160Zm440 0h160v-160H620v160ZM180-180h160v-160H180v160Zm440 0h160v-160H620v160Z\"/>\n",
       "  </svg>\n",
       "    </button>\n",
       "\n",
       "  <style>\n",
       "    .colab-df-container {\n",
       "      display:flex;\n",
       "      gap: 12px;\n",
       "    }\n",
       "\n",
       "    .colab-df-convert {\n",
       "      background-color: #E8F0FE;\n",
       "      border: none;\n",
       "      border-radius: 50%;\n",
       "      cursor: pointer;\n",
       "      display: none;\n",
       "      fill: #1967D2;\n",
       "      height: 32px;\n",
       "      padding: 0 0 0 0;\n",
       "      width: 32px;\n",
       "    }\n",
       "\n",
       "    .colab-df-convert:hover {\n",
       "      background-color: #E2EBFA;\n",
       "      box-shadow: 0px 1px 2px rgba(60, 64, 67, 0.3), 0px 1px 3px 1px rgba(60, 64, 67, 0.15);\n",
       "      fill: #174EA6;\n",
       "    }\n",
       "\n",
       "    .colab-df-buttons div {\n",
       "      margin-bottom: 4px;\n",
       "    }\n",
       "\n",
       "    [theme=dark] .colab-df-convert {\n",
       "      background-color: #3B4455;\n",
       "      fill: #D2E3FC;\n",
       "    }\n",
       "\n",
       "    [theme=dark] .colab-df-convert:hover {\n",
       "      background-color: #434B5C;\n",
       "      box-shadow: 0px 1px 3px 1px rgba(0, 0, 0, 0.15);\n",
       "      filter: drop-shadow(0px 1px 2px rgba(0, 0, 0, 0.3));\n",
       "      fill: #FFFFFF;\n",
       "    }\n",
       "  </style>\n",
       "\n",
       "    <script>\n",
       "      const buttonEl =\n",
       "        document.querySelector('#df-82915202-b7af-49f7-afde-46158d7eedd9 button.colab-df-convert');\n",
       "      buttonEl.style.display =\n",
       "        google.colab.kernel.accessAllowed ? 'block' : 'none';\n",
       "\n",
       "      async function convertToInteractive(key) {\n",
       "        const element = document.querySelector('#df-82915202-b7af-49f7-afde-46158d7eedd9');\n",
       "        const dataTable =\n",
       "          await google.colab.kernel.invokeFunction('convertToInteractive',\n",
       "                                                    [key], {});\n",
       "        if (!dataTable) return;\n",
       "\n",
       "        const docLinkHtml = 'Like what you see? Visit the ' +\n",
       "          '<a target=\"_blank\" href=https://colab.research.google.com/notebooks/data_table.ipynb>data table notebook</a>'\n",
       "          + ' to learn more about interactive tables.';\n",
       "        element.innerHTML = '';\n",
       "        dataTable['output_type'] = 'display_data';\n",
       "        await google.colab.output.renderOutput(dataTable, element);\n",
       "        const docLink = document.createElement('div');\n",
       "        docLink.innerHTML = docLinkHtml;\n",
       "        element.appendChild(docLink);\n",
       "      }\n",
       "    </script>\n",
       "  </div>\n",
       "\n",
       "\n",
       "<div id=\"df-043ef4aa-bad2-4bec-aacc-0909b1e8c426\">\n",
       "  <button class=\"colab-df-quickchart\" onclick=\"quickchart('df-043ef4aa-bad2-4bec-aacc-0909b1e8c426')\"\n",
       "            title=\"Suggest charts\"\n",
       "            style=\"display:none;\">\n",
       "\n",
       "<svg xmlns=\"http://www.w3.org/2000/svg\" height=\"24px\"viewBox=\"0 0 24 24\"\n",
       "     width=\"24px\">\n",
       "    <g>\n",
       "        <path d=\"M19 3H5c-1.1 0-2 .9-2 2v14c0 1.1.9 2 2 2h14c1.1 0 2-.9 2-2V5c0-1.1-.9-2-2-2zM9 17H7v-7h2v7zm4 0h-2V7h2v10zm4 0h-2v-4h2v4z\"/>\n",
       "    </g>\n",
       "</svg>\n",
       "  </button>\n",
       "\n",
       "<style>\n",
       "  .colab-df-quickchart {\n",
       "      --bg-color: #E8F0FE;\n",
       "      --fill-color: #1967D2;\n",
       "      --hover-bg-color: #E2EBFA;\n",
       "      --hover-fill-color: #174EA6;\n",
       "      --disabled-fill-color: #AAA;\n",
       "      --disabled-bg-color: #DDD;\n",
       "  }\n",
       "\n",
       "  [theme=dark] .colab-df-quickchart {\n",
       "      --bg-color: #3B4455;\n",
       "      --fill-color: #D2E3FC;\n",
       "      --hover-bg-color: #434B5C;\n",
       "      --hover-fill-color: #FFFFFF;\n",
       "      --disabled-bg-color: #3B4455;\n",
       "      --disabled-fill-color: #666;\n",
       "  }\n",
       "\n",
       "  .colab-df-quickchart {\n",
       "    background-color: var(--bg-color);\n",
       "    border: none;\n",
       "    border-radius: 50%;\n",
       "    cursor: pointer;\n",
       "    display: none;\n",
       "    fill: var(--fill-color);\n",
       "    height: 32px;\n",
       "    padding: 0;\n",
       "    width: 32px;\n",
       "  }\n",
       "\n",
       "  .colab-df-quickchart:hover {\n",
       "    background-color: var(--hover-bg-color);\n",
       "    box-shadow: 0 1px 2px rgba(60, 64, 67, 0.3), 0 1px 3px 1px rgba(60, 64, 67, 0.15);\n",
       "    fill: var(--button-hover-fill-color);\n",
       "  }\n",
       "\n",
       "  .colab-df-quickchart-complete:disabled,\n",
       "  .colab-df-quickchart-complete:disabled:hover {\n",
       "    background-color: var(--disabled-bg-color);\n",
       "    fill: var(--disabled-fill-color);\n",
       "    box-shadow: none;\n",
       "  }\n",
       "\n",
       "  .colab-df-spinner {\n",
       "    border: 2px solid var(--fill-color);\n",
       "    border-color: transparent;\n",
       "    border-bottom-color: var(--fill-color);\n",
       "    animation:\n",
       "      spin 1s steps(1) infinite;\n",
       "  }\n",
       "\n",
       "  @keyframes spin {\n",
       "    0% {\n",
       "      border-color: transparent;\n",
       "      border-bottom-color: var(--fill-color);\n",
       "      border-left-color: var(--fill-color);\n",
       "    }\n",
       "    20% {\n",
       "      border-color: transparent;\n",
       "      border-left-color: var(--fill-color);\n",
       "      border-top-color: var(--fill-color);\n",
       "    }\n",
       "    30% {\n",
       "      border-color: transparent;\n",
       "      border-left-color: var(--fill-color);\n",
       "      border-top-color: var(--fill-color);\n",
       "      border-right-color: var(--fill-color);\n",
       "    }\n",
       "    40% {\n",
       "      border-color: transparent;\n",
       "      border-right-color: var(--fill-color);\n",
       "      border-top-color: var(--fill-color);\n",
       "    }\n",
       "    60% {\n",
       "      border-color: transparent;\n",
       "      border-right-color: var(--fill-color);\n",
       "    }\n",
       "    80% {\n",
       "      border-color: transparent;\n",
       "      border-right-color: var(--fill-color);\n",
       "      border-bottom-color: var(--fill-color);\n",
       "    }\n",
       "    90% {\n",
       "      border-color: transparent;\n",
       "      border-bottom-color: var(--fill-color);\n",
       "    }\n",
       "  }\n",
       "</style>\n",
       "\n",
       "  <script>\n",
       "    async function quickchart(key) {\n",
       "      const quickchartButtonEl =\n",
       "        document.querySelector('#' + key + ' button');\n",
       "      quickchartButtonEl.disabled = true;  // To prevent multiple clicks.\n",
       "      quickchartButtonEl.classList.add('colab-df-spinner');\n",
       "      try {\n",
       "        const charts = await google.colab.kernel.invokeFunction(\n",
       "            'suggestCharts', [key], {});\n",
       "      } catch (error) {\n",
       "        console.error('Error during call to suggestCharts:', error);\n",
       "      }\n",
       "      quickchartButtonEl.classList.remove('colab-df-spinner');\n",
       "      quickchartButtonEl.classList.add('colab-df-quickchart-complete');\n",
       "    }\n",
       "    (() => {\n",
       "      let quickchartButtonEl =\n",
       "        document.querySelector('#df-043ef4aa-bad2-4bec-aacc-0909b1e8c426 button');\n",
       "      quickchartButtonEl.style.display =\n",
       "        google.colab.kernel.accessAllowed ? 'block' : 'none';\n",
       "    })();\n",
       "  </script>\n",
       "</div>\n",
       "\n",
       "    </div>\n",
       "  </div>\n"
      ],
      "text/plain": [
       "        preds  labels\n",
       "113  0.068376     1.0\n",
       "171  0.125256     1.0\n",
       "6    0.125452     1.0\n",
       "335  0.152326     1.0\n",
       "127  0.155310     1.0\n",
       "..        ...     ...\n",
       "275  0.973239     1.0\n",
       "370  0.973273     1.0\n",
       "294  0.974114     1.0\n",
       "168  0.974139     1.0\n",
       "284  0.974918     1.0\n",
       "\n",
       "[201 rows x 2 columns]"
      ]
     },
     "execution_count": 53,
     "metadata": {},
     "output_type": "execute_result"
    }
   ],
   "source": [
    "# for all the observations that have true_label == 1,\n",
    "# let's sort their predicted probabilities\n",
    "df.loc[df['labels'] == 1, :].sort_values('preds')"
   ]
  },
  {
   "cell_type": "code",
   "execution_count": null,
   "metadata": {
    "colab": {
     "base_uri": "https://localhost:8080/",
     "height": 87
    },
    "id": "wslamubJhsIQ",
    "outputId": "014ea717-42a4-4b81-85a5-78b99b6ac256"
   },
   "outputs": [
    {
     "data": {
      "application/vnd.google.colaboratory.intrinsic+json": {
       "type": "string"
      },
      "text/plain": [
       "\"There are no good buffets in our area. But if I were to choose, I'd say Golden Corral is better than other options available to us. \\n\\nThe only complaint is that the line is out the door. We had to wait in the hot summer sun. First you have to wait to get in and pay, then you have to wait to sit down. Perhaps we went at the wrong time. \\n\\nAnother thing is there's a drink line before you go to pay. It was our first time there, and everyone was helping themselves to drinks. So naturally I did the same. But we didn't know drinks were in addition to the cost of the meal. Not good! I would have opted for water had I known. \\n\\nDefinitely nothing over the top. But if I had to choose a buffet close to home, it would be this one.\""
      ]
     },
     "execution_count": 55,
     "metadata": {},
     "output_type": "execute_result"
    }
   ],
   "source": [
    "# see a specific observation\n",
    "valid_raw.iloc[113,0]"
   ]
  },
  {
   "cell_type": "code",
   "execution_count": null,
   "metadata": {
    "colab": {
     "base_uri": "https://localhost:8080/",
     "height": 424
    },
    "id": "otzAxck1hsIR",
    "outputId": "245c63e3-53c2-4099-b847-a96cee4f0bec"
   },
   "outputs": [
    {
     "data": {
      "application/vnd.google.colaboratory.intrinsic+json": {
       "summary": "{\n  \"name\": \"df\",\n  \"rows\": 199,\n  \"fields\": [\n    {\n      \"column\": \"preds\",\n      \"properties\": {\n        \"dtype\": \"float32\",\n        \"num_unique_values\": 199,\n        \"samples\": [\n          0.05008392035961151,\n          0.6663959622383118,\n          0.040500473231077194\n        ],\n        \"semantic_type\": \"\",\n        \"description\": \"\"\n      }\n    },\n    {\n      \"column\": \"labels\",\n      \"properties\": {\n        \"dtype\": \"float32\",\n        \"num_unique_values\": 1,\n        \"samples\": [\n          0.0\n        ],\n        \"semantic_type\": \"\",\n        \"description\": \"\"\n      }\n    }\n  ]\n}",
       "type": "dataframe"
      },
      "text/html": [
       "\n",
       "  <div id=\"df-577f8e6e-0445-4bd2-a025-7f8c20beda2c\" class=\"colab-df-container\">\n",
       "    <div>\n",
       "<style scoped>\n",
       "    .dataframe tbody tr th:only-of-type {\n",
       "        vertical-align: middle;\n",
       "    }\n",
       "\n",
       "    .dataframe tbody tr th {\n",
       "        vertical-align: top;\n",
       "    }\n",
       "\n",
       "    .dataframe thead th {\n",
       "        text-align: right;\n",
       "    }\n",
       "</style>\n",
       "<table border=\"1\" class=\"dataframe\">\n",
       "  <thead>\n",
       "    <tr style=\"text-align: right;\">\n",
       "      <th></th>\n",
       "      <th>preds</th>\n",
       "      <th>labels</th>\n",
       "    </tr>\n",
       "  </thead>\n",
       "  <tbody>\n",
       "    <tr>\n",
       "      <th>101</th>\n",
       "      <td>0.966227</td>\n",
       "      <td>0.0</td>\n",
       "    </tr>\n",
       "    <tr>\n",
       "      <th>218</th>\n",
       "      <td>0.952203</td>\n",
       "      <td>0.0</td>\n",
       "    </tr>\n",
       "    <tr>\n",
       "      <th>372</th>\n",
       "      <td>0.938033</td>\n",
       "      <td>0.0</td>\n",
       "    </tr>\n",
       "    <tr>\n",
       "      <th>276</th>\n",
       "      <td>0.933841</td>\n",
       "      <td>0.0</td>\n",
       "    </tr>\n",
       "    <tr>\n",
       "      <th>17</th>\n",
       "      <td>0.914772</td>\n",
       "      <td>0.0</td>\n",
       "    </tr>\n",
       "    <tr>\n",
       "      <th>...</th>\n",
       "      <td>...</td>\n",
       "      <td>...</td>\n",
       "    </tr>\n",
       "    <tr>\n",
       "      <th>102</th>\n",
       "      <td>0.028250</td>\n",
       "      <td>0.0</td>\n",
       "    </tr>\n",
       "    <tr>\n",
       "      <th>327</th>\n",
       "      <td>0.027807</td>\n",
       "      <td>0.0</td>\n",
       "    </tr>\n",
       "    <tr>\n",
       "      <th>344</th>\n",
       "      <td>0.027792</td>\n",
       "      <td>0.0</td>\n",
       "    </tr>\n",
       "    <tr>\n",
       "      <th>320</th>\n",
       "      <td>0.026700</td>\n",
       "      <td>0.0</td>\n",
       "    </tr>\n",
       "    <tr>\n",
       "      <th>148</th>\n",
       "      <td>0.026079</td>\n",
       "      <td>0.0</td>\n",
       "    </tr>\n",
       "  </tbody>\n",
       "</table>\n",
       "<p>199 rows × 2 columns</p>\n",
       "</div>\n",
       "    <div class=\"colab-df-buttons\">\n",
       "\n",
       "  <div class=\"colab-df-container\">\n",
       "    <button class=\"colab-df-convert\" onclick=\"convertToInteractive('df-577f8e6e-0445-4bd2-a025-7f8c20beda2c')\"\n",
       "            title=\"Convert this dataframe to an interactive table.\"\n",
       "            style=\"display:none;\">\n",
       "\n",
       "  <svg xmlns=\"http://www.w3.org/2000/svg\" height=\"24px\" viewBox=\"0 -960 960 960\">\n",
       "    <path d=\"M120-120v-720h720v720H120Zm60-500h600v-160H180v160Zm220 220h160v-160H400v160Zm0 220h160v-160H400v160ZM180-400h160v-160H180v160Zm440 0h160v-160H620v160ZM180-180h160v-160H180v160Zm440 0h160v-160H620v160Z\"/>\n",
       "  </svg>\n",
       "    </button>\n",
       "\n",
       "  <style>\n",
       "    .colab-df-container {\n",
       "      display:flex;\n",
       "      gap: 12px;\n",
       "    }\n",
       "\n",
       "    .colab-df-convert {\n",
       "      background-color: #E8F0FE;\n",
       "      border: none;\n",
       "      border-radius: 50%;\n",
       "      cursor: pointer;\n",
       "      display: none;\n",
       "      fill: #1967D2;\n",
       "      height: 32px;\n",
       "      padding: 0 0 0 0;\n",
       "      width: 32px;\n",
       "    }\n",
       "\n",
       "    .colab-df-convert:hover {\n",
       "      background-color: #E2EBFA;\n",
       "      box-shadow: 0px 1px 2px rgba(60, 64, 67, 0.3), 0px 1px 3px 1px rgba(60, 64, 67, 0.15);\n",
       "      fill: #174EA6;\n",
       "    }\n",
       "\n",
       "    .colab-df-buttons div {\n",
       "      margin-bottom: 4px;\n",
       "    }\n",
       "\n",
       "    [theme=dark] .colab-df-convert {\n",
       "      background-color: #3B4455;\n",
       "      fill: #D2E3FC;\n",
       "    }\n",
       "\n",
       "    [theme=dark] .colab-df-convert:hover {\n",
       "      background-color: #434B5C;\n",
       "      box-shadow: 0px 1px 3px 1px rgba(0, 0, 0, 0.15);\n",
       "      filter: drop-shadow(0px 1px 2px rgba(0, 0, 0, 0.3));\n",
       "      fill: #FFFFFF;\n",
       "    }\n",
       "  </style>\n",
       "\n",
       "    <script>\n",
       "      const buttonEl =\n",
       "        document.querySelector('#df-577f8e6e-0445-4bd2-a025-7f8c20beda2c button.colab-df-convert');\n",
       "      buttonEl.style.display =\n",
       "        google.colab.kernel.accessAllowed ? 'block' : 'none';\n",
       "\n",
       "      async function convertToInteractive(key) {\n",
       "        const element = document.querySelector('#df-577f8e6e-0445-4bd2-a025-7f8c20beda2c');\n",
       "        const dataTable =\n",
       "          await google.colab.kernel.invokeFunction('convertToInteractive',\n",
       "                                                    [key], {});\n",
       "        if (!dataTable) return;\n",
       "\n",
       "        const docLinkHtml = 'Like what you see? Visit the ' +\n",
       "          '<a target=\"_blank\" href=https://colab.research.google.com/notebooks/data_table.ipynb>data table notebook</a>'\n",
       "          + ' to learn more about interactive tables.';\n",
       "        element.innerHTML = '';\n",
       "        dataTable['output_type'] = 'display_data';\n",
       "        await google.colab.output.renderOutput(dataTable, element);\n",
       "        const docLink = document.createElement('div');\n",
       "        docLink.innerHTML = docLinkHtml;\n",
       "        element.appendChild(docLink);\n",
       "      }\n",
       "    </script>\n",
       "  </div>\n",
       "\n",
       "\n",
       "<div id=\"df-1073c4b9-9241-4d48-b780-3fc68a458d90\">\n",
       "  <button class=\"colab-df-quickchart\" onclick=\"quickchart('df-1073c4b9-9241-4d48-b780-3fc68a458d90')\"\n",
       "            title=\"Suggest charts\"\n",
       "            style=\"display:none;\">\n",
       "\n",
       "<svg xmlns=\"http://www.w3.org/2000/svg\" height=\"24px\"viewBox=\"0 0 24 24\"\n",
       "     width=\"24px\">\n",
       "    <g>\n",
       "        <path d=\"M19 3H5c-1.1 0-2 .9-2 2v14c0 1.1.9 2 2 2h14c1.1 0 2-.9 2-2V5c0-1.1-.9-2-2-2zM9 17H7v-7h2v7zm4 0h-2V7h2v10zm4 0h-2v-4h2v4z\"/>\n",
       "    </g>\n",
       "</svg>\n",
       "  </button>\n",
       "\n",
       "<style>\n",
       "  .colab-df-quickchart {\n",
       "      --bg-color: #E8F0FE;\n",
       "      --fill-color: #1967D2;\n",
       "      --hover-bg-color: #E2EBFA;\n",
       "      --hover-fill-color: #174EA6;\n",
       "      --disabled-fill-color: #AAA;\n",
       "      --disabled-bg-color: #DDD;\n",
       "  }\n",
       "\n",
       "  [theme=dark] .colab-df-quickchart {\n",
       "      --bg-color: #3B4455;\n",
       "      --fill-color: #D2E3FC;\n",
       "      --hover-bg-color: #434B5C;\n",
       "      --hover-fill-color: #FFFFFF;\n",
       "      --disabled-bg-color: #3B4455;\n",
       "      --disabled-fill-color: #666;\n",
       "  }\n",
       "\n",
       "  .colab-df-quickchart {\n",
       "    background-color: var(--bg-color);\n",
       "    border: none;\n",
       "    border-radius: 50%;\n",
       "    cursor: pointer;\n",
       "    display: none;\n",
       "    fill: var(--fill-color);\n",
       "    height: 32px;\n",
       "    padding: 0;\n",
       "    width: 32px;\n",
       "  }\n",
       "\n",
       "  .colab-df-quickchart:hover {\n",
       "    background-color: var(--hover-bg-color);\n",
       "    box-shadow: 0 1px 2px rgba(60, 64, 67, 0.3), 0 1px 3px 1px rgba(60, 64, 67, 0.15);\n",
       "    fill: var(--button-hover-fill-color);\n",
       "  }\n",
       "\n",
       "  .colab-df-quickchart-complete:disabled,\n",
       "  .colab-df-quickchart-complete:disabled:hover {\n",
       "    background-color: var(--disabled-bg-color);\n",
       "    fill: var(--disabled-fill-color);\n",
       "    box-shadow: none;\n",
       "  }\n",
       "\n",
       "  .colab-df-spinner {\n",
       "    border: 2px solid var(--fill-color);\n",
       "    border-color: transparent;\n",
       "    border-bottom-color: var(--fill-color);\n",
       "    animation:\n",
       "      spin 1s steps(1) infinite;\n",
       "  }\n",
       "\n",
       "  @keyframes spin {\n",
       "    0% {\n",
       "      border-color: transparent;\n",
       "      border-bottom-color: var(--fill-color);\n",
       "      border-left-color: var(--fill-color);\n",
       "    }\n",
       "    20% {\n",
       "      border-color: transparent;\n",
       "      border-left-color: var(--fill-color);\n",
       "      border-top-color: var(--fill-color);\n",
       "    }\n",
       "    30% {\n",
       "      border-color: transparent;\n",
       "      border-left-color: var(--fill-color);\n",
       "      border-top-color: var(--fill-color);\n",
       "      border-right-color: var(--fill-color);\n",
       "    }\n",
       "    40% {\n",
       "      border-color: transparent;\n",
       "      border-right-color: var(--fill-color);\n",
       "      border-top-color: var(--fill-color);\n",
       "    }\n",
       "    60% {\n",
       "      border-color: transparent;\n",
       "      border-right-color: var(--fill-color);\n",
       "    }\n",
       "    80% {\n",
       "      border-color: transparent;\n",
       "      border-right-color: var(--fill-color);\n",
       "      border-bottom-color: var(--fill-color);\n",
       "    }\n",
       "    90% {\n",
       "      border-color: transparent;\n",
       "      border-bottom-color: var(--fill-color);\n",
       "    }\n",
       "  }\n",
       "</style>\n",
       "\n",
       "  <script>\n",
       "    async function quickchart(key) {\n",
       "      const quickchartButtonEl =\n",
       "        document.querySelector('#' + key + ' button');\n",
       "      quickchartButtonEl.disabled = true;  // To prevent multiple clicks.\n",
       "      quickchartButtonEl.classList.add('colab-df-spinner');\n",
       "      try {\n",
       "        const charts = await google.colab.kernel.invokeFunction(\n",
       "            'suggestCharts', [key], {});\n",
       "      } catch (error) {\n",
       "        console.error('Error during call to suggestCharts:', error);\n",
       "      }\n",
       "      quickchartButtonEl.classList.remove('colab-df-spinner');\n",
       "      quickchartButtonEl.classList.add('colab-df-quickchart-complete');\n",
       "    }\n",
       "    (() => {\n",
       "      let quickchartButtonEl =\n",
       "        document.querySelector('#df-1073c4b9-9241-4d48-b780-3fc68a458d90 button');\n",
       "      quickchartButtonEl.style.display =\n",
       "        google.colab.kernel.accessAllowed ? 'block' : 'none';\n",
       "    })();\n",
       "  </script>\n",
       "</div>\n",
       "\n",
       "    </div>\n",
       "  </div>\n"
      ],
      "text/plain": [
       "        preds  labels\n",
       "101  0.966227     0.0\n",
       "218  0.952203     0.0\n",
       "372  0.938033     0.0\n",
       "276  0.933841     0.0\n",
       "17   0.914772     0.0\n",
       "..        ...     ...\n",
       "102  0.028250     0.0\n",
       "327  0.027807     0.0\n",
       "344  0.027792     0.0\n",
       "320  0.026700     0.0\n",
       "148  0.026079     0.0\n",
       "\n",
       "[199 rows x 2 columns]"
      ]
     },
     "execution_count": 56,
     "metadata": {},
     "output_type": "execute_result"
    }
   ],
   "source": [
    "# on the other way around, for all the texts whose label == 0,\n",
    "# let's sort their predicted probablities in descending order\n",
    "df.loc[df['labels'] == 0, :].sort_values('preds', ascending = False)"
   ]
  },
  {
   "cell_type": "code",
   "execution_count": null,
   "metadata": {
    "colab": {
     "base_uri": "https://localhost:8080/",
     "height": 122
    },
    "id": "pelrSNMDGq9m",
    "outputId": "bc28d184-922a-43a1-ce40-510b7f65890d"
   },
   "outputs": [
    {
     "data": {
      "application/vnd.google.colaboratory.intrinsic+json": {
       "type": "string"
      },
      "text/plain": [
       "'Pros: I\\'d give the restaurant and ambiance 4 stars. I love the outdoor seating and the layout of the restaurant. Perfect for a date night or quick drink with your friend after work. It\\'s dark with large TVS around! \\n\\nAlso thoroughly enjoyed their Hefe beer. I liked how most of their beers were local! \\n\\nCons: Not sure why they have a waitlist option on Yelp but then it got cancelled TWICE while I tried to wait via the app. Very annoying. If it\\'s not a possibility to use Yelp for the waitlist then take it off. \\n\\nThe portions were HUGE. Literally. So huge. It was kind of daunting how huge the portions were. We ordered the nachos as an appetizer and I swear it could have fed an entire family of 6. My boyfriend and I barely scraped through 1/4 of it. \\n\\nOrdered the pesto chicken sandwich. The sandwich was good. Pesto sauce was better. The chicken was a bit dry and I had about one or two fries that were cold in the middle but I let it go. \\n\\nLast but not least, it\\'s funny that their bathrooms say \"clean restrooms here\" but once you walk in it is so dirty. There\\'s paper towels everywhere and the large stall doesn\\'t even close. \\n\\nOverall, I expected more from this place. I was really excited to eat here but I was slightly let down.'"
      ]
     },
     "execution_count": 60,
     "metadata": {},
     "output_type": "execute_result"
    }
   ],
   "source": [
    "valid_raw.iloc[101,:]\n",
    "valid_raw.iloc[101, 0]"
   ]
  },
  {
   "cell_type": "markdown",
   "metadata": {
    "id": "DKvG-oo97_Fc"
   },
   "source": [
    "**Recap:**\n",
    "\n",
    "  * Here we have combined BERT (good at transforming raw texts into meaningful numerical vectors) and Neural Network (good at classification)\n",
    "  \n",
    "  * We can easily transfer the method to other contexts and predict and measure other constructs of interests as long as we have proper labels for the constructs.\n",
    "\n",
    "  * MTurk is a useful tool for developing the labels.  "
   ]
  },
  {
   "cell_type": "markdown",
   "metadata": {
    "id": "WxNsB4uOmutS"
   },
   "source": [
    "## Save and Load a Trained Model\n",
    "\n"
   ]
  },
  {
   "cell_type": "code",
   "execution_count": null,
   "metadata": {
    "colab": {
     "base_uri": "https://localhost:8080/",
     "height": 106
    },
    "id": "i5bEjhB55O1s",
    "outputId": "75f39cae-d3f0-4ffe-ec9d-f824671f14ce"
   },
   "outputs": [
    {
     "ename": "SyntaxError",
     "evalue": "invalid syntax. Perhaps you forgot a comma? (<ipython-input-61-c437c09414ad>, line 13)",
     "output_type": "error",
     "traceback": [
      "\u001b[0;36m  File \u001b[0;32m\"<ipython-input-61-c437c09414ad>\"\u001b[0;36m, line \u001b[0;32m13\u001b[0m\n\u001b[0;31m    new_model.load_state_dict(torch.load(path to the save model))\u001b[0m\n\u001b[0m                                         ^\u001b[0m\n\u001b[0;31mSyntaxError\u001b[0m\u001b[0;31m:\u001b[0m invalid syntax. Perhaps you forgot a comma?\n"
     ]
    }
   ],
   "source": [
    "# check the tutorial here:\n",
    "# https://stackoverflow.com/questions/42703500/best-way-to-save-a-trained-model-in-pytorch\n",
    "\n",
    "# if you want to save the trained model for later evaluation (not for training)\n",
    "dir = \"/content/drive/My Drive/\"\n",
    "torch.save(cls_model.state_dict(), os.path.join(dir, 'the_name_you_choose.pt'))\n",
    "\n",
    "# later if you want to load the model and use it for evaluation (not trianing), do this:\n",
    "# the_model = TheModelClass(*args, **kwargs), in our case\n",
    "new_model = TextBERT()\n",
    "\n",
    "# and the_model.load_state_dict(torch.load(PATH)), note that path is specified above\n",
    "new_model.load_state_dict(torch.load(path to the save model))\n"
   ]
  },
  {
   "cell_type": "markdown",
   "metadata": {
    "id": "iVgV_HNUnnsE"
   },
   "source": [
    "## BERT and Cluster Analysis (based on Yelp Review)\n",
    "\n",
    "  * Up to now we have been focusing on using BERT to generate a contextulized embedding of the raw input texts and feeding the sentence embeddings into a neural network for classification. The classification analysis helps us to check if the text has some attributes (e.g., a positive or negative review, manifiest of some constructs) and to what extent the texts have those attributes (i.e., the predicted probablity)\n",
    "\n",
    "\n",
    " * Now, let's think about another use of the contextualized sentence embedding. We can do cluster analysis on those embeddings and see if there are some patterns in it.\n",
    "\n",
    "\n",
    " * If we dong so with consumer review data, we can learn the representative reviews, keywords, opinions in each cluster, and by comparing the clusters derived from differnt locations, product categories, years, and review types. We can obtain a lot of insights!\n",
    "\n",
    "\n",
    "\n",
    "\n",
    "\n",
    "\n",
    "\n",
    "\n",
    "\n",
    "\n",
    "\n",
    "\n",
    "\n",
    "\n",
    "\n"
   ]
  },
  {
   "cell_type": "markdown",
   "metadata": {
    "id": "wFlp-ba_RQIf"
   },
   "source": [
    "### Get intermediate output using **hook** function in Pytorch\n"
   ]
  },
  {
   "cell_type": "code",
   "execution_count": null,
   "metadata": {
    "id": "Y1FUY3ynz6-C"
   },
   "outputs": [],
   "source": [
    "# to do cluster analysis, we first need to transfer the raw text review into embeddings\n",
    "# we can leverage our trianed NN model to do so.\n",
    "# Recall thate the first layer in our NN is a BERT model, whose job is exactly this.\n",
    "# one benefit of using our traind NN rather than a commnon instance of raw BERT Model\n",
    "# is that in our trained model, the BERT layer is also updated, its parameters\n",
    "# has be trained to understand our general context (e.g., Yelp or Amazon reviews)\n",
    "# and thus can encode our text better.\n",
    "\n",
    "# then, our job is to feed the raw text into our trained NN.\n",
    "# However, the final output of  our NN is a predicted probability\n",
    "# we thus need to extract the intermediate output of the NN, i.e., the output of its first layer, the BERT layer\n",
    "# here is a built-in function in Pytorch, call hook, to do the job-- extracting a NN's intermediate output\n",
    "\n",
    "# bascially, hook is just a mark attached to a specific NN layer,\n",
    "# telling the NN to store the intermediate output for later use\n",
    "# here, we store the intermediate output in inter_out\n",
    "\n",
    "inter_output = {}\n",
    "def get_inter_output(name):\n",
    "    def hook(model, input, output):\n",
    "        inter_output[name] = output[0].detach()\n",
    "    return hook\n",
    "\n",
    "handle = cls_model.l1.register_forward_hook(get_inter_output('l1'))\n"
   ]
  },
  {
   "cell_type": "code",
   "execution_count": null,
   "metadata": {
    "colab": {
     "base_uri": "https://localhost:8080/"
    },
    "id": "5Cuo7eCyQTwn",
    "outputId": "a1d8b409-6cfa-4d0e-f385-716cc42568d8"
   },
   "outputs": [
    {
     "data": {
      "text/plain": [
       "tensor([[ 101, 2326, 2001, 2204,  102]], device='cuda:0')"
      ]
     },
     "execution_count": 156,
     "metadata": {},
     "output_type": "execute_result"
    }
   ],
   "source": [
    "input_ids"
   ]
  },
  {
   "cell_type": "code",
   "execution_count": null,
   "metadata": {
    "colab": {
     "base_uri": "https://localhost:8080/"
    },
    "id": "k-CezcTEaxRV",
    "outputId": "5a74707a-e5a3-4b85-e839-f2ad3fd1f0af"
   },
   "outputs": [
    {
     "data": {
      "text/plain": [
       "tensor([0.8235], device='cuda:0', grad_fn=<SigmoidBackward0>)"
      ]
     },
     "execution_count": 145,
     "metadata": {},
     "output_type": "execute_result"
    }
   ],
   "source": [
    "# run the BERT + NN model once\n",
    "cls_model(input_ids,attention_mask)"
   ]
  },
  {
   "cell_type": "code",
   "execution_count": null,
   "metadata": {
    "id": "GgZB6201sODM"
   },
   "outputs": [],
   "source": [
    "# to remove the hook\n",
    "# handle.remove()"
   ]
  },
  {
   "cell_type": "code",
   "execution_count": null,
   "metadata": {
    "id": "AIJl2axBSCup"
   },
   "outputs": [],
   "source": [
    "# check the intermediate output\n",
    "inter_output\n",
    "inter_output['l1']"
   ]
  },
  {
   "cell_type": "code",
   "execution_count": null,
   "metadata": {
    "colab": {
     "base_uri": "https://localhost:8080/"
    },
    "id": "N9jLY98fNyNo",
    "outputId": "2c924557-532e-44ed-b2b4-905e50e7bafd"
   },
   "outputs": [
    {
     "data": {
      "text/plain": [
       "{'l1': tensor([[[-0.0244, -0.3028,  0.2771,  ..., -0.1701,  0.3688, -0.0071],\n",
       "          [ 0.1170, -0.4381, -0.0657,  ...,  0.4310,  0.4303, -0.3170],\n",
       "          [-0.2111, -0.7278, -0.1191,  ...,  0.1455,  0.2875,  0.2343],\n",
       "          [ 0.0359, -0.2153, -0.0533,  ...,  0.2389, -0.1472, -0.6343],\n",
       "          [ 0.7775,  0.0382, -0.0863,  ...,  0.1313, -0.4604, -0.2649]]],\n",
       "        device='cuda:0')}"
      ]
     },
     "execution_count": 163,
     "metadata": {},
     "output_type": "execute_result"
    }
   ],
   "source": [
    "inter_output['l1'].shape"
   ]
  },
  {
   "cell_type": "code",
   "execution_count": null,
   "metadata": {
    "colab": {
     "base_uri": "https://localhost:8080/"
    },
    "id": "wkSYOC0hvawQ",
    "outputId": "e0a1e71b-15db-4bc1-9f06-d8905702cdb0"
   },
   "outputs": [
    {
     "data": {
      "text/plain": [
       "torch.Size([1, 768])"
      ]
     },
     "execution_count": 165,
     "metadata": {},
     "output_type": "execute_result"
    }
   ],
   "source": [
    " # using the mean value of CLS and raw input token as sentence embedding\n",
    " inter_output[\"l1\"][:, 0 : attention_mask.sum(), :].mean(dim = 1).shape"
   ]
  },
  {
   "cell_type": "code",
   "execution_count": null,
   "metadata": {
    "id": "YaQPZ0Y1EpCb"
   },
   "outputs": [],
   "source": [
    "# first, let's convert the raw review texts into contextualized numerical embeddings\n",
    "# using encode_plus and BERT model\n",
    "\n",
    "def text_to_embedding(index, dataset, max_len):\n",
    "  # argument input: is the index to locate a specific text reivew\n",
    "  # argument dataset: is the dataset that containing text reviews\n",
    "  # argument max_len: is the max length of each review, for padding or truncating\n",
    "\n",
    "  # extract the review text column in the dataset\n",
    "  # per my experience, extract a column and then using pd.iloc[index] on the column\n",
    "  # experience less bugs than pd.loc[index, 'column name']\n",
    "  reviews = dataset.text\n",
    "\n",
    "  # get the text review\n",
    "  text = reviews.iloc[index]\n",
    "  # transfer the text reivew into input_ids and attentino_mask that are required for BERT model\n",
    "  encoded_text = tokenizer.encode_plus(\n",
    "      text,\n",
    "      max_length = max_len,\n",
    "      # note that in some versions of transformer in you local machine, the code is\n",
    "      # pad_to_max_length = True,\n",
    "      # truncation_strategy = 'longest_first',\n",
    "      # we might need to change the argument name a little to fit different version of transformers\n",
    "      padding = \"max_length\",\n",
    "      truncation = \"longest_first\",\n",
    "      add_special_tokens = True,\n",
    "      return_tensors = \"pt\"\n",
    "  )\n",
    "  # make the input_ids and attention_mask into torch tensors,\n",
    "  # which will make the late use of BERT Model easier\n",
    "  # note that we use to(device) to deliever the data to GPU,\n",
    "  # so that they can be used in model_yelp, which is alread in GPU\n",
    "  input_ids = torch.tensor(encoded_text['input_ids'], dtype = torch.long).to(device)\n",
    "  attention_mask = torch.tensor(encoded_text['attention_mask'], dtype = torch.long).to(device)\n",
    "\n",
    "  # transfer the input_ids and attention_mask into sentence embeddings by\n",
    "  # putting them into our trained NN model: mddel_yelp\n",
    "  cls_model(input_ids, attention_mask)\n",
    "\n",
    "\n",
    "  text_embedding = inter_output[\"l1\"][:, 0 : attention_mask.sum(), :].mean(dim = 1)\n",
    "  # again, we can choose to use differnt outputs from the BERT Model as the embeddings of the sentence/review\n",
    "  # here, we use the mean value of non-padded tokens from the last self-attention layer of BERT\n",
    "\n",
    "  return text_embedding\n",
    "\n"
   ]
  },
  {
   "cell_type": "code",
   "execution_count": null,
   "metadata": {
    "colab": {
     "base_uri": "https://localhost:8080/"
    },
    "id": "UGFM-wq2KWYM",
    "outputId": "f34061f6-4e84-49e8-890c-4118e0c7e50c"
   },
   "outputs": [
    {
     "name": "stderr",
     "output_type": "stream",
     "text": [
      "/usr/local/lib/python3.7/dist-packages/ipykernel_launcher.py:33: UserWarning: To copy construct from a tensor, it is recommended to use sourceTensor.clone().detach() or sourceTensor.clone().detach().requires_grad_(True), rather than torch.tensor(sourceTensor).\n",
      "/usr/local/lib/python3.7/dist-packages/ipykernel_launcher.py:34: UserWarning: To copy construct from a tensor, it is recommended to use sourceTensor.clone().detach() or sourceTensor.clone().detach().requires_grad_(True), rather than torch.tensor(sourceTensor).\n"
     ]
    },
    {
     "data": {
      "text/plain": [
       "torch.Size([1, 768])"
      ]
     },
     "execution_count": 167,
     "metadata": {},
     "output_type": "execute_result"
    }
   ],
   "source": [
    "# test the function, focusing on the output of its shape\n",
    "text_to_embedding(32, valid_raw, 128).shape\n"
   ]
  },
  {
   "cell_type": "markdown",
   "metadata": {
    "id": "ynesgxaeSy9L"
   },
   "source": [
    "### Get intermediate output using layer\n",
    "\n",
    "\n",
    "\n"
   ]
  },
  {
   "cell_type": "markdown",
   "metadata": {
    "id": "Z58mUupbTT_q"
   },
   "source": [
    "Indeed, we can directly use the trained BERT model (the first layer of cls_model: cls_model.l1) to get the embedding"
   ]
  },
  {
   "cell_type": "code",
   "execution_count": null,
   "metadata": {
    "id": "flu4dC2WPZQk"
   },
   "outputs": [],
   "source": [
    "# check if the inter_output from hook is same as the cls_model.l1\n",
    "inter_output['l1'][:,0,:]==cls_model.l1(input_ids, attention_mask).last_hidden_state[:,0,:]"
   ]
  },
  {
   "cell_type": "code",
   "execution_count": null,
   "metadata": {
    "colab": {
     "base_uri": "https://localhost:8080/"
    },
    "id": "TBX6ig_QPKCn",
    "outputId": "19cc1076-035e-4cb3-e6af-f7d125c57093"
   },
   "outputs": [
    {
     "data": {
      "text/plain": [
       "torch.Size([1, 768])"
      ]
     },
     "execution_count": 162,
     "metadata": {},
     "output_type": "execute_result"
    }
   ],
   "source": [
    "# or if we want to use CLS embedding as the sentence embedding (note that CLS has gone through a tanh activation layer)\n",
    "cls_model.l1(input_ids, attention_mask).pooler_output"
   ]
  },
  {
   "cell_type": "code",
   "execution_count": null,
   "metadata": {
    "id": "q6uVaUMET7lJ"
   },
   "outputs": [],
   "source": [
    "# define the text_to_embedding function again\n",
    "def text_to_embedding(index, dataset, max_len):\n",
    "  reviews = dataset.text\n",
    "  text = reviews.iloc[index]\n",
    "  encoded_text = tokenizer.encode_plus(\n",
    "      text,\n",
    "      max_length = max_len,\n",
    "      padding = \"max_length\",\n",
    "      truncation = \"longest_first\",\n",
    "      add_special_tokens = True,\n",
    "      return_tensors = \"pt\"\n",
    "  )\n",
    "  input_ids = torch.tensor(encoded_text['input_ids'], dtype = torch.long).to(device)\n",
    "  attention_mask = torch.tensor(encoded_text['attention_mask'], dtype = torch.long).to(device)\n",
    "  output = cls_model.l1(input_ids, attention_mask)\n",
    "  text_embedding = output.pooler_output # CLS token as sentence embedding\n",
    "\n",
    "  # again, we can choose to use differnt outputs from the BERT Model as the embeddings of the sentence/review\n",
    "  # here, we use the mean value of non-padded tokens from the last self-attention layer of BERT\n",
    "  # text_embedding = output.last_hidden_state[:, 1 : attention_mask.sum(), :].mean(dim = 1)\n",
    "\n",
    "  return text_embedding\n",
    "\n"
   ]
  },
  {
   "cell_type": "code",
   "execution_count": null,
   "metadata": {
    "colab": {
     "base_uri": "https://localhost:8080/"
    },
    "id": "hqv54jZzNs56",
    "outputId": "9a9a077f-f00f-4686-ec1e-45d1af2a74c1"
   },
   "outputs": [
    {
     "name": "stderr",
     "output_type": "stream",
     "text": [
      "<ipython-input-62-7db2b7ebd4e2>:13: UserWarning: To copy construct from a tensor, it is recommended to use sourceTensor.clone().detach() or sourceTensor.clone().detach().requires_grad_(True), rather than torch.tensor(sourceTensor).\n",
      "  input_ids = torch.tensor(encoded_text['input_ids'], dtype = torch.long).to(device)\n",
      "<ipython-input-62-7db2b7ebd4e2>:14: UserWarning: To copy construct from a tensor, it is recommended to use sourceTensor.clone().detach() or sourceTensor.clone().detach().requires_grad_(True), rather than torch.tensor(sourceTensor).\n",
      "  attention_mask = torch.tensor(encoded_text['attention_mask'], dtype = torch.long).to(device)\n"
     ]
    }
   ],
   "source": [
    "# use a loop to embed a number of reviews in the raw dataset\n",
    "review_embeddings = []\n",
    "with torch.no_grad():\n",
    "  for index in range(20):\n",
    "    review_embedding = text_to_embedding(index, valid_raw, 128)\n",
    "    review_embeddings.append(review_embedding)\n",
    "\n",
    "# note that you can filter specific groups of obs in the raw dataset for further analysis\n",
    "# for instance, I only use positive reviews in the sample here.\n",
    "# later, I can find clusters in ONLY positive reviews, which could help me summarize\n",
    "# the main factors that make consumers give a positive review\n",
    "# replace the code below into the loop above\n",
    "# review_embedding = text_to_embedding(index, valid_raw.loc[valid_raw['label'] == 1,:], 128)\n",
    "\n",
    "\n",
    "\n"
   ]
  },
  {
   "cell_type": "code",
   "execution_count": null,
   "metadata": {
    "colab": {
     "base_uri": "https://localhost:8080/"
    },
    "id": "H7pzq9x-JzLt",
    "outputId": "17de00d7-5568-4bb3-f306-7370ca46241b"
   },
   "outputs": [
    {
     "data": {
      "text/plain": [
       "20"
      ]
     },
     "execution_count": 64,
     "metadata": {},
     "output_type": "execute_result"
    }
   ],
   "source": [
    "len(review_embeddings)"
   ]
  },
  {
   "cell_type": "code",
   "execution_count": null,
   "metadata": {
    "id": "YkB3ULW6UmCY"
   },
   "outputs": [],
   "source": [
    "# transfer the list of sentence embedings into a numpy array\n",
    "review_embeddings = torch.cat(review_embeddings, 0)\n",
    "review_embeddings = review_embeddings.to('cpu')\n",
    "review_embeddings = review_embeddings.numpy()"
   ]
  },
  {
   "cell_type": "code",
   "execution_count": null,
   "metadata": {
    "colab": {
     "base_uri": "https://localhost:8080/"
    },
    "id": "qQYoRmsI25SH",
    "outputId": "5204af0d-6939-45ac-867e-2590324baadc"
   },
   "outputs": [
    {
     "data": {
      "text/plain": [
       "numpy.ndarray"
      ]
     },
     "execution_count": 66,
     "metadata": {},
     "output_type": "execute_result"
    }
   ],
   "source": [
    "type(review_embeddings)"
   ]
  },
  {
   "cell_type": "code",
   "execution_count": null,
   "metadata": {
    "id": "2s6TrXetan87"
   },
   "outputs": [],
   "source": [
    "# do the cluster analysis\n",
    "import matplotlib.pyplot as plt\n",
    "import pandas as pd\n",
    "%matplotlib inline\n",
    "import numpy as np\n"
   ]
  },
  {
   "cell_type": "code",
   "execution_count": null,
   "metadata": {
    "colab": {
     "base_uri": "https://localhost:8080/",
     "height": 769
    },
    "id": "bsuRnkXvVA7-",
    "outputId": "023820c4-ada9-412a-f8c3-915ba3a592e6"
   },
   "outputs": [
    {
     "data": {
      "image/png": "[encoded data removed]",
      "text/plain": [
       "<Figure size 10000x5000 with 1 Axes>"
      ]
     },
     "metadata": {},
     "output_type": "display_data"
    }
   ],
   "source": [
    "# use the dendrogram graph to identify the clusters\n",
    "import scipy.cluster.hierarchy as shc\n",
    "plt.figure(figsize = (100, 50))\n",
    "plt.title(\"review embeddings\")\n",
    "dend = shc.dendrogram(shc.linkage(review_embeddings, method = \"ward\"))"
   ]
  },
  {
   "cell_type": "code",
   "execution_count": null,
   "metadata": {
    "id": "DPFSQNxWVGH-"
   },
   "outputs": [],
   "source": [
    "from sklearn.cluster import AgglomerativeClustering"
   ]
  },
  {
   "cell_type": "code",
   "execution_count": null,
   "metadata": {
    "id": "RxKmnEbHVEk5"
   },
   "outputs": [],
   "source": [
    "# specify the n_clusters you want\n",
    "number_of_clusters = 3"
   ]
  },
  {
   "cell_type": "code",
   "execution_count": null,
   "metadata": {
    "id": "imJJ0k7bLTSk"
   },
   "outputs": [],
   "source": [
    "cluster = AgglomerativeClustering(n_clusters = number_of_clusters, affinity = 'euclidean', linkage = 'ward')"
   ]
  },
  {
   "cell_type": "code",
   "execution_count": null,
   "metadata": {
    "colab": {
     "base_uri": "https://localhost:8080/"
    },
    "id": "jR6wnRyveAl2",
    "outputId": "cb3f115a-2926-4e1c-a9fb-0f6ce2886032"
   },
   "outputs": [
    {
     "name": "stderr",
     "output_type": "stream",
     "text": [
      "/usr/local/lib/python3.10/dist-packages/sklearn/cluster/_agglomerative.py:983: FutureWarning: Attribute `affinity` was deprecated in version 1.2 and will be removed in 1.4. Use `metric` instead\n",
      "  warnings.warn(\n"
     ]
    }
   ],
   "source": [
    "cluster_id = cluster.fit_predict(review_embeddings)"
   ]
  },
  {
   "cell_type": "code",
   "execution_count": null,
   "metadata": {
    "colab": {
     "base_uri": "https://localhost:8080/"
    },
    "id": "fnSetVDLKPJN",
    "outputId": "49d8a097-5ceb-439c-8b8c-53579c94c146"
   },
   "outputs": [
    {
     "data": {
      "text/plain": [
       "array([1, 2, 1, 1, 0, 2, 0, 1, 1, 0, 2, 1, 0, 1, 1, 2, 0, 0, 0, 2])"
      ]
     },
     "execution_count": 72,
     "metadata": {},
     "output_type": "execute_result"
    }
   ],
   "source": [
    "cluster_id"
   ]
  },
  {
   "cell_type": "code",
   "execution_count": null,
   "metadata": {
    "colab": {
     "base_uri": "https://localhost:8080/"
    },
    "id": "-RJK8HwufQM4",
    "outputId": "86899aa0-f3cf-4713-9bd1-d4e0d9c06169"
   },
   "outputs": [
    {
     "name": "stderr",
     "output_type": "stream",
     "text": [
      "<ipython-input-73-576a3a2d9e2c>:2: SettingWithCopyWarning: \n",
      "A value is trying to be set on a copy of a slice from a DataFrame.\n",
      "Try using .loc[row_indexer,col_indexer] = value instead\n",
      "\n",
      "See the caveats in the documentation: https://pandas.pydata.org/pandas-docs/stable/user_guide/indexing.html#returning-a-view-versus-a-copy\n",
      "  sample_review['cluster_id'] = cluster_id\n"
     ]
    }
   ],
   "source": [
    "sample_review = valid_raw.iloc[0:20 ,:]\n",
    "sample_review['cluster_id'] = cluster_id"
   ]
  },
  {
   "cell_type": "code",
   "execution_count": null,
   "metadata": {
    "colab": {
     "base_uri": "https://localhost:8080/",
     "height": 677
    },
    "id": "mTsxnPOSff6n",
    "outputId": "976a4b12-0ea5-45b8-a219-e0bb9f1722ad"
   },
   "outputs": [
    {
     "data": {
      "application/vnd.google.colaboratory.intrinsic+json": {
       "summary": "{\n  \"name\": \"sample_review\",\n  \"rows\": 20,\n  \"fields\": [\n    {\n      \"column\": \"text\",\n      \"properties\": {\n        \"dtype\": \"string\",\n        \"num_unique_values\": 20,\n        \"samples\": [\n          \"Ok, I've been told I never learn my lesson. It's been awhile and thought I'd give it another shot, maybe it was a off day for this place? But I guess not...got tostada mix and once again few pieces of raw shrimp and even piece of shell. \\u200d\\u200d. Got to say I'm probably officially done with this place now. I love seafood but a place like this is definitely not worth me getting stuck in a ER waiting room or on toilet. Good Luck everyone!\",\n          \"If you're into one seasoning fits all...this is totally your spot. Totally not trying to knock on this place but I just wasn't feeling the dry chili rub on everything. \\n\\nLet's start with the positives. It's open late night! That's huge! We had just come from a concert in the East Bay and were aiming for an AYCE-BBQ spot but at 11pm, all our go to's were closed. Our phones were all dead so when we saw an \\\"open\\\" sign in front of Aceking, we went for it.\\n\\nIt's also a keto-friendly spot. With meats on a stick, you can't go wrong. That is, unless you don't know if Sheep Testis or Backstrops of bull is higher in fat (for the keto) or in protein. Without our trusty Yelp app, we didn't know what to order so we left it up to my husband to order. I think he stayed on the safe side and ordered chicken, beef, pork skin, and shrimp. When kabobs were being dropped onto our community plate, we didn't know what was being delivered. Texture was tough and it all tasted the same. \\n\\nWe ordered mushrooms and eggplant. The texture of the grilled eggplant was perfect and the dry chili rub happened to work well with it. I think I should have just ordered hella eggplant and called it a night. \\n\\nWe also ordered Doughboy soup which came out a good 15 minutes after we were done with the kabobs. I think the waiter said there was egg in it. But I'm pretty sure there were some non-egg pieces. Regardless of what was in it, the soup was pretty tasty. It reminded me of egg drop soup minus everything you normally see in egg drop and add little white mysterious pieces. We were so hungry, we ate it all.\\n\\nPeople were ordering from here late night so I'm sure people love the food. Price was also reasonable. I don't think we'll be back anytime soon. But if we do, we'll be sure to have a full phone battery so we could consult Yelp on what to order.\",\n          \"Din Ding Dumpling House was delightful to dine at.\\n\\nIt gets busy and there is a Yelp check-in waitlist. However, I was surprised that it didn't take very long to get seated on a Saturday evening. It's pretty spacious inside with a lot of tables, and the food comes out pretty quickly.\\n\\nYou check things off on a menu and they'll bring it out to you. I tried the saut\\u00e9ed spinach greens which were good. They were hot, fresh, and fragrant from the garlic. I always get a green dish to balance out some of the heavier dishes.\\n\\nThe pork xlb here are far bigger than the ones at Din Tai Fung and certainly cheaper as well. However, I found that the skin wrapping is thicker than DTF. Personally, I like a thinner skin. The soup is flavorful and the filling to skin ratio for the size of dumpling is pretty good. If you're trying to get the most bang for your buck, it may be better here than DTF.\\n\\nThe egg, pork buns (3 buns) were also pretty hefty. The outside skin was fluffy and the inside had a generous portion fo the filling. These were also pretty delightful, just a bit carb heavy from the outside.\\n\\nThe seafood fried rice ended up being one of the dishes I was most in awe of. The portion size was smaller than I normally expect when ordering fried rice, but the flavor was incredible. It didn't look like much presentation wise, but I was surprised by the flavor it had. Each bite wasn't screaming seafood, but it was there. When you took a bite of a scallop, that's when I felt like I was tasting the ocean. I really liked the massage that was throughout the fried rice as well, giving it that subtle-more noticeable seafood taste.\\n\\nThe people working here are zooming around, and at times it was difficult to flag someone. However, once they notice you, they get to your request ASAP.\\n\\nOverall, pretty good experience here and I would dine here again.\"\n        ],\n        \"semantic_type\": \"\",\n        \"description\": \"\"\n      }\n    },\n    {\n      \"column\": \"rate\",\n      \"properties\": {\n        \"dtype\": \"number\",\n        \"std\": 1,\n        \"min\": 1,\n        \"max\": 5,\n        \"num_unique_values\": 4,\n        \"samples\": [\n          5,\n          2,\n          1\n        ],\n        \"semantic_type\": \"\",\n        \"description\": \"\"\n      }\n    },\n    {\n      \"column\": \"funny\",\n      \"properties\": {\n        \"dtype\": \"number\",\n        \"std\": 0,\n        \"min\": 0,\n        \"max\": 4,\n        \"num_unique_values\": 3,\n        \"samples\": [\n          0,\n          1,\n          4\n        ],\n        \"semantic_type\": \"\",\n        \"description\": \"\"\n      }\n    },\n    {\n      \"column\": \"useful\",\n      \"properties\": {\n        \"dtype\": \"number\",\n        \"std\": 1,\n        \"min\": 0,\n        \"max\": 4,\n        \"num_unique_values\": 4,\n        \"samples\": [\n          1,\n          4,\n          0\n        ],\n        \"semantic_type\": \"\",\n        \"description\": \"\"\n      }\n    },\n    {\n      \"column\": \"cool\",\n      \"properties\": {\n        \"dtype\": \"number\",\n        \"std\": 0,\n        \"min\": 0,\n        \"max\": 4,\n        \"num_unique_values\": 3,\n        \"samples\": [\n          0,\n          1,\n          4\n        ],\n        \"semantic_type\": \"\",\n        \"description\": \"\"\n      }\n    },\n    {\n      \"column\": \"label\",\n      \"properties\": {\n        \"dtype\": \"number\",\n        \"std\": 0,\n        \"min\": 0,\n        \"max\": 1,\n        \"num_unique_values\": 2,\n        \"samples\": [\n          1,\n          0\n        ],\n        \"semantic_type\": \"\",\n        \"description\": \"\"\n      }\n    },\n    {\n      \"column\": \"cluster_id\",\n      \"properties\": {\n        \"dtype\": \"number\",\n        \"std\": 0,\n        \"min\": 0,\n        \"max\": 2,\n        \"num_unique_values\": 3,\n        \"samples\": [\n          1,\n          2\n        ],\n        \"semantic_type\": \"\",\n        \"description\": \"\"\n      }\n    }\n  ]\n}",
       "type": "dataframe",
       "variable_name": "sample_review"
      },
      "text/html": [
       "\n",
       "  <div id=\"df-c670fa06-c699-41d6-a6d0-6a4e3fdff67e\" class=\"colab-df-container\">\n",
       "    <div>\n",
       "<style scoped>\n",
       "    .dataframe tbody tr th:only-of-type {\n",
       "        vertical-align: middle;\n",
       "    }\n",
       "\n",
       "    .dataframe tbody tr th {\n",
       "        vertical-align: top;\n",
       "    }\n",
       "\n",
       "    .dataframe thead th {\n",
       "        text-align: right;\n",
       "    }\n",
       "</style>\n",
       "<table border=\"1\" class=\"dataframe\">\n",
       "  <thead>\n",
       "    <tr style=\"text-align: right;\">\n",
       "      <th></th>\n",
       "      <th>text</th>\n",
       "      <th>rate</th>\n",
       "      <th>funny</th>\n",
       "      <th>useful</th>\n",
       "      <th>cool</th>\n",
       "      <th>label</th>\n",
       "      <th>cluster_id</th>\n",
       "    </tr>\n",
       "  </thead>\n",
       "  <tbody>\n",
       "    <tr>\n",
       "      <th>12233</th>\n",
       "      <td>Ok, I've been told I never learn my lesson. It...</td>\n",
       "      <td>1</td>\n",
       "      <td>0</td>\n",
       "      <td>0</td>\n",
       "      <td>0</td>\n",
       "      <td>0</td>\n",
       "      <td>1</td>\n",
       "    </tr>\n",
       "    <tr>\n",
       "      <th>5521</th>\n",
       "      <td>Juanita &amp; Maude is one of my very favorite res...</td>\n",
       "      <td>5</td>\n",
       "      <td>0</td>\n",
       "      <td>0</td>\n",
       "      <td>0</td>\n",
       "      <td>1</td>\n",
       "      <td>2</td>\n",
       "    </tr>\n",
       "    <tr>\n",
       "      <th>21566</th>\n",
       "      <td>They literally mess up my order every time I g...</td>\n",
       "      <td>1</td>\n",
       "      <td>0</td>\n",
       "      <td>1</td>\n",
       "      <td>0</td>\n",
       "      <td>0</td>\n",
       "      <td>1</td>\n",
       "    </tr>\n",
       "    <tr>\n",
       "      <th>21574</th>\n",
       "      <td>About twice a year I forget and stop in for a ...</td>\n",
       "      <td>1</td>\n",
       "      <td>0</td>\n",
       "      <td>0</td>\n",
       "      <td>1</td>\n",
       "      <td>0</td>\n",
       "      <td>1</td>\n",
       "    </tr>\n",
       "    <tr>\n",
       "      <th>9966</th>\n",
       "      <td>I'm beyond excited that I have finally had the...</td>\n",
       "      <td>5</td>\n",
       "      <td>0</td>\n",
       "      <td>1</td>\n",
       "      <td>0</td>\n",
       "      <td>1</td>\n",
       "      <td>0</td>\n",
       "    </tr>\n",
       "    <tr>\n",
       "      <th>25807</th>\n",
       "      <td>I can eat this everyday these were some of the...</td>\n",
       "      <td>5</td>\n",
       "      <td>0</td>\n",
       "      <td>0</td>\n",
       "      <td>1</td>\n",
       "      <td>1</td>\n",
       "      <td>2</td>\n",
       "    </tr>\n",
       "    <tr>\n",
       "      <th>10789</th>\n",
       "      <td>Ukai Japanese Bistro- San Ramon California\\n\\n...</td>\n",
       "      <td>5</td>\n",
       "      <td>0</td>\n",
       "      <td>1</td>\n",
       "      <td>0</td>\n",
       "      <td>1</td>\n",
       "      <td>0</td>\n",
       "    </tr>\n",
       "    <tr>\n",
       "      <th>23892</th>\n",
       "      <td>Don't go just run...this restaurant is very de...</td>\n",
       "      <td>1</td>\n",
       "      <td>0</td>\n",
       "      <td>2</td>\n",
       "      <td>1</td>\n",
       "      <td>0</td>\n",
       "      <td>1</td>\n",
       "    </tr>\n",
       "    <tr>\n",
       "      <th>23367</th>\n",
       "      <td>We used to love rajwadi, but the standard seem...</td>\n",
       "      <td>1</td>\n",
       "      <td>0</td>\n",
       "      <td>0</td>\n",
       "      <td>0</td>\n",
       "      <td>0</td>\n",
       "      <td>1</td>\n",
       "    </tr>\n",
       "    <tr>\n",
       "      <th>17590</th>\n",
       "      <td>First time here and inside seating is cramped....</td>\n",
       "      <td>4</td>\n",
       "      <td>0</td>\n",
       "      <td>0</td>\n",
       "      <td>0</td>\n",
       "      <td>1</td>\n",
       "      <td>0</td>\n",
       "    </tr>\n",
       "    <tr>\n",
       "      <th>14864</th>\n",
       "      <td>I'm in love the El Jefe Taco al Pastor. Loaded...</td>\n",
       "      <td>5</td>\n",
       "      <td>0</td>\n",
       "      <td>0</td>\n",
       "      <td>0</td>\n",
       "      <td>1</td>\n",
       "      <td>2</td>\n",
       "    </tr>\n",
       "    <tr>\n",
       "      <th>12603</th>\n",
       "      <td>I had never heard of Golden Corral before, but...</td>\n",
       "      <td>2</td>\n",
       "      <td>1</td>\n",
       "      <td>4</td>\n",
       "      <td>0</td>\n",
       "      <td>0</td>\n",
       "      <td>1</td>\n",
       "    </tr>\n",
       "    <tr>\n",
       "      <th>16420</th>\n",
       "      <td>Ordered delivery through Caviar. I have been s...</td>\n",
       "      <td>5</td>\n",
       "      <td>0</td>\n",
       "      <td>0</td>\n",
       "      <td>0</td>\n",
       "      <td>1</td>\n",
       "      <td>0</td>\n",
       "    </tr>\n",
       "    <tr>\n",
       "      <th>2433</th>\n",
       "      <td>This Mcdonlalds the worse service I have ever ...</td>\n",
       "      <td>1</td>\n",
       "      <td>0</td>\n",
       "      <td>0</td>\n",
       "      <td>0</td>\n",
       "      <td>0</td>\n",
       "      <td>1</td>\n",
       "    </tr>\n",
       "    <tr>\n",
       "      <th>22804</th>\n",
       "      <td>I ordered the spicy peanut sauté with zucchini...</td>\n",
       "      <td>1</td>\n",
       "      <td>0</td>\n",
       "      <td>0</td>\n",
       "      <td>0</td>\n",
       "      <td>0</td>\n",
       "      <td>1</td>\n",
       "    </tr>\n",
       "    <tr>\n",
       "      <th>6936</th>\n",
       "      <td>Din Ding Dumpling House was delightful to dine...</td>\n",
       "      <td>4</td>\n",
       "      <td>4</td>\n",
       "      <td>4</td>\n",
       "      <td>4</td>\n",
       "      <td>1</td>\n",
       "      <td>2</td>\n",
       "    </tr>\n",
       "    <tr>\n",
       "      <th>13045</th>\n",
       "      <td>This is probably the best bottomless mimosa pl...</td>\n",
       "      <td>5</td>\n",
       "      <td>0</td>\n",
       "      <td>0</td>\n",
       "      <td>0</td>\n",
       "      <td>1</td>\n",
       "      <td>0</td>\n",
       "    </tr>\n",
       "    <tr>\n",
       "      <th>22153</th>\n",
       "      <td>If you're into one seasoning fits all...this i...</td>\n",
       "      <td>2</td>\n",
       "      <td>1</td>\n",
       "      <td>0</td>\n",
       "      <td>1</td>\n",
       "      <td>0</td>\n",
       "      <td>0</td>\n",
       "    </tr>\n",
       "    <tr>\n",
       "      <th>15693</th>\n",
       "      <td>I have gone to heaven. The food here is incred...</td>\n",
       "      <td>5</td>\n",
       "      <td>0</td>\n",
       "      <td>1</td>\n",
       "      <td>0</td>\n",
       "      <td>1</td>\n",
       "      <td>0</td>\n",
       "    </tr>\n",
       "    <tr>\n",
       "      <th>15710</th>\n",
       "      <td>Small location with limited seating but the fo...</td>\n",
       "      <td>4</td>\n",
       "      <td>0</td>\n",
       "      <td>1</td>\n",
       "      <td>1</td>\n",
       "      <td>1</td>\n",
       "      <td>2</td>\n",
       "    </tr>\n",
       "  </tbody>\n",
       "</table>\n",
       "</div>\n",
       "    <div class=\"colab-df-buttons\">\n",
       "\n",
       "  <div class=\"colab-df-container\">\n",
       "    <button class=\"colab-df-convert\" onclick=\"convertToInteractive('df-c670fa06-c699-41d6-a6d0-6a4e3fdff67e')\"\n",
       "            title=\"Convert this dataframe to an interactive table.\"\n",
       "            style=\"display:none;\">\n",
       "\n",
       "  <svg xmlns=\"http://www.w3.org/2000/svg\" height=\"24px\" viewBox=\"0 -960 960 960\">\n",
       "    <path d=\"M120-120v-720h720v720H120Zm60-500h600v-160H180v160Zm220 220h160v-160H400v160Zm0 220h160v-160H400v160ZM180-400h160v-160H180v160Zm440 0h160v-160H620v160ZM180-180h160v-160H180v160Zm440 0h160v-160H620v160Z\"/>\n",
       "  </svg>\n",
       "    </button>\n",
       "\n",
       "  <style>\n",
       "    .colab-df-container {\n",
       "      display:flex;\n",
       "      gap: 12px;\n",
       "    }\n",
       "\n",
       "    .colab-df-convert {\n",
       "      background-color: #E8F0FE;\n",
       "      border: none;\n",
       "      border-radius: 50%;\n",
       "      cursor: pointer;\n",
       "      display: none;\n",
       "      fill: #1967D2;\n",
       "      height: 32px;\n",
       "      padding: 0 0 0 0;\n",
       "      width: 32px;\n",
       "    }\n",
       "\n",
       "    .colab-df-convert:hover {\n",
       "      background-color: #E2EBFA;\n",
       "      box-shadow: 0px 1px 2px rgba(60, 64, 67, 0.3), 0px 1px 3px 1px rgba(60, 64, 67, 0.15);\n",
       "      fill: #174EA6;\n",
       "    }\n",
       "\n",
       "    .colab-df-buttons div {\n",
       "      margin-bottom: 4px;\n",
       "    }\n",
       "\n",
       "    [theme=dark] .colab-df-convert {\n",
       "      background-color: #3B4455;\n",
       "      fill: #D2E3FC;\n",
       "    }\n",
       "\n",
       "    [theme=dark] .colab-df-convert:hover {\n",
       "      background-color: #434B5C;\n",
       "      box-shadow: 0px 1px 3px 1px rgba(0, 0, 0, 0.15);\n",
       "      filter: drop-shadow(0px 1px 2px rgba(0, 0, 0, 0.3));\n",
       "      fill: #FFFFFF;\n",
       "    }\n",
       "  </style>\n",
       "\n",
       "    <script>\n",
       "      const buttonEl =\n",
       "        document.querySelector('#df-c670fa06-c699-41d6-a6d0-6a4e3fdff67e button.colab-df-convert');\n",
       "      buttonEl.style.display =\n",
       "        google.colab.kernel.accessAllowed ? 'block' : 'none';\n",
       "\n",
       "      async function convertToInteractive(key) {\n",
       "        const element = document.querySelector('#df-c670fa06-c699-41d6-a6d0-6a4e3fdff67e');\n",
       "        const dataTable =\n",
       "          await google.colab.kernel.invokeFunction('convertToInteractive',\n",
       "                                                    [key], {});\n",
       "        if (!dataTable) return;\n",
       "\n",
       "        const docLinkHtml = 'Like what you see? Visit the ' +\n",
       "          '<a target=\"_blank\" href=https://colab.research.google.com/notebooks/data_table.ipynb>data table notebook</a>'\n",
       "          + ' to learn more about interactive tables.';\n",
       "        element.innerHTML = '';\n",
       "        dataTable['output_type'] = 'display_data';\n",
       "        await google.colab.output.renderOutput(dataTable, element);\n",
       "        const docLink = document.createElement('div');\n",
       "        docLink.innerHTML = docLinkHtml;\n",
       "        element.appendChild(docLink);\n",
       "      }\n",
       "    </script>\n",
       "  </div>\n",
       "\n",
       "\n",
       "<div id=\"df-f0754784-856f-4b4c-b904-efee74988f14\">\n",
       "  <button class=\"colab-df-quickchart\" onclick=\"quickchart('df-f0754784-856f-4b4c-b904-efee74988f14')\"\n",
       "            title=\"Suggest charts\"\n",
       "            style=\"display:none;\">\n",
       "\n",
       "<svg xmlns=\"http://www.w3.org/2000/svg\" height=\"24px\"viewBox=\"0 0 24 24\"\n",
       "     width=\"24px\">\n",
       "    <g>\n",
       "        <path d=\"M19 3H5c-1.1 0-2 .9-2 2v14c0 1.1.9 2 2 2h14c1.1 0 2-.9 2-2V5c0-1.1-.9-2-2-2zM9 17H7v-7h2v7zm4 0h-2V7h2v10zm4 0h-2v-4h2v4z\"/>\n",
       "    </g>\n",
       "</svg>\n",
       "  </button>\n",
       "\n",
       "<style>\n",
       "  .colab-df-quickchart {\n",
       "      --bg-color: #E8F0FE;\n",
       "      --fill-color: #1967D2;\n",
       "      --hover-bg-color: #E2EBFA;\n",
       "      --hover-fill-color: #174EA6;\n",
       "      --disabled-fill-color: #AAA;\n",
       "      --disabled-bg-color: #DDD;\n",
       "  }\n",
       "\n",
       "  [theme=dark] .colab-df-quickchart {\n",
       "      --bg-color: #3B4455;\n",
       "      --fill-color: #D2E3FC;\n",
       "      --hover-bg-color: #434B5C;\n",
       "      --hover-fill-color: #FFFFFF;\n",
       "      --disabled-bg-color: #3B4455;\n",
       "      --disabled-fill-color: #666;\n",
       "  }\n",
       "\n",
       "  .colab-df-quickchart {\n",
       "    background-color: var(--bg-color);\n",
       "    border: none;\n",
       "    border-radius: 50%;\n",
       "    cursor: pointer;\n",
       "    display: none;\n",
       "    fill: var(--fill-color);\n",
       "    height: 32px;\n",
       "    padding: 0;\n",
       "    width: 32px;\n",
       "  }\n",
       "\n",
       "  .colab-df-quickchart:hover {\n",
       "    background-color: var(--hover-bg-color);\n",
       "    box-shadow: 0 1px 2px rgba(60, 64, 67, 0.3), 0 1px 3px 1px rgba(60, 64, 67, 0.15);\n",
       "    fill: var(--button-hover-fill-color);\n",
       "  }\n",
       "\n",
       "  .colab-df-quickchart-complete:disabled,\n",
       "  .colab-df-quickchart-complete:disabled:hover {\n",
       "    background-color: var(--disabled-bg-color);\n",
       "    fill: var(--disabled-fill-color);\n",
       "    box-shadow: none;\n",
       "  }\n",
       "\n",
       "  .colab-df-spinner {\n",
       "    border: 2px solid var(--fill-color);\n",
       "    border-color: transparent;\n",
       "    border-bottom-color: var(--fill-color);\n",
       "    animation:\n",
       "      spin 1s steps(1) infinite;\n",
       "  }\n",
       "\n",
       "  @keyframes spin {\n",
       "    0% {\n",
       "      border-color: transparent;\n",
       "      border-bottom-color: var(--fill-color);\n",
       "      border-left-color: var(--fill-color);\n",
       "    }\n",
       "    20% {\n",
       "      border-color: transparent;\n",
       "      border-left-color: var(--fill-color);\n",
       "      border-top-color: var(--fill-color);\n",
       "    }\n",
       "    30% {\n",
       "      border-color: transparent;\n",
       "      border-left-color: var(--fill-color);\n",
       "      border-top-color: var(--fill-color);\n",
       "      border-right-color: var(--fill-color);\n",
       "    }\n",
       "    40% {\n",
       "      border-color: transparent;\n",
       "      border-right-color: var(--fill-color);\n",
       "      border-top-color: var(--fill-color);\n",
       "    }\n",
       "    60% {\n",
       "      border-color: transparent;\n",
       "      border-right-color: var(--fill-color);\n",
       "    }\n",
       "    80% {\n",
       "      border-color: transparent;\n",
       "      border-right-color: var(--fill-color);\n",
       "      border-bottom-color: var(--fill-color);\n",
       "    }\n",
       "    90% {\n",
       "      border-color: transparent;\n",
       "      border-bottom-color: var(--fill-color);\n",
       "    }\n",
       "  }\n",
       "</style>\n",
       "\n",
       "  <script>\n",
       "    async function quickchart(key) {\n",
       "      const quickchartButtonEl =\n",
       "        document.querySelector('#' + key + ' button');\n",
       "      quickchartButtonEl.disabled = true;  // To prevent multiple clicks.\n",
       "      quickchartButtonEl.classList.add('colab-df-spinner');\n",
       "      try {\n",
       "        const charts = await google.colab.kernel.invokeFunction(\n",
       "            'suggestCharts', [key], {});\n",
       "      } catch (error) {\n",
       "        console.error('Error during call to suggestCharts:', error);\n",
       "      }\n",
       "      quickchartButtonEl.classList.remove('colab-df-spinner');\n",
       "      quickchartButtonEl.classList.add('colab-df-quickchart-complete');\n",
       "    }\n",
       "    (() => {\n",
       "      let quickchartButtonEl =\n",
       "        document.querySelector('#df-f0754784-856f-4b4c-b904-efee74988f14 button');\n",
       "      quickchartButtonEl.style.display =\n",
       "        google.colab.kernel.accessAllowed ? 'block' : 'none';\n",
       "    })();\n",
       "  </script>\n",
       "</div>\n",
       "\n",
       "  <div id=\"id_70d3bd96-e40f-4848-9091-cc3bdf0190d1\">\n",
       "    <style>\n",
       "      .colab-df-generate {\n",
       "        background-color: #E8F0FE;\n",
       "        border: none;\n",
       "        border-radius: 50%;\n",
       "        cursor: pointer;\n",
       "        display: none;\n",
       "        fill: #1967D2;\n",
       "        height: 32px;\n",
       "        padding: 0 0 0 0;\n",
       "        width: 32px;\n",
       "      }\n",
       "\n",
       "      .colab-df-generate:hover {\n",
       "        background-color: #E2EBFA;\n",
       "        box-shadow: 0px 1px 2px rgba(60, 64, 67, 0.3), 0px 1px 3px 1px rgba(60, 64, 67, 0.15);\n",
       "        fill: #174EA6;\n",
       "      }\n",
       "\n",
       "      [theme=dark] .colab-df-generate {\n",
       "        background-color: #3B4455;\n",
       "        fill: #D2E3FC;\n",
       "      }\n",
       "\n",
       "      [theme=dark] .colab-df-generate:hover {\n",
       "        background-color: #434B5C;\n",
       "        box-shadow: 0px 1px 3px 1px rgba(0, 0, 0, 0.15);\n",
       "        filter: drop-shadow(0px 1px 2px rgba(0, 0, 0, 0.3));\n",
       "        fill: #FFFFFF;\n",
       "      }\n",
       "    </style>\n",
       "    <button class=\"colab-df-generate\" onclick=\"generateWithVariable('sample_review')\"\n",
       "            title=\"Generate code using this dataframe.\"\n",
       "            style=\"display:none;\">\n",
       "\n",
       "  <svg xmlns=\"http://www.w3.org/2000/svg\" height=\"24px\"viewBox=\"0 0 24 24\"\n",
       "       width=\"24px\">\n",
       "    <path d=\"M7,19H8.4L18.45,9,17,7.55,7,17.6ZM5,21V16.75L18.45,3.32a2,2,0,0,1,2.83,0l1.4,1.43a1.91,1.91,0,0,1,.58,1.4,1.91,1.91,0,0,1-.58,1.4L9.25,21ZM18.45,9,17,7.55Zm-12,3A5.31,5.31,0,0,0,4.9,8.1,5.31,5.31,0,0,0,1,6.5,5.31,5.31,0,0,0,4.9,4.9,5.31,5.31,0,0,0,6.5,1,5.31,5.31,0,0,0,8.1,4.9,5.31,5.31,0,0,0,12,6.5,5.46,5.46,0,0,0,6.5,12Z\"/>\n",
       "  </svg>\n",
       "    </button>\n",
       "    <script>\n",
       "      (() => {\n",
       "      const buttonEl =\n",
       "        document.querySelector('#id_70d3bd96-e40f-4848-9091-cc3bdf0190d1 button.colab-df-generate');\n",
       "      buttonEl.style.display =\n",
       "        google.colab.kernel.accessAllowed ? 'block' : 'none';\n",
       "\n",
       "      buttonEl.onclick = () => {\n",
       "        google.colab.notebook.generateWithVariable('sample_review');\n",
       "      }\n",
       "      })();\n",
       "    </script>\n",
       "  </div>\n",
       "\n",
       "    </div>\n",
       "  </div>\n"
      ],
      "text/plain": [
       "                                                    text  rate  funny  useful  \\\n",
       "12233  Ok, I've been told I never learn my lesson. It...     1      0       0   \n",
       "5521   Juanita & Maude is one of my very favorite res...     5      0       0   \n",
       "21566  They literally mess up my order every time I g...     1      0       1   \n",
       "21574  About twice a year I forget and stop in for a ...     1      0       0   \n",
       "9966   I'm beyond excited that I have finally had the...     5      0       1   \n",
       "25807  I can eat this everyday these were some of the...     5      0       0   \n",
       "10789  Ukai Japanese Bistro- San Ramon California\\n\\n...     5      0       1   \n",
       "23892  Don't go just run...this restaurant is very de...     1      0       2   \n",
       "23367  We used to love rajwadi, but the standard seem...     1      0       0   \n",
       "17590  First time here and inside seating is cramped....     4      0       0   \n",
       "14864  I'm in love the El Jefe Taco al Pastor. Loaded...     5      0       0   \n",
       "12603  I had never heard of Golden Corral before, but...     2      1       4   \n",
       "16420  Ordered delivery through Caviar. I have been s...     5      0       0   \n",
       "2433   This Mcdonlalds the worse service I have ever ...     1      0       0   \n",
       "22804  I ordered the spicy peanut sauté with zucchini...     1      0       0   \n",
       "6936   Din Ding Dumpling House was delightful to dine...     4      4       4   \n",
       "13045  This is probably the best bottomless mimosa pl...     5      0       0   \n",
       "22153  If you're into one seasoning fits all...this i...     2      1       0   \n",
       "15693  I have gone to heaven. The food here is incred...     5      0       1   \n",
       "15710  Small location with limited seating but the fo...     4      0       1   \n",
       "\n",
       "       cool  label  cluster_id  \n",
       "12233     0      0           1  \n",
       "5521      0      1           2  \n",
       "21566     0      0           1  \n",
       "21574     1      0           1  \n",
       "9966      0      1           0  \n",
       "25807     1      1           2  \n",
       "10789     0      1           0  \n",
       "23892     1      0           1  \n",
       "23367     0      0           1  \n",
       "17590     0      1           0  \n",
       "14864     0      1           2  \n",
       "12603     0      0           1  \n",
       "16420     0      1           0  \n",
       "2433      0      0           1  \n",
       "22804     0      0           1  \n",
       "6936      4      1           2  \n",
       "13045     0      1           0  \n",
       "22153     1      0           0  \n",
       "15693     0      1           0  \n",
       "15710     1      1           2  "
      ]
     },
     "execution_count": 74,
     "metadata": {},
     "output_type": "execute_result"
    }
   ],
   "source": [
    "sample_review"
   ]
  },
  {
   "cell_type": "code",
   "execution_count": null,
   "metadata": {
    "id": "isdaRbDrfjrE"
   },
   "outputs": [],
   "source": [
    "sample = sample_review.groupby('cluster_id').apply(pd.DataFrame.sample, 1).iloc[:,0]\n"
   ]
  },
  {
   "cell_type": "code",
   "execution_count": null,
   "metadata": {
    "colab": {
     "base_uri": "https://localhost:8080/",
     "height": 175
    },
    "id": "KVvkadi93iCQ",
    "outputId": "be3e9a01-91d8-4dc0-ab89-0c86eea75b03"
   },
   "outputs": [
    {
     "data": {
      "application/vnd.google.colaboratory.intrinsic+json": {
       "summary": "{\n  \"name\": \"sample\",\n  \"rows\": 3,\n  \"fields\": [\n    {\n      \"column\": \"text\",\n      \"properties\": {\n        \"dtype\": \"string\",\n        \"num_unique_values\": 3,\n        \"samples\": [\n          \"I have gone to heaven. The food here is incredible. I have an amazing friend who ordered delivery for me today. Best maternity leave surprise!\\n\\nThe chicken tikka is so creamy and buttery but then as you eat it, you slowly start to feel the spice and it's amazing.\\nSamosas - I normally don't eat samosas at restaurants bc the potato mixture tends to be a little dry and not very flavorful. This samosa was awesome. It was packed with flavor and was spicy which I loved! \\n\\nCan't wait to order delivery from here again. Hope to also check it out in person soon\",\n          \"We used to love rajwadi, but the standard seem to have gone down over the last year. The food tastes good but not delicious anymore. The quality is okay but no longer great. They come and ask for once a while ( used to be very frequent). They don't even refill water even though it was not super busy. Overall, let down on hospitality and food quality.\",\n          \"I'm in love the El Jefe Taco al Pastor. Loaded with meat, goose cheesy awesomeness. Great selections of salsa with tons of flavor a perfect combo of spicy level. \\n\\nThank You Tacos El Compa \\n\\nNo pics was too hungry to wait for the perfect shot.\"\n        ],\n        \"semantic_type\": \"\",\n        \"description\": \"\"\n      }\n    },\n    {\n      \"column\": \"rate\",\n      \"properties\": {\n        \"dtype\": \"number\",\n        \"std\": 2,\n        \"min\": 1,\n        \"max\": 5,\n        \"num_unique_values\": 2,\n        \"samples\": [\n          1,\n          5\n        ],\n        \"semantic_type\": \"\",\n        \"description\": \"\"\n      }\n    },\n    {\n      \"column\": \"funny\",\n      \"properties\": {\n        \"dtype\": \"number\",\n        \"std\": 0,\n        \"min\": 0,\n        \"max\": 0,\n        \"num_unique_values\": 1,\n        \"samples\": [\n          0\n        ],\n        \"semantic_type\": \"\",\n        \"description\": \"\"\n      }\n    },\n    {\n      \"column\": \"useful\",\n      \"properties\": {\n        \"dtype\": \"number\",\n        \"std\": 0,\n        \"min\": 0,\n        \"max\": 1,\n        \"num_unique_values\": 2,\n        \"samples\": [\n          0\n        ],\n        \"semantic_type\": \"\",\n        \"description\": \"\"\n      }\n    },\n    {\n      \"column\": \"cool\",\n      \"properties\": {\n        \"dtype\": \"number\",\n        \"std\": 0,\n        \"min\": 0,\n        \"max\": 0,\n        \"num_unique_values\": 1,\n        \"samples\": [\n          0\n        ],\n        \"semantic_type\": \"\",\n        \"description\": \"\"\n      }\n    },\n    {\n      \"column\": \"label\",\n      \"properties\": {\n        \"dtype\": \"number\",\n        \"std\": 0,\n        \"min\": 0,\n        \"max\": 1,\n        \"num_unique_values\": 2,\n        \"samples\": [\n          0\n        ],\n        \"semantic_type\": \"\",\n        \"description\": \"\"\n      }\n    },\n    {\n      \"column\": \"cluster_id\",\n      \"properties\": {\n        \"dtype\": \"number\",\n        \"std\": 1,\n        \"min\": 0,\n        \"max\": 2,\n        \"num_unique_values\": 3,\n        \"samples\": [\n          0\n        ],\n        \"semantic_type\": \"\",\n        \"description\": \"\"\n      }\n    }\n  ]\n}",
       "type": "dataframe",
       "variable_name": "sample"
      },
      "text/html": [
       "\n",
       "  <div id=\"df-9780c95f-73e2-4666-8736-4d45b717c1b8\" class=\"colab-df-container\">\n",
       "    <div>\n",
       "<style scoped>\n",
       "    .dataframe tbody tr th:only-of-type {\n",
       "        vertical-align: middle;\n",
       "    }\n",
       "\n",
       "    .dataframe tbody tr th {\n",
       "        vertical-align: top;\n",
       "    }\n",
       "\n",
       "    .dataframe thead th {\n",
       "        text-align: right;\n",
       "    }\n",
       "</style>\n",
       "<table border=\"1\" class=\"dataframe\">\n",
       "  <thead>\n",
       "    <tr style=\"text-align: right;\">\n",
       "      <th></th>\n",
       "      <th></th>\n",
       "      <th>text</th>\n",
       "      <th>rate</th>\n",
       "      <th>funny</th>\n",
       "      <th>useful</th>\n",
       "      <th>cool</th>\n",
       "      <th>label</th>\n",
       "      <th>cluster_id</th>\n",
       "    </tr>\n",
       "    <tr>\n",
       "      <th>cluster_id</th>\n",
       "      <th></th>\n",
       "      <th></th>\n",
       "      <th></th>\n",
       "      <th></th>\n",
       "      <th></th>\n",
       "      <th></th>\n",
       "      <th></th>\n",
       "      <th></th>\n",
       "    </tr>\n",
       "  </thead>\n",
       "  <tbody>\n",
       "    <tr>\n",
       "      <th>0</th>\n",
       "      <th>15693</th>\n",
       "      <td>I have gone to heaven. The food here is incred...</td>\n",
       "      <td>5</td>\n",
       "      <td>0</td>\n",
       "      <td>1</td>\n",
       "      <td>0</td>\n",
       "      <td>1</td>\n",
       "      <td>0</td>\n",
       "    </tr>\n",
       "    <tr>\n",
       "      <th>1</th>\n",
       "      <th>23367</th>\n",
       "      <td>We used to love rajwadi, but the standard seem...</td>\n",
       "      <td>1</td>\n",
       "      <td>0</td>\n",
       "      <td>0</td>\n",
       "      <td>0</td>\n",
       "      <td>0</td>\n",
       "      <td>1</td>\n",
       "    </tr>\n",
       "    <tr>\n",
       "      <th>2</th>\n",
       "      <th>14864</th>\n",
       "      <td>I'm in love the El Jefe Taco al Pastor. Loaded...</td>\n",
       "      <td>5</td>\n",
       "      <td>0</td>\n",
       "      <td>0</td>\n",
       "      <td>0</td>\n",
       "      <td>1</td>\n",
       "      <td>2</td>\n",
       "    </tr>\n",
       "  </tbody>\n",
       "</table>\n",
       "</div>\n",
       "    <div class=\"colab-df-buttons\">\n",
       "\n",
       "  <div class=\"colab-df-container\">\n",
       "    <button class=\"colab-df-convert\" onclick=\"convertToInteractive('df-9780c95f-73e2-4666-8736-4d45b717c1b8')\"\n",
       "            title=\"Convert this dataframe to an interactive table.\"\n",
       "            style=\"display:none;\">\n",
       "\n",
       "  <svg xmlns=\"http://www.w3.org/2000/svg\" height=\"24px\" viewBox=\"0 -960 960 960\">\n",
       "    <path d=\"M120-120v-720h720v720H120Zm60-500h600v-160H180v160Zm220 220h160v-160H400v160Zm0 220h160v-160H400v160ZM180-400h160v-160H180v160Zm440 0h160v-160H620v160ZM180-180h160v-160H180v160Zm440 0h160v-160H620v160Z\"/>\n",
       "  </svg>\n",
       "    </button>\n",
       "\n",
       "  <style>\n",
       "    .colab-df-container {\n",
       "      display:flex;\n",
       "      gap: 12px;\n",
       "    }\n",
       "\n",
       "    .colab-df-convert {\n",
       "      background-color: #E8F0FE;\n",
       "      border: none;\n",
       "      border-radius: 50%;\n",
       "      cursor: pointer;\n",
       "      display: none;\n",
       "      fill: #1967D2;\n",
       "      height: 32px;\n",
       "      padding: 0 0 0 0;\n",
       "      width: 32px;\n",
       "    }\n",
       "\n",
       "    .colab-df-convert:hover {\n",
       "      background-color: #E2EBFA;\n",
       "      box-shadow: 0px 1px 2px rgba(60, 64, 67, 0.3), 0px 1px 3px 1px rgba(60, 64, 67, 0.15);\n",
       "      fill: #174EA6;\n",
       "    }\n",
       "\n",
       "    .colab-df-buttons div {\n",
       "      margin-bottom: 4px;\n",
       "    }\n",
       "\n",
       "    [theme=dark] .colab-df-convert {\n",
       "      background-color: #3B4455;\n",
       "      fill: #D2E3FC;\n",
       "    }\n",
       "\n",
       "    [theme=dark] .colab-df-convert:hover {\n",
       "      background-color: #434B5C;\n",
       "      box-shadow: 0px 1px 3px 1px rgba(0, 0, 0, 0.15);\n",
       "      filter: drop-shadow(0px 1px 2px rgba(0, 0, 0, 0.3));\n",
       "      fill: #FFFFFF;\n",
       "    }\n",
       "  </style>\n",
       "\n",
       "    <script>\n",
       "      const buttonEl =\n",
       "        document.querySelector('#df-9780c95f-73e2-4666-8736-4d45b717c1b8 button.colab-df-convert');\n",
       "      buttonEl.style.display =\n",
       "        google.colab.kernel.accessAllowed ? 'block' : 'none';\n",
       "\n",
       "      async function convertToInteractive(key) {\n",
       "        const element = document.querySelector('#df-9780c95f-73e2-4666-8736-4d45b717c1b8');\n",
       "        const dataTable =\n",
       "          await google.colab.kernel.invokeFunction('convertToInteractive',\n",
       "                                                    [key], {});\n",
       "        if (!dataTable) return;\n",
       "\n",
       "        const docLinkHtml = 'Like what you see? Visit the ' +\n",
       "          '<a target=\"_blank\" href=https://colab.research.google.com/notebooks/data_table.ipynb>data table notebook</a>'\n",
       "          + ' to learn more about interactive tables.';\n",
       "        element.innerHTML = '';\n",
       "        dataTable['output_type'] = 'display_data';\n",
       "        await google.colab.output.renderOutput(dataTable, element);\n",
       "        const docLink = document.createElement('div');\n",
       "        docLink.innerHTML = docLinkHtml;\n",
       "        element.appendChild(docLink);\n",
       "      }\n",
       "    </script>\n",
       "  </div>\n",
       "\n",
       "\n",
       "<div id=\"df-a285bad5-1a4a-491f-9102-080078de4374\">\n",
       "  <button class=\"colab-df-quickchart\" onclick=\"quickchart('df-a285bad5-1a4a-491f-9102-080078de4374')\"\n",
       "            title=\"Suggest charts\"\n",
       "            style=\"display:none;\">\n",
       "\n",
       "<svg xmlns=\"http://www.w3.org/2000/svg\" height=\"24px\"viewBox=\"0 0 24 24\"\n",
       "     width=\"24px\">\n",
       "    <g>\n",
       "        <path d=\"M19 3H5c-1.1 0-2 .9-2 2v14c0 1.1.9 2 2 2h14c1.1 0 2-.9 2-2V5c0-1.1-.9-2-2-2zM9 17H7v-7h2v7zm4 0h-2V7h2v10zm4 0h-2v-4h2v4z\"/>\n",
       "    </g>\n",
       "</svg>\n",
       "  </button>\n",
       "\n",
       "<style>\n",
       "  .colab-df-quickchart {\n",
       "      --bg-color: #E8F0FE;\n",
       "      --fill-color: #1967D2;\n",
       "      --hover-bg-color: #E2EBFA;\n",
       "      --hover-fill-color: #174EA6;\n",
       "      --disabled-fill-color: #AAA;\n",
       "      --disabled-bg-color: #DDD;\n",
       "  }\n",
       "\n",
       "  [theme=dark] .colab-df-quickchart {\n",
       "      --bg-color: #3B4455;\n",
       "      --fill-color: #D2E3FC;\n",
       "      --hover-bg-color: #434B5C;\n",
       "      --hover-fill-color: #FFFFFF;\n",
       "      --disabled-bg-color: #3B4455;\n",
       "      --disabled-fill-color: #666;\n",
       "  }\n",
       "\n",
       "  .colab-df-quickchart {\n",
       "    background-color: var(--bg-color);\n",
       "    border: none;\n",
       "    border-radius: 50%;\n",
       "    cursor: pointer;\n",
       "    display: none;\n",
       "    fill: var(--fill-color);\n",
       "    height: 32px;\n",
       "    padding: 0;\n",
       "    width: 32px;\n",
       "  }\n",
       "\n",
       "  .colab-df-quickchart:hover {\n",
       "    background-color: var(--hover-bg-color);\n",
       "    box-shadow: 0 1px 2px rgba(60, 64, 67, 0.3), 0 1px 3px 1px rgba(60, 64, 67, 0.15);\n",
       "    fill: var(--button-hover-fill-color);\n",
       "  }\n",
       "\n",
       "  .colab-df-quickchart-complete:disabled,\n",
       "  .colab-df-quickchart-complete:disabled:hover {\n",
       "    background-color: var(--disabled-bg-color);\n",
       "    fill: var(--disabled-fill-color);\n",
       "    box-shadow: none;\n",
       "  }\n",
       "\n",
       "  .colab-df-spinner {\n",
       "    border: 2px solid var(--fill-color);\n",
       "    border-color: transparent;\n",
       "    border-bottom-color: var(--fill-color);\n",
       "    animation:\n",
       "      spin 1s steps(1) infinite;\n",
       "  }\n",
       "\n",
       "  @keyframes spin {\n",
       "    0% {\n",
       "      border-color: transparent;\n",
       "      border-bottom-color: var(--fill-color);\n",
       "      border-left-color: var(--fill-color);\n",
       "    }\n",
       "    20% {\n",
       "      border-color: transparent;\n",
       "      border-left-color: var(--fill-color);\n",
       "      border-top-color: var(--fill-color);\n",
       "    }\n",
       "    30% {\n",
       "      border-color: transparent;\n",
       "      border-left-color: var(--fill-color);\n",
       "      border-top-color: var(--fill-color);\n",
       "      border-right-color: var(--fill-color);\n",
       "    }\n",
       "    40% {\n",
       "      border-color: transparent;\n",
       "      border-right-color: var(--fill-color);\n",
       "      border-top-color: var(--fill-color);\n",
       "    }\n",
       "    60% {\n",
       "      border-color: transparent;\n",
       "      border-right-color: var(--fill-color);\n",
       "    }\n",
       "    80% {\n",
       "      border-color: transparent;\n",
       "      border-right-color: var(--fill-color);\n",
       "      border-bottom-color: var(--fill-color);\n",
       "    }\n",
       "    90% {\n",
       "      border-color: transparent;\n",
       "      border-bottom-color: var(--fill-color);\n",
       "    }\n",
       "  }\n",
       "</style>\n",
       "\n",
       "  <script>\n",
       "    async function quickchart(key) {\n",
       "      const quickchartButtonEl =\n",
       "        document.querySelector('#' + key + ' button');\n",
       "      quickchartButtonEl.disabled = true;  // To prevent multiple clicks.\n",
       "      quickchartButtonEl.classList.add('colab-df-spinner');\n",
       "      try {\n",
       "        const charts = await google.colab.kernel.invokeFunction(\n",
       "            'suggestCharts', [key], {});\n",
       "      } catch (error) {\n",
       "        console.error('Error during call to suggestCharts:', error);\n",
       "      }\n",
       "      quickchartButtonEl.classList.remove('colab-df-spinner');\n",
       "      quickchartButtonEl.classList.add('colab-df-quickchart-complete');\n",
       "    }\n",
       "    (() => {\n",
       "      let quickchartButtonEl =\n",
       "        document.querySelector('#df-a285bad5-1a4a-491f-9102-080078de4374 button');\n",
       "      quickchartButtonEl.style.display =\n",
       "        google.colab.kernel.accessAllowed ? 'block' : 'none';\n",
       "    })();\n",
       "  </script>\n",
       "</div>\n",
       "\n",
       "  <div id=\"id_cfffcc44-7686-4b26-b309-a5168e1d06e9\">\n",
       "    <style>\n",
       "      .colab-df-generate {\n",
       "        background-color: #E8F0FE;\n",
       "        border: none;\n",
       "        border-radius: 50%;\n",
       "        cursor: pointer;\n",
       "        display: none;\n",
       "        fill: #1967D2;\n",
       "        height: 32px;\n",
       "        padding: 0 0 0 0;\n",
       "        width: 32px;\n",
       "      }\n",
       "\n",
       "      .colab-df-generate:hover {\n",
       "        background-color: #E2EBFA;\n",
       "        box-shadow: 0px 1px 2px rgba(60, 64, 67, 0.3), 0px 1px 3px 1px rgba(60, 64, 67, 0.15);\n",
       "        fill: #174EA6;\n",
       "      }\n",
       "\n",
       "      [theme=dark] .colab-df-generate {\n",
       "        background-color: #3B4455;\n",
       "        fill: #D2E3FC;\n",
       "      }\n",
       "\n",
       "      [theme=dark] .colab-df-generate:hover {\n",
       "        background-color: #434B5C;\n",
       "        box-shadow: 0px 1px 3px 1px rgba(0, 0, 0, 0.15);\n",
       "        filter: drop-shadow(0px 1px 2px rgba(0, 0, 0, 0.3));\n",
       "        fill: #FFFFFF;\n",
       "      }\n",
       "    </style>\n",
       "    <button class=\"colab-df-generate\" onclick=\"generateWithVariable('sample')\"\n",
       "            title=\"Generate code using this dataframe.\"\n",
       "            style=\"display:none;\">\n",
       "\n",
       "  <svg xmlns=\"http://www.w3.org/2000/svg\" height=\"24px\"viewBox=\"0 0 24 24\"\n",
       "       width=\"24px\">\n",
       "    <path d=\"M7,19H8.4L18.45,9,17,7.55,7,17.6ZM5,21V16.75L18.45,3.32a2,2,0,0,1,2.83,0l1.4,1.43a1.91,1.91,0,0,1,.58,1.4,1.91,1.91,0,0,1-.58,1.4L9.25,21ZM18.45,9,17,7.55Zm-12,3A5.31,5.31,0,0,0,4.9,8.1,5.31,5.31,0,0,0,1,6.5,5.31,5.31,0,0,0,4.9,4.9,5.31,5.31,0,0,0,6.5,1,5.31,5.31,0,0,0,8.1,4.9,5.31,5.31,0,0,0,12,6.5,5.46,5.46,0,0,0,6.5,12Z\"/>\n",
       "  </svg>\n",
       "    </button>\n",
       "    <script>\n",
       "      (() => {\n",
       "      const buttonEl =\n",
       "        document.querySelector('#id_cfffcc44-7686-4b26-b309-a5168e1d06e9 button.colab-df-generate');\n",
       "      buttonEl.style.display =\n",
       "        google.colab.kernel.accessAllowed ? 'block' : 'none';\n",
       "\n",
       "      buttonEl.onclick = () => {\n",
       "        google.colab.notebook.generateWithVariable('sample');\n",
       "      }\n",
       "      })();\n",
       "    </script>\n",
       "  </div>\n",
       "\n",
       "    </div>\n",
       "  </div>\n"
      ],
      "text/plain": [
       "                                                               text  rate  \\\n",
       "cluster_id                                                                  \n",
       "0          15693  I have gone to heaven. The food here is incred...     5   \n",
       "1          23367  We used to love rajwadi, but the standard seem...     1   \n",
       "2          14864  I'm in love the El Jefe Taco al Pastor. Loaded...     5   \n",
       "\n",
       "                  funny  useful  cool  label  cluster_id  \n",
       "cluster_id                                                \n",
       "0          15693      0       1     0      1           0  \n",
       "1          23367      0       0     0      0           1  \n",
       "2          14864      0       0     0      1           2  "
      ]
     },
     "execution_count": 85,
     "metadata": {},
     "output_type": "execute_result"
    }
   ],
   "source": [
    "sample"
   ]
  },
  {
   "cell_type": "code",
   "execution_count": null,
   "metadata": {
    "id": "Uc6P-Sp-TP8C"
   },
   "outputs": [],
   "source": [
    "sample = sample_review.groupby('cluster_id').apply(pd.DataFrame.sample, 1)"
   ]
  },
  {
   "cell_type": "code",
   "execution_count": null,
   "metadata": {
    "colab": {
     "base_uri": "https://localhost:8080/"
    },
    "id": "IR2t87FWT4xM",
    "outputId": "557dbda4-2500-4a2a-fb70-71c40679b76e"
   },
   "outputs": [
    {
     "name": "stdout",
     "output_type": "stream",
     "text": [
      "segment 1: \n",
      " I have gone to heaven. The food here is incredible. I have an amazing friend who ordered delivery for me today. Best maternity leave surprise!\n",
      "\n",
      "The chicken tikka is so creamy and buttery but then as you eat it, you slowly start to feel the spice and it's amazing.\n",
      "Samosas - I normally don't eat samosas at restaurants bc the potato mixture tends to be a little dry and not very flavorful. This samosa was awesome. It was packed with flavor and was spicy which I loved! \n",
      "\n",
      "Can't wait to order delivery from here again. Hope to also check it out in person soon \n",
      "\n",
      "segment 2: \n",
      " We used to love rajwadi, but the standard seem to have gone down over the last year. The food tastes good but not delicious anymore. The quality is okay but no longer great. They come and ask for once a while ( used to be very frequent). They don't even refill water even though it was not super busy. Overall, let down on hospitality and food quality. \n",
      "\n",
      "segment 3: \n",
      " I'm in love the El Jefe Taco al Pastor. Loaded with meat, goose cheesy awesomeness. Great selections of salsa with tons of flavor a perfect combo of spicy level. \n",
      "\n",
      "Thank You Tacos El Compa \n",
      "\n",
      "No pics was too hungry to wait for the perfect shot. \n",
      "\n"
     ]
    }
   ],
   "source": [
    "print(\"segment 1:\",\"\\n\",sample.iloc[0,0], \"\\n\")\n",
    "print(\"segment 2:\",\"\\n\",sample.iloc[1,0], \"\\n\")\n",
    "print(\"segment 3:\",\"\\n\",sample.iloc[2,0], \"\\n\")"
   ]
  },
  {
   "cell_type": "code",
   "execution_count": null,
   "metadata": {
    "id": "Rlu8dv4Kwa3e"
   },
   "outputs": [],
   "source": [
    "# things to be done\n",
    "# 1. universal sentence encodning from Google\n",
    "# 2. hierarchy clustering in python"
   ]
  }
 ],
 "metadata": {
  "accelerator": "GPU",
  "colab": {
   "collapsed_sections": [
    "Bpqv34xexKIf",
    "YW0uY4N5w6Hx",
    "Kpfu7B3EhjgF",
    "leR6SZ6VCJie"
   ],
   "provenance": [],
   "toc_visible": true
  },
  "kernelspec": {
   "display_name": "Python 3",
   "language": "python",
   "name": "python3"
  },
  "language_info": {
   "codemirror_mode": {
    "name": "ipython",
    "version": 3
   },
   "file_extension": ".py",
   "mimetype": "text/x-python",
   "name": "python",
   "nbconvert_exporter": "python",
   "pygments_lexer": "ipython3",
   "version": "3.8.3"
  },
  "widgets": {
   "application/vnd.jupyter.widget-state+json": {
    "00d23a59a2b24fdd9025b0b972401446": {
     "model_module": "@jupyter-widgets/controls",
     "model_module_version": "1.5.0",
     "model_name": "DescriptionStyleModel",
     "state": {
      "_model_module": "@jupyter-widgets/controls",
      "_model_module_version": "1.5.0",
      "_model_name": "DescriptionStyleModel",
      "_view_count": null,
      "_view_module": "@jupyter-widgets/base",
      "_view_module_version": "1.2.0",
      "_view_name": "StyleView",
      "description_width": ""
     }
    },
    "02237c14cc324c108333c5bef3633f09": {
     "model_module": "@jupyter-widgets/controls",
     "model_module_version": "1.5.0",
     "model_name": "HTMLModel",
     "state": {
      "_dom_classes": [],
      "_model_module": "@jupyter-widgets/controls",
      "_model_module_version": "1.5.0",
      "_model_name": "HTMLModel",
      "_view_count": null,
      "_view_module": "@jupyter-widgets/controls",
      "_view_module_version": "1.5.0",
      "_view_name": "HTMLView",
      "description": "",
      "description_tooltip": null,
      "layout": "IPY_MODEL_9ec5d894b84f48fea0f95a26dd2c1e5c",
      "placeholder": "​",
      "style": "IPY_MODEL_814a7f829f8046e687c3a325d6711172",
      "value": " 226k/226k [00:00&lt;00:00, 1.12MB/s]"
     }
    },
    "0414768a323f431899427e16aeb15d42": {
     "model_module": "@jupyter-widgets/controls",
     "model_module_version": "1.5.0",
     "model_name": "ProgressStyleModel",
     "state": {
      "_model_module": "@jupyter-widgets/controls",
      "_model_module_version": "1.5.0",
      "_model_name": "ProgressStyleModel",
      "_view_count": null,
      "_view_module": "@jupyter-widgets/base",
      "_view_module_version": "1.2.0",
      "_view_name": "StyleView",
      "bar_color": null,
      "description_width": ""
     }
    },
    "09d3acdfc75e40e1bd3a80aeee574f92": {
     "model_module": "@jupyter-widgets/controls",
     "model_module_version": "1.5.0",
     "model_name": "HTMLModel",
     "state": {
      "_dom_classes": [],
      "_model_module": "@jupyter-widgets/controls",
      "_model_module_version": "1.5.0",
      "_model_name": "HTMLModel",
      "_view_count": null,
      "_view_module": "@jupyter-widgets/controls",
      "_view_module_version": "1.5.0",
      "_view_name": "HTMLView",
      "description": "",
      "description_tooltip": null,
      "layout": "IPY_MODEL_78ffefdf7aff4409ae0b80db9cc86267",
      "placeholder": "​",
      "style": "IPY_MODEL_6013248fb473410890382dd40366130f",
      "value": " 629/629 [00:00&lt;00:00, 15.0kB/s]"
     }
    },
    "0b21c43ceb8d4ed78787fa3be415ec68": {
     "model_module": "@jupyter-widgets/base",
     "model_module_version": "1.2.0",
     "model_name": "LayoutModel",
     "state": {
      "_model_module": "@jupyter-widgets/base",
      "_model_module_version": "1.2.0",
      "_model_name": "LayoutModel",
      "_view_count": null,
      "_view_module": "@jupyter-widgets/base",
      "_view_module_version": "1.2.0",
      "_view_name": "LayoutView",
      "align_content": null,
      "align_items": null,
      "align_self": null,
      "border": null,
      "bottom": null,
      "display": null,
      "flex": null,
      "flex_flow": null,
      "grid_area": null,
      "grid_auto_columns": null,
      "grid_auto_flow": null,
      "grid_auto_rows": null,
      "grid_column": null,
      "grid_gap": null,
      "grid_row": null,
      "grid_template_areas": null,
      "grid_template_columns": null,
      "grid_template_rows": null,
      "height": null,
      "justify_content": null,
      "justify_items": null,
      "left": null,
      "margin": null,
      "max_height": null,
      "max_width": null,
      "min_height": null,
      "min_width": null,
      "object_fit": null,
      "object_position": null,
      "order": null,
      "overflow": null,
      "overflow_x": null,
      "overflow_y": null,
      "padding": null,
      "right": null,
      "top": null,
      "visibility": null,
      "width": null
     }
    },
    "0fb84cbb81e24a6d8da146e0f41163ad": {
     "model_module": "@jupyter-widgets/controls",
     "model_module_version": "1.5.0",
     "model_name": "DescriptionStyleModel",
     "state": {
      "_model_module": "@jupyter-widgets/controls",
      "_model_module_version": "1.5.0",
      "_model_name": "DescriptionStyleModel",
      "_view_count": null,
      "_view_module": "@jupyter-widgets/base",
      "_view_module_version": "1.2.0",
      "_view_name": "StyleView",
      "description_width": ""
     }
    },
    "127d5459b9f74432a7514ec852245702": {
     "model_module": "@jupyter-widgets/controls",
     "model_module_version": "1.5.0",
     "model_name": "HBoxModel",
     "state": {
      "_dom_classes": [],
      "_model_module": "@jupyter-widgets/controls",
      "_model_module_version": "1.5.0",
      "_model_name": "HBoxModel",
      "_view_count": null,
      "_view_module": "@jupyter-widgets/controls",
      "_view_module_version": "1.5.0",
      "_view_name": "HBoxView",
      "box_style": "",
      "children": [
       "IPY_MODEL_9e282c5f830942b58f92bcd1ade9cd99",
       "IPY_MODEL_591a33f60c7741189df1637bd65da89d",
       "IPY_MODEL_a6a99f8c26fd4d4781154a35bd798e4e"
      ],
      "layout": "IPY_MODEL_74472d815c714577b25d8f42ae4915f7"
     }
    },
    "12e00041ad424bc0835b59107d9212f3": {
     "model_module": "@jupyter-widgets/base",
     "model_module_version": "1.2.0",
     "model_name": "LayoutModel",
     "state": {
      "_model_module": "@jupyter-widgets/base",
      "_model_module_version": "1.2.0",
      "_model_name": "LayoutModel",
      "_view_count": null,
      "_view_module": "@jupyter-widgets/base",
      "_view_module_version": "1.2.0",
      "_view_name": "LayoutView",
      "align_content": null,
      "align_items": null,
      "align_self": null,
      "border": null,
      "bottom": null,
      "display": null,
      "flex": null,
      "flex_flow": null,
      "grid_area": null,
      "grid_auto_columns": null,
      "grid_auto_flow": null,
      "grid_auto_rows": null,
      "grid_column": null,
      "grid_gap": null,
      "grid_row": null,
      "grid_template_areas": null,
      "grid_template_columns": null,
      "grid_template_rows": null,
      "height": null,
      "justify_content": null,
      "justify_items": null,
      "left": null,
      "margin": null,
      "max_height": null,
      "max_width": null,
      "min_height": null,
      "min_width": null,
      "object_fit": null,
      "object_position": null,
      "order": null,
      "overflow": null,
      "overflow_x": null,
      "overflow_y": null,
      "padding": null,
      "right": null,
      "top": null,
      "visibility": null,
      "width": null
     }
    },
    "193fa9e5182e4ea496b5d41b99776eee": {
     "model_module": "@jupyter-widgets/controls",
     "model_module_version": "1.5.0",
     "model_name": "DescriptionStyleModel",
     "state": {
      "_model_module": "@jupyter-widgets/controls",
      "_model_module_version": "1.5.0",
      "_model_name": "DescriptionStyleModel",
      "_view_count": null,
      "_view_module": "@jupyter-widgets/base",
      "_view_module_version": "1.2.0",
      "_view_name": "StyleView",
      "description_width": ""
     }
    },
    "1d6e59b43a8d443d9dd4a63074cd016b": {
     "model_module": "@jupyter-widgets/controls",
     "model_module_version": "1.5.0",
     "model_name": "DescriptionStyleModel",
     "state": {
      "_model_module": "@jupyter-widgets/controls",
      "_model_module_version": "1.5.0",
      "_model_name": "DescriptionStyleModel",
      "_view_count": null,
      "_view_module": "@jupyter-widgets/base",
      "_view_module_version": "1.2.0",
      "_view_name": "StyleView",
      "description_width": ""
     }
    },
    "1f0b50108a4b4a09bdbf5b30a4ab9785": {
     "model_module": "@jupyter-widgets/base",
     "model_module_version": "1.2.0",
     "model_name": "LayoutModel",
     "state": {
      "_model_module": "@jupyter-widgets/base",
      "_model_module_version": "1.2.0",
      "_model_name": "LayoutModel",
      "_view_count": null,
      "_view_module": "@jupyter-widgets/base",
      "_view_module_version": "1.2.0",
      "_view_name": "LayoutView",
      "align_content": null,
      "align_items": null,
      "align_self": null,
      "border": null,
      "bottom": null,
      "display": null,
      "flex": null,
      "flex_flow": null,
      "grid_area": null,
      "grid_auto_columns": null,
      "grid_auto_flow": null,
      "grid_auto_rows": null,
      "grid_column": null,
      "grid_gap": null,
      "grid_row": null,
      "grid_template_areas": null,
      "grid_template_columns": null,
      "grid_template_rows": null,
      "height": null,
      "justify_content": null,
      "justify_items": null,
      "left": null,
      "margin": null,
      "max_height": null,
      "max_width": null,
      "min_height": null,
      "min_width": null,
      "object_fit": null,
      "object_position": null,
      "order": null,
      "overflow": null,
      "overflow_x": null,
      "overflow_y": null,
      "padding": null,
      "right": null,
      "top": null,
      "visibility": null,
      "width": null
     }
    },
    "1f3443b69b41481f8808d67b25adc488": {
     "model_module": "@jupyter-widgets/base",
     "model_module_version": "1.2.0",
     "model_name": "LayoutModel",
     "state": {
      "_model_module": "@jupyter-widgets/base",
      "_model_module_version": "1.2.0",
      "_model_name": "LayoutModel",
      "_view_count": null,
      "_view_module": "@jupyter-widgets/base",
      "_view_module_version": "1.2.0",
      "_view_name": "LayoutView",
      "align_content": null,
      "align_items": null,
      "align_self": null,
      "border": null,
      "bottom": null,
      "display": null,
      "flex": null,
      "flex_flow": null,
      "grid_area": null,
      "grid_auto_columns": null,
      "grid_auto_flow": null,
      "grid_auto_rows": null,
      "grid_column": null,
      "grid_gap": null,
      "grid_row": null,
      "grid_template_areas": null,
      "grid_template_columns": null,
      "grid_template_rows": null,
      "height": null,
      "justify_content": null,
      "justify_items": null,
      "left": null,
      "margin": null,
      "max_height": null,
      "max_width": null,
      "min_height": null,
      "min_width": null,
      "object_fit": null,
      "object_position": null,
      "order": null,
      "overflow": null,
      "overflow_x": null,
      "overflow_y": null,
      "padding": null,
      "right": null,
      "top": null,
      "visibility": null,
      "width": null
     }
    },
    "23d1632c4bec4ba29982cf6da062fc58": {
     "model_module": "@jupyter-widgets/controls",
     "model_module_version": "1.5.0",
     "model_name": "HBoxModel",
     "state": {
      "_dom_classes": [],
      "_model_module": "@jupyter-widgets/controls",
      "_model_module_version": "1.5.0",
      "_model_name": "HBoxModel",
      "_view_count": null,
      "_view_module": "@jupyter-widgets/controls",
      "_view_module_version": "1.5.0",
      "_view_name": "HBoxView",
      "box_style": "",
      "children": [
       "IPY_MODEL_306064775451438a836ea3fd69c4ce55",
       "IPY_MODEL_bc0a8f2adc1d49aa95cc4a1c4d8d20a0",
       "IPY_MODEL_9cdcee4850c84f9ba65f95f47556c8dd"
      ],
      "layout": "IPY_MODEL_5d63f76d8edb409fb36c901802b11994"
     }
    },
    "2a218e97a75f49db991ba72ffed33d03": {
     "model_module": "@jupyter-widgets/controls",
     "model_module_version": "1.5.0",
     "model_name": "HBoxModel",
     "state": {
      "_dom_classes": [],
      "_model_module": "@jupyter-widgets/controls",
      "_model_module_version": "1.5.0",
      "_model_name": "HBoxModel",
      "_view_count": null,
      "_view_module": "@jupyter-widgets/controls",
      "_view_module_version": "1.5.0",
      "_view_name": "HBoxView",
      "box_style": "",
      "children": [
       "IPY_MODEL_eabf57e803784a9383f79ad52ec17d66",
       "IPY_MODEL_5323a1043eee4431921dabf47c796606",
       "IPY_MODEL_34cfba96917c4d8f8cc7832f081ff26b"
      ],
      "layout": "IPY_MODEL_c709b64902ca42d492e2cfa6af5e87a9"
     }
    },
    "2a3c04886e454fd4bb59b05614a59b99": {
     "model_module": "@jupyter-widgets/controls",
     "model_module_version": "1.5.0",
     "model_name": "HTMLModel",
     "state": {
      "_dom_classes": [],
      "_model_module": "@jupyter-widgets/controls",
      "_model_module_version": "1.5.0",
      "_model_name": "HTMLModel",
      "_view_count": null,
      "_view_module": "@jupyter-widgets/controls",
      "_view_module_version": "1.5.0",
      "_view_name": "HTMLView",
      "description": "",
      "description_tooltip": null,
      "layout": "IPY_MODEL_9e43bbacb5194a2bb94318b7a97f24b6",
      "placeholder": "​",
      "style": "IPY_MODEL_c55747e3f6ac46fcac808eb7f8d27f91",
      "value": "Downloading: 100%"
     }
    },
    "2c6a688aa25e42f89a490700d4ef4195": {
     "model_module": "@jupyter-widgets/controls",
     "model_module_version": "1.5.0",
     "model_name": "HTMLModel",
     "state": {
      "_dom_classes": [],
      "_model_module": "@jupyter-widgets/controls",
      "_model_module_version": "1.5.0",
      "_model_name": "HTMLModel",
      "_view_count": null,
      "_view_module": "@jupyter-widgets/controls",
      "_view_module_version": "1.5.0",
      "_view_name": "HTMLView",
      "description": "",
      "description_tooltip": null,
      "layout": "IPY_MODEL_e8184d5538bc47d2ae06f7a79b359027",
      "placeholder": "​",
      "style": "IPY_MODEL_3c219b7c4c4743bba43a10bd911d5d98",
      "value": " 232k/232k [00:00&lt;00:00, 949kB/s]"
     }
    },
    "2f53d1ed15cf46ccaec78a9b9e23b9ab": {
     "model_module": "@jupyter-widgets/base",
     "model_module_version": "1.2.0",
     "model_name": "LayoutModel",
     "state": {
      "_model_module": "@jupyter-widgets/base",
      "_model_module_version": "1.2.0",
      "_model_name": "LayoutModel",
      "_view_count": null,
      "_view_module": "@jupyter-widgets/base",
      "_view_module_version": "1.2.0",
      "_view_name": "LayoutView",
      "align_content": null,
      "align_items": null,
      "align_self": null,
      "border": null,
      "bottom": null,
      "display": null,
      "flex": null,
      "flex_flow": null,
      "grid_area": null,
      "grid_auto_columns": null,
      "grid_auto_flow": null,
      "grid_auto_rows": null,
      "grid_column": null,
      "grid_gap": null,
      "grid_row": null,
      "grid_template_areas": null,
      "grid_template_columns": null,
      "grid_template_rows": null,
      "height": null,
      "justify_content": null,
      "justify_items": null,
      "left": null,
      "margin": null,
      "max_height": null,
      "max_width": null,
      "min_height": null,
      "min_width": null,
      "object_fit": null,
      "object_position": null,
      "order": null,
      "overflow": null,
      "overflow_x": null,
      "overflow_y": null,
      "padding": null,
      "right": null,
      "top": null,
      "visibility": null,
      "width": null
     }
    },
    "306064775451438a836ea3fd69c4ce55": {
     "model_module": "@jupyter-widgets/controls",
     "model_module_version": "1.5.0",
     "model_name": "HTMLModel",
     "state": {
      "_dom_classes": [],
      "_model_module": "@jupyter-widgets/controls",
      "_model_module_version": "1.5.0",
      "_model_name": "HTMLModel",
      "_view_count": null,
      "_view_module": "@jupyter-widgets/controls",
      "_view_module_version": "1.5.0",
      "_view_name": "HTMLView",
      "description": "",
      "description_tooltip": null,
      "layout": "IPY_MODEL_aa7c1790932b4e3893473f18e3520067",
      "placeholder": "​",
      "style": "IPY_MODEL_0fb84cbb81e24a6d8da146e0f41163ad",
      "value": "config.json: 100%"
     }
    },
    "30769737677f4365bcc581bd62100763": {
     "model_module": "@jupyter-widgets/controls",
     "model_module_version": "1.5.0",
     "model_name": "FloatProgressModel",
     "state": {
      "_dom_classes": [],
      "_model_module": "@jupyter-widgets/controls",
      "_model_module_version": "1.5.0",
      "_model_name": "FloatProgressModel",
      "_view_count": null,
      "_view_module": "@jupyter-widgets/controls",
      "_view_module_version": "1.5.0",
      "_view_name": "ProgressView",
      "bar_style": "success",
      "description": "",
      "description_tooltip": null,
      "layout": "IPY_MODEL_ecd96dcf02cb43d78f976b861f6c7752",
      "max": 267844284,
      "min": 0,
      "orientation": "horizontal",
      "style": "IPY_MODEL_dc8a4be1a7c24f16b37aac704a34f7e9",
      "value": 267844284
     }
    },
    "31fb58f9f91d4e3382dfc3e165206b2d": {
     "model_module": "@jupyter-widgets/controls",
     "model_module_version": "1.5.0",
     "model_name": "FloatProgressModel",
     "state": {
      "_dom_classes": [],
      "_model_module": "@jupyter-widgets/controls",
      "_model_module_version": "1.5.0",
      "_model_name": "FloatProgressModel",
      "_view_count": null,
      "_view_module": "@jupyter-widgets/controls",
      "_view_module_version": "1.5.0",
      "_view_name": "ProgressView",
      "bar_style": "success",
      "description": "",
      "description_tooltip": null,
      "layout": "IPY_MODEL_906170021d3a46d2aad9fa063b0672d4",
      "max": 48,
      "min": 0,
      "orientation": "horizontal",
      "style": "IPY_MODEL_37eb3d0132e846c9b1660d33f615b43f",
      "value": 48
     }
    },
    "3274b1e386a445b6aa54821bc7921130": {
     "model_module": "@jupyter-widgets/base",
     "model_module_version": "1.2.0",
     "model_name": "LayoutModel",
     "state": {
      "_model_module": "@jupyter-widgets/base",
      "_model_module_version": "1.2.0",
      "_model_name": "LayoutModel",
      "_view_count": null,
      "_view_module": "@jupyter-widgets/base",
      "_view_module_version": "1.2.0",
      "_view_name": "LayoutView",
      "align_content": null,
      "align_items": null,
      "align_self": null,
      "border": null,
      "bottom": null,
      "display": null,
      "flex": null,
      "flex_flow": null,
      "grid_area": null,
      "grid_auto_columns": null,
      "grid_auto_flow": null,
      "grid_auto_rows": null,
      "grid_column": null,
      "grid_gap": null,
      "grid_row": null,
      "grid_template_areas": null,
      "grid_template_columns": null,
      "grid_template_rows": null,
      "height": null,
      "justify_content": null,
      "justify_items": null,
      "left": null,
      "margin": null,
      "max_height": null,
      "max_width": null,
      "min_height": null,
      "min_width": null,
      "object_fit": null,
      "object_position": null,
      "order": null,
      "overflow": null,
      "overflow_x": null,
      "overflow_y": null,
      "padding": null,
      "right": null,
      "top": null,
      "visibility": null,
      "width": null
     }
    },
    "34cfba96917c4d8f8cc7832f081ff26b": {
     "model_module": "@jupyter-widgets/controls",
     "model_module_version": "1.5.0",
     "model_name": "HTMLModel",
     "state": {
      "_dom_classes": [],
      "_model_module": "@jupyter-widgets/controls",
      "_model_module_version": "1.5.0",
      "_model_name": "HTMLModel",
      "_view_count": null,
      "_view_module": "@jupyter-widgets/controls",
      "_view_module_version": "1.5.0",
      "_view_name": "HTMLView",
      "description": "",
      "description_tooltip": null,
      "layout": "IPY_MODEL_853601f3bc594e789ae89836e5063ed4",
      "placeholder": "​",
      "style": "IPY_MODEL_1d6e59b43a8d443d9dd4a63074cd016b",
      "value": " 466k/466k [00:00&lt;00:00, 1.90MB/s]"
     }
    },
    "34de154906374fb49c07a95890892b89": {
     "model_module": "@jupyter-widgets/controls",
     "model_module_version": "1.5.0",
     "model_name": "DescriptionStyleModel",
     "state": {
      "_model_module": "@jupyter-widgets/controls",
      "_model_module_version": "1.5.0",
      "_model_name": "DescriptionStyleModel",
      "_view_count": null,
      "_view_module": "@jupyter-widgets/base",
      "_view_module_version": "1.2.0",
      "_view_name": "StyleView",
      "description_width": ""
     }
    },
    "35e8de3b1e214dfba0d7996484aef3a7": {
     "model_module": "@jupyter-widgets/base",
     "model_module_version": "1.2.0",
     "model_name": "LayoutModel",
     "state": {
      "_model_module": "@jupyter-widgets/base",
      "_model_module_version": "1.2.0",
      "_model_name": "LayoutModel",
      "_view_count": null,
      "_view_module": "@jupyter-widgets/base",
      "_view_module_version": "1.2.0",
      "_view_name": "LayoutView",
      "align_content": null,
      "align_items": null,
      "align_self": null,
      "border": null,
      "bottom": null,
      "display": null,
      "flex": null,
      "flex_flow": null,
      "grid_area": null,
      "grid_auto_columns": null,
      "grid_auto_flow": null,
      "grid_auto_rows": null,
      "grid_column": null,
      "grid_gap": null,
      "grid_row": null,
      "grid_template_areas": null,
      "grid_template_columns": null,
      "grid_template_rows": null,
      "height": null,
      "justify_content": null,
      "justify_items": null,
      "left": null,
      "margin": null,
      "max_height": null,
      "max_width": null,
      "min_height": null,
      "min_width": null,
      "object_fit": null,
      "object_position": null,
      "order": null,
      "overflow": null,
      "overflow_x": null,
      "overflow_y": null,
      "padding": null,
      "right": null,
      "top": null,
      "visibility": null,
      "width": null
     }
    },
    "37eb3d0132e846c9b1660d33f615b43f": {
     "model_module": "@jupyter-widgets/controls",
     "model_module_version": "1.5.0",
     "model_name": "ProgressStyleModel",
     "state": {
      "_model_module": "@jupyter-widgets/controls",
      "_model_module_version": "1.5.0",
      "_model_name": "ProgressStyleModel",
      "_view_count": null,
      "_view_module": "@jupyter-widgets/base",
      "_view_module_version": "1.2.0",
      "_view_name": "StyleView",
      "bar_color": null,
      "description_width": ""
     }
    },
    "384fb3d22621418ea8b7e93a744d91c4": {
     "model_module": "@jupyter-widgets/controls",
     "model_module_version": "1.5.0",
     "model_name": "ProgressStyleModel",
     "state": {
      "_model_module": "@jupyter-widgets/controls",
      "_model_module_version": "1.5.0",
      "_model_name": "ProgressStyleModel",
      "_view_count": null,
      "_view_module": "@jupyter-widgets/base",
      "_view_module_version": "1.2.0",
      "_view_name": "StyleView",
      "bar_color": null,
      "description_width": ""
     }
    },
    "3c219b7c4c4743bba43a10bd911d5d98": {
     "model_module": "@jupyter-widgets/controls",
     "model_module_version": "1.5.0",
     "model_name": "DescriptionStyleModel",
     "state": {
      "_model_module": "@jupyter-widgets/controls",
      "_model_module_version": "1.5.0",
      "_model_name": "DescriptionStyleModel",
      "_view_count": null,
      "_view_module": "@jupyter-widgets/base",
      "_view_module_version": "1.2.0",
      "_view_name": "StyleView",
      "description_width": ""
     }
    },
    "3e57cfd7947049c997d15f68632556d3": {
     "model_module": "@jupyter-widgets/controls",
     "model_module_version": "1.5.0",
     "model_name": "DescriptionStyleModel",
     "state": {
      "_model_module": "@jupyter-widgets/controls",
      "_model_module_version": "1.5.0",
      "_model_name": "DescriptionStyleModel",
      "_view_count": null,
      "_view_module": "@jupyter-widgets/base",
      "_view_module_version": "1.2.0",
      "_view_name": "StyleView",
      "description_width": ""
     }
    },
    "40367b800337420a820129ead7ab2a62": {
     "model_module": "@jupyter-widgets/controls",
     "model_module_version": "1.5.0",
     "model_name": "HTMLModel",
     "state": {
      "_dom_classes": [],
      "_model_module": "@jupyter-widgets/controls",
      "_model_module_version": "1.5.0",
      "_model_name": "HTMLModel",
      "_view_count": null,
      "_view_module": "@jupyter-widgets/controls",
      "_view_module_version": "1.5.0",
      "_view_name": "HTMLView",
      "description": "",
      "description_tooltip": null,
      "layout": "IPY_MODEL_3274b1e386a445b6aa54821bc7921130",
      "placeholder": "​",
      "style": "IPY_MODEL_00d23a59a2b24fdd9025b0b972401446",
      "value": " 255M/255M [00:08&lt;00:00, 34.0MB/s]"
     }
    },
    "4869c8f9e9174ae7b4d4a2cd53ba339e": {
     "model_module": "@jupyter-widgets/base",
     "model_module_version": "1.2.0",
     "model_name": "LayoutModel",
     "state": {
      "_model_module": "@jupyter-widgets/base",
      "_model_module_version": "1.2.0",
      "_model_name": "LayoutModel",
      "_view_count": null,
      "_view_module": "@jupyter-widgets/base",
      "_view_module_version": "1.2.0",
      "_view_name": "LayoutView",
      "align_content": null,
      "align_items": null,
      "align_self": null,
      "border": null,
      "bottom": null,
      "display": null,
      "flex": null,
      "flex_flow": null,
      "grid_area": null,
      "grid_auto_columns": null,
      "grid_auto_flow": null,
      "grid_auto_rows": null,
      "grid_column": null,
      "grid_gap": null,
      "grid_row": null,
      "grid_template_areas": null,
      "grid_template_columns": null,
      "grid_template_rows": null,
      "height": null,
      "justify_content": null,
      "justify_items": null,
      "left": null,
      "margin": null,
      "max_height": null,
      "max_width": null,
      "min_height": null,
      "min_width": null,
      "object_fit": null,
      "object_position": null,
      "order": null,
      "overflow": null,
      "overflow_x": null,
      "overflow_y": null,
      "padding": null,
      "right": null,
      "top": null,
      "visibility": null,
      "width": null
     }
    },
    "497051a90786462a90bb3704a33f5092": {
     "model_module": "@jupyter-widgets/controls",
     "model_module_version": "1.5.0",
     "model_name": "FloatProgressModel",
     "state": {
      "_dom_classes": [],
      "_model_module": "@jupyter-widgets/controls",
      "_model_module_version": "1.5.0",
      "_model_name": "FloatProgressModel",
      "_view_count": null,
      "_view_module": "@jupyter-widgets/controls",
      "_view_module_version": "1.5.0",
      "_view_name": "ProgressView",
      "bar_style": "success",
      "description": "",
      "description_tooltip": null,
      "layout": "IPY_MODEL_0b21c43ceb8d4ed78787fa3be415ec68",
      "max": 629,
      "min": 0,
      "orientation": "horizontal",
      "style": "IPY_MODEL_ed0c346a207f48cbb3ac7e9e4786b8a0",
      "value": 629
     }
    },
    "520d9fbb59b242e5ae8bfb71bf8e5425": {
     "model_module": "@jupyter-widgets/controls",
     "model_module_version": "1.5.0",
     "model_name": "HBoxModel",
     "state": {
      "_dom_classes": [],
      "_model_module": "@jupyter-widgets/controls",
      "_model_module_version": "1.5.0",
      "_model_name": "HBoxModel",
      "_view_count": null,
      "_view_module": "@jupyter-widgets/controls",
      "_view_module_version": "1.5.0",
      "_view_name": "HBoxView",
      "box_style": "",
      "children": [
       "IPY_MODEL_5572f69b5d474f3c861e40947af6f26a",
       "IPY_MODEL_9af4f8dcc44e40d1bce9245615fd3f7b",
       "IPY_MODEL_5912048eb6d44194ae67091030afef5e"
      ],
      "layout": "IPY_MODEL_35e8de3b1e214dfba0d7996484aef3a7"
     }
    },
    "5323a1043eee4431921dabf47c796606": {
     "model_module": "@jupyter-widgets/controls",
     "model_module_version": "1.5.0",
     "model_name": "FloatProgressModel",
     "state": {
      "_dom_classes": [],
      "_model_module": "@jupyter-widgets/controls",
      "_model_module_version": "1.5.0",
      "_model_name": "FloatProgressModel",
      "_view_count": null,
      "_view_module": "@jupyter-widgets/controls",
      "_view_module_version": "1.5.0",
      "_view_name": "ProgressView",
      "bar_style": "success",
      "description": "",
      "description_tooltip": null,
      "layout": "IPY_MODEL_bb6689b62ce44b9b896f1e6c23ac776b",
      "max": 466062,
      "min": 0,
      "orientation": "horizontal",
      "style": "IPY_MODEL_eaaecb438edf48d3843a9e9a48945890",
      "value": 466062
     }
    },
    "5572f69b5d474f3c861e40947af6f26a": {
     "model_module": "@jupyter-widgets/controls",
     "model_module_version": "1.5.0",
     "model_name": "HTMLModel",
     "state": {
      "_dom_classes": [],
      "_model_module": "@jupyter-widgets/controls",
      "_model_module_version": "1.5.0",
      "_model_name": "HTMLModel",
      "_view_count": null,
      "_view_module": "@jupyter-widgets/controls",
      "_view_module_version": "1.5.0",
      "_view_name": "HTMLView",
      "description": "",
      "description_tooltip": null,
      "layout": "IPY_MODEL_c680a9c63eb84d1fb60f9791db0f416b",
      "placeholder": "​",
      "style": "IPY_MODEL_34de154906374fb49c07a95890892b89",
      "value": "tokenizer_config.json: 100%"
     }
    },
    "5912048eb6d44194ae67091030afef5e": {
     "model_module": "@jupyter-widgets/controls",
     "model_module_version": "1.5.0",
     "model_name": "HTMLModel",
     "state": {
      "_dom_classes": [],
      "_model_module": "@jupyter-widgets/controls",
      "_model_module_version": "1.5.0",
      "_model_name": "HTMLModel",
      "_view_count": null,
      "_view_module": "@jupyter-widgets/controls",
      "_view_module_version": "1.5.0",
      "_view_name": "HTMLView",
      "description": "",
      "description_tooltip": null,
      "layout": "IPY_MODEL_fd6cdf68bcfe4dc3af47382ac374d6bc",
      "placeholder": "​",
      "style": "IPY_MODEL_8df77818016049bba0475dfbf606e8e5",
      "value": " 48.0/48.0 [00:00&lt;00:00, 1.03kB/s]"
     }
    },
    "591a33f60c7741189df1637bd65da89d": {
     "model_module": "@jupyter-widgets/controls",
     "model_module_version": "1.5.0",
     "model_name": "FloatProgressModel",
     "state": {
      "_dom_classes": [],
      "_model_module": "@jupyter-widgets/controls",
      "_model_module_version": "1.5.0",
      "_model_name": "FloatProgressModel",
      "_view_count": null,
      "_view_module": "@jupyter-widgets/controls",
      "_view_module_version": "1.5.0",
      "_view_name": "ProgressView",
      "bar_style": "success",
      "description": "",
      "description_tooltip": null,
      "layout": "IPY_MODEL_4869c8f9e9174ae7b4d4a2cd53ba339e",
      "max": 440449768,
      "min": 0,
      "orientation": "horizontal",
      "style": "IPY_MODEL_0414768a323f431899427e16aeb15d42",
      "value": 440449768
     }
    },
    "5b01d5036c544f4284dacb69a78608f3": {
     "model_module": "@jupyter-widgets/controls",
     "model_module_version": "1.5.0",
     "model_name": "HTMLModel",
     "state": {
      "_dom_classes": [],
      "_model_module": "@jupyter-widgets/controls",
      "_model_module_version": "1.5.0",
      "_model_name": "HTMLModel",
      "_view_count": null,
      "_view_module": "@jupyter-widgets/controls",
      "_view_module_version": "1.5.0",
      "_view_name": "HTMLView",
      "description": "",
      "description_tooltip": null,
      "layout": "IPY_MODEL_8d3733abeca84262bba63a4c1c788349",
      "placeholder": "​",
      "style": "IPY_MODEL_94c5f8c3d045442a98f0dcb3e6d1a3af",
      "value": "vocab.txt: 100%"
     }
    },
    "5d63f76d8edb409fb36c901802b11994": {
     "model_module": "@jupyter-widgets/base",
     "model_module_version": "1.2.0",
     "model_name": "LayoutModel",
     "state": {
      "_model_module": "@jupyter-widgets/base",
      "_model_module_version": "1.2.0",
      "_model_name": "LayoutModel",
      "_view_count": null,
      "_view_module": "@jupyter-widgets/base",
      "_view_module_version": "1.2.0",
      "_view_name": "LayoutView",
      "align_content": null,
      "align_items": null,
      "align_self": null,
      "border": null,
      "bottom": null,
      "display": null,
      "flex": null,
      "flex_flow": null,
      "grid_area": null,
      "grid_auto_columns": null,
      "grid_auto_flow": null,
      "grid_auto_rows": null,
      "grid_column": null,
      "grid_gap": null,
      "grid_row": null,
      "grid_template_areas": null,
      "grid_template_columns": null,
      "grid_template_rows": null,
      "height": null,
      "justify_content": null,
      "justify_items": null,
      "left": null,
      "margin": null,
      "max_height": null,
      "max_width": null,
      "min_height": null,
      "min_width": null,
      "object_fit": null,
      "object_position": null,
      "order": null,
      "overflow": null,
      "overflow_x": null,
      "overflow_y": null,
      "padding": null,
      "right": null,
      "top": null,
      "visibility": null,
      "width": null
     }
    },
    "6013248fb473410890382dd40366130f": {
     "model_module": "@jupyter-widgets/controls",
     "model_module_version": "1.5.0",
     "model_name": "DescriptionStyleModel",
     "state": {
      "_model_module": "@jupyter-widgets/controls",
      "_model_module_version": "1.5.0",
      "_model_name": "DescriptionStyleModel",
      "_view_count": null,
      "_view_module": "@jupyter-widgets/base",
      "_view_module_version": "1.2.0",
      "_view_name": "StyleView",
      "description_width": ""
     }
    },
    "6080094d83e5438aa14a2c99d5f1ddec": {
     "model_module": "@jupyter-widgets/controls",
     "model_module_version": "1.5.0",
     "model_name": "HBoxModel",
     "state": {
      "_dom_classes": [],
      "_model_module": "@jupyter-widgets/controls",
      "_model_module_version": "1.5.0",
      "_model_name": "HBoxModel",
      "_view_count": null,
      "_view_module": "@jupyter-widgets/controls",
      "_view_module_version": "1.5.0",
      "_view_name": "HBoxView",
      "box_style": "",
      "children": [
       "IPY_MODEL_5b01d5036c544f4284dacb69a78608f3",
       "IPY_MODEL_faa72165fd424b2faf74f0593b9187e7",
       "IPY_MODEL_2c6a688aa25e42f89a490700d4ef4195"
      ],
      "layout": "IPY_MODEL_6dd9949a4fe34f81933d594a4dbfacf7"
     }
    },
    "6c4592d87ee34e8aa1bab6db7ffc9e05": {
     "model_module": "@jupyter-widgets/base",
     "model_module_version": "1.2.0",
     "model_name": "LayoutModel",
     "state": {
      "_model_module": "@jupyter-widgets/base",
      "_model_module_version": "1.2.0",
      "_model_name": "LayoutModel",
      "_view_count": null,
      "_view_module": "@jupyter-widgets/base",
      "_view_module_version": "1.2.0",
      "_view_name": "LayoutView",
      "align_content": null,
      "align_items": null,
      "align_self": null,
      "border": null,
      "bottom": null,
      "display": null,
      "flex": null,
      "flex_flow": null,
      "grid_area": null,
      "grid_auto_columns": null,
      "grid_auto_flow": null,
      "grid_auto_rows": null,
      "grid_column": null,
      "grid_gap": null,
      "grid_row": null,
      "grid_template_areas": null,
      "grid_template_columns": null,
      "grid_template_rows": null,
      "height": null,
      "justify_content": null,
      "justify_items": null,
      "left": null,
      "margin": null,
      "max_height": null,
      "max_width": null,
      "min_height": null,
      "min_width": null,
      "object_fit": null,
      "object_position": null,
      "order": null,
      "overflow": null,
      "overflow_x": null,
      "overflow_y": null,
      "padding": null,
      "right": null,
      "top": null,
      "visibility": null,
      "width": null
     }
    },
    "6dd9949a4fe34f81933d594a4dbfacf7": {
     "model_module": "@jupyter-widgets/base",
     "model_module_version": "1.2.0",
     "model_name": "LayoutModel",
     "state": {
      "_model_module": "@jupyter-widgets/base",
      "_model_module_version": "1.2.0",
      "_model_name": "LayoutModel",
      "_view_count": null,
      "_view_module": "@jupyter-widgets/base",
      "_view_module_version": "1.2.0",
      "_view_name": "LayoutView",
      "align_content": null,
      "align_items": null,
      "align_self": null,
      "border": null,
      "bottom": null,
      "display": null,
      "flex": null,
      "flex_flow": null,
      "grid_area": null,
      "grid_auto_columns": null,
      "grid_auto_flow": null,
      "grid_auto_rows": null,
      "grid_column": null,
      "grid_gap": null,
      "grid_row": null,
      "grid_template_areas": null,
      "grid_template_columns": null,
      "grid_template_rows": null,
      "height": null,
      "justify_content": null,
      "justify_items": null,
      "left": null,
      "margin": null,
      "max_height": null,
      "max_width": null,
      "min_height": null,
      "min_width": null,
      "object_fit": null,
      "object_position": null,
      "order": null,
      "overflow": null,
      "overflow_x": null,
      "overflow_y": null,
      "padding": null,
      "right": null,
      "top": null,
      "visibility": null,
      "width": null
     }
    },
    "6e8274344c0a413bb2f19bce297ffb53": {
     "model_module": "@jupyter-widgets/controls",
     "model_module_version": "1.5.0",
     "model_name": "HBoxModel",
     "state": {
      "_dom_classes": [],
      "_model_module": "@jupyter-widgets/controls",
      "_model_module_version": "1.5.0",
      "_model_name": "HBoxModel",
      "_view_count": null,
      "_view_module": "@jupyter-widgets/controls",
      "_view_module_version": "1.5.0",
      "_view_name": "HBoxView",
      "box_style": "",
      "children": [
       "IPY_MODEL_2a3c04886e454fd4bb59b05614a59b99",
       "IPY_MODEL_b30c800024644794aa7b42b3b9a7cbe4",
       "IPY_MODEL_02237c14cc324c108333c5bef3633f09"
      ],
      "layout": "IPY_MODEL_9d1bea34ae1c43db80dbd253050f253d"
     }
    },
    "6f30768ece9f4ecba9bfbcb75e752798": {
     "model_module": "@jupyter-widgets/controls",
     "model_module_version": "1.5.0",
     "model_name": "HBoxModel",
     "state": {
      "_dom_classes": [],
      "_model_module": "@jupyter-widgets/controls",
      "_model_module_version": "1.5.0",
      "_model_name": "HBoxModel",
      "_view_count": null,
      "_view_module": "@jupyter-widgets/controls",
      "_view_module_version": "1.5.0",
      "_view_name": "HBoxView",
      "box_style": "",
      "children": [
       "IPY_MODEL_f01661d6ed60405687c3ec8bfdd5c876",
       "IPY_MODEL_31fb58f9f91d4e3382dfc3e165206b2d",
       "IPY_MODEL_d61340bdf64741f7bbed6d6c1a102149"
      ],
      "layout": "IPY_MODEL_1f0b50108a4b4a09bdbf5b30a4ab9785"
     }
    },
    "7061bc8bf2694042a5d8ffd3edf91328": {
     "model_module": "@jupyter-widgets/controls",
     "model_module_version": "1.5.0",
     "model_name": "HTMLModel",
     "state": {
      "_dom_classes": [],
      "_model_module": "@jupyter-widgets/controls",
      "_model_module_version": "1.5.0",
      "_model_name": "HTMLModel",
      "_view_count": null,
      "_view_module": "@jupyter-widgets/controls",
      "_view_module_version": "1.5.0",
      "_view_name": "HTMLView",
      "description": "",
      "description_tooltip": null,
      "layout": "IPY_MODEL_7d16cd3273254e0382a672f544f6a019",
      "placeholder": "​",
      "style": "IPY_MODEL_d8cbd0e0efae4928813fbf0c25c7a169",
      "value": "Downloading: 100%"
     }
    },
    "74472d815c714577b25d8f42ae4915f7": {
     "model_module": "@jupyter-widgets/base",
     "model_module_version": "1.2.0",
     "model_name": "LayoutModel",
     "state": {
      "_model_module": "@jupyter-widgets/base",
      "_model_module_version": "1.2.0",
      "_model_name": "LayoutModel",
      "_view_count": null,
      "_view_module": "@jupyter-widgets/base",
      "_view_module_version": "1.2.0",
      "_view_name": "LayoutView",
      "align_content": null,
      "align_items": null,
      "align_self": null,
      "border": null,
      "bottom": null,
      "display": null,
      "flex": null,
      "flex_flow": null,
      "grid_area": null,
      "grid_auto_columns": null,
      "grid_auto_flow": null,
      "grid_auto_rows": null,
      "grid_column": null,
      "grid_gap": null,
      "grid_row": null,
      "grid_template_areas": null,
      "grid_template_columns": null,
      "grid_template_rows": null,
      "height": null,
      "justify_content": null,
      "justify_items": null,
      "left": null,
      "margin": null,
      "max_height": null,
      "max_width": null,
      "min_height": null,
      "min_width": null,
      "object_fit": null,
      "object_position": null,
      "order": null,
      "overflow": null,
      "overflow_x": null,
      "overflow_y": null,
      "padding": null,
      "right": null,
      "top": null,
      "visibility": null,
      "width": null
     }
    },
    "78ffefdf7aff4409ae0b80db9cc86267": {
     "model_module": "@jupyter-widgets/base",
     "model_module_version": "1.2.0",
     "model_name": "LayoutModel",
     "state": {
      "_model_module": "@jupyter-widgets/base",
      "_model_module_version": "1.2.0",
      "_model_name": "LayoutModel",
      "_view_count": null,
      "_view_module": "@jupyter-widgets/base",
      "_view_module_version": "1.2.0",
      "_view_name": "LayoutView",
      "align_content": null,
      "align_items": null,
      "align_self": null,
      "border": null,
      "bottom": null,
      "display": null,
      "flex": null,
      "flex_flow": null,
      "grid_area": null,
      "grid_auto_columns": null,
      "grid_auto_flow": null,
      "grid_auto_rows": null,
      "grid_column": null,
      "grid_gap": null,
      "grid_row": null,
      "grid_template_areas": null,
      "grid_template_columns": null,
      "grid_template_rows": null,
      "height": null,
      "justify_content": null,
      "justify_items": null,
      "left": null,
      "margin": null,
      "max_height": null,
      "max_width": null,
      "min_height": null,
      "min_width": null,
      "object_fit": null,
      "object_position": null,
      "order": null,
      "overflow": null,
      "overflow_x": null,
      "overflow_y": null,
      "padding": null,
      "right": null,
      "top": null,
      "visibility": null,
      "width": null
     }
    },
    "7d16cd3273254e0382a672f544f6a019": {
     "model_module": "@jupyter-widgets/base",
     "model_module_version": "1.2.0",
     "model_name": "LayoutModel",
     "state": {
      "_model_module": "@jupyter-widgets/base",
      "_model_module_version": "1.2.0",
      "_model_name": "LayoutModel",
      "_view_count": null,
      "_view_module": "@jupyter-widgets/base",
      "_view_module_version": "1.2.0",
      "_view_name": "LayoutView",
      "align_content": null,
      "align_items": null,
      "align_self": null,
      "border": null,
      "bottom": null,
      "display": null,
      "flex": null,
      "flex_flow": null,
      "grid_area": null,
      "grid_auto_columns": null,
      "grid_auto_flow": null,
      "grid_auto_rows": null,
      "grid_column": null,
      "grid_gap": null,
      "grid_row": null,
      "grid_template_areas": null,
      "grid_template_columns": null,
      "grid_template_rows": null,
      "height": null,
      "justify_content": null,
      "justify_items": null,
      "left": null,
      "margin": null,
      "max_height": null,
      "max_width": null,
      "min_height": null,
      "min_width": null,
      "object_fit": null,
      "object_position": null,
      "order": null,
      "overflow": null,
      "overflow_x": null,
      "overflow_y": null,
      "padding": null,
      "right": null,
      "top": null,
      "visibility": null,
      "width": null
     }
    },
    "814a7f829f8046e687c3a325d6711172": {
     "model_module": "@jupyter-widgets/controls",
     "model_module_version": "1.5.0",
     "model_name": "DescriptionStyleModel",
     "state": {
      "_model_module": "@jupyter-widgets/controls",
      "_model_module_version": "1.5.0",
      "_model_name": "DescriptionStyleModel",
      "_view_count": null,
      "_view_module": "@jupyter-widgets/base",
      "_view_module_version": "1.2.0",
      "_view_name": "StyleView",
      "description_width": ""
     }
    },
    "8465d3a752b14c2e9469c04f613c6b36": {
     "model_module": "@jupyter-widgets/controls",
     "model_module_version": "1.5.0",
     "model_name": "HTMLModel",
     "state": {
      "_dom_classes": [],
      "_model_module": "@jupyter-widgets/controls",
      "_model_module_version": "1.5.0",
      "_model_name": "HTMLModel",
      "_view_count": null,
      "_view_module": "@jupyter-widgets/controls",
      "_view_module_version": "1.5.0",
      "_view_name": "HTMLView",
      "description": "",
      "description_tooltip": null,
      "layout": "IPY_MODEL_f14b2a6849e04e8487c8e9949a35bdf1",
      "placeholder": "​",
      "style": "IPY_MODEL_ab0f7ba8358e41d3acd2bc2b2262f626",
      "value": "Downloading: 100%"
     }
    },
    "853601f3bc594e789ae89836e5063ed4": {
     "model_module": "@jupyter-widgets/base",
     "model_module_version": "1.2.0",
     "model_name": "LayoutModel",
     "state": {
      "_model_module": "@jupyter-widgets/base",
      "_model_module_version": "1.2.0",
      "_model_name": "LayoutModel",
      "_view_count": null,
      "_view_module": "@jupyter-widgets/base",
      "_view_module_version": "1.2.0",
      "_view_name": "LayoutView",
      "align_content": null,
      "align_items": null,
      "align_self": null,
      "border": null,
      "bottom": null,
      "display": null,
      "flex": null,
      "flex_flow": null,
      "grid_area": null,
      "grid_auto_columns": null,
      "grid_auto_flow": null,
      "grid_auto_rows": null,
      "grid_column": null,
      "grid_gap": null,
      "grid_row": null,
      "grid_template_areas": null,
      "grid_template_columns": null,
      "grid_template_rows": null,
      "height": null,
      "justify_content": null,
      "justify_items": null,
      "left": null,
      "margin": null,
      "max_height": null,
      "max_width": null,
      "min_height": null,
      "min_width": null,
      "object_fit": null,
      "object_position": null,
      "order": null,
      "overflow": null,
      "overflow_x": null,
      "overflow_y": null,
      "padding": null,
      "right": null,
      "top": null,
      "visibility": null,
      "width": null
     }
    },
    "8d3733abeca84262bba63a4c1c788349": {
     "model_module": "@jupyter-widgets/base",
     "model_module_version": "1.2.0",
     "model_name": "LayoutModel",
     "state": {
      "_model_module": "@jupyter-widgets/base",
      "_model_module_version": "1.2.0",
      "_model_name": "LayoutModel",
      "_view_count": null,
      "_view_module": "@jupyter-widgets/base",
      "_view_module_version": "1.2.0",
      "_view_name": "LayoutView",
      "align_content": null,
      "align_items": null,
      "align_self": null,
      "border": null,
      "bottom": null,
      "display": null,
      "flex": null,
      "flex_flow": null,
      "grid_area": null,
      "grid_auto_columns": null,
      "grid_auto_flow": null,
      "grid_auto_rows": null,
      "grid_column": null,
      "grid_gap": null,
      "grid_row": null,
      "grid_template_areas": null,
      "grid_template_columns": null,
      "grid_template_rows": null,
      "height": null,
      "justify_content": null,
      "justify_items": null,
      "left": null,
      "margin": null,
      "max_height": null,
      "max_width": null,
      "min_height": null,
      "min_width": null,
      "object_fit": null,
      "object_position": null,
      "order": null,
      "overflow": null,
      "overflow_x": null,
      "overflow_y": null,
      "padding": null,
      "right": null,
      "top": null,
      "visibility": null,
      "width": null
     }
    },
    "8df77818016049bba0475dfbf606e8e5": {
     "model_module": "@jupyter-widgets/controls",
     "model_module_version": "1.5.0",
     "model_name": "DescriptionStyleModel",
     "state": {
      "_model_module": "@jupyter-widgets/controls",
      "_model_module_version": "1.5.0",
      "_model_name": "DescriptionStyleModel",
      "_view_count": null,
      "_view_module": "@jupyter-widgets/base",
      "_view_module_version": "1.2.0",
      "_view_name": "StyleView",
      "description_width": ""
     }
    },
    "906170021d3a46d2aad9fa063b0672d4": {
     "model_module": "@jupyter-widgets/base",
     "model_module_version": "1.2.0",
     "model_name": "LayoutModel",
     "state": {
      "_model_module": "@jupyter-widgets/base",
      "_model_module_version": "1.2.0",
      "_model_name": "LayoutModel",
      "_view_count": null,
      "_view_module": "@jupyter-widgets/base",
      "_view_module_version": "1.2.0",
      "_view_name": "LayoutView",
      "align_content": null,
      "align_items": null,
      "align_self": null,
      "border": null,
      "bottom": null,
      "display": null,
      "flex": null,
      "flex_flow": null,
      "grid_area": null,
      "grid_auto_columns": null,
      "grid_auto_flow": null,
      "grid_auto_rows": null,
      "grid_column": null,
      "grid_gap": null,
      "grid_row": null,
      "grid_template_areas": null,
      "grid_template_columns": null,
      "grid_template_rows": null,
      "height": null,
      "justify_content": null,
      "justify_items": null,
      "left": null,
      "margin": null,
      "max_height": null,
      "max_width": null,
      "min_height": null,
      "min_width": null,
      "object_fit": null,
      "object_position": null,
      "order": null,
      "overflow": null,
      "overflow_x": null,
      "overflow_y": null,
      "padding": null,
      "right": null,
      "top": null,
      "visibility": null,
      "width": null
     }
    },
    "92b70d2531bc4fafaf0dcf4a8c5446ce": {
     "model_module": "@jupyter-widgets/base",
     "model_module_version": "1.2.0",
     "model_name": "LayoutModel",
     "state": {
      "_model_module": "@jupyter-widgets/base",
      "_model_module_version": "1.2.0",
      "_model_name": "LayoutModel",
      "_view_count": null,
      "_view_module": "@jupyter-widgets/base",
      "_view_module_version": "1.2.0",
      "_view_name": "LayoutView",
      "align_content": null,
      "align_items": null,
      "align_self": null,
      "border": null,
      "bottom": null,
      "display": null,
      "flex": null,
      "flex_flow": null,
      "grid_area": null,
      "grid_auto_columns": null,
      "grid_auto_flow": null,
      "grid_auto_rows": null,
      "grid_column": null,
      "grid_gap": null,
      "grid_row": null,
      "grid_template_areas": null,
      "grid_template_columns": null,
      "grid_template_rows": null,
      "height": null,
      "justify_content": null,
      "justify_items": null,
      "left": null,
      "margin": null,
      "max_height": null,
      "max_width": null,
      "min_height": null,
      "min_width": null,
      "object_fit": null,
      "object_position": null,
      "order": null,
      "overflow": null,
      "overflow_x": null,
      "overflow_y": null,
      "padding": null,
      "right": null,
      "top": null,
      "visibility": null,
      "width": null
     }
    },
    "94c5f8c3d045442a98f0dcb3e6d1a3af": {
     "model_module": "@jupyter-widgets/controls",
     "model_module_version": "1.5.0",
     "model_name": "DescriptionStyleModel",
     "state": {
      "_model_module": "@jupyter-widgets/controls",
      "_model_module_version": "1.5.0",
      "_model_name": "DescriptionStyleModel",
      "_view_count": null,
      "_view_module": "@jupyter-widgets/base",
      "_view_module_version": "1.2.0",
      "_view_name": "StyleView",
      "description_width": ""
     }
    },
    "9af4f8dcc44e40d1bce9245615fd3f7b": {
     "model_module": "@jupyter-widgets/controls",
     "model_module_version": "1.5.0",
     "model_name": "FloatProgressModel",
     "state": {
      "_dom_classes": [],
      "_model_module": "@jupyter-widgets/controls",
      "_model_module_version": "1.5.0",
      "_model_name": "FloatProgressModel",
      "_view_count": null,
      "_view_module": "@jupyter-widgets/controls",
      "_view_module_version": "1.5.0",
      "_view_name": "ProgressView",
      "bar_style": "success",
      "description": "",
      "description_tooltip": null,
      "layout": "IPY_MODEL_1f3443b69b41481f8808d67b25adc488",
      "max": 48,
      "min": 0,
      "orientation": "horizontal",
      "style": "IPY_MODEL_a678d1f569e042aaa6cd9278a67ef877",
      "value": 48
     }
    },
    "9cdcee4850c84f9ba65f95f47556c8dd": {
     "model_module": "@jupyter-widgets/controls",
     "model_module_version": "1.5.0",
     "model_name": "HTMLModel",
     "state": {
      "_dom_classes": [],
      "_model_module": "@jupyter-widgets/controls",
      "_model_module_version": "1.5.0",
      "_model_name": "HTMLModel",
      "_view_count": null,
      "_view_module": "@jupyter-widgets/controls",
      "_view_module_version": "1.5.0",
      "_view_name": "HTMLView",
      "description": "",
      "description_tooltip": null,
      "layout": "IPY_MODEL_e5773d83030c48d9ae083573ea6e18dc",
      "placeholder": "​",
      "style": "IPY_MODEL_e096b2d8ef2b42549814d28554ac2111",
      "value": " 570/570 [00:00&lt;00:00, 31.9kB/s]"
     }
    },
    "9d1bea34ae1c43db80dbd253050f253d": {
     "model_module": "@jupyter-widgets/base",
     "model_module_version": "1.2.0",
     "model_name": "LayoutModel",
     "state": {
      "_model_module": "@jupyter-widgets/base",
      "_model_module_version": "1.2.0",
      "_model_name": "LayoutModel",
      "_view_count": null,
      "_view_module": "@jupyter-widgets/base",
      "_view_module_version": "1.2.0",
      "_view_name": "LayoutView",
      "align_content": null,
      "align_items": null,
      "align_self": null,
      "border": null,
      "bottom": null,
      "display": null,
      "flex": null,
      "flex_flow": null,
      "grid_area": null,
      "grid_auto_columns": null,
      "grid_auto_flow": null,
      "grid_auto_rows": null,
      "grid_column": null,
      "grid_gap": null,
      "grid_row": null,
      "grid_template_areas": null,
      "grid_template_columns": null,
      "grid_template_rows": null,
      "height": null,
      "justify_content": null,
      "justify_items": null,
      "left": null,
      "margin": null,
      "max_height": null,
      "max_width": null,
      "min_height": null,
      "min_width": null,
      "object_fit": null,
      "object_position": null,
      "order": null,
      "overflow": null,
      "overflow_x": null,
      "overflow_y": null,
      "padding": null,
      "right": null,
      "top": null,
      "visibility": null,
      "width": null
     }
    },
    "9e282c5f830942b58f92bcd1ade9cd99": {
     "model_module": "@jupyter-widgets/controls",
     "model_module_version": "1.5.0",
     "model_name": "HTMLModel",
     "state": {
      "_dom_classes": [],
      "_model_module": "@jupyter-widgets/controls",
      "_model_module_version": "1.5.0",
      "_model_name": "HTMLModel",
      "_view_count": null,
      "_view_module": "@jupyter-widgets/controls",
      "_view_module_version": "1.5.0",
      "_view_name": "HTMLView",
      "description": "",
      "description_tooltip": null,
      "layout": "IPY_MODEL_b19629507983491faa1c2d7933d77b79",
      "placeholder": "​",
      "style": "IPY_MODEL_ef02b30198b547f7a20d29a6ed2b9520",
      "value": "model.safetensors: 100%"
     }
    },
    "9e43bbacb5194a2bb94318b7a97f24b6": {
     "model_module": "@jupyter-widgets/base",
     "model_module_version": "1.2.0",
     "model_name": "LayoutModel",
     "state": {
      "_model_module": "@jupyter-widgets/base",
      "_model_module_version": "1.2.0",
      "_model_name": "LayoutModel",
      "_view_count": null,
      "_view_module": "@jupyter-widgets/base",
      "_view_module_version": "1.2.0",
      "_view_name": "LayoutView",
      "align_content": null,
      "align_items": null,
      "align_self": null,
      "border": null,
      "bottom": null,
      "display": null,
      "flex": null,
      "flex_flow": null,
      "grid_area": null,
      "grid_auto_columns": null,
      "grid_auto_flow": null,
      "grid_auto_rows": null,
      "grid_column": null,
      "grid_gap": null,
      "grid_row": null,
      "grid_template_areas": null,
      "grid_template_columns": null,
      "grid_template_rows": null,
      "height": null,
      "justify_content": null,
      "justify_items": null,
      "left": null,
      "margin": null,
      "max_height": null,
      "max_width": null,
      "min_height": null,
      "min_width": null,
      "object_fit": null,
      "object_position": null,
      "order": null,
      "overflow": null,
      "overflow_x": null,
      "overflow_y": null,
      "padding": null,
      "right": null,
      "top": null,
      "visibility": null,
      "width": null
     }
    },
    "9ec5d894b84f48fea0f95a26dd2c1e5c": {
     "model_module": "@jupyter-widgets/base",
     "model_module_version": "1.2.0",
     "model_name": "LayoutModel",
     "state": {
      "_model_module": "@jupyter-widgets/base",
      "_model_module_version": "1.2.0",
      "_model_name": "LayoutModel",
      "_view_count": null,
      "_view_module": "@jupyter-widgets/base",
      "_view_module_version": "1.2.0",
      "_view_name": "LayoutView",
      "align_content": null,
      "align_items": null,
      "align_self": null,
      "border": null,
      "bottom": null,
      "display": null,
      "flex": null,
      "flex_flow": null,
      "grid_area": null,
      "grid_auto_columns": null,
      "grid_auto_flow": null,
      "grid_auto_rows": null,
      "grid_column": null,
      "grid_gap": null,
      "grid_row": null,
      "grid_template_areas": null,
      "grid_template_columns": null,
      "grid_template_rows": null,
      "height": null,
      "justify_content": null,
      "justify_items": null,
      "left": null,
      "margin": null,
      "max_height": null,
      "max_width": null,
      "min_height": null,
      "min_width": null,
      "object_fit": null,
      "object_position": null,
      "order": null,
      "overflow": null,
      "overflow_x": null,
      "overflow_y": null,
      "padding": null,
      "right": null,
      "top": null,
      "visibility": null,
      "width": null
     }
    },
    "a678d1f569e042aaa6cd9278a67ef877": {
     "model_module": "@jupyter-widgets/controls",
     "model_module_version": "1.5.0",
     "model_name": "ProgressStyleModel",
     "state": {
      "_model_module": "@jupyter-widgets/controls",
      "_model_module_version": "1.5.0",
      "_model_name": "ProgressStyleModel",
      "_view_count": null,
      "_view_module": "@jupyter-widgets/base",
      "_view_module_version": "1.2.0",
      "_view_name": "StyleView",
      "bar_color": null,
      "description_width": ""
     }
    },
    "a6a99f8c26fd4d4781154a35bd798e4e": {
     "model_module": "@jupyter-widgets/controls",
     "model_module_version": "1.5.0",
     "model_name": "HTMLModel",
     "state": {
      "_dom_classes": [],
      "_model_module": "@jupyter-widgets/controls",
      "_model_module_version": "1.5.0",
      "_model_name": "HTMLModel",
      "_view_count": null,
      "_view_module": "@jupyter-widgets/controls",
      "_view_module_version": "1.5.0",
      "_view_name": "HTMLView",
      "description": "",
      "description_tooltip": null,
      "layout": "IPY_MODEL_dee7c55ee58842ebb926b954af95b675",
      "placeholder": "​",
      "style": "IPY_MODEL_3e57cfd7947049c997d15f68632556d3",
      "value": " 440M/440M [00:01&lt;00:00, 248MB/s]"
     }
    },
    "aa7c1790932b4e3893473f18e3520067": {
     "model_module": "@jupyter-widgets/base",
     "model_module_version": "1.2.0",
     "model_name": "LayoutModel",
     "state": {
      "_model_module": "@jupyter-widgets/base",
      "_model_module_version": "1.2.0",
      "_model_name": "LayoutModel",
      "_view_count": null,
      "_view_module": "@jupyter-widgets/base",
      "_view_module_version": "1.2.0",
      "_view_name": "LayoutView",
      "align_content": null,
      "align_items": null,
      "align_self": null,
      "border": null,
      "bottom": null,
      "display": null,
      "flex": null,
      "flex_flow": null,
      "grid_area": null,
      "grid_auto_columns": null,
      "grid_auto_flow": null,
      "grid_auto_rows": null,
      "grid_column": null,
      "grid_gap": null,
      "grid_row": null,
      "grid_template_areas": null,
      "grid_template_columns": null,
      "grid_template_rows": null,
      "height": null,
      "justify_content": null,
      "justify_items": null,
      "left": null,
      "margin": null,
      "max_height": null,
      "max_width": null,
      "min_height": null,
      "min_width": null,
      "object_fit": null,
      "object_position": null,
      "order": null,
      "overflow": null,
      "overflow_x": null,
      "overflow_y": null,
      "padding": null,
      "right": null,
      "top": null,
      "visibility": null,
      "width": null
     }
    },
    "ab0f7ba8358e41d3acd2bc2b2262f626": {
     "model_module": "@jupyter-widgets/controls",
     "model_module_version": "1.5.0",
     "model_name": "DescriptionStyleModel",
     "state": {
      "_model_module": "@jupyter-widgets/controls",
      "_model_module_version": "1.5.0",
      "_model_name": "DescriptionStyleModel",
      "_view_count": null,
      "_view_module": "@jupyter-widgets/base",
      "_view_module_version": "1.2.0",
      "_view_name": "StyleView",
      "description_width": ""
     }
    },
    "ac6d0953d1ac4fc0b6c350eac993a6ce": {
     "model_module": "@jupyter-widgets/controls",
     "model_module_version": "1.5.0",
     "model_name": "ProgressStyleModel",
     "state": {
      "_model_module": "@jupyter-widgets/controls",
      "_model_module_version": "1.5.0",
      "_model_name": "ProgressStyleModel",
      "_view_count": null,
      "_view_module": "@jupyter-widgets/base",
      "_view_module_version": "1.2.0",
      "_view_name": "StyleView",
      "bar_color": null,
      "description_width": ""
     }
    },
    "b19629507983491faa1c2d7933d77b79": {
     "model_module": "@jupyter-widgets/base",
     "model_module_version": "1.2.0",
     "model_name": "LayoutModel",
     "state": {
      "_model_module": "@jupyter-widgets/base",
      "_model_module_version": "1.2.0",
      "_model_name": "LayoutModel",
      "_view_count": null,
      "_view_module": "@jupyter-widgets/base",
      "_view_module_version": "1.2.0",
      "_view_name": "LayoutView",
      "align_content": null,
      "align_items": null,
      "align_self": null,
      "border": null,
      "bottom": null,
      "display": null,
      "flex": null,
      "flex_flow": null,
      "grid_area": null,
      "grid_auto_columns": null,
      "grid_auto_flow": null,
      "grid_auto_rows": null,
      "grid_column": null,
      "grid_gap": null,
      "grid_row": null,
      "grid_template_areas": null,
      "grid_template_columns": null,
      "grid_template_rows": null,
      "height": null,
      "justify_content": null,
      "justify_items": null,
      "left": null,
      "margin": null,
      "max_height": null,
      "max_width": null,
      "min_height": null,
      "min_width": null,
      "object_fit": null,
      "object_position": null,
      "order": null,
      "overflow": null,
      "overflow_x": null,
      "overflow_y": null,
      "padding": null,
      "right": null,
      "top": null,
      "visibility": null,
      "width": null
     }
    },
    "b30c800024644794aa7b42b3b9a7cbe4": {
     "model_module": "@jupyter-widgets/controls",
     "model_module_version": "1.5.0",
     "model_name": "FloatProgressModel",
     "state": {
      "_dom_classes": [],
      "_model_module": "@jupyter-widgets/controls",
      "_model_module_version": "1.5.0",
      "_model_name": "FloatProgressModel",
      "_view_count": null,
      "_view_module": "@jupyter-widgets/controls",
      "_view_module_version": "1.5.0",
      "_view_name": "ProgressView",
      "bar_style": "success",
      "description": "",
      "description_tooltip": null,
      "layout": "IPY_MODEL_12e00041ad424bc0835b59107d9212f3",
      "max": 231508,
      "min": 0,
      "orientation": "horizontal",
      "style": "IPY_MODEL_384fb3d22621418ea8b7e93a744d91c4",
      "value": 231508
     }
    },
    "b838af3a5fb943a89af2fd5a19e5b18f": {
     "model_module": "@jupyter-widgets/base",
     "model_module_version": "1.2.0",
     "model_name": "LayoutModel",
     "state": {
      "_model_module": "@jupyter-widgets/base",
      "_model_module_version": "1.2.0",
      "_model_name": "LayoutModel",
      "_view_count": null,
      "_view_module": "@jupyter-widgets/base",
      "_view_module_version": "1.2.0",
      "_view_name": "LayoutView",
      "align_content": null,
      "align_items": null,
      "align_self": null,
      "border": null,
      "bottom": null,
      "display": null,
      "flex": null,
      "flex_flow": null,
      "grid_area": null,
      "grid_auto_columns": null,
      "grid_auto_flow": null,
      "grid_auto_rows": null,
      "grid_column": null,
      "grid_gap": null,
      "grid_row": null,
      "grid_template_areas": null,
      "grid_template_columns": null,
      "grid_template_rows": null,
      "height": null,
      "justify_content": null,
      "justify_items": null,
      "left": null,
      "margin": null,
      "max_height": null,
      "max_width": null,
      "min_height": null,
      "min_width": null,
      "object_fit": null,
      "object_position": null,
      "order": null,
      "overflow": null,
      "overflow_x": null,
      "overflow_y": null,
      "padding": null,
      "right": null,
      "top": null,
      "visibility": null,
      "width": null
     }
    },
    "bb6689b62ce44b9b896f1e6c23ac776b": {
     "model_module": "@jupyter-widgets/base",
     "model_module_version": "1.2.0",
     "model_name": "LayoutModel",
     "state": {
      "_model_module": "@jupyter-widgets/base",
      "_model_module_version": "1.2.0",
      "_model_name": "LayoutModel",
      "_view_count": null,
      "_view_module": "@jupyter-widgets/base",
      "_view_module_version": "1.2.0",
      "_view_name": "LayoutView",
      "align_content": null,
      "align_items": null,
      "align_self": null,
      "border": null,
      "bottom": null,
      "display": null,
      "flex": null,
      "flex_flow": null,
      "grid_area": null,
      "grid_auto_columns": null,
      "grid_auto_flow": null,
      "grid_auto_rows": null,
      "grid_column": null,
      "grid_gap": null,
      "grid_row": null,
      "grid_template_areas": null,
      "grid_template_columns": null,
      "grid_template_rows": null,
      "height": null,
      "justify_content": null,
      "justify_items": null,
      "left": null,
      "margin": null,
      "max_height": null,
      "max_width": null,
      "min_height": null,
      "min_width": null,
      "object_fit": null,
      "object_position": null,
      "order": null,
      "overflow": null,
      "overflow_x": null,
      "overflow_y": null,
      "padding": null,
      "right": null,
      "top": null,
      "visibility": null,
      "width": null
     }
    },
    "bc0a8f2adc1d49aa95cc4a1c4d8d20a0": {
     "model_module": "@jupyter-widgets/controls",
     "model_module_version": "1.5.0",
     "model_name": "FloatProgressModel",
     "state": {
      "_dom_classes": [],
      "_model_module": "@jupyter-widgets/controls",
      "_model_module_version": "1.5.0",
      "_model_name": "FloatProgressModel",
      "_view_count": null,
      "_view_module": "@jupyter-widgets/controls",
      "_view_module_version": "1.5.0",
      "_view_name": "ProgressView",
      "bar_style": "success",
      "description": "",
      "description_tooltip": null,
      "layout": "IPY_MODEL_c9ddba24edec4a7d950240448ce0b374",
      "max": 570,
      "min": 0,
      "orientation": "horizontal",
      "style": "IPY_MODEL_bd2a98a7e572438e83234db1b3575df7",
      "value": 570
     }
    },
    "bd2a98a7e572438e83234db1b3575df7": {
     "model_module": "@jupyter-widgets/controls",
     "model_module_version": "1.5.0",
     "model_name": "ProgressStyleModel",
     "state": {
      "_model_module": "@jupyter-widgets/controls",
      "_model_module_version": "1.5.0",
      "_model_name": "ProgressStyleModel",
      "_view_count": null,
      "_view_module": "@jupyter-widgets/base",
      "_view_module_version": "1.2.0",
      "_view_name": "StyleView",
      "bar_color": null,
      "description_width": ""
     }
    },
    "c55747e3f6ac46fcac808eb7f8d27f91": {
     "model_module": "@jupyter-widgets/controls",
     "model_module_version": "1.5.0",
     "model_name": "DescriptionStyleModel",
     "state": {
      "_model_module": "@jupyter-widgets/controls",
      "_model_module_version": "1.5.0",
      "_model_name": "DescriptionStyleModel",
      "_view_count": null,
      "_view_module": "@jupyter-widgets/base",
      "_view_module_version": "1.2.0",
      "_view_name": "StyleView",
      "description_width": ""
     }
    },
    "c680a9c63eb84d1fb60f9791db0f416b": {
     "model_module": "@jupyter-widgets/base",
     "model_module_version": "1.2.0",
     "model_name": "LayoutModel",
     "state": {
      "_model_module": "@jupyter-widgets/base",
      "_model_module_version": "1.2.0",
      "_model_name": "LayoutModel",
      "_view_count": null,
      "_view_module": "@jupyter-widgets/base",
      "_view_module_version": "1.2.0",
      "_view_name": "LayoutView",
      "align_content": null,
      "align_items": null,
      "align_self": null,
      "border": null,
      "bottom": null,
      "display": null,
      "flex": null,
      "flex_flow": null,
      "grid_area": null,
      "grid_auto_columns": null,
      "grid_auto_flow": null,
      "grid_auto_rows": null,
      "grid_column": null,
      "grid_gap": null,
      "grid_row": null,
      "grid_template_areas": null,
      "grid_template_columns": null,
      "grid_template_rows": null,
      "height": null,
      "justify_content": null,
      "justify_items": null,
      "left": null,
      "margin": null,
      "max_height": null,
      "max_width": null,
      "min_height": null,
      "min_width": null,
      "object_fit": null,
      "object_position": null,
      "order": null,
      "overflow": null,
      "overflow_x": null,
      "overflow_y": null,
      "padding": null,
      "right": null,
      "top": null,
      "visibility": null,
      "width": null
     }
    },
    "c709b64902ca42d492e2cfa6af5e87a9": {
     "model_module": "@jupyter-widgets/base",
     "model_module_version": "1.2.0",
     "model_name": "LayoutModel",
     "state": {
      "_model_module": "@jupyter-widgets/base",
      "_model_module_version": "1.2.0",
      "_model_name": "LayoutModel",
      "_view_count": null,
      "_view_module": "@jupyter-widgets/base",
      "_view_module_version": "1.2.0",
      "_view_name": "LayoutView",
      "align_content": null,
      "align_items": null,
      "align_self": null,
      "border": null,
      "bottom": null,
      "display": null,
      "flex": null,
      "flex_flow": null,
      "grid_area": null,
      "grid_auto_columns": null,
      "grid_auto_flow": null,
      "grid_auto_rows": null,
      "grid_column": null,
      "grid_gap": null,
      "grid_row": null,
      "grid_template_areas": null,
      "grid_template_columns": null,
      "grid_template_rows": null,
      "height": null,
      "justify_content": null,
      "justify_items": null,
      "left": null,
      "margin": null,
      "max_height": null,
      "max_width": null,
      "min_height": null,
      "min_width": null,
      "object_fit": null,
      "object_position": null,
      "order": null,
      "overflow": null,
      "overflow_x": null,
      "overflow_y": null,
      "padding": null,
      "right": null,
      "top": null,
      "visibility": null,
      "width": null
     }
    },
    "c9ddba24edec4a7d950240448ce0b374": {
     "model_module": "@jupyter-widgets/base",
     "model_module_version": "1.2.0",
     "model_name": "LayoutModel",
     "state": {
      "_model_module": "@jupyter-widgets/base",
      "_model_module_version": "1.2.0",
      "_model_name": "LayoutModel",
      "_view_count": null,
      "_view_module": "@jupyter-widgets/base",
      "_view_module_version": "1.2.0",
      "_view_name": "LayoutView",
      "align_content": null,
      "align_items": null,
      "align_self": null,
      "border": null,
      "bottom": null,
      "display": null,
      "flex": null,
      "flex_flow": null,
      "grid_area": null,
      "grid_auto_columns": null,
      "grid_auto_flow": null,
      "grid_auto_rows": null,
      "grid_column": null,
      "grid_gap": null,
      "grid_row": null,
      "grid_template_areas": null,
      "grid_template_columns": null,
      "grid_template_rows": null,
      "height": null,
      "justify_content": null,
      "justify_items": null,
      "left": null,
      "margin": null,
      "max_height": null,
      "max_width": null,
      "min_height": null,
      "min_width": null,
      "object_fit": null,
      "object_position": null,
      "order": null,
      "overflow": null,
      "overflow_x": null,
      "overflow_y": null,
      "padding": null,
      "right": null,
      "top": null,
      "visibility": null,
      "width": null
     }
    },
    "cdc5e0b5a1b74b28811cf426083a6300": {
     "model_module": "@jupyter-widgets/base",
     "model_module_version": "1.2.0",
     "model_name": "LayoutModel",
     "state": {
      "_model_module": "@jupyter-widgets/base",
      "_model_module_version": "1.2.0",
      "_model_name": "LayoutModel",
      "_view_count": null,
      "_view_module": "@jupyter-widgets/base",
      "_view_module_version": "1.2.0",
      "_view_name": "LayoutView",
      "align_content": null,
      "align_items": null,
      "align_self": null,
      "border": null,
      "bottom": null,
      "display": null,
      "flex": null,
      "flex_flow": null,
      "grid_area": null,
      "grid_auto_columns": null,
      "grid_auto_flow": null,
      "grid_auto_rows": null,
      "grid_column": null,
      "grid_gap": null,
      "grid_row": null,
      "grid_template_areas": null,
      "grid_template_columns": null,
      "grid_template_rows": null,
      "height": null,
      "justify_content": null,
      "justify_items": null,
      "left": null,
      "margin": null,
      "max_height": null,
      "max_width": null,
      "min_height": null,
      "min_width": null,
      "object_fit": null,
      "object_position": null,
      "order": null,
      "overflow": null,
      "overflow_x": null,
      "overflow_y": null,
      "padding": null,
      "right": null,
      "top": null,
      "visibility": null,
      "width": null
     }
    },
    "cfceb36a55e0448ea41bf489fce0bf63": {
     "model_module": "@jupyter-widgets/controls",
     "model_module_version": "1.5.0",
     "model_name": "HBoxModel",
     "state": {
      "_dom_classes": [],
      "_model_module": "@jupyter-widgets/controls",
      "_model_module_version": "1.5.0",
      "_model_name": "HBoxModel",
      "_view_count": null,
      "_view_module": "@jupyter-widgets/controls",
      "_view_module_version": "1.5.0",
      "_view_name": "HBoxView",
      "box_style": "",
      "children": [
       "IPY_MODEL_7061bc8bf2694042a5d8ffd3edf91328",
       "IPY_MODEL_30769737677f4365bcc581bd62100763",
       "IPY_MODEL_40367b800337420a820129ead7ab2a62"
      ],
      "layout": "IPY_MODEL_2f53d1ed15cf46ccaec78a9b9e23b9ab"
     }
    },
    "cfe3b528f8f94c2dbadeab72c226b201": {
     "model_module": "@jupyter-widgets/controls",
     "model_module_version": "1.5.0",
     "model_name": "DescriptionStyleModel",
     "state": {
      "_model_module": "@jupyter-widgets/controls",
      "_model_module_version": "1.5.0",
      "_model_name": "DescriptionStyleModel",
      "_view_count": null,
      "_view_module": "@jupyter-widgets/base",
      "_view_module_version": "1.2.0",
      "_view_name": "StyleView",
      "description_width": ""
     }
    },
    "d61340bdf64741f7bbed6d6c1a102149": {
     "model_module": "@jupyter-widgets/controls",
     "model_module_version": "1.5.0",
     "model_name": "HTMLModel",
     "state": {
      "_dom_classes": [],
      "_model_module": "@jupyter-widgets/controls",
      "_model_module_version": "1.5.0",
      "_model_name": "HTMLModel",
      "_view_count": null,
      "_view_module": "@jupyter-widgets/controls",
      "_view_module_version": "1.5.0",
      "_view_name": "HTMLView",
      "description": "",
      "description_tooltip": null,
      "layout": "IPY_MODEL_cdc5e0b5a1b74b28811cf426083a6300",
      "placeholder": "​",
      "style": "IPY_MODEL_cfe3b528f8f94c2dbadeab72c226b201",
      "value": " 48.0/48.0 [00:00&lt;00:00, 980B/s]"
     }
    },
    "d6ae4b5b82ae4f44b3457410cbcafdf8": {
     "model_module": "@jupyter-widgets/controls",
     "model_module_version": "1.5.0",
     "model_name": "HBoxModel",
     "state": {
      "_dom_classes": [],
      "_model_module": "@jupyter-widgets/controls",
      "_model_module_version": "1.5.0",
      "_model_name": "HBoxModel",
      "_view_count": null,
      "_view_module": "@jupyter-widgets/controls",
      "_view_module_version": "1.5.0",
      "_view_name": "HBoxView",
      "box_style": "",
      "children": [
       "IPY_MODEL_8465d3a752b14c2e9469c04f613c6b36",
       "IPY_MODEL_497051a90786462a90bb3704a33f5092",
       "IPY_MODEL_09d3acdfc75e40e1bd3a80aeee574f92"
      ],
      "layout": "IPY_MODEL_b838af3a5fb943a89af2fd5a19e5b18f"
     }
    },
    "d8cbd0e0efae4928813fbf0c25c7a169": {
     "model_module": "@jupyter-widgets/controls",
     "model_module_version": "1.5.0",
     "model_name": "DescriptionStyleModel",
     "state": {
      "_model_module": "@jupyter-widgets/controls",
      "_model_module_version": "1.5.0",
      "_model_name": "DescriptionStyleModel",
      "_view_count": null,
      "_view_module": "@jupyter-widgets/base",
      "_view_module_version": "1.2.0",
      "_view_name": "StyleView",
      "description_width": ""
     }
    },
    "dc8a4be1a7c24f16b37aac704a34f7e9": {
     "model_module": "@jupyter-widgets/controls",
     "model_module_version": "1.5.0",
     "model_name": "ProgressStyleModel",
     "state": {
      "_model_module": "@jupyter-widgets/controls",
      "_model_module_version": "1.5.0",
      "_model_name": "ProgressStyleModel",
      "_view_count": null,
      "_view_module": "@jupyter-widgets/base",
      "_view_module_version": "1.2.0",
      "_view_name": "StyleView",
      "bar_color": null,
      "description_width": ""
     }
    },
    "dee7c55ee58842ebb926b954af95b675": {
     "model_module": "@jupyter-widgets/base",
     "model_module_version": "1.2.0",
     "model_name": "LayoutModel",
     "state": {
      "_model_module": "@jupyter-widgets/base",
      "_model_module_version": "1.2.0",
      "_model_name": "LayoutModel",
      "_view_count": null,
      "_view_module": "@jupyter-widgets/base",
      "_view_module_version": "1.2.0",
      "_view_name": "LayoutView",
      "align_content": null,
      "align_items": null,
      "align_self": null,
      "border": null,
      "bottom": null,
      "display": null,
      "flex": null,
      "flex_flow": null,
      "grid_area": null,
      "grid_auto_columns": null,
      "grid_auto_flow": null,
      "grid_auto_rows": null,
      "grid_column": null,
      "grid_gap": null,
      "grid_row": null,
      "grid_template_areas": null,
      "grid_template_columns": null,
      "grid_template_rows": null,
      "height": null,
      "justify_content": null,
      "justify_items": null,
      "left": null,
      "margin": null,
      "max_height": null,
      "max_width": null,
      "min_height": null,
      "min_width": null,
      "object_fit": null,
      "object_position": null,
      "order": null,
      "overflow": null,
      "overflow_x": null,
      "overflow_y": null,
      "padding": null,
      "right": null,
      "top": null,
      "visibility": null,
      "width": null
     }
    },
    "e096b2d8ef2b42549814d28554ac2111": {
     "model_module": "@jupyter-widgets/controls",
     "model_module_version": "1.5.0",
     "model_name": "DescriptionStyleModel",
     "state": {
      "_model_module": "@jupyter-widgets/controls",
      "_model_module_version": "1.5.0",
      "_model_name": "DescriptionStyleModel",
      "_view_count": null,
      "_view_module": "@jupyter-widgets/base",
      "_view_module_version": "1.2.0",
      "_view_name": "StyleView",
      "description_width": ""
     }
    },
    "e5773d83030c48d9ae083573ea6e18dc": {
     "model_module": "@jupyter-widgets/base",
     "model_module_version": "1.2.0",
     "model_name": "LayoutModel",
     "state": {
      "_model_module": "@jupyter-widgets/base",
      "_model_module_version": "1.2.0",
      "_model_name": "LayoutModel",
      "_view_count": null,
      "_view_module": "@jupyter-widgets/base",
      "_view_module_version": "1.2.0",
      "_view_name": "LayoutView",
      "align_content": null,
      "align_items": null,
      "align_self": null,
      "border": null,
      "bottom": null,
      "display": null,
      "flex": null,
      "flex_flow": null,
      "grid_area": null,
      "grid_auto_columns": null,
      "grid_auto_flow": null,
      "grid_auto_rows": null,
      "grid_column": null,
      "grid_gap": null,
      "grid_row": null,
      "grid_template_areas": null,
      "grid_template_columns": null,
      "grid_template_rows": null,
      "height": null,
      "justify_content": null,
      "justify_items": null,
      "left": null,
      "margin": null,
      "max_height": null,
      "max_width": null,
      "min_height": null,
      "min_width": null,
      "object_fit": null,
      "object_position": null,
      "order": null,
      "overflow": null,
      "overflow_x": null,
      "overflow_y": null,
      "padding": null,
      "right": null,
      "top": null,
      "visibility": null,
      "width": null
     }
    },
    "e8184d5538bc47d2ae06f7a79b359027": {
     "model_module": "@jupyter-widgets/base",
     "model_module_version": "1.2.0",
     "model_name": "LayoutModel",
     "state": {
      "_model_module": "@jupyter-widgets/base",
      "_model_module_version": "1.2.0",
      "_model_name": "LayoutModel",
      "_view_count": null,
      "_view_module": "@jupyter-widgets/base",
      "_view_module_version": "1.2.0",
      "_view_name": "LayoutView",
      "align_content": null,
      "align_items": null,
      "align_self": null,
      "border": null,
      "bottom": null,
      "display": null,
      "flex": null,
      "flex_flow": null,
      "grid_area": null,
      "grid_auto_columns": null,
      "grid_auto_flow": null,
      "grid_auto_rows": null,
      "grid_column": null,
      "grid_gap": null,
      "grid_row": null,
      "grid_template_areas": null,
      "grid_template_columns": null,
      "grid_template_rows": null,
      "height": null,
      "justify_content": null,
      "justify_items": null,
      "left": null,
      "margin": null,
      "max_height": null,
      "max_width": null,
      "min_height": null,
      "min_width": null,
      "object_fit": null,
      "object_position": null,
      "order": null,
      "overflow": null,
      "overflow_x": null,
      "overflow_y": null,
      "padding": null,
      "right": null,
      "top": null,
      "visibility": null,
      "width": null
     }
    },
    "eaaecb438edf48d3843a9e9a48945890": {
     "model_module": "@jupyter-widgets/controls",
     "model_module_version": "1.5.0",
     "model_name": "ProgressStyleModel",
     "state": {
      "_model_module": "@jupyter-widgets/controls",
      "_model_module_version": "1.5.0",
      "_model_name": "ProgressStyleModel",
      "_view_count": null,
      "_view_module": "@jupyter-widgets/base",
      "_view_module_version": "1.2.0",
      "_view_name": "StyleView",
      "bar_color": null,
      "description_width": ""
     }
    },
    "eabf57e803784a9383f79ad52ec17d66": {
     "model_module": "@jupyter-widgets/controls",
     "model_module_version": "1.5.0",
     "model_name": "HTMLModel",
     "state": {
      "_dom_classes": [],
      "_model_module": "@jupyter-widgets/controls",
      "_model_module_version": "1.5.0",
      "_model_name": "HTMLModel",
      "_view_count": null,
      "_view_module": "@jupyter-widgets/controls",
      "_view_module_version": "1.5.0",
      "_view_name": "HTMLView",
      "description": "",
      "description_tooltip": null,
      "layout": "IPY_MODEL_6c4592d87ee34e8aa1bab6db7ffc9e05",
      "placeholder": "​",
      "style": "IPY_MODEL_193fa9e5182e4ea496b5d41b99776eee",
      "value": "tokenizer.json: 100%"
     }
    },
    "ecd96dcf02cb43d78f976b861f6c7752": {
     "model_module": "@jupyter-widgets/base",
     "model_module_version": "1.2.0",
     "model_name": "LayoutModel",
     "state": {
      "_model_module": "@jupyter-widgets/base",
      "_model_module_version": "1.2.0",
      "_model_name": "LayoutModel",
      "_view_count": null,
      "_view_module": "@jupyter-widgets/base",
      "_view_module_version": "1.2.0",
      "_view_name": "LayoutView",
      "align_content": null,
      "align_items": null,
      "align_self": null,
      "border": null,
      "bottom": null,
      "display": null,
      "flex": null,
      "flex_flow": null,
      "grid_area": null,
      "grid_auto_columns": null,
      "grid_auto_flow": null,
      "grid_auto_rows": null,
      "grid_column": null,
      "grid_gap": null,
      "grid_row": null,
      "grid_template_areas": null,
      "grid_template_columns": null,
      "grid_template_rows": null,
      "height": null,
      "justify_content": null,
      "justify_items": null,
      "left": null,
      "margin": null,
      "max_height": null,
      "max_width": null,
      "min_height": null,
      "min_width": null,
      "object_fit": null,
      "object_position": null,
      "order": null,
      "overflow": null,
      "overflow_x": null,
      "overflow_y": null,
      "padding": null,
      "right": null,
      "top": null,
      "visibility": null,
      "width": null
     }
    },
    "ed0c346a207f48cbb3ac7e9e4786b8a0": {
     "model_module": "@jupyter-widgets/controls",
     "model_module_version": "1.5.0",
     "model_name": "ProgressStyleModel",
     "state": {
      "_model_module": "@jupyter-widgets/controls",
      "_model_module_version": "1.5.0",
      "_model_name": "ProgressStyleModel",
      "_view_count": null,
      "_view_module": "@jupyter-widgets/base",
      "_view_module_version": "1.2.0",
      "_view_name": "StyleView",
      "bar_color": null,
      "description_width": ""
     }
    },
    "ed1296b16c9b47e6b5df513bb8a2bc37": {
     "model_module": "@jupyter-widgets/base",
     "model_module_version": "1.2.0",
     "model_name": "LayoutModel",
     "state": {
      "_model_module": "@jupyter-widgets/base",
      "_model_module_version": "1.2.0",
      "_model_name": "LayoutModel",
      "_view_count": null,
      "_view_module": "@jupyter-widgets/base",
      "_view_module_version": "1.2.0",
      "_view_name": "LayoutView",
      "align_content": null,
      "align_items": null,
      "align_self": null,
      "border": null,
      "bottom": null,
      "display": null,
      "flex": null,
      "flex_flow": null,
      "grid_area": null,
      "grid_auto_columns": null,
      "grid_auto_flow": null,
      "grid_auto_rows": null,
      "grid_column": null,
      "grid_gap": null,
      "grid_row": null,
      "grid_template_areas": null,
      "grid_template_columns": null,
      "grid_template_rows": null,
      "height": null,
      "justify_content": null,
      "justify_items": null,
      "left": null,
      "margin": null,
      "max_height": null,
      "max_width": null,
      "min_height": null,
      "min_width": null,
      "object_fit": null,
      "object_position": null,
      "order": null,
      "overflow": null,
      "overflow_x": null,
      "overflow_y": null,
      "padding": null,
      "right": null,
      "top": null,
      "visibility": null,
      "width": null
     }
    },
    "ef02b30198b547f7a20d29a6ed2b9520": {
     "model_module": "@jupyter-widgets/controls",
     "model_module_version": "1.5.0",
     "model_name": "DescriptionStyleModel",
     "state": {
      "_model_module": "@jupyter-widgets/controls",
      "_model_module_version": "1.5.0",
      "_model_name": "DescriptionStyleModel",
      "_view_count": null,
      "_view_module": "@jupyter-widgets/base",
      "_view_module_version": "1.2.0",
      "_view_name": "StyleView",
      "description_width": ""
     }
    },
    "f01661d6ed60405687c3ec8bfdd5c876": {
     "model_module": "@jupyter-widgets/controls",
     "model_module_version": "1.5.0",
     "model_name": "HTMLModel",
     "state": {
      "_dom_classes": [],
      "_model_module": "@jupyter-widgets/controls",
      "_model_module_version": "1.5.0",
      "_model_name": "HTMLModel",
      "_view_count": null,
      "_view_module": "@jupyter-widgets/controls",
      "_view_module_version": "1.5.0",
      "_view_name": "HTMLView",
      "description": "",
      "description_tooltip": null,
      "layout": "IPY_MODEL_ed1296b16c9b47e6b5df513bb8a2bc37",
      "placeholder": "​",
      "style": "IPY_MODEL_f87d94bb7e1440d3b273a25a0383b9bd",
      "value": "Downloading: 100%"
     }
    },
    "f14b2a6849e04e8487c8e9949a35bdf1": {
     "model_module": "@jupyter-widgets/base",
     "model_module_version": "1.2.0",
     "model_name": "LayoutModel",
     "state": {
      "_model_module": "@jupyter-widgets/base",
      "_model_module_version": "1.2.0",
      "_model_name": "LayoutModel",
      "_view_count": null,
      "_view_module": "@jupyter-widgets/base",
      "_view_module_version": "1.2.0",
      "_view_name": "LayoutView",
      "align_content": null,
      "align_items": null,
      "align_self": null,
      "border": null,
      "bottom": null,
      "display": null,
      "flex": null,
      "flex_flow": null,
      "grid_area": null,
      "grid_auto_columns": null,
      "grid_auto_flow": null,
      "grid_auto_rows": null,
      "grid_column": null,
      "grid_gap": null,
      "grid_row": null,
      "grid_template_areas": null,
      "grid_template_columns": null,
      "grid_template_rows": null,
      "height": null,
      "justify_content": null,
      "justify_items": null,
      "left": null,
      "margin": null,
      "max_height": null,
      "max_width": null,
      "min_height": null,
      "min_width": null,
      "object_fit": null,
      "object_position": null,
      "order": null,
      "overflow": null,
      "overflow_x": null,
      "overflow_y": null,
      "padding": null,
      "right": null,
      "top": null,
      "visibility": null,
      "width": null
     }
    },
    "f87d94bb7e1440d3b273a25a0383b9bd": {
     "model_module": "@jupyter-widgets/controls",
     "model_module_version": "1.5.0",
     "model_name": "DescriptionStyleModel",
     "state": {
      "_model_module": "@jupyter-widgets/controls",
      "_model_module_version": "1.5.0",
      "_model_name": "DescriptionStyleModel",
      "_view_count": null,
      "_view_module": "@jupyter-widgets/base",
      "_view_module_version": "1.2.0",
      "_view_name": "StyleView",
      "description_width": ""
     }
    },
    "faa72165fd424b2faf74f0593b9187e7": {
     "model_module": "@jupyter-widgets/controls",
     "model_module_version": "1.5.0",
     "model_name": "FloatProgressModel",
     "state": {
      "_dom_classes": [],
      "_model_module": "@jupyter-widgets/controls",
      "_model_module_version": "1.5.0",
      "_model_name": "FloatProgressModel",
      "_view_count": null,
      "_view_module": "@jupyter-widgets/controls",
      "_view_module_version": "1.5.0",
      "_view_name": "ProgressView",
      "bar_style": "success",
      "description": "",
      "description_tooltip": null,
      "layout": "IPY_MODEL_92b70d2531bc4fafaf0dcf4a8c5446ce",
      "max": 231508,
      "min": 0,
      "orientation": "horizontal",
      "style": "IPY_MODEL_ac6d0953d1ac4fc0b6c350eac993a6ce",
      "value": 231508
     }
    },
    "fd6cdf68bcfe4dc3af47382ac374d6bc": {
     "model_module": "@jupyter-widgets/base",
     "model_module_version": "1.2.0",
     "model_name": "LayoutModel",
     "state": {
      "_model_module": "@jupyter-widgets/base",
      "_model_module_version": "1.2.0",
      "_model_name": "LayoutModel",
      "_view_count": null,
      "_view_module": "@jupyter-widgets/base",
      "_view_module_version": "1.2.0",
      "_view_name": "LayoutView",
      "align_content": null,
      "align_items": null,
      "align_self": null,
      "border": null,
      "bottom": null,
      "display": null,
      "flex": null,
      "flex_flow": null,
      "grid_area": null,
      "grid_auto_columns": null,
      "grid_auto_flow": null,
      "grid_auto_rows": null,
      "grid_column": null,
      "grid_gap": null,
      "grid_row": null,
      "grid_template_areas": null,
      "grid_template_columns": null,
      "grid_template_rows": null,
      "height": null,
      "justify_content": null,
      "justify_items": null,
      "left": null,
      "margin": null,
      "max_height": null,
      "max_width": null,
      "min_height": null,
      "min_width": null,
      "object_fit": null,
      "object_position": null,
      "order": null,
      "overflow": null,
      "overflow_x": null,
      "overflow_y": null,
      "padding": null,
      "right": null,
      "top": null,
      "visibility": null,
      "width": null
     }
    }
   }
  }
 },
 "nbformat": 4,
 "nbformat_minor": 0
}
