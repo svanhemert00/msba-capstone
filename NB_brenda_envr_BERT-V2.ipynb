{
 "cells": [
  {
   "cell_type": "code",
   "execution_count": 1,
   "id": "00f1b0fb",
   "metadata": {},
   "outputs": [],
   "source": [
    "import pandas as pd\n",
    "import numpy as np"
   ]
  },
  {
   "cell_type": "code",
   "execution_count": 2,
   "id": "0649d8a3",
   "metadata": {},
   "outputs": [],
   "source": [
    "# Read in datasets\n",
    "all_reviews = pd.read_csv('all_reviews_merged.csv')"
   ]
  },
  {
   "cell_type": "code",
   "execution_count": 3,
   "id": "b072003c",
   "metadata": {},
   "outputs": [],
   "source": [
    "# Drop the 'train_test' column\n",
    "all_reviews = all_reviews.drop('train_test', axis=1)"
   ]
  },
  {
   "cell_type": "code",
   "execution_count": 4,
   "id": "f27b73cf",
   "metadata": {},
   "outputs": [],
   "source": [
    "# Add attribute columns\n",
    "all_reviews['sustainability (y/n)'] = 0"
   ]
  },
  {
   "cell_type": "code",
   "execution_count": 5,
   "id": "f19e4b99",
   "metadata": {},
   "outputs": [
    {
     "data": {
      "text/html": [
       "<div>\n",
       "<style scoped>\n",
       "    .dataframe tbody tr th:only-of-type {\n",
       "        vertical-align: middle;\n",
       "    }\n",
       "\n",
       "    .dataframe tbody tr th {\n",
       "        vertical-align: top;\n",
       "    }\n",
       "\n",
       "    .dataframe thead th {\n",
       "        text-align: right;\n",
       "    }\n",
       "</style>\n",
       "<table border=\"1\" class=\"dataframe\">\n",
       "  <thead>\n",
       "    <tr style=\"text-align: right;\">\n",
       "      <th></th>\n",
       "      <th>reviewId</th>\n",
       "      <th>asin</th>\n",
       "      <th>date_cleaned</th>\n",
       "      <th>username</th>\n",
       "      <th>title</th>\n",
       "      <th>keyword</th>\n",
       "      <th>verified</th>\n",
       "      <th>rating_cleaned</th>\n",
       "      <th>text</th>\n",
       "      <th>sustainability (y/n)</th>\n",
       "    </tr>\n",
       "  </thead>\n",
       "  <tbody>\n",
       "    <tr>\n",
       "      <th>0</th>\n",
       "      <td>R18NC04B57B1WM</td>\n",
       "      <td>B09LRY9C88</td>\n",
       "      <td>2022-04-08</td>\n",
       "      <td>Tina Adcox</td>\n",
       "      <td>awesome!</td>\n",
       "      <td>Movie</td>\n",
       "      <td>True</td>\n",
       "      <td>5.0</td>\n",
       "      <td>great movie</td>\n",
       "      <td>0</td>\n",
       "    </tr>\n",
       "    <tr>\n",
       "      <th>1</th>\n",
       "      <td>R1MPI8QQ1R4QZY</td>\n",
       "      <td>B09LRY9C88</td>\n",
       "      <td>2022-04-08</td>\n",
       "      <td>Amazon Customer</td>\n",
       "      <td>boring and ridiculous!</td>\n",
       "      <td>Movie</td>\n",
       "      <td>True</td>\n",
       "      <td>1.0</td>\n",
       "      <td>The plot. Gave up after 20 minutes. Does anyon...</td>\n",
       "      <td>0</td>\n",
       "    </tr>\n",
       "    <tr>\n",
       "      <th>2</th>\n",
       "      <td>R31HH2207Z6W8A</td>\n",
       "      <td>B09LRY9C88</td>\n",
       "      <td>2022-04-08</td>\n",
       "      <td>Hydman</td>\n",
       "      <td>Cool</td>\n",
       "      <td>Movie</td>\n",
       "      <td>True</td>\n",
       "      <td>5.0</td>\n",
       "      <td>Greatovie but over hyped</td>\n",
       "      <td>0</td>\n",
       "    </tr>\n",
       "    <tr>\n",
       "      <th>3</th>\n",
       "      <td>R36RICDJG8MPW1</td>\n",
       "      <td>B09LRY9C88</td>\n",
       "      <td>2022-04-08</td>\n",
       "      <td>M. Fields</td>\n",
       "      <td>Great movie</td>\n",
       "      <td>Movie</td>\n",
       "      <td>True</td>\n",
       "      <td>5.0</td>\n",
       "      <td>Do buy this film. It really is great but don't...</td>\n",
       "      <td>0</td>\n",
       "    </tr>\n",
       "    <tr>\n",
       "      <th>4</th>\n",
       "      <td>R3BBWMNCFP15OM</td>\n",
       "      <td>B09LRY9C88</td>\n",
       "      <td>2022-04-08</td>\n",
       "      <td>Bama Road Rage</td>\n",
       "      <td>I was never a fan of the spider-man franchise</td>\n",
       "      <td>Movie</td>\n",
       "      <td>True</td>\n",
       "      <td>2.0</td>\n",
       "      <td>...and I'm still not a fan after watching this...</td>\n",
       "      <td>0</td>\n",
       "    </tr>\n",
       "    <tr>\n",
       "      <th>...</th>\n",
       "      <td>...</td>\n",
       "      <td>...</td>\n",
       "      <td>...</td>\n",
       "      <td>...</td>\n",
       "      <td>...</td>\n",
       "      <td>...</td>\n",
       "      <td>...</td>\n",
       "      <td>...</td>\n",
       "      <td>...</td>\n",
       "      <td>...</td>\n",
       "    </tr>\n",
       "    <tr>\n",
       "      <th>1115232</th>\n",
       "      <td>R2R6K97W4CDB3X</td>\n",
       "      <td>B08C2X57ZH</td>\n",
       "      <td>2019-09-16</td>\n",
       "      <td>Claudio</td>\n",
       "      <td>NaN</td>\n",
       "      <td>best Watch</td>\n",
       "      <td>True</td>\n",
       "      <td>5.0</td>\n",
       "      <td>L'orologio è molto bello, non solo in consider...</td>\n",
       "      <td>0</td>\n",
       "    </tr>\n",
       "    <tr>\n",
       "      <th>1115233</th>\n",
       "      <td>R1BNSB3WLR7SGQ</td>\n",
       "      <td>B08C2X57ZH</td>\n",
       "      <td>2019-09-15</td>\n",
       "      <td>marco</td>\n",
       "      <td>NaN</td>\n",
       "      <td>best Watch</td>\n",
       "      <td>True</td>\n",
       "      <td>5.0</td>\n",
       "      <td>AMAZON professionali come sempre, sono piacevo...</td>\n",
       "      <td>0</td>\n",
       "    </tr>\n",
       "    <tr>\n",
       "      <th>1115234</th>\n",
       "      <td>R1R10QW28I1RIE</td>\n",
       "      <td>B08C2X57ZH</td>\n",
       "      <td>2019-09-07</td>\n",
       "      <td>Anna</td>\n",
       "      <td>NaN</td>\n",
       "      <td>best Watch</td>\n",
       "      <td>True</td>\n",
       "      <td>5.0</td>\n",
       "      <td>Very impressed with the quality and look would...</td>\n",
       "      <td>0</td>\n",
       "    </tr>\n",
       "    <tr>\n",
       "      <th>1115235</th>\n",
       "      <td>R2FF892TZK2DZO</td>\n",
       "      <td>B08C2X57ZH</td>\n",
       "      <td>2019-08-14</td>\n",
       "      <td>Cliente Amazon</td>\n",
       "      <td>NaN</td>\n",
       "      <td>best Watch</td>\n",
       "      <td>True</td>\n",
       "      <td>4.0</td>\n",
       "      <td>Bello.ma da utilizzare senza impegno</td>\n",
       "      <td>0</td>\n",
       "    </tr>\n",
       "    <tr>\n",
       "      <th>1115236</th>\n",
       "      <td>R1XVC1DHDEOQK8</td>\n",
       "      <td>B08C2X57ZH</td>\n",
       "      <td>2019-08-06</td>\n",
       "      <td>Le Nouail</td>\n",
       "      <td>NaN</td>\n",
       "      <td>best Watch</td>\n",
       "      <td>True</td>\n",
       "      <td>4.0</td>\n",
       "      <td>Pour offrir à mon copain</td>\n",
       "      <td>0</td>\n",
       "    </tr>\n",
       "  </tbody>\n",
       "</table>\n",
       "<p>1115237 rows × 10 columns</p>\n",
       "</div>"
      ],
      "text/plain": [
       "               reviewId        asin date_cleaned         username  \\\n",
       "0        R18NC04B57B1WM  B09LRY9C88   2022-04-08       Tina Adcox   \n",
       "1        R1MPI8QQ1R4QZY  B09LRY9C88   2022-04-08  Amazon Customer   \n",
       "2        R31HH2207Z6W8A  B09LRY9C88   2022-04-08           Hydman   \n",
       "3        R36RICDJG8MPW1  B09LRY9C88   2022-04-08        M. Fields   \n",
       "4        R3BBWMNCFP15OM  B09LRY9C88   2022-04-08   Bama Road Rage   \n",
       "...                 ...         ...          ...              ...   \n",
       "1115232  R2R6K97W4CDB3X  B08C2X57ZH   2019-09-16          Claudio   \n",
       "1115233  R1BNSB3WLR7SGQ  B08C2X57ZH   2019-09-15            marco   \n",
       "1115234  R1R10QW28I1RIE  B08C2X57ZH   2019-09-07             Anna   \n",
       "1115235  R2FF892TZK2DZO  B08C2X57ZH   2019-08-14   Cliente Amazon   \n",
       "1115236  R1XVC1DHDEOQK8  B08C2X57ZH   2019-08-06        Le Nouail   \n",
       "\n",
       "                                                 title     keyword  verified  \\\n",
       "0                                             awesome!       Movie      True   \n",
       "1                               boring and ridiculous!       Movie      True   \n",
       "2                                                 Cool       Movie      True   \n",
       "3                                          Great movie       Movie      True   \n",
       "4        I was never a fan of the spider-man franchise       Movie      True   \n",
       "...                                                ...         ...       ...   \n",
       "1115232                                            NaN  best Watch      True   \n",
       "1115233                                            NaN  best Watch      True   \n",
       "1115234                                            NaN  best Watch      True   \n",
       "1115235                                            NaN  best Watch      True   \n",
       "1115236                                            NaN  best Watch      True   \n",
       "\n",
       "         rating_cleaned                                               text  \\\n",
       "0                   5.0                                        great movie   \n",
       "1                   1.0  The plot. Gave up after 20 minutes. Does anyon...   \n",
       "2                   5.0                           Greatovie but over hyped   \n",
       "3                   5.0  Do buy this film. It really is great but don't...   \n",
       "4                   2.0  ...and I'm still not a fan after watching this...   \n",
       "...                 ...                                                ...   \n",
       "1115232             5.0  L'orologio è molto bello, non solo in consider...   \n",
       "1115233             5.0  AMAZON professionali come sempre, sono piacevo...   \n",
       "1115234             5.0  Very impressed with the quality and look would...   \n",
       "1115235             4.0               Bello.ma da utilizzare senza impegno   \n",
       "1115236             4.0                           Pour offrir à mon copain   \n",
       "\n",
       "         sustainability (y/n)  \n",
       "0                           0  \n",
       "1                           0  \n",
       "2                           0  \n",
       "3                           0  \n",
       "4                           0  \n",
       "...                       ...  \n",
       "1115232                     0  \n",
       "1115233                     0  \n",
       "1115234                     0  \n",
       "1115235                     0  \n",
       "1115236                     0  \n",
       "\n",
       "[1115237 rows x 10 columns]"
      ]
     },
     "execution_count": 5,
     "metadata": {},
     "output_type": "execute_result"
    }
   ],
   "source": [
    "# Preview Data\n",
    "all_reviews"
   ]
  },
  {
   "cell_type": "code",
   "execution_count": 6,
   "id": "61899c66",
   "metadata": {},
   "outputs": [
    {
     "name": "stdout",
     "output_type": "stream",
     "text": [
      "<class 'pandas.core.frame.DataFrame'>\n",
      "RangeIndex: 1115237 entries, 0 to 1115236\n",
      "Data columns (total 10 columns):\n",
      " #   Column                Non-Null Count    Dtype  \n",
      "---  ------                --------------    -----  \n",
      " 0   reviewId              1115237 non-null  object \n",
      " 1   asin                  1115237 non-null  object \n",
      " 2   date_cleaned          1115237 non-null  object \n",
      " 3   username              1115174 non-null  object \n",
      " 4   title                 1047991 non-null  object \n",
      " 5   keyword               1115237 non-null  object \n",
      " 6   verified              1115237 non-null  bool   \n",
      " 7   rating_cleaned        1115237 non-null  float64\n",
      " 8   text                  1115064 non-null  object \n",
      " 9   sustainability (y/n)  1115237 non-null  int64  \n",
      "dtypes: bool(1), float64(1), int64(1), object(7)\n",
      "memory usage: 77.6+ MB\n"
     ]
    }
   ],
   "source": [
    "all_reviews.info()"
   ]
  },
  {
   "cell_type": "code",
   "execution_count": 7,
   "id": "d7634e9f",
   "metadata": {},
   "outputs": [],
   "source": [
    "##start ESGERT MODEL"
   ]
  },
  {
   "cell_type": "code",
   "execution_count": 8,
   "id": "6f732845",
   "metadata": {},
   "outputs": [
    {
     "name": "stderr",
     "output_type": "stream",
     "text": [
      "/home/jupyter-svanhemert00/.local/lib/python3.9/site-packages/torch/_utils.py:776: UserWarning: TypedStorage is deprecated. It will be removed in the future and UntypedStorage will be the only storage class. This should only matter to you if you are using storages directly.  To access UntypedStorage directly, use tensor.untyped_storage() instead of tensor.storage()\n",
      "  return self.fget.__get__(instance, owner)()\n"
     ]
    },
    {
     "name": "stdout",
     "output_type": "stream",
     "text": [
      "[{'label': 'environmental', 'score': 0.9979760050773621}]\n"
     ]
    }
   ],
   "source": [
    "from transformers import AutoModelForSequenceClassification, AutoTokenizer, pipeline\n",
    " \n",
    "tokenizer_name = \"ESGBERT/EnvironmentalBERT-environmental\" #path to download from HF\n",
    "model_name = \"ESGBERT/EnvironmentalBERT-environmental\"\n",
    "# the tokenizer prepares the text for the model and the model classifies the text-\n",
    " \n",
    "model = AutoModelForSequenceClassification.from_pretrained(model_name)\n",
    "tokenizer = AutoTokenizer.from_pretrained(tokenizer_name, max_len=512)\n",
    "# The pipeline combines tokenizer and model to one process. \n",
    "pipe = pipeline(\"text-classification\", model=model, tokenizer=tokenizer) # set device=0 to use GPU\n",
    " \n",
    "# See https://huggingface.co/docs/transformers/main_classes/pipelines#transformers.pipeline\n",
    "print(pipe(\"Scope 1 emissions are reported here on a like-for-like basis against the 2013 baseline and exclude emissions from additional vehicles used during repairs.\", padding=True, truncation=True))"
   ]
  },
  {
   "cell_type": "code",
   "execution_count": 10,
   "id": "9de176c1",
   "metadata": {},
   "outputs": [
    {
     "name": "stderr",
     "output_type": "stream",
     "text": [
      "IOPub data rate exceeded.\n",
      "The notebook server will temporarily stop sending output\n",
      "to the client in order to avoid crashing it.\n",
      "To change this limit, set the config variable\n",
      "`--NotebookApp.iopub_data_rate_limit`.\n",
      "\n",
      "Current values:\n",
      "NotebookApp.iopub_data_rate_limit=1000000.0 (bytes/sec)\n",
      "NotebookApp.rate_limit_window=3.0 (secs)\n",
      "\n"
     ]
    }
   ],
   "source": [
    "#get sample data to test pipeline \n",
    "reviews = all_reviews.iloc[:,8]\n",
    "reviews_list = reviews.tolist()\n",
    "print(reviews)\n",
    "#made text into a list, wasn't working as a dataframe\n",
    "print(reviews_list)"
   ]
  },
  {
   "cell_type": "code",
   "execution_count": null,
   "id": "b70da2f9",
   "metadata": {},
   "outputs": [],
   "source": [
    "# You can input single sentences or arrays of sentences into the pipeline.\n",
    "reviews_list\n",
    "reviews_pipe = pipe(reviews_list)\n",
    "print(reviews_pipe)"
   ]
  },
  {
   "cell_type": "code",
   "execution_count": null,
   "id": "5fcb56e5",
   "metadata": {},
   "outputs": [],
   "source": [
    "# Classify subset of sentences.\n",
    "# The padding and trunctuation parameters help us with classifying texts of different length.\n",
    "sub_sentences = reviews_list[:100] # takes around 20 seconds\n",
    "# full sentences take around 5mins WITHOUT GPU (see next tutorial for speed ups)\n",
    "env = pipe(sub_sentences, padding=True, truncation=True)\n",
    "\n",
    "# You might only want the labels.\n",
    "env_labels = [x[\"label\"] for x in env]"
   ]
  },
  {
   "cell_type": "code",
   "execution_count": null,
   "id": "ff40e64a",
   "metadata": {
    "scrolled": true
   },
   "outputs": [],
   "source": [
    "import pandas as pd\n",
    "\n",
    "# Let's look at the results. We use a dataframe for this purpose.\n",
    "data_env = pd.DataFrame({\"sentence\": sub_sentences, \"environmental\": env_labels})\n",
    "# Which sentences are labeled as environmental?\n",
    "data_env[data_env[\"environmental\"] == \"environmental\"]"
   ]
  },
  {
   "cell_type": "code",
   "execution_count": null,
   "id": "2b054f08",
   "metadata": {},
   "outputs": [],
   "source": [
    "print(data_env.groupby(\"environmental\").count())\n",
    "data_env.groupby(\"environmental\").count().plot(kind=\"bar\")"
   ]
  },
  {
   "cell_type": "code",
   "execution_count": null,
   "id": "18e44fc7",
   "metadata": {},
   "outputs": [],
   "source": []
  }
 ],
 "metadata": {
  "kernelspec": {
   "display_name": "Python 3 (ipykernel)",
   "language": "python",
   "name": "python3"
  },
  "language_info": {
   "codemirror_mode": {
    "name": "ipython",
    "version": 3
   },
   "file_extension": ".py",
   "mimetype": "text/x-python",
   "name": "python",
   "nbconvert_exporter": "python",
   "pygments_lexer": "ipython3",
   "version": "3.9.7"
  }
 },
 "nbformat": 4,
 "nbformat_minor": 5
}
