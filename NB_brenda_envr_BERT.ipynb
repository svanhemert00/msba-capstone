{
 "cells": [
  {
   "cell_type": "code",
   "execution_count": 1,
   "id": "00f1b0fb",
   "metadata": {},
   "outputs": [],
   "source": [
    "import pandas as pd\n",
    "import numpy as np"
   ]
  },
  {
   "cell_type": "code",
   "execution_count": 2,
   "id": "0649d8a3",
   "metadata": {},
   "outputs": [],
   "source": [
    "# Read in datasets\n",
    "all_reviews = pd.read_csv('all_reviews_merged.csv')"
   ]
  },
  {
   "cell_type": "code",
   "execution_count": 7,
   "id": "b072003c",
   "metadata": {},
   "outputs": [],
   "source": [
    "# Drop the 'train_test' column\n",
    "all_reviews = all_reviews.drop('train_test', axis=1)"
   ]
  },
  {
   "cell_type": "code",
   "execution_count": 3,
   "id": "f27b73cf",
   "metadata": {},
   "outputs": [],
   "source": [
    "# Add attribute columns\n",
    "all_reviews['sustainability (y/n)'] = 0"
   ]
  },
  {
   "cell_type": "code",
   "execution_count": 4,
   "id": "f19e4b99",
   "metadata": {},
   "outputs": [
    {
     "data": {
      "text/html": [
       "<div>\n",
       "<style scoped>\n",
       "    .dataframe tbody tr th:only-of-type {\n",
       "        vertical-align: middle;\n",
       "    }\n",
       "\n",
       "    .dataframe tbody tr th {\n",
       "        vertical-align: top;\n",
       "    }\n",
       "\n",
       "    .dataframe thead th {\n",
       "        text-align: right;\n",
       "    }\n",
       "</style>\n",
       "<table border=\"1\" class=\"dataframe\">\n",
       "  <thead>\n",
       "    <tr style=\"text-align: right;\">\n",
       "      <th></th>\n",
       "      <th>reviewId</th>\n",
       "      <th>asin</th>\n",
       "      <th>date_cleaned</th>\n",
       "      <th>username</th>\n",
       "      <th>title</th>\n",
       "      <th>keyword</th>\n",
       "      <th>verified</th>\n",
       "      <th>rating_cleaned</th>\n",
       "      <th>text</th>\n",
       "      <th>train_test</th>\n",
       "      <th>sustainability (y/n)</th>\n",
       "    </tr>\n",
       "  </thead>\n",
       "  <tbody>\n",
       "    <tr>\n",
       "      <th>0</th>\n",
       "      <td>R18NC04B57B1WM</td>\n",
       "      <td>B09LRY9C88</td>\n",
       "      <td>2022-04-08</td>\n",
       "      <td>Tina Adcox</td>\n",
       "      <td>awesome!</td>\n",
       "      <td>Movie</td>\n",
       "      <td>True</td>\n",
       "      <td>5.0</td>\n",
       "      <td>great movie</td>\n",
       "      <td>test</td>\n",
       "      <td>0</td>\n",
       "    </tr>\n",
       "    <tr>\n",
       "      <th>1</th>\n",
       "      <td>R1MPI8QQ1R4QZY</td>\n",
       "      <td>B09LRY9C88</td>\n",
       "      <td>2022-04-08</td>\n",
       "      <td>Amazon Customer</td>\n",
       "      <td>boring and ridiculous!</td>\n",
       "      <td>Movie</td>\n",
       "      <td>True</td>\n",
       "      <td>1.0</td>\n",
       "      <td>The plot. Gave up after 20 minutes. Does anyon...</td>\n",
       "      <td>test</td>\n",
       "      <td>0</td>\n",
       "    </tr>\n",
       "    <tr>\n",
       "      <th>2</th>\n",
       "      <td>R31HH2207Z6W8A</td>\n",
       "      <td>B09LRY9C88</td>\n",
       "      <td>2022-04-08</td>\n",
       "      <td>Hydman</td>\n",
       "      <td>Cool</td>\n",
       "      <td>Movie</td>\n",
       "      <td>True</td>\n",
       "      <td>5.0</td>\n",
       "      <td>Greatovie but over hyped</td>\n",
       "      <td>test</td>\n",
       "      <td>0</td>\n",
       "    </tr>\n",
       "    <tr>\n",
       "      <th>3</th>\n",
       "      <td>R36RICDJG8MPW1</td>\n",
       "      <td>B09LRY9C88</td>\n",
       "      <td>2022-04-08</td>\n",
       "      <td>M. Fields</td>\n",
       "      <td>Great movie</td>\n",
       "      <td>Movie</td>\n",
       "      <td>True</td>\n",
       "      <td>5.0</td>\n",
       "      <td>Do buy this film. It really is great but don't...</td>\n",
       "      <td>test</td>\n",
       "      <td>0</td>\n",
       "    </tr>\n",
       "    <tr>\n",
       "      <th>4</th>\n",
       "      <td>R3BBWMNCFP15OM</td>\n",
       "      <td>B09LRY9C88</td>\n",
       "      <td>2022-04-08</td>\n",
       "      <td>Bama Road Rage</td>\n",
       "      <td>I was never a fan of the spider-man franchise</td>\n",
       "      <td>Movie</td>\n",
       "      <td>True</td>\n",
       "      <td>2.0</td>\n",
       "      <td>...and I'm still not a fan after watching this...</td>\n",
       "      <td>test</td>\n",
       "      <td>0</td>\n",
       "    </tr>\n",
       "    <tr>\n",
       "      <th>...</th>\n",
       "      <td>...</td>\n",
       "      <td>...</td>\n",
       "      <td>...</td>\n",
       "      <td>...</td>\n",
       "      <td>...</td>\n",
       "      <td>...</td>\n",
       "      <td>...</td>\n",
       "      <td>...</td>\n",
       "      <td>...</td>\n",
       "      <td>...</td>\n",
       "      <td>...</td>\n",
       "    </tr>\n",
       "    <tr>\n",
       "      <th>1115232</th>\n",
       "      <td>R2R6K97W4CDB3X</td>\n",
       "      <td>B08C2X57ZH</td>\n",
       "      <td>2019-09-16</td>\n",
       "      <td>Claudio</td>\n",
       "      <td>NaN</td>\n",
       "      <td>best Watch</td>\n",
       "      <td>True</td>\n",
       "      <td>5.0</td>\n",
       "      <td>L'orologio è molto bello, non solo in consider...</td>\n",
       "      <td>test</td>\n",
       "      <td>0</td>\n",
       "    </tr>\n",
       "    <tr>\n",
       "      <th>1115233</th>\n",
       "      <td>R1BNSB3WLR7SGQ</td>\n",
       "      <td>B08C2X57ZH</td>\n",
       "      <td>2019-09-15</td>\n",
       "      <td>marco</td>\n",
       "      <td>NaN</td>\n",
       "      <td>best Watch</td>\n",
       "      <td>True</td>\n",
       "      <td>5.0</td>\n",
       "      <td>AMAZON professionali come sempre, sono piacevo...</td>\n",
       "      <td>test</td>\n",
       "      <td>0</td>\n",
       "    </tr>\n",
       "    <tr>\n",
       "      <th>1115234</th>\n",
       "      <td>R1R10QW28I1RIE</td>\n",
       "      <td>B08C2X57ZH</td>\n",
       "      <td>2019-09-07</td>\n",
       "      <td>Anna</td>\n",
       "      <td>NaN</td>\n",
       "      <td>best Watch</td>\n",
       "      <td>True</td>\n",
       "      <td>5.0</td>\n",
       "      <td>Very impressed with the quality and look would...</td>\n",
       "      <td>test</td>\n",
       "      <td>0</td>\n",
       "    </tr>\n",
       "    <tr>\n",
       "      <th>1115235</th>\n",
       "      <td>R2FF892TZK2DZO</td>\n",
       "      <td>B08C2X57ZH</td>\n",
       "      <td>2019-08-14</td>\n",
       "      <td>Cliente Amazon</td>\n",
       "      <td>NaN</td>\n",
       "      <td>best Watch</td>\n",
       "      <td>True</td>\n",
       "      <td>4.0</td>\n",
       "      <td>Bello.ma da utilizzare senza impegno</td>\n",
       "      <td>test</td>\n",
       "      <td>0</td>\n",
       "    </tr>\n",
       "    <tr>\n",
       "      <th>1115236</th>\n",
       "      <td>R1XVC1DHDEOQK8</td>\n",
       "      <td>B08C2X57ZH</td>\n",
       "      <td>2019-08-06</td>\n",
       "      <td>Le Nouail</td>\n",
       "      <td>NaN</td>\n",
       "      <td>best Watch</td>\n",
       "      <td>True</td>\n",
       "      <td>4.0</td>\n",
       "      <td>Pour offrir à mon copain</td>\n",
       "      <td>test</td>\n",
       "      <td>0</td>\n",
       "    </tr>\n",
       "  </tbody>\n",
       "</table>\n",
       "<p>1115237 rows × 11 columns</p>\n",
       "</div>"
      ],
      "text/plain": [
       "               reviewId        asin date_cleaned         username  \\\n",
       "0        R18NC04B57B1WM  B09LRY9C88   2022-04-08       Tina Adcox   \n",
       "1        R1MPI8QQ1R4QZY  B09LRY9C88   2022-04-08  Amazon Customer   \n",
       "2        R31HH2207Z6W8A  B09LRY9C88   2022-04-08           Hydman   \n",
       "3        R36RICDJG8MPW1  B09LRY9C88   2022-04-08        M. Fields   \n",
       "4        R3BBWMNCFP15OM  B09LRY9C88   2022-04-08   Bama Road Rage   \n",
       "...                 ...         ...          ...              ...   \n",
       "1115232  R2R6K97W4CDB3X  B08C2X57ZH   2019-09-16          Claudio   \n",
       "1115233  R1BNSB3WLR7SGQ  B08C2X57ZH   2019-09-15            marco   \n",
       "1115234  R1R10QW28I1RIE  B08C2X57ZH   2019-09-07             Anna   \n",
       "1115235  R2FF892TZK2DZO  B08C2X57ZH   2019-08-14   Cliente Amazon   \n",
       "1115236  R1XVC1DHDEOQK8  B08C2X57ZH   2019-08-06        Le Nouail   \n",
       "\n",
       "                                                 title     keyword  verified  \\\n",
       "0                                             awesome!       Movie      True   \n",
       "1                               boring and ridiculous!       Movie      True   \n",
       "2                                                 Cool       Movie      True   \n",
       "3                                          Great movie       Movie      True   \n",
       "4        I was never a fan of the spider-man franchise       Movie      True   \n",
       "...                                                ...         ...       ...   \n",
       "1115232                                            NaN  best Watch      True   \n",
       "1115233                                            NaN  best Watch      True   \n",
       "1115234                                            NaN  best Watch      True   \n",
       "1115235                                            NaN  best Watch      True   \n",
       "1115236                                            NaN  best Watch      True   \n",
       "\n",
       "         rating_cleaned                                               text  \\\n",
       "0                   5.0                                        great movie   \n",
       "1                   1.0  The plot. Gave up after 20 minutes. Does anyon...   \n",
       "2                   5.0                           Greatovie but over hyped   \n",
       "3                   5.0  Do buy this film. It really is great but don't...   \n",
       "4                   2.0  ...and I'm still not a fan after watching this...   \n",
       "...                 ...                                                ...   \n",
       "1115232             5.0  L'orologio è molto bello, non solo in consider...   \n",
       "1115233             5.0  AMAZON professionali come sempre, sono piacevo...   \n",
       "1115234             5.0  Very impressed with the quality and look would...   \n",
       "1115235             4.0               Bello.ma da utilizzare senza impegno   \n",
       "1115236             4.0                           Pour offrir à mon copain   \n",
       "\n",
       "        train_test  sustainability (y/n)  \n",
       "0             test                     0  \n",
       "1             test                     0  \n",
       "2             test                     0  \n",
       "3             test                     0  \n",
       "4             test                     0  \n",
       "...            ...                   ...  \n",
       "1115232       test                     0  \n",
       "1115233       test                     0  \n",
       "1115234       test                     0  \n",
       "1115235       test                     0  \n",
       "1115236       test                     0  \n",
       "\n",
       "[1115237 rows x 11 columns]"
      ]
     },
     "execution_count": 4,
     "metadata": {},
     "output_type": "execute_result"
    }
   ],
   "source": [
    "# Preview Data\n",
    "all_reviews"
   ]
  },
  {
   "cell_type": "code",
   "execution_count": 6,
   "id": "a4570a91",
   "metadata": {},
   "outputs": [],
   "source": [
    "# Sample 3,000 random rows\n",
    "sample_size = 3000"
   ]
  },
  {
   "cell_type": "code",
   "execution_count": 7,
   "id": "5ec813f1",
   "metadata": {},
   "outputs": [],
   "source": [
    "# Randomly select 1500 rows\n",
    "sampled_reviews = all_reviews.sample(n=sample_size, random_state=42)"
   ]
  },
  {
   "cell_type": "code",
   "execution_count": 8,
   "id": "c0669b73",
   "metadata": {},
   "outputs": [
    {
     "name": "stdout",
     "output_type": "stream",
     "text": [
      "Saved as CSV.\n"
     ]
    }
   ],
   "source": [
    "# Save dataset\n",
    "sampled_reviews.to_csv('all_reviews_merged_3000_sample.csv', index=False)\n",
    "print('Saved as CSV.')"
   ]
  },
  {
   "cell_type": "code",
   "execution_count": 11,
   "id": "61899c66",
   "metadata": {},
   "outputs": [
    {
     "name": "stdout",
     "output_type": "stream",
     "text": [
      "<class 'pandas.core.frame.DataFrame'>\n",
      "Int64Index: 3000 entries, 707251 to 157807\n",
      "Data columns (total 11 columns):\n",
      " #   Column                Non-Null Count  Dtype  \n",
      "---  ------                --------------  -----  \n",
      " 0   reviewId              3000 non-null   object \n",
      " 1   asin                  3000 non-null   object \n",
      " 2   date_cleaned          3000 non-null   object \n",
      " 3   username              3000 non-null   object \n",
      " 4   title                 2825 non-null   object \n",
      " 5   keyword               3000 non-null   object \n",
      " 6   verified              3000 non-null   bool   \n",
      " 7   rating_cleaned        3000 non-null   float64\n",
      " 8   text                  3000 non-null   object \n",
      " 9   train_test            3000 non-null   object \n",
      " 10  sustainability (y/n)  3000 non-null   int64  \n",
      "dtypes: bool(1), float64(1), int64(1), object(8)\n",
      "memory usage: 260.7+ KB\n"
     ]
    }
   ],
   "source": [
    "sampled_reviews.info()"
   ]
  },
  {
   "cell_type": "code",
   "execution_count": null,
   "id": "d7634e9f",
   "metadata": {},
   "outputs": [],
   "source": [
    "##start ESGERT MODEL"
   ]
  },
  {
   "cell_type": "code",
   "execution_count": 12,
   "id": "6f732845",
   "metadata": {},
   "outputs": [
    {
     "data": {
      "application/vnd.jupyter.widget-view+json": {
       "model_id": "714933bcfa324de8ae1fdf01c1596d1e",
       "version_major": 2,
       "version_minor": 0
      },
      "text/plain": [
       "config.json:   0%|          | 0.00/951 [00:00<?, ?B/s]"
      ]
     },
     "metadata": {},
     "output_type": "display_data"
    },
    {
     "data": {
      "application/vnd.jupyter.widget-view+json": {
       "model_id": "43f23a1a2d5b46bfbf7af473fe25262a",
       "version_major": 2,
       "version_minor": 0
      },
      "text/plain": [
       "pytorch_model.bin:   0%|          | 0.00/329M [00:00<?, ?B/s]"
      ]
     },
     "metadata": {},
     "output_type": "display_data"
    },
    {
     "name": "stderr",
     "output_type": "stream",
     "text": [
      "/home/jupyter-svanhemert00/.local/lib/python3.9/site-packages/torch/_utils.py:776: UserWarning: TypedStorage is deprecated. It will be removed in the future and UntypedStorage will be the only storage class. This should only matter to you if you are using storages directly.  To access UntypedStorage directly, use tensor.untyped_storage() instead of tensor.storage()\n",
      "  return self.fget.__get__(instance, owner)()\n"
     ]
    },
    {
     "data": {
      "application/vnd.jupyter.widget-view+json": {
       "model_id": "5a078e9d8f254ec5ba26cf74a70c08af",
       "version_major": 2,
       "version_minor": 0
      },
      "text/plain": [
       "tokenizer_config.json:   0%|          | 0.00/351 [00:00<?, ?B/s]"
      ]
     },
     "metadata": {},
     "output_type": "display_data"
    },
    {
     "data": {
      "application/vnd.jupyter.widget-view+json": {
       "model_id": "47e6ce726c5642e686d4118ace00ded4",
       "version_major": 2,
       "version_minor": 0
      },
      "text/plain": [
       "vocab.json:   0%|          | 0.00/798k [00:00<?, ?B/s]"
      ]
     },
     "metadata": {},
     "output_type": "display_data"
    },
    {
     "data": {
      "application/vnd.jupyter.widget-view+json": {
       "model_id": "933074e2ff814c4ea6257e2d617984ff",
       "version_major": 2,
       "version_minor": 0
      },
      "text/plain": [
       "merges.txt:   0%|          | 0.00/456k [00:00<?, ?B/s]"
      ]
     },
     "metadata": {},
     "output_type": "display_data"
    },
    {
     "data": {
      "application/vnd.jupyter.widget-view+json": {
       "model_id": "810aab071dde405a932dae43c161a2e3",
       "version_major": 2,
       "version_minor": 0
      },
      "text/plain": [
       "tokenizer.json:   0%|          | 0.00/2.11M [00:00<?, ?B/s]"
      ]
     },
     "metadata": {},
     "output_type": "display_data"
    },
    {
     "data": {
      "application/vnd.jupyter.widget-view+json": {
       "model_id": "4f3b017baa72453bad5edffba7c81675",
       "version_major": 2,
       "version_minor": 0
      },
      "text/plain": [
       "special_tokens_map.json:   0%|          | 0.00/280 [00:00<?, ?B/s]"
      ]
     },
     "metadata": {},
     "output_type": "display_data"
    },
    {
     "name": "stdout",
     "output_type": "stream",
     "text": [
      "[{'label': 'environmental', 'score': 0.9979760050773621}]\n"
     ]
    }
   ],
   "source": [
    "from transformers import AutoModelForSequenceClassification, AutoTokenizer, pipeline\n",
    " \n",
    "tokenizer_name = \"ESGBERT/EnvironmentalBERT-environmental\" #path to download from HF\n",
    "model_name = \"ESGBERT/EnvironmentalBERT-environmental\"\n",
    "# the tokenizer prepares the text for the model and the model classifies the text-\n",
    " \n",
    "model = AutoModelForSequenceClassification.from_pretrained(model_name)\n",
    "tokenizer = AutoTokenizer.from_pretrained(tokenizer_name, max_len=512)\n",
    "# The pipeline combines tokenizer and model to one process. \n",
    "pipe = pipeline(\"text-classification\", model=model, tokenizer=tokenizer) # set device=0 to use GPU\n",
    " \n",
    "# See https://huggingface.co/docs/transformers/main_classes/pipelines#transformers.pipeline\n",
    "print(pipe(\"Scope 1 emissions are reported here on a like-for-like basis against the 2013 baseline and exclude emissions from additional vehicles used during repairs.\", padding=True, truncation=True))"
   ]
  },
  {
   "cell_type": "code",
   "execution_count": 21,
   "id": "9de176c1",
   "metadata": {},
   "outputs": [
    {
     "name": "stdout",
     "output_type": "stream",
     "text": [
      "707251     Bought these in hopes to decrease buying apple...\n",
      "454036     I bought Vivoactive 3 to replace my Polar. I h...\n",
      "1064972    I’ve had this less then a month and the pump h...\n",
      "938522                     Bought these and they're perfect!\n",
      "905362     I had to return my first one because I got a d...\n",
      "468680     This is listed as a reverse weave and it is no...\n",
      "441345     I like how easy they are to clean the hair off...\n",
      "28254      These don’t work….at all. Nothing I did worked...\n",
      "124182                                Insurance .enough said\n",
      "194392                     Great watch and priced very well.\n",
      "Name: text, dtype: object\n",
      "['Bought these in hopes to decrease buying applesauce pouches. While yes they do work, they tend to leak after a day or 2 in the fridge. Washing isn’t too terrible, just difficult to make sure they dry completely.', 'I bought Vivoactive 3 to replace my Polar. I have it for 1 week. I tested GPS accuracy and heart rate accuracy (against the Polar with a chest strap). Did a fast 50 minutes walk (6 km). The accuracy of the GPS was OK. Missed by 60m (1%). The heart rate sensor is a total failure. Started as similar bpm to the polar around 65 bpm (with a difference of 2-3 bpm). After 20 minutes the Polar showed 115 bpm. The Vivoactive was at 68-80. Stayed this way through the whole test, although from time to time jumped to 90 bpm. Very disappointing.', 'I’ve had this less then a month and the pump has already stopped working', \"Bought these and they're perfect!\", 'I had to return my first one because I got a dud or something. But they replaced it very quickly and the new one works perfectly.', 'This is listed as a reverse weave and it is not a reverse weave. The tag says power blend. I am highly disappointed as I thought I was getting my boyfriend a new reverse weave champion sweatshirt. This is a false advertisement.', 'I like how easy they are to clean the hair off the gloves', 'These don’t work….at all. Nothing I did worked nor made the product do what it claimed to do in advertisements. Waste of time and money and easier just to shave off whatever hair you’re trying to rid yourself of with a good old razor. These are not sharp and I personally found these painful and not good for sensitive areas or sensitive skin.', 'Insurance .enough said', 'Great watch and priced very well.']\n"
     ]
    }
   ],
   "source": [
    "#get sample data to test pipeline \n",
    "test = sampled_reviews.iloc[0:10,8]\n",
    "test_list = test.tolist()\n",
    "print(test)\n",
    "#made text into a list, wasn't working as a dataframe\n",
    "print(test_list)"
   ]
  },
  {
   "cell_type": "code",
   "execution_count": 23,
   "id": "b70da2f9",
   "metadata": {},
   "outputs": [
    {
     "name": "stdout",
     "output_type": "stream",
     "text": [
      "[{'label': 'none', 'score': 0.9904944896697998}, {'label': 'none', 'score': 0.9915618300437927}, {'label': 'none', 'score': 0.9949518442153931}, {'label': 'none', 'score': 0.9936698079109192}, {'label': 'none', 'score': 0.9934735894203186}, {'label': 'none', 'score': 0.9934743046760559}, {'label': 'none', 'score': 0.9943811297416687}, {'label': 'none', 'score': 0.9717317223548889}, {'label': 'none', 'score': 0.9937148690223694}, {'label': 'none', 'score': 0.9950385689735413}]\n"
     ]
    }
   ],
   "source": [
    "# You can input single sentences or arrays of sentences into the pipeline.\n",
    "test_list\n",
    "sentences_test = pipe(test_list)\n",
    "print(sentences_test)"
   ]
  },
  {
   "cell_type": "code",
   "execution_count": 42,
   "id": "5fcb56e5",
   "metadata": {},
   "outputs": [],
   "source": [
    "# Classify subset of sentences.\n",
    "# The padding and trunctuation parameters help us with classifying texts of different length.\n",
    "sub_sentences = test_list[:100] # takes around 20 seconds\n",
    "# full sentences take around 5mins WITHOUT GPU (see next tutorial for speed ups)\n",
    "env = pipe(sub_sentences, padding=True, truncation=True)\n",
    "\n",
    "# You might only want the labels.\n",
    "env_labels = [x[\"label\"] for x in env]"
   ]
  },
  {
   "cell_type": "code",
   "execution_count": 43,
   "id": "ff40e64a",
   "metadata": {
    "scrolled": true
   },
   "outputs": [
    {
     "data": {
      "text/html": [
       "<div>\n",
       "<style scoped>\n",
       "    .dataframe tbody tr th:only-of-type {\n",
       "        vertical-align: middle;\n",
       "    }\n",
       "\n",
       "    .dataframe tbody tr th {\n",
       "        vertical-align: top;\n",
       "    }\n",
       "\n",
       "    .dataframe thead th {\n",
       "        text-align: right;\n",
       "    }\n",
       "</style>\n",
       "<table border=\"1\" class=\"dataframe\">\n",
       "  <thead>\n",
       "    <tr style=\"text-align: right;\">\n",
       "      <th></th>\n",
       "      <th>sentence</th>\n",
       "      <th>environmental</th>\n",
       "    </tr>\n",
       "  </thead>\n",
       "  <tbody>\n",
       "  </tbody>\n",
       "</table>\n",
       "</div>"
      ],
      "text/plain": [
       "Empty DataFrame\n",
       "Columns: [sentence, environmental]\n",
       "Index: []"
      ]
     },
     "execution_count": 43,
     "metadata": {},
     "output_type": "execute_result"
    }
   ],
   "source": [
    "import pandas as pd\n",
    "\n",
    "# Let's look at the results. We use a dataframe for this purpose.\n",
    "data_env = pd.DataFrame({\"sentence\": sub_sentences, \"environmental\": env_labels})\n",
    "# Which sentences are labeled as environmental?\n",
    "data_env[data_env[\"environmental\"] == \"environmental\"]"
   ]
  },
  {
   "cell_type": "code",
   "execution_count": 45,
   "id": "2b054f08",
   "metadata": {},
   "outputs": [
    {
     "name": "stdout",
     "output_type": "stream",
     "text": [
      "               sentence\n",
      "environmental          \n",
      "none                 10\n"
     ]
    },
    {
     "data": {
      "text/plain": [
       "<AxesSubplot:xlabel='environmental'>"
      ]
     },
     "execution_count": 45,
     "metadata": {},
     "output_type": "execute_result"
    },
    {
     "data": {
      "image/png": "[encoded data removed]",
      "text/plain": [
       "<Figure size 432x288 with 1 Axes>"
      ]
     },
     "metadata": {
      "needs_background": "light"
     },
     "output_type": "display_data"
    }
   ],
   "source": [
    "print(data_env.groupby(\"environmental\").count())\n",
    "data_env.groupby(\"environmental\").count().plot(kind=\"bar\")"
   ]
  },
  {
   "cell_type": "code",
   "execution_count": null,
   "id": "18e44fc7",
   "metadata": {},
   "outputs": [],
   "source": []
  }
 ],
 "metadata": {
  "kernelspec": {
   "display_name": "Python 3 (ipykernel)",
   "language": "python",
   "name": "python3"
  },
  "language_info": {
   "codemirror_mode": {
    "name": "ipython",
    "version": 3
   },
   "file_extension": ".py",
   "mimetype": "text/x-python",
   "name": "python",
   "nbconvert_exporter": "python",
   "pygments_lexer": "ipython3",
   "version": "3.9.7"
  }
 },
 "nbformat": 4,
 "nbformat_minor": 5
}
